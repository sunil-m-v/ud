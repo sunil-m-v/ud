{
 "cells": [
  {
   "cell_type": "markdown",
   "metadata": {},
   "source": [
    "___\n",
    "\n",
    "<a href='http://www.pieriandata.com'> <img src='../Pierian_Data_Logo.png' /></a>\n",
    "___\n",
    "# Plotly and Cufflinks"
   ]
  },
  {
   "cell_type": "markdown",
   "metadata": {},
   "source": [
    "Plotly is a library that allows you to create interactive plots that you can use in dashboards or websites (you can save them as html files or static images).\n",
    "\n",
    "## Installation\n",
    "\n",
    "In order for this all to work, you'll need to install plotly and cufflinks to call plots directly off of a pandas dataframe. These libraries are not currently available through **conda** but are available through **pip**. Install the libraries at your command line/terminal using:\n",
    "\n",
    "    pip install plotly\n",
    "    pip install cufflinks\n",
    "\n",
    "** NOTE: Make sure you only have one installation of Python on your computer when you do this, otherwise the installation may not work. **\n",
    "\n",
    "## Imports and Set-up"
   ]
  },
  {
   "cell_type": "code",
   "execution_count": 1,
   "metadata": {},
   "outputs": [
    {
     "name": "stdout",
     "output_type": "stream",
     "text": [
      "Collecting plotly\n",
      "  Using cached https://files.pythonhosted.org/packages/bf/5f/47ab0d9d843c5be0f5c5bd891736a4c84fa45c3b0a0ddb6b6df7c098c66f/plotly-4.9.0-py2.py3-none-any.whl\n",
      "Requirement already satisfied (use --upgrade to upgrade): plotly from https://files.pythonhosted.org/packages/bf/5f/47ab0d9d843c5be0f5c5bd891736a4c84fa45c3b0a0ddb6b6df7c098c66f/plotly-4.9.0-py2.py3-none-any.whl#sha256=7c7b613af8def74f48b1298f08a49086bb9792104119feb4a137f737533021e1 in c:\\users\\vmuvvala\\appdata\\local\\programs\\python\\python36\\lib\\site-packages\n",
      "Requirement already satisfied: retrying>=1.3.3 in c:\\users\\vmuvvala\\appdata\\local\\programs\\python\\python36\\lib\\site-packages (from plotly) (1.3.3)\n",
      "Requirement already satisfied: six in c:\\users\\vmuvvala\\appdata\\local\\programs\\python\\python36\\lib\\site-packages (from plotly) (1.12.0)\n"
     ]
    },
    {
     "name": "stderr",
     "output_type": "stream",
     "text": [
      "WARNING: You are using pip version 19.2.1, however version 20.2.2 is available.\n",
      "You should consider upgrading via the 'python -m pip install --upgrade pip' command.\n"
     ]
    }
   ],
   "source": [
    "!pip install plotly"
   ]
  },
  {
   "cell_type": "code",
   "execution_count": 2,
   "metadata": {},
   "outputs": [
    {
     "name": "stdout",
     "output_type": "stream",
     "text": [
      "Collecting cufflinks\n",
      "  Downloading https://files.pythonhosted.org/packages/1a/18/4d32edaaf31ba4af9745dac676c4a28c48d3fc539000c29e855bd8db3b86/cufflinks-0.17.3.tar.gz (81kB)\n",
      "Requirement already satisfied: numpy>=1.9.2 in c:\\users\\vmuvvala\\appdata\\local\\programs\\python\\python36\\lib\\site-packages (from cufflinks) (1.15.4)\n",
      "Requirement already satisfied: pandas>=0.19.2 in c:\\users\\vmuvvala\\appdata\\local\\programs\\python\\python36\\lib\\site-packages (from cufflinks) (0.23.4)\n",
      "Requirement already satisfied: plotly>=4.1.1 in c:\\users\\vmuvvala\\appdata\\local\\programs\\python\\python36\\lib\\site-packages (from cufflinks) (4.9.0)\n",
      "Requirement already satisfied: six>=1.9.0 in c:\\users\\vmuvvala\\appdata\\local\\programs\\python\\python36\\lib\\site-packages (from cufflinks) (1.12.0)\n",
      "Collecting colorlover>=0.2.1 (from cufflinks)\n",
      "  Downloading https://files.pythonhosted.org/packages/9a/53/f696e4480b1d1de3b1523991dea71cf417c8b19fe70c704da164f3f90972/colorlover-0.3.0-py3-none-any.whl\n",
      "Requirement already satisfied: setuptools>=34.4.1 in c:\\users\\vmuvvala\\appdata\\local\\programs\\python\\python36\\lib\\site-packages (from cufflinks) (39.0.1)\n",
      "Requirement already satisfied: ipython>=5.3.0 in c:\\users\\vmuvvala\\appdata\\local\\programs\\python\\python36\\lib\\site-packages (from cufflinks) (7.2.0)\n",
      "Requirement already satisfied: ipywidgets>=7.0.0 in c:\\users\\vmuvvala\\appdata\\local\\programs\\python\\python36\\lib\\site-packages (from cufflinks) (7.4.2)\n",
      "Requirement already satisfied: python-dateutil>=2.5.0 in c:\\users\\vmuvvala\\appdata\\local\\programs\\python\\python36\\lib\\site-packages (from pandas>=0.19.2->cufflinks) (2.7.5)\n",
      "Requirement already satisfied: pytz>=2011k in c:\\users\\vmuvvala\\appdata\\local\\programs\\python\\python36\\lib\\site-packages (from pandas>=0.19.2->cufflinks) (2018.7)\n",
      "Requirement already satisfied: retrying>=1.3.3 in c:\\users\\vmuvvala\\appdata\\local\\programs\\python\\python36\\lib\\site-packages (from plotly>=4.1.1->cufflinks) (1.3.3)\n",
      "Requirement already satisfied: traitlets>=4.2 in c:\\users\\vmuvvala\\appdata\\local\\programs\\python\\python36\\lib\\site-packages (from ipython>=5.3.0->cufflinks) (4.3.2)\n",
      "Requirement already satisfied: pygments in c:\\users\\vmuvvala\\appdata\\local\\programs\\python\\python36\\lib\\site-packages (from ipython>=5.3.0->cufflinks) (2.3.1)\n",
      "Requirement already satisfied: colorama; sys_platform == \"win32\" in c:\\users\\vmuvvala\\appdata\\local\\programs\\python\\python36\\lib\\site-packages (from ipython>=5.3.0->cufflinks) (0.4.1)\n",
      "Requirement already satisfied: backcall in c:\\users\\vmuvvala\\appdata\\local\\programs\\python\\python36\\lib\\site-packages (from ipython>=5.3.0->cufflinks) (0.1.0)\n",
      "Requirement already satisfied: jedi>=0.10 in c:\\users\\vmuvvala\\appdata\\local\\programs\\python\\python36\\lib\\site-packages (from ipython>=5.3.0->cufflinks) (0.13.2)\n",
      "Requirement already satisfied: pickleshare in c:\\users\\vmuvvala\\appdata\\local\\programs\\python\\python36\\lib\\site-packages (from ipython>=5.3.0->cufflinks) (0.7.5)\n",
      "Requirement already satisfied: prompt-toolkit<2.1.0,>=2.0.0 in c:\\users\\vmuvvala\\appdata\\local\\programs\\python\\python36\\lib\\site-packages (from ipython>=5.3.0->cufflinks) (2.0.8)\n",
      "Requirement already satisfied: decorator in c:\\users\\vmuvvala\\appdata\\local\\programs\\python\\python36\\lib\\site-packages (from ipython>=5.3.0->cufflinks) (4.3.2)\n",
      "Requirement already satisfied: ipykernel>=4.5.1 in c:\\users\\vmuvvala\\appdata\\local\\programs\\python\\python36\\lib\\site-packages (from ipywidgets>=7.0.0->cufflinks) (5.1.0)\n",
      "Requirement already satisfied: nbformat>=4.2.0 in c:\\users\\vmuvvala\\appdata\\local\\programs\\python\\python36\\lib\\site-packages (from ipywidgets>=7.0.0->cufflinks) (4.4.0)\n",
      "Requirement already satisfied: widgetsnbextension~=3.4.0 in c:\\users\\vmuvvala\\appdata\\local\\programs\\python\\python36\\lib\\site-packages (from ipywidgets>=7.0.0->cufflinks) (3.4.2)\n",
      "Requirement already satisfied: ipython-genutils in c:\\users\\vmuvvala\\appdata\\local\\programs\\python\\python36\\lib\\site-packages (from traitlets>=4.2->ipython>=5.3.0->cufflinks) (0.2.0)\n",
      "Requirement already satisfied: parso>=0.3.0 in c:\\users\\vmuvvala\\appdata\\local\\programs\\python\\python36\\lib\\site-packages (from jedi>=0.10->ipython>=5.3.0->cufflinks) (0.3.2)\n",
      "Requirement already satisfied: wcwidth in c:\\users\\vmuvvala\\appdata\\local\\programs\\python\\python36\\lib\\site-packages (from prompt-toolkit<2.1.0,>=2.0.0->ipython>=5.3.0->cufflinks) (0.1.7)\n",
      "Requirement already satisfied: tornado>=4.2 in c:\\users\\vmuvvala\\appdata\\local\\programs\\python\\python36\\lib\\site-packages (from ipykernel>=4.5.1->ipywidgets>=7.0.0->cufflinks) (5.1.1)\n",
      "Requirement already satisfied: jupyter-client in c:\\users\\vmuvvala\\appdata\\local\\programs\\python\\python36\\lib\\site-packages (from ipykernel>=4.5.1->ipywidgets>=7.0.0->cufflinks) (5.2.4)\n",
      "Requirement already satisfied: jupyter-core in c:\\users\\vmuvvala\\appdata\\local\\programs\\python\\python36\\lib\\site-packages (from nbformat>=4.2.0->ipywidgets>=7.0.0->cufflinks) (4.4.0)\n",
      "Requirement already satisfied: jsonschema!=2.5.0,>=2.4 in c:\\users\\vmuvvala\\appdata\\local\\programs\\python\\python36\\lib\\site-packages (from nbformat>=4.2.0->ipywidgets>=7.0.0->cufflinks) (2.6.0)\n",
      "Requirement already satisfied: notebook>=4.4.1 in c:\\users\\vmuvvala\\appdata\\local\\programs\\python\\python36\\lib\\site-packages (from widgetsnbextension~=3.4.0->ipywidgets>=7.0.0->cufflinks) (5.7.4)\n",
      "Requirement already satisfied: pyzmq>=13 in c:\\users\\vmuvvala\\appdata\\local\\programs\\python\\python36\\lib\\site-packages (from jupyter-client->ipykernel>=4.5.1->ipywidgets>=7.0.0->cufflinks) (17.1.2)\n",
      "Requirement already satisfied: prometheus-client in c:\\users\\vmuvvala\\appdata\\local\\programs\\python\\python36\\lib\\site-packages (from notebook>=4.4.1->widgetsnbextension~=3.4.0->ipywidgets>=7.0.0->cufflinks) (0.5.0)\n",
      "Requirement already satisfied: nbconvert in c:\\users\\vmuvvala\\appdata\\local\\programs\\python\\python36\\lib\\site-packages (from notebook>=4.4.1->widgetsnbextension~=3.4.0->ipywidgets>=7.0.0->cufflinks) (5.4.0)\n",
      "Requirement already satisfied: Send2Trash in c:\\users\\vmuvvala\\appdata\\local\\programs\\python\\python36\\lib\\site-packages (from notebook>=4.4.1->widgetsnbextension~=3.4.0->ipywidgets>=7.0.0->cufflinks) (1.5.0)\n",
      "Requirement already satisfied: terminado>=0.8.1 in c:\\users\\vmuvvala\\appdata\\local\\programs\\python\\python36\\lib\\site-packages (from notebook>=4.4.1->widgetsnbextension~=3.4.0->ipywidgets>=7.0.0->cufflinks) (0.8.1)\n",
      "Requirement already satisfied: jinja2 in c:\\users\\vmuvvala\\appdata\\local\\programs\\python\\python36\\lib\\site-packages (from notebook>=4.4.1->widgetsnbextension~=3.4.0->ipywidgets>=7.0.0->cufflinks) (2.10)\n",
      "Requirement already satisfied: mistune>=0.8.1 in c:\\users\\vmuvvala\\appdata\\local\\programs\\python\\python36\\lib\\site-packages (from nbconvert->notebook>=4.4.1->widgetsnbextension~=3.4.0->ipywidgets>=7.0.0->cufflinks) (0.8.4)\n",
      "Requirement already satisfied: defusedxml in c:\\users\\vmuvvala\\appdata\\local\\programs\\python\\python36\\lib\\site-packages (from nbconvert->notebook>=4.4.1->widgetsnbextension~=3.4.0->ipywidgets>=7.0.0->cufflinks) (0.5.0)\n",
      "Requirement already satisfied: entrypoints>=0.2.2 in c:\\users\\vmuvvala\\appdata\\local\\programs\\python\\python36\\lib\\site-packages (from nbconvert->notebook>=4.4.1->widgetsnbextension~=3.4.0->ipywidgets>=7.0.0->cufflinks) (0.3)\n",
      "Requirement already satisfied: testpath in c:\\users\\vmuvvala\\appdata\\local\\programs\\python\\python36\\lib\\site-packages (from nbconvert->notebook>=4.4.1->widgetsnbextension~=3.4.0->ipywidgets>=7.0.0->cufflinks) (0.4.2)\n",
      "Requirement already satisfied: bleach in c:\\users\\vmuvvala\\appdata\\local\\programs\\python\\python36\\lib\\site-packages (from nbconvert->notebook>=4.4.1->widgetsnbextension~=3.4.0->ipywidgets>=7.0.0->cufflinks) (3.1.0)\n",
      "Requirement already satisfied: pandocfilters>=1.4.1 in c:\\users\\vmuvvala\\appdata\\local\\programs\\python\\python36\\lib\\site-packages (from nbconvert->notebook>=4.4.1->widgetsnbextension~=3.4.0->ipywidgets>=7.0.0->cufflinks) (1.4.2)\n",
      "Requirement already satisfied: pywinpty>=0.5; os_name == \"nt\" in c:\\users\\vmuvvala\\appdata\\local\\programs\\python\\python36\\lib\\site-packages (from terminado>=0.8.1->notebook>=4.4.1->widgetsnbextension~=3.4.0->ipywidgets>=7.0.0->cufflinks) (0.5.5)\n",
      "Requirement already satisfied: MarkupSafe>=0.23 in c:\\users\\vmuvvala\\appdata\\local\\programs\\python\\python36\\lib\\site-packages (from jinja2->notebook>=4.4.1->widgetsnbextension~=3.4.0->ipywidgets>=7.0.0->cufflinks) (1.1.0)\n",
      "Requirement already satisfied: webencodings in c:\\users\\vmuvvala\\appdata\\local\\programs\\python\\python36\\lib\\site-packages (from bleach->nbconvert->notebook>=4.4.1->widgetsnbextension~=3.4.0->ipywidgets>=7.0.0->cufflinks) (0.5.1)\n",
      "Building wheels for collected packages: cufflinks\n",
      "  Building wheel for cufflinks (setup.py): started\n",
      "  Building wheel for cufflinks (setup.py): finished with status 'done'\n",
      "  Created wheel for cufflinks: filename=cufflinks-0.17.3-cp36-none-any.whl size=68731 sha256=56aa9bbf3164eaa7d6b9aeed948539bb4b46d12546762dac75dcdbf27cda735d\n",
      "  Stored in directory: C:\\Users\\VMuvvala\\AppData\\Local\\pip\\Cache\\wheels\\7d\\ba\\8d\\38b672c3e40d8bd22dd60b8e6e29965b43f2b4be4d064e44d5\n",
      "Successfully built cufflinks\n",
      "Installing collected packages: colorlover, cufflinks\n",
      "Successfully installed colorlover-0.3.0 cufflinks-0.17.3\n"
     ]
    },
    {
     "name": "stderr",
     "output_type": "stream",
     "text": [
      "WARNING: You are using pip version 19.2.1, however version 20.2.2 is available.\n",
      "You should consider upgrading via the 'python -m pip install --upgrade pip' command.\n"
     ]
    }
   ],
   "source": [
    "!pip install cufflinks"
   ]
  },
  {
   "cell_type": "code",
   "execution_count": 3,
   "metadata": {},
   "outputs": [],
   "source": [
    "import pandas as pd\n",
    "import numpy as np\n",
    "%matplotlib inline"
   ]
  },
  {
   "cell_type": "code",
   "execution_count": 4,
   "metadata": {},
   "outputs": [
    {
     "name": "stdout",
     "output_type": "stream",
     "text": [
      "4.9.0\n"
     ]
    }
   ],
   "source": [
    "from plotly import __version__\n",
    "from plotly.offline import download_plotlyjs, init_notebook_mode, plot, iplot\n",
    "\n",
    "print(__version__) # requires version >= 1.9.0"
   ]
  },
  {
   "cell_type": "code",
   "execution_count": 5,
   "metadata": {},
   "outputs": [],
   "source": [
    "import cufflinks as cf"
   ]
  },
  {
   "cell_type": "code",
   "execution_count": 6,
   "metadata": {},
   "outputs": [
    {
     "data": {
      "text/html": [
       "        <script type=\"text/javascript\">\n",
       "        window.PlotlyConfig = {MathJaxConfig: 'local'};\n",
       "        if (window.MathJax) {MathJax.Hub.Config({SVG: {font: \"STIX-Web\"}});}\n",
       "        if (typeof require !== 'undefined') {\n",
       "        require.undef(\"plotly\");\n",
       "        requirejs.config({\n",
       "            paths: {\n",
       "                'plotly': ['https://cdn.plot.ly/plotly-latest.min']\n",
       "            }\n",
       "        });\n",
       "        require(['plotly'], function(Plotly) {\n",
       "            window._Plotly = Plotly;\n",
       "        });\n",
       "        }\n",
       "        </script>\n",
       "        "
      ]
     },
     "metadata": {},
     "output_type": "display_data"
    }
   ],
   "source": [
    "# For Notebooks\n",
    "init_notebook_mode(connected=True)"
   ]
  },
  {
   "cell_type": "code",
   "execution_count": 7,
   "metadata": {},
   "outputs": [
    {
     "data": {
      "text/html": [
       "        <script type=\"text/javascript\">\n",
       "        window.PlotlyConfig = {MathJaxConfig: 'local'};\n",
       "        if (window.MathJax) {MathJax.Hub.Config({SVG: {font: \"STIX-Web\"}});}\n",
       "        if (typeof require !== 'undefined') {\n",
       "        require.undef(\"plotly\");\n",
       "        requirejs.config({\n",
       "            paths: {\n",
       "                'plotly': ['https://cdn.plot.ly/plotly-latest.min']\n",
       "            }\n",
       "        });\n",
       "        require(['plotly'], function(Plotly) {\n",
       "            window._Plotly = Plotly;\n",
       "        });\n",
       "        }\n",
       "        </script>\n",
       "        "
      ]
     },
     "metadata": {},
     "output_type": "display_data"
    }
   ],
   "source": [
    "# For offline use\n",
    "cf.go_offline()"
   ]
  },
  {
   "cell_type": "markdown",
   "metadata": {},
   "source": [
    "### Fake Data"
   ]
  },
  {
   "cell_type": "code",
   "execution_count": 8,
   "metadata": {},
   "outputs": [],
   "source": [
    "df = pd.DataFrame(np.random.randn(100,4),columns='A B C D'.split())"
   ]
  },
  {
   "cell_type": "code",
   "execution_count": 9,
   "metadata": {},
   "outputs": [
    {
     "data": {
      "text/html": [
       "<div>\n",
       "<style scoped>\n",
       "    .dataframe tbody tr th:only-of-type {\n",
       "        vertical-align: middle;\n",
       "    }\n",
       "\n",
       "    .dataframe tbody tr th {\n",
       "        vertical-align: top;\n",
       "    }\n",
       "\n",
       "    .dataframe thead th {\n",
       "        text-align: right;\n",
       "    }\n",
       "</style>\n",
       "<table border=\"1\" class=\"dataframe\">\n",
       "  <thead>\n",
       "    <tr style=\"text-align: right;\">\n",
       "      <th></th>\n",
       "      <th>A</th>\n",
       "      <th>B</th>\n",
       "      <th>C</th>\n",
       "      <th>D</th>\n",
       "    </tr>\n",
       "  </thead>\n",
       "  <tbody>\n",
       "    <tr>\n",
       "      <th>0</th>\n",
       "      <td>0.322053</td>\n",
       "      <td>0.101259</td>\n",
       "      <td>1.982678</td>\n",
       "      <td>-0.997698</td>\n",
       "    </tr>\n",
       "    <tr>\n",
       "      <th>1</th>\n",
       "      <td>-1.270584</td>\n",
       "      <td>0.830154</td>\n",
       "      <td>0.660082</td>\n",
       "      <td>0.348300</td>\n",
       "    </tr>\n",
       "    <tr>\n",
       "      <th>2</th>\n",
       "      <td>0.107822</td>\n",
       "      <td>-0.732719</td>\n",
       "      <td>-0.785406</td>\n",
       "      <td>0.519873</td>\n",
       "    </tr>\n",
       "    <tr>\n",
       "      <th>3</th>\n",
       "      <td>-1.264686</td>\n",
       "      <td>-1.038705</td>\n",
       "      <td>-0.088727</td>\n",
       "      <td>0.596144</td>\n",
       "    </tr>\n",
       "    <tr>\n",
       "      <th>4</th>\n",
       "      <td>-0.623016</td>\n",
       "      <td>-0.130816</td>\n",
       "      <td>-0.352792</td>\n",
       "      <td>-1.445553</td>\n",
       "    </tr>\n",
       "  </tbody>\n",
       "</table>\n",
       "</div>"
      ],
      "text/plain": [
       "          A         B         C         D\n",
       "0  0.322053  0.101259  1.982678 -0.997698\n",
       "1 -1.270584  0.830154  0.660082  0.348300\n",
       "2  0.107822 -0.732719 -0.785406  0.519873\n",
       "3 -1.264686 -1.038705 -0.088727  0.596144\n",
       "4 -0.623016 -0.130816 -0.352792 -1.445553"
      ]
     },
     "execution_count": 9,
     "metadata": {},
     "output_type": "execute_result"
    }
   ],
   "source": [
    "df.head()"
   ]
  },
  {
   "cell_type": "code",
   "execution_count": 10,
   "metadata": {},
   "outputs": [],
   "source": [
    "df2 = pd.DataFrame({'Category':['A','B','C'],'Values':[32,43,50]})"
   ]
  },
  {
   "cell_type": "code",
   "execution_count": 11,
   "metadata": {},
   "outputs": [
    {
     "data": {
      "text/html": [
       "<div>\n",
       "<style scoped>\n",
       "    .dataframe tbody tr th:only-of-type {\n",
       "        vertical-align: middle;\n",
       "    }\n",
       "\n",
       "    .dataframe tbody tr th {\n",
       "        vertical-align: top;\n",
       "    }\n",
       "\n",
       "    .dataframe thead th {\n",
       "        text-align: right;\n",
       "    }\n",
       "</style>\n",
       "<table border=\"1\" class=\"dataframe\">\n",
       "  <thead>\n",
       "    <tr style=\"text-align: right;\">\n",
       "      <th></th>\n",
       "      <th>Category</th>\n",
       "      <th>Values</th>\n",
       "    </tr>\n",
       "  </thead>\n",
       "  <tbody>\n",
       "    <tr>\n",
       "      <th>0</th>\n",
       "      <td>A</td>\n",
       "      <td>32</td>\n",
       "    </tr>\n",
       "    <tr>\n",
       "      <th>1</th>\n",
       "      <td>B</td>\n",
       "      <td>43</td>\n",
       "    </tr>\n",
       "    <tr>\n",
       "      <th>2</th>\n",
       "      <td>C</td>\n",
       "      <td>50</td>\n",
       "    </tr>\n",
       "  </tbody>\n",
       "</table>\n",
       "</div>"
      ],
      "text/plain": [
       "  Category  Values\n",
       "0        A      32\n",
       "1        B      43\n",
       "2        C      50"
      ]
     },
     "execution_count": 11,
     "metadata": {},
     "output_type": "execute_result"
    }
   ],
   "source": [
    "df2.head()"
   ]
  },
  {
   "cell_type": "markdown",
   "metadata": {},
   "source": [
    "## Using Cufflinks and iplot()\n",
    "\n",
    "* scatter\n",
    "* bar\n",
    "* box\n",
    "* spread\n",
    "* ratio\n",
    "* heatmap\n",
    "* surface\n",
    "* histogram\n",
    "* bubble"
   ]
  },
  {
   "cell_type": "markdown",
   "metadata": {},
   "source": [
    "## Scatter"
   ]
  },
  {
   "cell_type": "code",
   "execution_count": 12,
   "metadata": {},
   "outputs": [
    {
     "data": {
      "application/vnd.plotly.v1+json": {
       "config": {
        "linkText": "Export to plot.ly",
        "plotlyServerURL": "https://plot.ly",
        "showLink": true
       },
       "data": [
        {
         "line": {
          "color": "rgba(255, 153, 51, 1.0)",
          "dash": "solid",
          "shape": "linear",
          "width": 1.3
         },
         "marker": {
          "size": 10,
          "symbol": "circle"
         },
         "mode": "markers",
         "name": "B",
         "text": "",
         "type": "scatter",
         "x": [
          0.32205259576789935,
          -1.2705842440830204,
          0.10782211694491088,
          -1.2646863492002582,
          -0.623016293453436,
          0.4370049139590851,
          -1.8552254970766764,
          -1.073096970098413,
          1.3267635793739714,
          0.24419011655680606,
          1.0557345774677764,
          1.7122399294231183,
          -0.2677909309326994,
          -0.28051016349477526,
          1.4218608035818048,
          -1.0755029134841767,
          -0.9863577816639659,
          1.1115777342445334,
          -0.6008887227314611,
          -0.22539529068580208,
          -1.9716753893735646,
          -0.2365223696654613,
          0.03208548148818823,
          1.8767437352407905,
          0.11545545793837805,
          0.4970025785014497,
          1.3483980343794544,
          -0.010039690351554604,
          -0.2862034883600797,
          0.7806427708890616,
          1.2081127390165514,
          2.218774713469848,
          0.32195990417680637,
          -0.789709658198847,
          -0.9214869451393399,
          0.6711847095892842,
          -2.0114126158674566,
          -0.5309530198516696,
          -0.5878185997505112,
          -1.2238813239452369,
          -0.6931838125152013,
          -0.18979028816183985,
          0.1999551589396969,
          -0.8954707479977178,
          0.008236776144134046,
          -0.7787953946941676,
          -1.2036680132508266,
          -1.0847531776936057,
          0.005830557401403538,
          0.1728310981019457,
          0.4449020848059417,
          -1.2639359430032238,
          -0.43542486573921074,
          0.9384190809815643,
          0.4417474515879442,
          0.9940869401415626,
          -0.24283687971943876,
          1.1349532128915576,
          -1.4141984420513154,
          -0.1588896627196114,
          1.4481799160580093,
          2.1823007739131963,
          2.2440304393283648,
          -0.5847717373041349,
          0.8639441573674254,
          1.5196751985682482,
          0.3827391753660122,
          0.8684445003403783,
          -1.2023800499448436,
          0.8930942078797675,
          0.9233087070208601,
          0.6698237160538058,
          0.02239191937027293,
          0.7820499553794281,
          -0.3248424573510298,
          -1.8242941941509472,
          -0.09514443783697729,
          1.2553052652092374,
          0.5534742778189647,
          -0.12727753897390603,
          -0.7962665535640177,
          1.2211010568044924,
          1.5560296838025678,
          -0.40481828496818456,
          0.5218851881531966,
          -1.5271712764268646,
          -2.776318086494025,
          0.999386989977953,
          -0.19556324612903161,
          1.6357935804232269,
          -0.8896042579824299,
          0.8581748464534634,
          0.8086306539297275,
          0.506194813669362,
          0.7183057346101549,
          -0.11471459993668659,
          -1.0265711561628377,
          -0.5019344243022291,
          1.6007548010842878,
          -0.40354560457594973
         ],
         "y": [
          0.10125898893055496,
          0.8301536855043266,
          -0.7327192245673191,
          -1.0387054262404438,
          -0.13081600367508936,
          0.38664976245140625,
          -1.0533449001438244,
          -0.20007675282923942,
          -0.6185234313147078,
          0.36942411017863375,
          -0.22375568353621758,
          0.2526470287312885,
          0.2267419219131918,
          0.2639775339786776,
          -1.132739394771502,
          -1.1482843495848114,
          -1.4128591948532767,
          -0.18778958090483552,
          0.7948906960485981,
          -0.7892335813067191,
          -0.8706073761676926,
          0.6770291787073698,
          2.0113237483420052,
          0.19388328189767956,
          -0.5002549827427382,
          -2.2199606530825187,
          0.4830527044613887,
          1.2011801375298716,
          -0.19774173866295486,
          -0.752708338255664,
          1.893701881344233,
          -1.5854693729649616,
          -1.1333779065857008,
          0.9496792076892996,
          -1.238894773355343,
          0.651939653630145,
          1.0901486579747812,
          -1.3242262316027364,
          0.2513360270523506,
          1.369678078932397,
          -1.5950170347251074,
          -0.3679375422795287,
          -1.7962568652676187,
          -0.5115298758591496,
          2.188733910681354,
          -1.1476516620997423,
          -0.8208471477547784,
          -1.416695201802754,
          2.11342701518249,
          0.08432602513735225,
          0.6781991471269608,
          0.07373698726313345,
          0.5710623935970508,
          -0.787688749375717,
          -0.41027858341862145,
          -0.34821811877131464,
          -1.5818949290626747,
          -1.1349294502844594,
          0.45585273942482807,
          1.3046051862052737,
          -0.4827487411487068,
          0.79507633799293,
          -0.5013579293617653,
          0.46322340516495625,
          -0.8457049730894419,
          1.648185620735109,
          0.19598567561280725,
          1.3150203116581147,
          1.237625968070254,
          0.08356414724553121,
          0.641786345422482,
          -0.6518313171806182,
          1.3354442167862435,
          -1.2043145454829405,
          0.4813823869913045,
          -1.5428335401166102,
          1.3821152573725537,
          -2.3212785452028672,
          0.8545589572697296,
          -0.772336453451533,
          -0.49736734351279943,
          0.14901385623969263,
          1.0662016178255687,
          -0.1434437840124678,
          -0.9085296086179435,
          1.0244448729388482,
          -1.4468528787919994,
          -0.3118340488124157,
          1.5188676784825625,
          0.15424572817777435,
          1.0003879295162246,
          1.3008090429174297,
          0.994546553788734,
          -1.2890830028500138,
          -0.40471979448408874,
          -0.03237658061551539,
          -1.3186709594255155,
          0.5681307989920067,
          -1.3027720666231417,
          -0.06021515309892382
         ]
        }
       ],
       "layout": {
        "legend": {
         "bgcolor": "#F5F6F9",
         "font": {
          "color": "#4D5663"
         }
        },
        "paper_bgcolor": "#F5F6F9",
        "plot_bgcolor": "#F5F6F9",
        "template": {
         "data": {
          "bar": [
           {
            "error_x": {
             "color": "#2a3f5f"
            },
            "error_y": {
             "color": "#2a3f5f"
            },
            "marker": {
             "line": {
              "color": "#E5ECF6",
              "width": 0.5
             }
            },
            "type": "bar"
           }
          ],
          "barpolar": [
           {
            "marker": {
             "line": {
              "color": "#E5ECF6",
              "width": 0.5
             }
            },
            "type": "barpolar"
           }
          ],
          "carpet": [
           {
            "aaxis": {
             "endlinecolor": "#2a3f5f",
             "gridcolor": "white",
             "linecolor": "white",
             "minorgridcolor": "white",
             "startlinecolor": "#2a3f5f"
            },
            "baxis": {
             "endlinecolor": "#2a3f5f",
             "gridcolor": "white",
             "linecolor": "white",
             "minorgridcolor": "white",
             "startlinecolor": "#2a3f5f"
            },
            "type": "carpet"
           }
          ],
          "choropleth": [
           {
            "colorbar": {
             "outlinewidth": 0,
             "ticks": ""
            },
            "type": "choropleth"
           }
          ],
          "contour": [
           {
            "colorbar": {
             "outlinewidth": 0,
             "ticks": ""
            },
            "colorscale": [
             [
              0,
              "#0d0887"
             ],
             [
              0.1111111111111111,
              "#46039f"
             ],
             [
              0.2222222222222222,
              "#7201a8"
             ],
             [
              0.3333333333333333,
              "#9c179e"
             ],
             [
              0.4444444444444444,
              "#bd3786"
             ],
             [
              0.5555555555555556,
              "#d8576b"
             ],
             [
              0.6666666666666666,
              "#ed7953"
             ],
             [
              0.7777777777777778,
              "#fb9f3a"
             ],
             [
              0.8888888888888888,
              "#fdca26"
             ],
             [
              1,
              "#f0f921"
             ]
            ],
            "type": "contour"
           }
          ],
          "contourcarpet": [
           {
            "colorbar": {
             "outlinewidth": 0,
             "ticks": ""
            },
            "type": "contourcarpet"
           }
          ],
          "heatmap": [
           {
            "colorbar": {
             "outlinewidth": 0,
             "ticks": ""
            },
            "colorscale": [
             [
              0,
              "#0d0887"
             ],
             [
              0.1111111111111111,
              "#46039f"
             ],
             [
              0.2222222222222222,
              "#7201a8"
             ],
             [
              0.3333333333333333,
              "#9c179e"
             ],
             [
              0.4444444444444444,
              "#bd3786"
             ],
             [
              0.5555555555555556,
              "#d8576b"
             ],
             [
              0.6666666666666666,
              "#ed7953"
             ],
             [
              0.7777777777777778,
              "#fb9f3a"
             ],
             [
              0.8888888888888888,
              "#fdca26"
             ],
             [
              1,
              "#f0f921"
             ]
            ],
            "type": "heatmap"
           }
          ],
          "heatmapgl": [
           {
            "colorbar": {
             "outlinewidth": 0,
             "ticks": ""
            },
            "colorscale": [
             [
              0,
              "#0d0887"
             ],
             [
              0.1111111111111111,
              "#46039f"
             ],
             [
              0.2222222222222222,
              "#7201a8"
             ],
             [
              0.3333333333333333,
              "#9c179e"
             ],
             [
              0.4444444444444444,
              "#bd3786"
             ],
             [
              0.5555555555555556,
              "#d8576b"
             ],
             [
              0.6666666666666666,
              "#ed7953"
             ],
             [
              0.7777777777777778,
              "#fb9f3a"
             ],
             [
              0.8888888888888888,
              "#fdca26"
             ],
             [
              1,
              "#f0f921"
             ]
            ],
            "type": "heatmapgl"
           }
          ],
          "histogram": [
           {
            "marker": {
             "colorbar": {
              "outlinewidth": 0,
              "ticks": ""
             }
            },
            "type": "histogram"
           }
          ],
          "histogram2d": [
           {
            "colorbar": {
             "outlinewidth": 0,
             "ticks": ""
            },
            "colorscale": [
             [
              0,
              "#0d0887"
             ],
             [
              0.1111111111111111,
              "#46039f"
             ],
             [
              0.2222222222222222,
              "#7201a8"
             ],
             [
              0.3333333333333333,
              "#9c179e"
             ],
             [
              0.4444444444444444,
              "#bd3786"
             ],
             [
              0.5555555555555556,
              "#d8576b"
             ],
             [
              0.6666666666666666,
              "#ed7953"
             ],
             [
              0.7777777777777778,
              "#fb9f3a"
             ],
             [
              0.8888888888888888,
              "#fdca26"
             ],
             [
              1,
              "#f0f921"
             ]
            ],
            "type": "histogram2d"
           }
          ],
          "histogram2dcontour": [
           {
            "colorbar": {
             "outlinewidth": 0,
             "ticks": ""
            },
            "colorscale": [
             [
              0,
              "#0d0887"
             ],
             [
              0.1111111111111111,
              "#46039f"
             ],
             [
              0.2222222222222222,
              "#7201a8"
             ],
             [
              0.3333333333333333,
              "#9c179e"
             ],
             [
              0.4444444444444444,
              "#bd3786"
             ],
             [
              0.5555555555555556,
              "#d8576b"
             ],
             [
              0.6666666666666666,
              "#ed7953"
             ],
             [
              0.7777777777777778,
              "#fb9f3a"
             ],
             [
              0.8888888888888888,
              "#fdca26"
             ],
             [
              1,
              "#f0f921"
             ]
            ],
            "type": "histogram2dcontour"
           }
          ],
          "mesh3d": [
           {
            "colorbar": {
             "outlinewidth": 0,
             "ticks": ""
            },
            "type": "mesh3d"
           }
          ],
          "parcoords": [
           {
            "line": {
             "colorbar": {
              "outlinewidth": 0,
              "ticks": ""
             }
            },
            "type": "parcoords"
           }
          ],
          "pie": [
           {
            "automargin": true,
            "type": "pie"
           }
          ],
          "scatter": [
           {
            "marker": {
             "colorbar": {
              "outlinewidth": 0,
              "ticks": ""
             }
            },
            "type": "scatter"
           }
          ],
          "scatter3d": [
           {
            "line": {
             "colorbar": {
              "outlinewidth": 0,
              "ticks": ""
             }
            },
            "marker": {
             "colorbar": {
              "outlinewidth": 0,
              "ticks": ""
             }
            },
            "type": "scatter3d"
           }
          ],
          "scattercarpet": [
           {
            "marker": {
             "colorbar": {
              "outlinewidth": 0,
              "ticks": ""
             }
            },
            "type": "scattercarpet"
           }
          ],
          "scattergeo": [
           {
            "marker": {
             "colorbar": {
              "outlinewidth": 0,
              "ticks": ""
             }
            },
            "type": "scattergeo"
           }
          ],
          "scattergl": [
           {
            "marker": {
             "colorbar": {
              "outlinewidth": 0,
              "ticks": ""
             }
            },
            "type": "scattergl"
           }
          ],
          "scattermapbox": [
           {
            "marker": {
             "colorbar": {
              "outlinewidth": 0,
              "ticks": ""
             }
            },
            "type": "scattermapbox"
           }
          ],
          "scatterpolar": [
           {
            "marker": {
             "colorbar": {
              "outlinewidth": 0,
              "ticks": ""
             }
            },
            "type": "scatterpolar"
           }
          ],
          "scatterpolargl": [
           {
            "marker": {
             "colorbar": {
              "outlinewidth": 0,
              "ticks": ""
             }
            },
            "type": "scatterpolargl"
           }
          ],
          "scatterternary": [
           {
            "marker": {
             "colorbar": {
              "outlinewidth": 0,
              "ticks": ""
             }
            },
            "type": "scatterternary"
           }
          ],
          "surface": [
           {
            "colorbar": {
             "outlinewidth": 0,
             "ticks": ""
            },
            "colorscale": [
             [
              0,
              "#0d0887"
             ],
             [
              0.1111111111111111,
              "#46039f"
             ],
             [
              0.2222222222222222,
              "#7201a8"
             ],
             [
              0.3333333333333333,
              "#9c179e"
             ],
             [
              0.4444444444444444,
              "#bd3786"
             ],
             [
              0.5555555555555556,
              "#d8576b"
             ],
             [
              0.6666666666666666,
              "#ed7953"
             ],
             [
              0.7777777777777778,
              "#fb9f3a"
             ],
             [
              0.8888888888888888,
              "#fdca26"
             ],
             [
              1,
              "#f0f921"
             ]
            ],
            "type": "surface"
           }
          ],
          "table": [
           {
            "cells": {
             "fill": {
              "color": "#EBF0F8"
             },
             "line": {
              "color": "white"
             }
            },
            "header": {
             "fill": {
              "color": "#C8D4E3"
             },
             "line": {
              "color": "white"
             }
            },
            "type": "table"
           }
          ]
         },
         "layout": {
          "annotationdefaults": {
           "arrowcolor": "#2a3f5f",
           "arrowhead": 0,
           "arrowwidth": 1
          },
          "coloraxis": {
           "colorbar": {
            "outlinewidth": 0,
            "ticks": ""
           }
          },
          "colorscale": {
           "diverging": [
            [
             0,
             "#8e0152"
            ],
            [
             0.1,
             "#c51b7d"
            ],
            [
             0.2,
             "#de77ae"
            ],
            [
             0.3,
             "#f1b6da"
            ],
            [
             0.4,
             "#fde0ef"
            ],
            [
             0.5,
             "#f7f7f7"
            ],
            [
             0.6,
             "#e6f5d0"
            ],
            [
             0.7,
             "#b8e186"
            ],
            [
             0.8,
             "#7fbc41"
            ],
            [
             0.9,
             "#4d9221"
            ],
            [
             1,
             "#276419"
            ]
           ],
           "sequential": [
            [
             0,
             "#0d0887"
            ],
            [
             0.1111111111111111,
             "#46039f"
            ],
            [
             0.2222222222222222,
             "#7201a8"
            ],
            [
             0.3333333333333333,
             "#9c179e"
            ],
            [
             0.4444444444444444,
             "#bd3786"
            ],
            [
             0.5555555555555556,
             "#d8576b"
            ],
            [
             0.6666666666666666,
             "#ed7953"
            ],
            [
             0.7777777777777778,
             "#fb9f3a"
            ],
            [
             0.8888888888888888,
             "#fdca26"
            ],
            [
             1,
             "#f0f921"
            ]
           ],
           "sequentialminus": [
            [
             0,
             "#0d0887"
            ],
            [
             0.1111111111111111,
             "#46039f"
            ],
            [
             0.2222222222222222,
             "#7201a8"
            ],
            [
             0.3333333333333333,
             "#9c179e"
            ],
            [
             0.4444444444444444,
             "#bd3786"
            ],
            [
             0.5555555555555556,
             "#d8576b"
            ],
            [
             0.6666666666666666,
             "#ed7953"
            ],
            [
             0.7777777777777778,
             "#fb9f3a"
            ],
            [
             0.8888888888888888,
             "#fdca26"
            ],
            [
             1,
             "#f0f921"
            ]
           ]
          },
          "colorway": [
           "#636efa",
           "#EF553B",
           "#00cc96",
           "#ab63fa",
           "#FFA15A",
           "#19d3f3",
           "#FF6692",
           "#B6E880",
           "#FF97FF",
           "#FECB52"
          ],
          "font": {
           "color": "#2a3f5f"
          },
          "geo": {
           "bgcolor": "white",
           "lakecolor": "white",
           "landcolor": "#E5ECF6",
           "showlakes": true,
           "showland": true,
           "subunitcolor": "white"
          },
          "hoverlabel": {
           "align": "left"
          },
          "hovermode": "closest",
          "mapbox": {
           "style": "light"
          },
          "paper_bgcolor": "white",
          "plot_bgcolor": "#E5ECF6",
          "polar": {
           "angularaxis": {
            "gridcolor": "white",
            "linecolor": "white",
            "ticks": ""
           },
           "bgcolor": "#E5ECF6",
           "radialaxis": {
            "gridcolor": "white",
            "linecolor": "white",
            "ticks": ""
           }
          },
          "scene": {
           "xaxis": {
            "backgroundcolor": "#E5ECF6",
            "gridcolor": "white",
            "gridwidth": 2,
            "linecolor": "white",
            "showbackground": true,
            "ticks": "",
            "zerolinecolor": "white"
           },
           "yaxis": {
            "backgroundcolor": "#E5ECF6",
            "gridcolor": "white",
            "gridwidth": 2,
            "linecolor": "white",
            "showbackground": true,
            "ticks": "",
            "zerolinecolor": "white"
           },
           "zaxis": {
            "backgroundcolor": "#E5ECF6",
            "gridcolor": "white",
            "gridwidth": 2,
            "linecolor": "white",
            "showbackground": true,
            "ticks": "",
            "zerolinecolor": "white"
           }
          },
          "shapedefaults": {
           "line": {
            "color": "#2a3f5f"
           }
          },
          "ternary": {
           "aaxis": {
            "gridcolor": "white",
            "linecolor": "white",
            "ticks": ""
           },
           "baxis": {
            "gridcolor": "white",
            "linecolor": "white",
            "ticks": ""
           },
           "bgcolor": "#E5ECF6",
           "caxis": {
            "gridcolor": "white",
            "linecolor": "white",
            "ticks": ""
           }
          },
          "title": {
           "x": 0.05
          },
          "xaxis": {
           "automargin": true,
           "gridcolor": "white",
           "linecolor": "white",
           "ticks": "",
           "title": {
            "standoff": 15
           },
           "zerolinecolor": "white",
           "zerolinewidth": 2
          },
          "yaxis": {
           "automargin": true,
           "gridcolor": "white",
           "linecolor": "white",
           "ticks": "",
           "title": {
            "standoff": 15
           },
           "zerolinecolor": "white",
           "zerolinewidth": 2
          }
         }
        },
        "title": {
         "font": {
          "color": "#4D5663"
         }
        },
        "xaxis": {
         "gridcolor": "#E1E5ED",
         "showgrid": true,
         "tickfont": {
          "color": "#4D5663"
         },
         "title": {
          "font": {
           "color": "#4D5663"
          },
          "text": ""
         },
         "zerolinecolor": "#E1E5ED"
        },
        "yaxis": {
         "gridcolor": "#E1E5ED",
         "showgrid": true,
         "tickfont": {
          "color": "#4D5663"
         },
         "title": {
          "font": {
           "color": "#4D5663"
          },
          "text": ""
         },
         "zerolinecolor": "#E1E5ED"
        }
       }
      },
      "text/html": [
       "<div>\n",
       "        \n",
       "        \n",
       "            <div id=\"36ccc0fa-bf43-4e1e-adc5-97d01d1461d9\" class=\"plotly-graph-div\" style=\"height:525px; width:100%;\"></div>\n",
       "            <script type=\"text/javascript\">\n",
       "                require([\"plotly\"], function(Plotly) {\n",
       "                    window.PLOTLYENV=window.PLOTLYENV || {};\n",
       "                    window.PLOTLYENV.BASE_URL='https://plot.ly';\n",
       "                    \n",
       "                if (document.getElementById(\"36ccc0fa-bf43-4e1e-adc5-97d01d1461d9\")) {\n",
       "                    Plotly.newPlot(\n",
       "                        '36ccc0fa-bf43-4e1e-adc5-97d01d1461d9',\n",
       "                        [{\"line\": {\"color\": \"rgba(255, 153, 51, 1.0)\", \"dash\": \"solid\", \"shape\": \"linear\", \"width\": 1.3}, \"marker\": {\"size\": 10, \"symbol\": \"circle\"}, \"mode\": \"markers\", \"name\": \"B\", \"text\": \"\", \"type\": \"scatter\", \"x\": [0.32205259576789935, -1.2705842440830204, 0.10782211694491088, -1.2646863492002582, -0.623016293453436, 0.4370049139590851, -1.8552254970766764, -1.073096970098413, 1.3267635793739714, 0.24419011655680606, 1.0557345774677764, 1.7122399294231183, -0.2677909309326994, -0.28051016349477526, 1.4218608035818048, -1.0755029134841767, -0.9863577816639659, 1.1115777342445334, -0.6008887227314611, -0.22539529068580208, -1.9716753893735646, -0.2365223696654613, 0.03208548148818823, 1.8767437352407905, 0.11545545793837805, 0.4970025785014497, 1.3483980343794544, -0.010039690351554604, -0.2862034883600797, 0.7806427708890616, 1.2081127390165514, 2.218774713469848, 0.32195990417680637, -0.789709658198847, -0.9214869451393399, 0.6711847095892842, -2.0114126158674566, -0.5309530198516696, -0.5878185997505112, -1.2238813239452369, -0.6931838125152013, -0.18979028816183985, 0.1999551589396969, -0.8954707479977178, 0.008236776144134046, -0.7787953946941676, -1.2036680132508266, -1.0847531776936057, 0.005830557401403538, 0.1728310981019457, 0.4449020848059417, -1.2639359430032238, -0.43542486573921074, 0.9384190809815643, 0.4417474515879442, 0.9940869401415626, -0.24283687971943876, 1.1349532128915576, -1.4141984420513154, -0.1588896627196114, 1.4481799160580093, 2.1823007739131963, 2.2440304393283648, -0.5847717373041349, 0.8639441573674254, 1.5196751985682482, 0.3827391753660122, 0.8684445003403783, -1.2023800499448436, 0.8930942078797675, 0.9233087070208601, 0.6698237160538058, 0.02239191937027293, 0.7820499553794281, -0.3248424573510298, -1.8242941941509472, -0.09514443783697729, 1.2553052652092374, 0.5534742778189647, -0.12727753897390603, -0.7962665535640177, 1.2211010568044924, 1.5560296838025678, -0.40481828496818456, 0.5218851881531966, -1.5271712764268646, -2.776318086494025, 0.999386989977953, -0.19556324612903161, 1.6357935804232269, -0.8896042579824299, 0.8581748464534634, 0.8086306539297275, 0.506194813669362, 0.7183057346101549, -0.11471459993668659, -1.0265711561628377, -0.5019344243022291, 1.6007548010842878, -0.40354560457594973], \"y\": [0.10125898893055496, 0.8301536855043266, -0.7327192245673191, -1.0387054262404438, -0.13081600367508936, 0.38664976245140625, -1.0533449001438244, -0.20007675282923942, -0.6185234313147078, 0.36942411017863375, -0.22375568353621758, 0.2526470287312885, 0.2267419219131918, 0.2639775339786776, -1.132739394771502, -1.1482843495848114, -1.4128591948532767, -0.18778958090483552, 0.7948906960485981, -0.7892335813067191, -0.8706073761676926, 0.6770291787073698, 2.0113237483420052, 0.19388328189767956, -0.5002549827427382, -2.2199606530825187, 0.4830527044613887, 1.2011801375298716, -0.19774173866295486, -0.752708338255664, 1.893701881344233, -1.5854693729649616, -1.1333779065857008, 0.9496792076892996, -1.238894773355343, 0.651939653630145, 1.0901486579747812, -1.3242262316027364, 0.2513360270523506, 1.369678078932397, -1.5950170347251074, -0.3679375422795287, -1.7962568652676187, -0.5115298758591496, 2.188733910681354, -1.1476516620997423, -0.8208471477547784, -1.416695201802754, 2.11342701518249, 0.08432602513735225, 0.6781991471269608, 0.07373698726313345, 0.5710623935970508, -0.787688749375717, -0.41027858341862145, -0.34821811877131464, -1.5818949290626747, -1.1349294502844594, 0.45585273942482807, 1.3046051862052737, -0.4827487411487068, 0.79507633799293, -0.5013579293617653, 0.46322340516495625, -0.8457049730894419, 1.648185620735109, 0.19598567561280725, 1.3150203116581147, 1.237625968070254, 0.08356414724553121, 0.641786345422482, -0.6518313171806182, 1.3354442167862435, -1.2043145454829405, 0.4813823869913045, -1.5428335401166102, 1.3821152573725537, -2.3212785452028672, 0.8545589572697296, -0.772336453451533, -0.49736734351279943, 0.14901385623969263, 1.0662016178255687, -0.1434437840124678, -0.9085296086179435, 1.0244448729388482, -1.4468528787919994, -0.3118340488124157, 1.5188676784825625, 0.15424572817777435, 1.0003879295162246, 1.3008090429174297, 0.994546553788734, -1.2890830028500138, -0.40471979448408874, -0.03237658061551539, -1.3186709594255155, 0.5681307989920067, -1.3027720666231417, -0.06021515309892382]}],\n",
       "                        {\"legend\": {\"bgcolor\": \"#F5F6F9\", \"font\": {\"color\": \"#4D5663\"}}, \"paper_bgcolor\": \"#F5F6F9\", \"plot_bgcolor\": \"#F5F6F9\", \"template\": {\"data\": {\"bar\": [{\"error_x\": {\"color\": \"#2a3f5f\"}, \"error_y\": {\"color\": \"#2a3f5f\"}, \"marker\": {\"line\": {\"color\": \"#E5ECF6\", \"width\": 0.5}}, \"type\": \"bar\"}], \"barpolar\": [{\"marker\": {\"line\": {\"color\": \"#E5ECF6\", \"width\": 0.5}}, \"type\": \"barpolar\"}], \"carpet\": [{\"aaxis\": {\"endlinecolor\": \"#2a3f5f\", \"gridcolor\": \"white\", \"linecolor\": \"white\", \"minorgridcolor\": \"white\", \"startlinecolor\": \"#2a3f5f\"}, \"baxis\": {\"endlinecolor\": \"#2a3f5f\", \"gridcolor\": \"white\", \"linecolor\": \"white\", \"minorgridcolor\": \"white\", \"startlinecolor\": \"#2a3f5f\"}, \"type\": \"carpet\"}], \"choropleth\": [{\"colorbar\": {\"outlinewidth\": 0, \"ticks\": \"\"}, \"type\": \"choropleth\"}], \"contour\": [{\"colorbar\": {\"outlinewidth\": 0, \"ticks\": \"\"}, \"colorscale\": [[0.0, \"#0d0887\"], [0.1111111111111111, \"#46039f\"], [0.2222222222222222, \"#7201a8\"], [0.3333333333333333, \"#9c179e\"], [0.4444444444444444, \"#bd3786\"], [0.5555555555555556, \"#d8576b\"], [0.6666666666666666, \"#ed7953\"], [0.7777777777777778, \"#fb9f3a\"], [0.8888888888888888, \"#fdca26\"], [1.0, \"#f0f921\"]], \"type\": \"contour\"}], \"contourcarpet\": [{\"colorbar\": {\"outlinewidth\": 0, \"ticks\": \"\"}, \"type\": \"contourcarpet\"}], \"heatmap\": [{\"colorbar\": {\"outlinewidth\": 0, \"ticks\": \"\"}, \"colorscale\": [[0.0, \"#0d0887\"], [0.1111111111111111, \"#46039f\"], [0.2222222222222222, \"#7201a8\"], [0.3333333333333333, \"#9c179e\"], [0.4444444444444444, \"#bd3786\"], [0.5555555555555556, \"#d8576b\"], [0.6666666666666666, \"#ed7953\"], [0.7777777777777778, \"#fb9f3a\"], [0.8888888888888888, \"#fdca26\"], [1.0, \"#f0f921\"]], \"type\": \"heatmap\"}], \"heatmapgl\": [{\"colorbar\": {\"outlinewidth\": 0, \"ticks\": \"\"}, \"colorscale\": [[0.0, \"#0d0887\"], [0.1111111111111111, \"#46039f\"], [0.2222222222222222, \"#7201a8\"], [0.3333333333333333, \"#9c179e\"], [0.4444444444444444, \"#bd3786\"], [0.5555555555555556, \"#d8576b\"], [0.6666666666666666, \"#ed7953\"], [0.7777777777777778, \"#fb9f3a\"], [0.8888888888888888, \"#fdca26\"], [1.0, \"#f0f921\"]], \"type\": \"heatmapgl\"}], \"histogram\": [{\"marker\": {\"colorbar\": {\"outlinewidth\": 0, \"ticks\": \"\"}}, \"type\": \"histogram\"}], \"histogram2d\": [{\"colorbar\": {\"outlinewidth\": 0, \"ticks\": \"\"}, \"colorscale\": [[0.0, \"#0d0887\"], [0.1111111111111111, \"#46039f\"], [0.2222222222222222, \"#7201a8\"], [0.3333333333333333, \"#9c179e\"], [0.4444444444444444, \"#bd3786\"], [0.5555555555555556, \"#d8576b\"], [0.6666666666666666, \"#ed7953\"], [0.7777777777777778, \"#fb9f3a\"], [0.8888888888888888, \"#fdca26\"], [1.0, \"#f0f921\"]], \"type\": \"histogram2d\"}], \"histogram2dcontour\": [{\"colorbar\": {\"outlinewidth\": 0, \"ticks\": \"\"}, \"colorscale\": [[0.0, \"#0d0887\"], [0.1111111111111111, \"#46039f\"], [0.2222222222222222, \"#7201a8\"], [0.3333333333333333, \"#9c179e\"], [0.4444444444444444, \"#bd3786\"], [0.5555555555555556, \"#d8576b\"], [0.6666666666666666, \"#ed7953\"], [0.7777777777777778, \"#fb9f3a\"], [0.8888888888888888, \"#fdca26\"], [1.0, \"#f0f921\"]], \"type\": \"histogram2dcontour\"}], \"mesh3d\": [{\"colorbar\": {\"outlinewidth\": 0, \"ticks\": \"\"}, \"type\": \"mesh3d\"}], \"parcoords\": [{\"line\": {\"colorbar\": {\"outlinewidth\": 0, \"ticks\": \"\"}}, \"type\": \"parcoords\"}], \"pie\": [{\"automargin\": true, \"type\": \"pie\"}], \"scatter\": [{\"marker\": {\"colorbar\": {\"outlinewidth\": 0, \"ticks\": \"\"}}, \"type\": \"scatter\"}], \"scatter3d\": [{\"line\": {\"colorbar\": {\"outlinewidth\": 0, \"ticks\": \"\"}}, \"marker\": {\"colorbar\": {\"outlinewidth\": 0, \"ticks\": \"\"}}, \"type\": \"scatter3d\"}], \"scattercarpet\": [{\"marker\": {\"colorbar\": {\"outlinewidth\": 0, \"ticks\": \"\"}}, \"type\": \"scattercarpet\"}], \"scattergeo\": [{\"marker\": {\"colorbar\": {\"outlinewidth\": 0, \"ticks\": \"\"}}, \"type\": \"scattergeo\"}], \"scattergl\": [{\"marker\": {\"colorbar\": {\"outlinewidth\": 0, \"ticks\": \"\"}}, \"type\": \"scattergl\"}], \"scattermapbox\": [{\"marker\": {\"colorbar\": {\"outlinewidth\": 0, \"ticks\": \"\"}}, \"type\": \"scattermapbox\"}], \"scatterpolar\": [{\"marker\": {\"colorbar\": {\"outlinewidth\": 0, \"ticks\": \"\"}}, \"type\": \"scatterpolar\"}], \"scatterpolargl\": [{\"marker\": {\"colorbar\": {\"outlinewidth\": 0, \"ticks\": \"\"}}, \"type\": \"scatterpolargl\"}], \"scatterternary\": [{\"marker\": {\"colorbar\": {\"outlinewidth\": 0, \"ticks\": \"\"}}, \"type\": \"scatterternary\"}], \"surface\": [{\"colorbar\": {\"outlinewidth\": 0, \"ticks\": \"\"}, \"colorscale\": [[0.0, \"#0d0887\"], [0.1111111111111111, \"#46039f\"], [0.2222222222222222, \"#7201a8\"], [0.3333333333333333, \"#9c179e\"], [0.4444444444444444, \"#bd3786\"], [0.5555555555555556, \"#d8576b\"], [0.6666666666666666, \"#ed7953\"], [0.7777777777777778, \"#fb9f3a\"], [0.8888888888888888, \"#fdca26\"], [1.0, \"#f0f921\"]], \"type\": \"surface\"}], \"table\": [{\"cells\": {\"fill\": {\"color\": \"#EBF0F8\"}, \"line\": {\"color\": \"white\"}}, \"header\": {\"fill\": {\"color\": \"#C8D4E3\"}, \"line\": {\"color\": \"white\"}}, \"type\": \"table\"}]}, \"layout\": {\"annotationdefaults\": {\"arrowcolor\": \"#2a3f5f\", \"arrowhead\": 0, \"arrowwidth\": 1}, \"coloraxis\": {\"colorbar\": {\"outlinewidth\": 0, \"ticks\": \"\"}}, \"colorscale\": {\"diverging\": [[0, \"#8e0152\"], [0.1, \"#c51b7d\"], [0.2, \"#de77ae\"], [0.3, \"#f1b6da\"], [0.4, \"#fde0ef\"], [0.5, \"#f7f7f7\"], [0.6, \"#e6f5d0\"], [0.7, \"#b8e186\"], [0.8, \"#7fbc41\"], [0.9, \"#4d9221\"], [1, \"#276419\"]], \"sequential\": [[0.0, \"#0d0887\"], [0.1111111111111111, \"#46039f\"], [0.2222222222222222, \"#7201a8\"], [0.3333333333333333, \"#9c179e\"], [0.4444444444444444, \"#bd3786\"], [0.5555555555555556, \"#d8576b\"], [0.6666666666666666, \"#ed7953\"], [0.7777777777777778, \"#fb9f3a\"], [0.8888888888888888, \"#fdca26\"], [1.0, \"#f0f921\"]], \"sequentialminus\": [[0.0, \"#0d0887\"], [0.1111111111111111, \"#46039f\"], [0.2222222222222222, \"#7201a8\"], [0.3333333333333333, \"#9c179e\"], [0.4444444444444444, \"#bd3786\"], [0.5555555555555556, \"#d8576b\"], [0.6666666666666666, \"#ed7953\"], [0.7777777777777778, \"#fb9f3a\"], [0.8888888888888888, \"#fdca26\"], [1.0, \"#f0f921\"]]}, \"colorway\": [\"#636efa\", \"#EF553B\", \"#00cc96\", \"#ab63fa\", \"#FFA15A\", \"#19d3f3\", \"#FF6692\", \"#B6E880\", \"#FF97FF\", \"#FECB52\"], \"font\": {\"color\": \"#2a3f5f\"}, \"geo\": {\"bgcolor\": \"white\", \"lakecolor\": \"white\", \"landcolor\": \"#E5ECF6\", \"showlakes\": true, \"showland\": true, \"subunitcolor\": \"white\"}, \"hoverlabel\": {\"align\": \"left\"}, \"hovermode\": \"closest\", \"mapbox\": {\"style\": \"light\"}, \"paper_bgcolor\": \"white\", \"plot_bgcolor\": \"#E5ECF6\", \"polar\": {\"angularaxis\": {\"gridcolor\": \"white\", \"linecolor\": \"white\", \"ticks\": \"\"}, \"bgcolor\": \"#E5ECF6\", \"radialaxis\": {\"gridcolor\": \"white\", \"linecolor\": \"white\", \"ticks\": \"\"}}, \"scene\": {\"xaxis\": {\"backgroundcolor\": \"#E5ECF6\", \"gridcolor\": \"white\", \"gridwidth\": 2, \"linecolor\": \"white\", \"showbackground\": true, \"ticks\": \"\", \"zerolinecolor\": \"white\"}, \"yaxis\": {\"backgroundcolor\": \"#E5ECF6\", \"gridcolor\": \"white\", \"gridwidth\": 2, \"linecolor\": \"white\", \"showbackground\": true, \"ticks\": \"\", \"zerolinecolor\": \"white\"}, \"zaxis\": {\"backgroundcolor\": \"#E5ECF6\", \"gridcolor\": \"white\", \"gridwidth\": 2, \"linecolor\": \"white\", \"showbackground\": true, \"ticks\": \"\", \"zerolinecolor\": \"white\"}}, \"shapedefaults\": {\"line\": {\"color\": \"#2a3f5f\"}}, \"ternary\": {\"aaxis\": {\"gridcolor\": \"white\", \"linecolor\": \"white\", \"ticks\": \"\"}, \"baxis\": {\"gridcolor\": \"white\", \"linecolor\": \"white\", \"ticks\": \"\"}, \"bgcolor\": \"#E5ECF6\", \"caxis\": {\"gridcolor\": \"white\", \"linecolor\": \"white\", \"ticks\": \"\"}}, \"title\": {\"x\": 0.05}, \"xaxis\": {\"automargin\": true, \"gridcolor\": \"white\", \"linecolor\": \"white\", \"ticks\": \"\", \"title\": {\"standoff\": 15}, \"zerolinecolor\": \"white\", \"zerolinewidth\": 2}, \"yaxis\": {\"automargin\": true, \"gridcolor\": \"white\", \"linecolor\": \"white\", \"ticks\": \"\", \"title\": {\"standoff\": 15}, \"zerolinecolor\": \"white\", \"zerolinewidth\": 2}}}, \"title\": {\"font\": {\"color\": \"#4D5663\"}}, \"xaxis\": {\"gridcolor\": \"#E1E5ED\", \"showgrid\": true, \"tickfont\": {\"color\": \"#4D5663\"}, \"title\": {\"font\": {\"color\": \"#4D5663\"}, \"text\": \"\"}, \"zerolinecolor\": \"#E1E5ED\"}, \"yaxis\": {\"gridcolor\": \"#E1E5ED\", \"showgrid\": true, \"tickfont\": {\"color\": \"#4D5663\"}, \"title\": {\"font\": {\"color\": \"#4D5663\"}, \"text\": \"\"}, \"zerolinecolor\": \"#E1E5ED\"}},\n",
       "                        {\"showLink\": true, \"linkText\": \"Export to plot.ly\", \"plotlyServerURL\": \"https://plot.ly\", \"responsive\": true}\n",
       "                    ).then(function(){\n",
       "                            \n",
       "var gd = document.getElementById('36ccc0fa-bf43-4e1e-adc5-97d01d1461d9');\n",
       "var x = new MutationObserver(function (mutations, observer) {{\n",
       "        var display = window.getComputedStyle(gd).display;\n",
       "        if (!display || display === 'none') {{\n",
       "            console.log([gd, 'removed!']);\n",
       "            Plotly.purge(gd);\n",
       "            observer.disconnect();\n",
       "        }}\n",
       "}});\n",
       "\n",
       "// Listen for the removal of the full notebook cells\n",
       "var notebookContainer = gd.closest('#notebook-container');\n",
       "if (notebookContainer) {{\n",
       "    x.observe(notebookContainer, {childList: true});\n",
       "}}\n",
       "\n",
       "// Listen for the clearing of the current output cell\n",
       "var outputEl = gd.closest('.output');\n",
       "if (outputEl) {{\n",
       "    x.observe(outputEl, {childList: true});\n",
       "}}\n",
       "\n",
       "                        })\n",
       "                };\n",
       "                });\n",
       "            </script>\n",
       "        </div>"
      ]
     },
     "metadata": {},
     "output_type": "display_data"
    }
   ],
   "source": [
    "df.iplot(kind='scatter',x='A',y='B',mode='markers',size=10)"
   ]
  },
  {
   "cell_type": "markdown",
   "metadata": {},
   "source": [
    "## Bar Plots"
   ]
  },
  {
   "cell_type": "code",
   "execution_count": 13,
   "metadata": {},
   "outputs": [
    {
     "data": {
      "application/vnd.plotly.v1+json": {
       "config": {
        "linkText": "Export to plot.ly",
        "plotlyServerURL": "https://plot.ly",
        "showLink": true
       },
       "data": [
        {
         "marker": {
          "color": "rgba(255, 153, 51, 0.6)",
          "line": {
           "color": "rgba(255, 153, 51, 1.0)",
           "width": 1
          }
         },
         "name": "Values",
         "orientation": "v",
         "text": "",
         "type": "bar",
         "x": [
          "A",
          "B",
          "C"
         ],
         "y": [
          32,
          43,
          50
         ]
        }
       ],
       "layout": {
        "legend": {
         "bgcolor": "#F5F6F9",
         "font": {
          "color": "#4D5663"
         }
        },
        "paper_bgcolor": "#F5F6F9",
        "plot_bgcolor": "#F5F6F9",
        "template": {
         "data": {
          "bar": [
           {
            "error_x": {
             "color": "#2a3f5f"
            },
            "error_y": {
             "color": "#2a3f5f"
            },
            "marker": {
             "line": {
              "color": "#E5ECF6",
              "width": 0.5
             }
            },
            "type": "bar"
           }
          ],
          "barpolar": [
           {
            "marker": {
             "line": {
              "color": "#E5ECF6",
              "width": 0.5
             }
            },
            "type": "barpolar"
           }
          ],
          "carpet": [
           {
            "aaxis": {
             "endlinecolor": "#2a3f5f",
             "gridcolor": "white",
             "linecolor": "white",
             "minorgridcolor": "white",
             "startlinecolor": "#2a3f5f"
            },
            "baxis": {
             "endlinecolor": "#2a3f5f",
             "gridcolor": "white",
             "linecolor": "white",
             "minorgridcolor": "white",
             "startlinecolor": "#2a3f5f"
            },
            "type": "carpet"
           }
          ],
          "choropleth": [
           {
            "colorbar": {
             "outlinewidth": 0,
             "ticks": ""
            },
            "type": "choropleth"
           }
          ],
          "contour": [
           {
            "colorbar": {
             "outlinewidth": 0,
             "ticks": ""
            },
            "colorscale": [
             [
              0,
              "#0d0887"
             ],
             [
              0.1111111111111111,
              "#46039f"
             ],
             [
              0.2222222222222222,
              "#7201a8"
             ],
             [
              0.3333333333333333,
              "#9c179e"
             ],
             [
              0.4444444444444444,
              "#bd3786"
             ],
             [
              0.5555555555555556,
              "#d8576b"
             ],
             [
              0.6666666666666666,
              "#ed7953"
             ],
             [
              0.7777777777777778,
              "#fb9f3a"
             ],
             [
              0.8888888888888888,
              "#fdca26"
             ],
             [
              1,
              "#f0f921"
             ]
            ],
            "type": "contour"
           }
          ],
          "contourcarpet": [
           {
            "colorbar": {
             "outlinewidth": 0,
             "ticks": ""
            },
            "type": "contourcarpet"
           }
          ],
          "heatmap": [
           {
            "colorbar": {
             "outlinewidth": 0,
             "ticks": ""
            },
            "colorscale": [
             [
              0,
              "#0d0887"
             ],
             [
              0.1111111111111111,
              "#46039f"
             ],
             [
              0.2222222222222222,
              "#7201a8"
             ],
             [
              0.3333333333333333,
              "#9c179e"
             ],
             [
              0.4444444444444444,
              "#bd3786"
             ],
             [
              0.5555555555555556,
              "#d8576b"
             ],
             [
              0.6666666666666666,
              "#ed7953"
             ],
             [
              0.7777777777777778,
              "#fb9f3a"
             ],
             [
              0.8888888888888888,
              "#fdca26"
             ],
             [
              1,
              "#f0f921"
             ]
            ],
            "type": "heatmap"
           }
          ],
          "heatmapgl": [
           {
            "colorbar": {
             "outlinewidth": 0,
             "ticks": ""
            },
            "colorscale": [
             [
              0,
              "#0d0887"
             ],
             [
              0.1111111111111111,
              "#46039f"
             ],
             [
              0.2222222222222222,
              "#7201a8"
             ],
             [
              0.3333333333333333,
              "#9c179e"
             ],
             [
              0.4444444444444444,
              "#bd3786"
             ],
             [
              0.5555555555555556,
              "#d8576b"
             ],
             [
              0.6666666666666666,
              "#ed7953"
             ],
             [
              0.7777777777777778,
              "#fb9f3a"
             ],
             [
              0.8888888888888888,
              "#fdca26"
             ],
             [
              1,
              "#f0f921"
             ]
            ],
            "type": "heatmapgl"
           }
          ],
          "histogram": [
           {
            "marker": {
             "colorbar": {
              "outlinewidth": 0,
              "ticks": ""
             }
            },
            "type": "histogram"
           }
          ],
          "histogram2d": [
           {
            "colorbar": {
             "outlinewidth": 0,
             "ticks": ""
            },
            "colorscale": [
             [
              0,
              "#0d0887"
             ],
             [
              0.1111111111111111,
              "#46039f"
             ],
             [
              0.2222222222222222,
              "#7201a8"
             ],
             [
              0.3333333333333333,
              "#9c179e"
             ],
             [
              0.4444444444444444,
              "#bd3786"
             ],
             [
              0.5555555555555556,
              "#d8576b"
             ],
             [
              0.6666666666666666,
              "#ed7953"
             ],
             [
              0.7777777777777778,
              "#fb9f3a"
             ],
             [
              0.8888888888888888,
              "#fdca26"
             ],
             [
              1,
              "#f0f921"
             ]
            ],
            "type": "histogram2d"
           }
          ],
          "histogram2dcontour": [
           {
            "colorbar": {
             "outlinewidth": 0,
             "ticks": ""
            },
            "colorscale": [
             [
              0,
              "#0d0887"
             ],
             [
              0.1111111111111111,
              "#46039f"
             ],
             [
              0.2222222222222222,
              "#7201a8"
             ],
             [
              0.3333333333333333,
              "#9c179e"
             ],
             [
              0.4444444444444444,
              "#bd3786"
             ],
             [
              0.5555555555555556,
              "#d8576b"
             ],
             [
              0.6666666666666666,
              "#ed7953"
             ],
             [
              0.7777777777777778,
              "#fb9f3a"
             ],
             [
              0.8888888888888888,
              "#fdca26"
             ],
             [
              1,
              "#f0f921"
             ]
            ],
            "type": "histogram2dcontour"
           }
          ],
          "mesh3d": [
           {
            "colorbar": {
             "outlinewidth": 0,
             "ticks": ""
            },
            "type": "mesh3d"
           }
          ],
          "parcoords": [
           {
            "line": {
             "colorbar": {
              "outlinewidth": 0,
              "ticks": ""
             }
            },
            "type": "parcoords"
           }
          ],
          "pie": [
           {
            "automargin": true,
            "type": "pie"
           }
          ],
          "scatter": [
           {
            "marker": {
             "colorbar": {
              "outlinewidth": 0,
              "ticks": ""
             }
            },
            "type": "scatter"
           }
          ],
          "scatter3d": [
           {
            "line": {
             "colorbar": {
              "outlinewidth": 0,
              "ticks": ""
             }
            },
            "marker": {
             "colorbar": {
              "outlinewidth": 0,
              "ticks": ""
             }
            },
            "type": "scatter3d"
           }
          ],
          "scattercarpet": [
           {
            "marker": {
             "colorbar": {
              "outlinewidth": 0,
              "ticks": ""
             }
            },
            "type": "scattercarpet"
           }
          ],
          "scattergeo": [
           {
            "marker": {
             "colorbar": {
              "outlinewidth": 0,
              "ticks": ""
             }
            },
            "type": "scattergeo"
           }
          ],
          "scattergl": [
           {
            "marker": {
             "colorbar": {
              "outlinewidth": 0,
              "ticks": ""
             }
            },
            "type": "scattergl"
           }
          ],
          "scattermapbox": [
           {
            "marker": {
             "colorbar": {
              "outlinewidth": 0,
              "ticks": ""
             }
            },
            "type": "scattermapbox"
           }
          ],
          "scatterpolar": [
           {
            "marker": {
             "colorbar": {
              "outlinewidth": 0,
              "ticks": ""
             }
            },
            "type": "scatterpolar"
           }
          ],
          "scatterpolargl": [
           {
            "marker": {
             "colorbar": {
              "outlinewidth": 0,
              "ticks": ""
             }
            },
            "type": "scatterpolargl"
           }
          ],
          "scatterternary": [
           {
            "marker": {
             "colorbar": {
              "outlinewidth": 0,
              "ticks": ""
             }
            },
            "type": "scatterternary"
           }
          ],
          "surface": [
           {
            "colorbar": {
             "outlinewidth": 0,
             "ticks": ""
            },
            "colorscale": [
             [
              0,
              "#0d0887"
             ],
             [
              0.1111111111111111,
              "#46039f"
             ],
             [
              0.2222222222222222,
              "#7201a8"
             ],
             [
              0.3333333333333333,
              "#9c179e"
             ],
             [
              0.4444444444444444,
              "#bd3786"
             ],
             [
              0.5555555555555556,
              "#d8576b"
             ],
             [
              0.6666666666666666,
              "#ed7953"
             ],
             [
              0.7777777777777778,
              "#fb9f3a"
             ],
             [
              0.8888888888888888,
              "#fdca26"
             ],
             [
              1,
              "#f0f921"
             ]
            ],
            "type": "surface"
           }
          ],
          "table": [
           {
            "cells": {
             "fill": {
              "color": "#EBF0F8"
             },
             "line": {
              "color": "white"
             }
            },
            "header": {
             "fill": {
              "color": "#C8D4E3"
             },
             "line": {
              "color": "white"
             }
            },
            "type": "table"
           }
          ]
         },
         "layout": {
          "annotationdefaults": {
           "arrowcolor": "#2a3f5f",
           "arrowhead": 0,
           "arrowwidth": 1
          },
          "coloraxis": {
           "colorbar": {
            "outlinewidth": 0,
            "ticks": ""
           }
          },
          "colorscale": {
           "diverging": [
            [
             0,
             "#8e0152"
            ],
            [
             0.1,
             "#c51b7d"
            ],
            [
             0.2,
             "#de77ae"
            ],
            [
             0.3,
             "#f1b6da"
            ],
            [
             0.4,
             "#fde0ef"
            ],
            [
             0.5,
             "#f7f7f7"
            ],
            [
             0.6,
             "#e6f5d0"
            ],
            [
             0.7,
             "#b8e186"
            ],
            [
             0.8,
             "#7fbc41"
            ],
            [
             0.9,
             "#4d9221"
            ],
            [
             1,
             "#276419"
            ]
           ],
           "sequential": [
            [
             0,
             "#0d0887"
            ],
            [
             0.1111111111111111,
             "#46039f"
            ],
            [
             0.2222222222222222,
             "#7201a8"
            ],
            [
             0.3333333333333333,
             "#9c179e"
            ],
            [
             0.4444444444444444,
             "#bd3786"
            ],
            [
             0.5555555555555556,
             "#d8576b"
            ],
            [
             0.6666666666666666,
             "#ed7953"
            ],
            [
             0.7777777777777778,
             "#fb9f3a"
            ],
            [
             0.8888888888888888,
             "#fdca26"
            ],
            [
             1,
             "#f0f921"
            ]
           ],
           "sequentialminus": [
            [
             0,
             "#0d0887"
            ],
            [
             0.1111111111111111,
             "#46039f"
            ],
            [
             0.2222222222222222,
             "#7201a8"
            ],
            [
             0.3333333333333333,
             "#9c179e"
            ],
            [
             0.4444444444444444,
             "#bd3786"
            ],
            [
             0.5555555555555556,
             "#d8576b"
            ],
            [
             0.6666666666666666,
             "#ed7953"
            ],
            [
             0.7777777777777778,
             "#fb9f3a"
            ],
            [
             0.8888888888888888,
             "#fdca26"
            ],
            [
             1,
             "#f0f921"
            ]
           ]
          },
          "colorway": [
           "#636efa",
           "#EF553B",
           "#00cc96",
           "#ab63fa",
           "#FFA15A",
           "#19d3f3",
           "#FF6692",
           "#B6E880",
           "#FF97FF",
           "#FECB52"
          ],
          "font": {
           "color": "#2a3f5f"
          },
          "geo": {
           "bgcolor": "white",
           "lakecolor": "white",
           "landcolor": "#E5ECF6",
           "showlakes": true,
           "showland": true,
           "subunitcolor": "white"
          },
          "hoverlabel": {
           "align": "left"
          },
          "hovermode": "closest",
          "mapbox": {
           "style": "light"
          },
          "paper_bgcolor": "white",
          "plot_bgcolor": "#E5ECF6",
          "polar": {
           "angularaxis": {
            "gridcolor": "white",
            "linecolor": "white",
            "ticks": ""
           },
           "bgcolor": "#E5ECF6",
           "radialaxis": {
            "gridcolor": "white",
            "linecolor": "white",
            "ticks": ""
           }
          },
          "scene": {
           "xaxis": {
            "backgroundcolor": "#E5ECF6",
            "gridcolor": "white",
            "gridwidth": 2,
            "linecolor": "white",
            "showbackground": true,
            "ticks": "",
            "zerolinecolor": "white"
           },
           "yaxis": {
            "backgroundcolor": "#E5ECF6",
            "gridcolor": "white",
            "gridwidth": 2,
            "linecolor": "white",
            "showbackground": true,
            "ticks": "",
            "zerolinecolor": "white"
           },
           "zaxis": {
            "backgroundcolor": "#E5ECF6",
            "gridcolor": "white",
            "gridwidth": 2,
            "linecolor": "white",
            "showbackground": true,
            "ticks": "",
            "zerolinecolor": "white"
           }
          },
          "shapedefaults": {
           "line": {
            "color": "#2a3f5f"
           }
          },
          "ternary": {
           "aaxis": {
            "gridcolor": "white",
            "linecolor": "white",
            "ticks": ""
           },
           "baxis": {
            "gridcolor": "white",
            "linecolor": "white",
            "ticks": ""
           },
           "bgcolor": "#E5ECF6",
           "caxis": {
            "gridcolor": "white",
            "linecolor": "white",
            "ticks": ""
           }
          },
          "title": {
           "x": 0.05
          },
          "xaxis": {
           "automargin": true,
           "gridcolor": "white",
           "linecolor": "white",
           "ticks": "",
           "title": {
            "standoff": 15
           },
           "zerolinecolor": "white",
           "zerolinewidth": 2
          },
          "yaxis": {
           "automargin": true,
           "gridcolor": "white",
           "linecolor": "white",
           "ticks": "",
           "title": {
            "standoff": 15
           },
           "zerolinecolor": "white",
           "zerolinewidth": 2
          }
         }
        },
        "title": {
         "font": {
          "color": "#4D5663"
         }
        },
        "xaxis": {
         "gridcolor": "#E1E5ED",
         "showgrid": true,
         "tickfont": {
          "color": "#4D5663"
         },
         "title": {
          "font": {
           "color": "#4D5663"
          },
          "text": ""
         },
         "zerolinecolor": "#E1E5ED"
        },
        "yaxis": {
         "gridcolor": "#E1E5ED",
         "showgrid": true,
         "tickfont": {
          "color": "#4D5663"
         },
         "title": {
          "font": {
           "color": "#4D5663"
          },
          "text": ""
         },
         "zerolinecolor": "#E1E5ED"
        }
       }
      },
      "text/html": [
       "<div>\n",
       "        \n",
       "        \n",
       "            <div id=\"81917b38-125e-4c6c-a189-daaf33b2d8c9\" class=\"plotly-graph-div\" style=\"height:525px; width:100%;\"></div>\n",
       "            <script type=\"text/javascript\">\n",
       "                require([\"plotly\"], function(Plotly) {\n",
       "                    window.PLOTLYENV=window.PLOTLYENV || {};\n",
       "                    window.PLOTLYENV.BASE_URL='https://plot.ly';\n",
       "                    \n",
       "                if (document.getElementById(\"81917b38-125e-4c6c-a189-daaf33b2d8c9\")) {\n",
       "                    Plotly.newPlot(\n",
       "                        '81917b38-125e-4c6c-a189-daaf33b2d8c9',\n",
       "                        [{\"marker\": {\"color\": \"rgba(255, 153, 51, 0.6)\", \"line\": {\"color\": \"rgba(255, 153, 51, 1.0)\", \"width\": 1}}, \"name\": \"Values\", \"orientation\": \"v\", \"text\": \"\", \"type\": \"bar\", \"x\": [\"A\", \"B\", \"C\"], \"y\": [32, 43, 50]}],\n",
       "                        {\"legend\": {\"bgcolor\": \"#F5F6F9\", \"font\": {\"color\": \"#4D5663\"}}, \"paper_bgcolor\": \"#F5F6F9\", \"plot_bgcolor\": \"#F5F6F9\", \"template\": {\"data\": {\"bar\": [{\"error_x\": {\"color\": \"#2a3f5f\"}, \"error_y\": {\"color\": \"#2a3f5f\"}, \"marker\": {\"line\": {\"color\": \"#E5ECF6\", \"width\": 0.5}}, \"type\": \"bar\"}], \"barpolar\": [{\"marker\": {\"line\": {\"color\": \"#E5ECF6\", \"width\": 0.5}}, \"type\": \"barpolar\"}], \"carpet\": [{\"aaxis\": {\"endlinecolor\": \"#2a3f5f\", \"gridcolor\": \"white\", \"linecolor\": \"white\", \"minorgridcolor\": \"white\", \"startlinecolor\": \"#2a3f5f\"}, \"baxis\": {\"endlinecolor\": \"#2a3f5f\", \"gridcolor\": \"white\", \"linecolor\": \"white\", \"minorgridcolor\": \"white\", \"startlinecolor\": \"#2a3f5f\"}, \"type\": \"carpet\"}], \"choropleth\": [{\"colorbar\": {\"outlinewidth\": 0, \"ticks\": \"\"}, \"type\": \"choropleth\"}], \"contour\": [{\"colorbar\": {\"outlinewidth\": 0, \"ticks\": \"\"}, \"colorscale\": [[0.0, \"#0d0887\"], [0.1111111111111111, \"#46039f\"], [0.2222222222222222, \"#7201a8\"], [0.3333333333333333, \"#9c179e\"], [0.4444444444444444, \"#bd3786\"], [0.5555555555555556, \"#d8576b\"], [0.6666666666666666, \"#ed7953\"], [0.7777777777777778, \"#fb9f3a\"], [0.8888888888888888, \"#fdca26\"], [1.0, \"#f0f921\"]], \"type\": \"contour\"}], \"contourcarpet\": [{\"colorbar\": {\"outlinewidth\": 0, \"ticks\": \"\"}, \"type\": \"contourcarpet\"}], \"heatmap\": [{\"colorbar\": {\"outlinewidth\": 0, \"ticks\": \"\"}, \"colorscale\": [[0.0, \"#0d0887\"], [0.1111111111111111, \"#46039f\"], [0.2222222222222222, \"#7201a8\"], [0.3333333333333333, \"#9c179e\"], [0.4444444444444444, \"#bd3786\"], [0.5555555555555556, \"#d8576b\"], [0.6666666666666666, \"#ed7953\"], [0.7777777777777778, \"#fb9f3a\"], [0.8888888888888888, \"#fdca26\"], [1.0, \"#f0f921\"]], \"type\": \"heatmap\"}], \"heatmapgl\": [{\"colorbar\": {\"outlinewidth\": 0, \"ticks\": \"\"}, \"colorscale\": [[0.0, \"#0d0887\"], [0.1111111111111111, \"#46039f\"], [0.2222222222222222, \"#7201a8\"], [0.3333333333333333, \"#9c179e\"], [0.4444444444444444, \"#bd3786\"], [0.5555555555555556, \"#d8576b\"], [0.6666666666666666, \"#ed7953\"], [0.7777777777777778, \"#fb9f3a\"], [0.8888888888888888, \"#fdca26\"], [1.0, \"#f0f921\"]], \"type\": \"heatmapgl\"}], \"histogram\": [{\"marker\": {\"colorbar\": {\"outlinewidth\": 0, \"ticks\": \"\"}}, \"type\": \"histogram\"}], \"histogram2d\": [{\"colorbar\": {\"outlinewidth\": 0, \"ticks\": \"\"}, \"colorscale\": [[0.0, \"#0d0887\"], [0.1111111111111111, \"#46039f\"], [0.2222222222222222, \"#7201a8\"], [0.3333333333333333, \"#9c179e\"], [0.4444444444444444, \"#bd3786\"], [0.5555555555555556, \"#d8576b\"], [0.6666666666666666, \"#ed7953\"], [0.7777777777777778, \"#fb9f3a\"], [0.8888888888888888, \"#fdca26\"], [1.0, \"#f0f921\"]], \"type\": \"histogram2d\"}], \"histogram2dcontour\": [{\"colorbar\": {\"outlinewidth\": 0, \"ticks\": \"\"}, \"colorscale\": [[0.0, \"#0d0887\"], [0.1111111111111111, \"#46039f\"], [0.2222222222222222, \"#7201a8\"], [0.3333333333333333, \"#9c179e\"], [0.4444444444444444, \"#bd3786\"], [0.5555555555555556, \"#d8576b\"], [0.6666666666666666, \"#ed7953\"], [0.7777777777777778, \"#fb9f3a\"], [0.8888888888888888, \"#fdca26\"], [1.0, \"#f0f921\"]], \"type\": \"histogram2dcontour\"}], \"mesh3d\": [{\"colorbar\": {\"outlinewidth\": 0, \"ticks\": \"\"}, \"type\": \"mesh3d\"}], \"parcoords\": [{\"line\": {\"colorbar\": {\"outlinewidth\": 0, \"ticks\": \"\"}}, \"type\": \"parcoords\"}], \"pie\": [{\"automargin\": true, \"type\": \"pie\"}], \"scatter\": [{\"marker\": {\"colorbar\": {\"outlinewidth\": 0, \"ticks\": \"\"}}, \"type\": \"scatter\"}], \"scatter3d\": [{\"line\": {\"colorbar\": {\"outlinewidth\": 0, \"ticks\": \"\"}}, \"marker\": {\"colorbar\": {\"outlinewidth\": 0, \"ticks\": \"\"}}, \"type\": \"scatter3d\"}], \"scattercarpet\": [{\"marker\": {\"colorbar\": {\"outlinewidth\": 0, \"ticks\": \"\"}}, \"type\": \"scattercarpet\"}], \"scattergeo\": [{\"marker\": {\"colorbar\": {\"outlinewidth\": 0, \"ticks\": \"\"}}, \"type\": \"scattergeo\"}], \"scattergl\": [{\"marker\": {\"colorbar\": {\"outlinewidth\": 0, \"ticks\": \"\"}}, \"type\": \"scattergl\"}], \"scattermapbox\": [{\"marker\": {\"colorbar\": {\"outlinewidth\": 0, \"ticks\": \"\"}}, \"type\": \"scattermapbox\"}], \"scatterpolar\": [{\"marker\": {\"colorbar\": {\"outlinewidth\": 0, \"ticks\": \"\"}}, \"type\": \"scatterpolar\"}], \"scatterpolargl\": [{\"marker\": {\"colorbar\": {\"outlinewidth\": 0, \"ticks\": \"\"}}, \"type\": \"scatterpolargl\"}], \"scatterternary\": [{\"marker\": {\"colorbar\": {\"outlinewidth\": 0, \"ticks\": \"\"}}, \"type\": \"scatterternary\"}], \"surface\": [{\"colorbar\": {\"outlinewidth\": 0, \"ticks\": \"\"}, \"colorscale\": [[0.0, \"#0d0887\"], [0.1111111111111111, \"#46039f\"], [0.2222222222222222, \"#7201a8\"], [0.3333333333333333, \"#9c179e\"], [0.4444444444444444, \"#bd3786\"], [0.5555555555555556, \"#d8576b\"], [0.6666666666666666, \"#ed7953\"], [0.7777777777777778, \"#fb9f3a\"], [0.8888888888888888, \"#fdca26\"], [1.0, \"#f0f921\"]], \"type\": \"surface\"}], \"table\": [{\"cells\": {\"fill\": {\"color\": \"#EBF0F8\"}, \"line\": {\"color\": \"white\"}}, \"header\": {\"fill\": {\"color\": \"#C8D4E3\"}, \"line\": {\"color\": \"white\"}}, \"type\": \"table\"}]}, \"layout\": {\"annotationdefaults\": {\"arrowcolor\": \"#2a3f5f\", \"arrowhead\": 0, \"arrowwidth\": 1}, \"coloraxis\": {\"colorbar\": {\"outlinewidth\": 0, \"ticks\": \"\"}}, \"colorscale\": {\"diverging\": [[0, \"#8e0152\"], [0.1, \"#c51b7d\"], [0.2, \"#de77ae\"], [0.3, \"#f1b6da\"], [0.4, \"#fde0ef\"], [0.5, \"#f7f7f7\"], [0.6, \"#e6f5d0\"], [0.7, \"#b8e186\"], [0.8, \"#7fbc41\"], [0.9, \"#4d9221\"], [1, \"#276419\"]], \"sequential\": [[0.0, \"#0d0887\"], [0.1111111111111111, \"#46039f\"], [0.2222222222222222, \"#7201a8\"], [0.3333333333333333, \"#9c179e\"], [0.4444444444444444, \"#bd3786\"], [0.5555555555555556, \"#d8576b\"], [0.6666666666666666, \"#ed7953\"], [0.7777777777777778, \"#fb9f3a\"], [0.8888888888888888, \"#fdca26\"], [1.0, \"#f0f921\"]], \"sequentialminus\": [[0.0, \"#0d0887\"], [0.1111111111111111, \"#46039f\"], [0.2222222222222222, \"#7201a8\"], [0.3333333333333333, \"#9c179e\"], [0.4444444444444444, \"#bd3786\"], [0.5555555555555556, \"#d8576b\"], [0.6666666666666666, \"#ed7953\"], [0.7777777777777778, \"#fb9f3a\"], [0.8888888888888888, \"#fdca26\"], [1.0, \"#f0f921\"]]}, \"colorway\": [\"#636efa\", \"#EF553B\", \"#00cc96\", \"#ab63fa\", \"#FFA15A\", \"#19d3f3\", \"#FF6692\", \"#B6E880\", \"#FF97FF\", \"#FECB52\"], \"font\": {\"color\": \"#2a3f5f\"}, \"geo\": {\"bgcolor\": \"white\", \"lakecolor\": \"white\", \"landcolor\": \"#E5ECF6\", \"showlakes\": true, \"showland\": true, \"subunitcolor\": \"white\"}, \"hoverlabel\": {\"align\": \"left\"}, \"hovermode\": \"closest\", \"mapbox\": {\"style\": \"light\"}, \"paper_bgcolor\": \"white\", \"plot_bgcolor\": \"#E5ECF6\", \"polar\": {\"angularaxis\": {\"gridcolor\": \"white\", \"linecolor\": \"white\", \"ticks\": \"\"}, \"bgcolor\": \"#E5ECF6\", \"radialaxis\": {\"gridcolor\": \"white\", \"linecolor\": \"white\", \"ticks\": \"\"}}, \"scene\": {\"xaxis\": {\"backgroundcolor\": \"#E5ECF6\", \"gridcolor\": \"white\", \"gridwidth\": 2, \"linecolor\": \"white\", \"showbackground\": true, \"ticks\": \"\", \"zerolinecolor\": \"white\"}, \"yaxis\": {\"backgroundcolor\": \"#E5ECF6\", \"gridcolor\": \"white\", \"gridwidth\": 2, \"linecolor\": \"white\", \"showbackground\": true, \"ticks\": \"\", \"zerolinecolor\": \"white\"}, \"zaxis\": {\"backgroundcolor\": \"#E5ECF6\", \"gridcolor\": \"white\", \"gridwidth\": 2, \"linecolor\": \"white\", \"showbackground\": true, \"ticks\": \"\", \"zerolinecolor\": \"white\"}}, \"shapedefaults\": {\"line\": {\"color\": \"#2a3f5f\"}}, \"ternary\": {\"aaxis\": {\"gridcolor\": \"white\", \"linecolor\": \"white\", \"ticks\": \"\"}, \"baxis\": {\"gridcolor\": \"white\", \"linecolor\": \"white\", \"ticks\": \"\"}, \"bgcolor\": \"#E5ECF6\", \"caxis\": {\"gridcolor\": \"white\", \"linecolor\": \"white\", \"ticks\": \"\"}}, \"title\": {\"x\": 0.05}, \"xaxis\": {\"automargin\": true, \"gridcolor\": \"white\", \"linecolor\": \"white\", \"ticks\": \"\", \"title\": {\"standoff\": 15}, \"zerolinecolor\": \"white\", \"zerolinewidth\": 2}, \"yaxis\": {\"automargin\": true, \"gridcolor\": \"white\", \"linecolor\": \"white\", \"ticks\": \"\", \"title\": {\"standoff\": 15}, \"zerolinecolor\": \"white\", \"zerolinewidth\": 2}}}, \"title\": {\"font\": {\"color\": \"#4D5663\"}}, \"xaxis\": {\"gridcolor\": \"#E1E5ED\", \"showgrid\": true, \"tickfont\": {\"color\": \"#4D5663\"}, \"title\": {\"font\": {\"color\": \"#4D5663\"}, \"text\": \"\"}, \"zerolinecolor\": \"#E1E5ED\"}, \"yaxis\": {\"gridcolor\": \"#E1E5ED\", \"showgrid\": true, \"tickfont\": {\"color\": \"#4D5663\"}, \"title\": {\"font\": {\"color\": \"#4D5663\"}, \"text\": \"\"}, \"zerolinecolor\": \"#E1E5ED\"}},\n",
       "                        {\"showLink\": true, \"linkText\": \"Export to plot.ly\", \"plotlyServerURL\": \"https://plot.ly\", \"responsive\": true}\n",
       "                    ).then(function(){\n",
       "                            \n",
       "var gd = document.getElementById('81917b38-125e-4c6c-a189-daaf33b2d8c9');\n",
       "var x = new MutationObserver(function (mutations, observer) {{\n",
       "        var display = window.getComputedStyle(gd).display;\n",
       "        if (!display || display === 'none') {{\n",
       "            console.log([gd, 'removed!']);\n",
       "            Plotly.purge(gd);\n",
       "            observer.disconnect();\n",
       "        }}\n",
       "}});\n",
       "\n",
       "// Listen for the removal of the full notebook cells\n",
       "var notebookContainer = gd.closest('#notebook-container');\n",
       "if (notebookContainer) {{\n",
       "    x.observe(notebookContainer, {childList: true});\n",
       "}}\n",
       "\n",
       "// Listen for the clearing of the current output cell\n",
       "var outputEl = gd.closest('.output');\n",
       "if (outputEl) {{\n",
       "    x.observe(outputEl, {childList: true});\n",
       "}}\n",
       "\n",
       "                        })\n",
       "                };\n",
       "                });\n",
       "            </script>\n",
       "        </div>"
      ]
     },
     "metadata": {},
     "output_type": "display_data"
    }
   ],
   "source": [
    "df2.iplot(kind='bar',x='Category',y='Values')"
   ]
  },
  {
   "cell_type": "code",
   "execution_count": 14,
   "metadata": {},
   "outputs": [
    {
     "data": {
      "application/vnd.plotly.v1+json": {
       "config": {
        "linkText": "Export to plot.ly",
        "plotlyServerURL": "https://plot.ly",
        "showLink": true
       },
       "data": [
        {
         "marker": {
          "color": "rgba(255, 153, 51, 0.6)",
          "line": {
           "color": "rgba(255, 153, 51, 1.0)",
           "width": 1
          }
         },
         "name": "None",
         "orientation": "v",
         "text": "",
         "type": "bar",
         "x": [
          "A",
          "B",
          "C",
          "D"
         ],
         "y": [
          100,
          100,
          100,
          100
         ]
        }
       ],
       "layout": {
        "legend": {
         "bgcolor": "#F5F6F9",
         "font": {
          "color": "#4D5663"
         }
        },
        "paper_bgcolor": "#F5F6F9",
        "plot_bgcolor": "#F5F6F9",
        "template": {
         "data": {
          "bar": [
           {
            "error_x": {
             "color": "#2a3f5f"
            },
            "error_y": {
             "color": "#2a3f5f"
            },
            "marker": {
             "line": {
              "color": "#E5ECF6",
              "width": 0.5
             }
            },
            "type": "bar"
           }
          ],
          "barpolar": [
           {
            "marker": {
             "line": {
              "color": "#E5ECF6",
              "width": 0.5
             }
            },
            "type": "barpolar"
           }
          ],
          "carpet": [
           {
            "aaxis": {
             "endlinecolor": "#2a3f5f",
             "gridcolor": "white",
             "linecolor": "white",
             "minorgridcolor": "white",
             "startlinecolor": "#2a3f5f"
            },
            "baxis": {
             "endlinecolor": "#2a3f5f",
             "gridcolor": "white",
             "linecolor": "white",
             "minorgridcolor": "white",
             "startlinecolor": "#2a3f5f"
            },
            "type": "carpet"
           }
          ],
          "choropleth": [
           {
            "colorbar": {
             "outlinewidth": 0,
             "ticks": ""
            },
            "type": "choropleth"
           }
          ],
          "contour": [
           {
            "colorbar": {
             "outlinewidth": 0,
             "ticks": ""
            },
            "colorscale": [
             [
              0,
              "#0d0887"
             ],
             [
              0.1111111111111111,
              "#46039f"
             ],
             [
              0.2222222222222222,
              "#7201a8"
             ],
             [
              0.3333333333333333,
              "#9c179e"
             ],
             [
              0.4444444444444444,
              "#bd3786"
             ],
             [
              0.5555555555555556,
              "#d8576b"
             ],
             [
              0.6666666666666666,
              "#ed7953"
             ],
             [
              0.7777777777777778,
              "#fb9f3a"
             ],
             [
              0.8888888888888888,
              "#fdca26"
             ],
             [
              1,
              "#f0f921"
             ]
            ],
            "type": "contour"
           }
          ],
          "contourcarpet": [
           {
            "colorbar": {
             "outlinewidth": 0,
             "ticks": ""
            },
            "type": "contourcarpet"
           }
          ],
          "heatmap": [
           {
            "colorbar": {
             "outlinewidth": 0,
             "ticks": ""
            },
            "colorscale": [
             [
              0,
              "#0d0887"
             ],
             [
              0.1111111111111111,
              "#46039f"
             ],
             [
              0.2222222222222222,
              "#7201a8"
             ],
             [
              0.3333333333333333,
              "#9c179e"
             ],
             [
              0.4444444444444444,
              "#bd3786"
             ],
             [
              0.5555555555555556,
              "#d8576b"
             ],
             [
              0.6666666666666666,
              "#ed7953"
             ],
             [
              0.7777777777777778,
              "#fb9f3a"
             ],
             [
              0.8888888888888888,
              "#fdca26"
             ],
             [
              1,
              "#f0f921"
             ]
            ],
            "type": "heatmap"
           }
          ],
          "heatmapgl": [
           {
            "colorbar": {
             "outlinewidth": 0,
             "ticks": ""
            },
            "colorscale": [
             [
              0,
              "#0d0887"
             ],
             [
              0.1111111111111111,
              "#46039f"
             ],
             [
              0.2222222222222222,
              "#7201a8"
             ],
             [
              0.3333333333333333,
              "#9c179e"
             ],
             [
              0.4444444444444444,
              "#bd3786"
             ],
             [
              0.5555555555555556,
              "#d8576b"
             ],
             [
              0.6666666666666666,
              "#ed7953"
             ],
             [
              0.7777777777777778,
              "#fb9f3a"
             ],
             [
              0.8888888888888888,
              "#fdca26"
             ],
             [
              1,
              "#f0f921"
             ]
            ],
            "type": "heatmapgl"
           }
          ],
          "histogram": [
           {
            "marker": {
             "colorbar": {
              "outlinewidth": 0,
              "ticks": ""
             }
            },
            "type": "histogram"
           }
          ],
          "histogram2d": [
           {
            "colorbar": {
             "outlinewidth": 0,
             "ticks": ""
            },
            "colorscale": [
             [
              0,
              "#0d0887"
             ],
             [
              0.1111111111111111,
              "#46039f"
             ],
             [
              0.2222222222222222,
              "#7201a8"
             ],
             [
              0.3333333333333333,
              "#9c179e"
             ],
             [
              0.4444444444444444,
              "#bd3786"
             ],
             [
              0.5555555555555556,
              "#d8576b"
             ],
             [
              0.6666666666666666,
              "#ed7953"
             ],
             [
              0.7777777777777778,
              "#fb9f3a"
             ],
             [
              0.8888888888888888,
              "#fdca26"
             ],
             [
              1,
              "#f0f921"
             ]
            ],
            "type": "histogram2d"
           }
          ],
          "histogram2dcontour": [
           {
            "colorbar": {
             "outlinewidth": 0,
             "ticks": ""
            },
            "colorscale": [
             [
              0,
              "#0d0887"
             ],
             [
              0.1111111111111111,
              "#46039f"
             ],
             [
              0.2222222222222222,
              "#7201a8"
             ],
             [
              0.3333333333333333,
              "#9c179e"
             ],
             [
              0.4444444444444444,
              "#bd3786"
             ],
             [
              0.5555555555555556,
              "#d8576b"
             ],
             [
              0.6666666666666666,
              "#ed7953"
             ],
             [
              0.7777777777777778,
              "#fb9f3a"
             ],
             [
              0.8888888888888888,
              "#fdca26"
             ],
             [
              1,
              "#f0f921"
             ]
            ],
            "type": "histogram2dcontour"
           }
          ],
          "mesh3d": [
           {
            "colorbar": {
             "outlinewidth": 0,
             "ticks": ""
            },
            "type": "mesh3d"
           }
          ],
          "parcoords": [
           {
            "line": {
             "colorbar": {
              "outlinewidth": 0,
              "ticks": ""
             }
            },
            "type": "parcoords"
           }
          ],
          "pie": [
           {
            "automargin": true,
            "type": "pie"
           }
          ],
          "scatter": [
           {
            "marker": {
             "colorbar": {
              "outlinewidth": 0,
              "ticks": ""
             }
            },
            "type": "scatter"
           }
          ],
          "scatter3d": [
           {
            "line": {
             "colorbar": {
              "outlinewidth": 0,
              "ticks": ""
             }
            },
            "marker": {
             "colorbar": {
              "outlinewidth": 0,
              "ticks": ""
             }
            },
            "type": "scatter3d"
           }
          ],
          "scattercarpet": [
           {
            "marker": {
             "colorbar": {
              "outlinewidth": 0,
              "ticks": ""
             }
            },
            "type": "scattercarpet"
           }
          ],
          "scattergeo": [
           {
            "marker": {
             "colorbar": {
              "outlinewidth": 0,
              "ticks": ""
             }
            },
            "type": "scattergeo"
           }
          ],
          "scattergl": [
           {
            "marker": {
             "colorbar": {
              "outlinewidth": 0,
              "ticks": ""
             }
            },
            "type": "scattergl"
           }
          ],
          "scattermapbox": [
           {
            "marker": {
             "colorbar": {
              "outlinewidth": 0,
              "ticks": ""
             }
            },
            "type": "scattermapbox"
           }
          ],
          "scatterpolar": [
           {
            "marker": {
             "colorbar": {
              "outlinewidth": 0,
              "ticks": ""
             }
            },
            "type": "scatterpolar"
           }
          ],
          "scatterpolargl": [
           {
            "marker": {
             "colorbar": {
              "outlinewidth": 0,
              "ticks": ""
             }
            },
            "type": "scatterpolargl"
           }
          ],
          "scatterternary": [
           {
            "marker": {
             "colorbar": {
              "outlinewidth": 0,
              "ticks": ""
             }
            },
            "type": "scatterternary"
           }
          ],
          "surface": [
           {
            "colorbar": {
             "outlinewidth": 0,
             "ticks": ""
            },
            "colorscale": [
             [
              0,
              "#0d0887"
             ],
             [
              0.1111111111111111,
              "#46039f"
             ],
             [
              0.2222222222222222,
              "#7201a8"
             ],
             [
              0.3333333333333333,
              "#9c179e"
             ],
             [
              0.4444444444444444,
              "#bd3786"
             ],
             [
              0.5555555555555556,
              "#d8576b"
             ],
             [
              0.6666666666666666,
              "#ed7953"
             ],
             [
              0.7777777777777778,
              "#fb9f3a"
             ],
             [
              0.8888888888888888,
              "#fdca26"
             ],
             [
              1,
              "#f0f921"
             ]
            ],
            "type": "surface"
           }
          ],
          "table": [
           {
            "cells": {
             "fill": {
              "color": "#EBF0F8"
             },
             "line": {
              "color": "white"
             }
            },
            "header": {
             "fill": {
              "color": "#C8D4E3"
             },
             "line": {
              "color": "white"
             }
            },
            "type": "table"
           }
          ]
         },
         "layout": {
          "annotationdefaults": {
           "arrowcolor": "#2a3f5f",
           "arrowhead": 0,
           "arrowwidth": 1
          },
          "coloraxis": {
           "colorbar": {
            "outlinewidth": 0,
            "ticks": ""
           }
          },
          "colorscale": {
           "diverging": [
            [
             0,
             "#8e0152"
            ],
            [
             0.1,
             "#c51b7d"
            ],
            [
             0.2,
             "#de77ae"
            ],
            [
             0.3,
             "#f1b6da"
            ],
            [
             0.4,
             "#fde0ef"
            ],
            [
             0.5,
             "#f7f7f7"
            ],
            [
             0.6,
             "#e6f5d0"
            ],
            [
             0.7,
             "#b8e186"
            ],
            [
             0.8,
             "#7fbc41"
            ],
            [
             0.9,
             "#4d9221"
            ],
            [
             1,
             "#276419"
            ]
           ],
           "sequential": [
            [
             0,
             "#0d0887"
            ],
            [
             0.1111111111111111,
             "#46039f"
            ],
            [
             0.2222222222222222,
             "#7201a8"
            ],
            [
             0.3333333333333333,
             "#9c179e"
            ],
            [
             0.4444444444444444,
             "#bd3786"
            ],
            [
             0.5555555555555556,
             "#d8576b"
            ],
            [
             0.6666666666666666,
             "#ed7953"
            ],
            [
             0.7777777777777778,
             "#fb9f3a"
            ],
            [
             0.8888888888888888,
             "#fdca26"
            ],
            [
             1,
             "#f0f921"
            ]
           ],
           "sequentialminus": [
            [
             0,
             "#0d0887"
            ],
            [
             0.1111111111111111,
             "#46039f"
            ],
            [
             0.2222222222222222,
             "#7201a8"
            ],
            [
             0.3333333333333333,
             "#9c179e"
            ],
            [
             0.4444444444444444,
             "#bd3786"
            ],
            [
             0.5555555555555556,
             "#d8576b"
            ],
            [
             0.6666666666666666,
             "#ed7953"
            ],
            [
             0.7777777777777778,
             "#fb9f3a"
            ],
            [
             0.8888888888888888,
             "#fdca26"
            ],
            [
             1,
             "#f0f921"
            ]
           ]
          },
          "colorway": [
           "#636efa",
           "#EF553B",
           "#00cc96",
           "#ab63fa",
           "#FFA15A",
           "#19d3f3",
           "#FF6692",
           "#B6E880",
           "#FF97FF",
           "#FECB52"
          ],
          "font": {
           "color": "#2a3f5f"
          },
          "geo": {
           "bgcolor": "white",
           "lakecolor": "white",
           "landcolor": "#E5ECF6",
           "showlakes": true,
           "showland": true,
           "subunitcolor": "white"
          },
          "hoverlabel": {
           "align": "left"
          },
          "hovermode": "closest",
          "mapbox": {
           "style": "light"
          },
          "paper_bgcolor": "white",
          "plot_bgcolor": "#E5ECF6",
          "polar": {
           "angularaxis": {
            "gridcolor": "white",
            "linecolor": "white",
            "ticks": ""
           },
           "bgcolor": "#E5ECF6",
           "radialaxis": {
            "gridcolor": "white",
            "linecolor": "white",
            "ticks": ""
           }
          },
          "scene": {
           "xaxis": {
            "backgroundcolor": "#E5ECF6",
            "gridcolor": "white",
            "gridwidth": 2,
            "linecolor": "white",
            "showbackground": true,
            "ticks": "",
            "zerolinecolor": "white"
           },
           "yaxis": {
            "backgroundcolor": "#E5ECF6",
            "gridcolor": "white",
            "gridwidth": 2,
            "linecolor": "white",
            "showbackground": true,
            "ticks": "",
            "zerolinecolor": "white"
           },
           "zaxis": {
            "backgroundcolor": "#E5ECF6",
            "gridcolor": "white",
            "gridwidth": 2,
            "linecolor": "white",
            "showbackground": true,
            "ticks": "",
            "zerolinecolor": "white"
           }
          },
          "shapedefaults": {
           "line": {
            "color": "#2a3f5f"
           }
          },
          "ternary": {
           "aaxis": {
            "gridcolor": "white",
            "linecolor": "white",
            "ticks": ""
           },
           "baxis": {
            "gridcolor": "white",
            "linecolor": "white",
            "ticks": ""
           },
           "bgcolor": "#E5ECF6",
           "caxis": {
            "gridcolor": "white",
            "linecolor": "white",
            "ticks": ""
           }
          },
          "title": {
           "x": 0.05
          },
          "xaxis": {
           "automargin": true,
           "gridcolor": "white",
           "linecolor": "white",
           "ticks": "",
           "title": {
            "standoff": 15
           },
           "zerolinecolor": "white",
           "zerolinewidth": 2
          },
          "yaxis": {
           "automargin": true,
           "gridcolor": "white",
           "linecolor": "white",
           "ticks": "",
           "title": {
            "standoff": 15
           },
           "zerolinecolor": "white",
           "zerolinewidth": 2
          }
         }
        },
        "title": {
         "font": {
          "color": "#4D5663"
         }
        },
        "xaxis": {
         "gridcolor": "#E1E5ED",
         "showgrid": true,
         "tickfont": {
          "color": "#4D5663"
         },
         "title": {
          "font": {
           "color": "#4D5663"
          },
          "text": ""
         },
         "zerolinecolor": "#E1E5ED"
        },
        "yaxis": {
         "gridcolor": "#E1E5ED",
         "showgrid": true,
         "tickfont": {
          "color": "#4D5663"
         },
         "title": {
          "font": {
           "color": "#4D5663"
          },
          "text": ""
         },
         "zerolinecolor": "#E1E5ED"
        }
       }
      },
      "text/html": [
       "<div>\n",
       "        \n",
       "        \n",
       "            <div id=\"2c6a6d52-8ffe-491c-8a95-9abd80b2c86d\" class=\"plotly-graph-div\" style=\"height:525px; width:100%;\"></div>\n",
       "            <script type=\"text/javascript\">\n",
       "                require([\"plotly\"], function(Plotly) {\n",
       "                    window.PLOTLYENV=window.PLOTLYENV || {};\n",
       "                    window.PLOTLYENV.BASE_URL='https://plot.ly';\n",
       "                    \n",
       "                if (document.getElementById(\"2c6a6d52-8ffe-491c-8a95-9abd80b2c86d\")) {\n",
       "                    Plotly.newPlot(\n",
       "                        '2c6a6d52-8ffe-491c-8a95-9abd80b2c86d',\n",
       "                        [{\"marker\": {\"color\": \"rgba(255, 153, 51, 0.6)\", \"line\": {\"color\": \"rgba(255, 153, 51, 1.0)\", \"width\": 1}}, \"name\": \"None\", \"orientation\": \"v\", \"text\": \"\", \"type\": \"bar\", \"x\": [\"A\", \"B\", \"C\", \"D\"], \"y\": [100, 100, 100, 100]}],\n",
       "                        {\"legend\": {\"bgcolor\": \"#F5F6F9\", \"font\": {\"color\": \"#4D5663\"}}, \"paper_bgcolor\": \"#F5F6F9\", \"plot_bgcolor\": \"#F5F6F9\", \"template\": {\"data\": {\"bar\": [{\"error_x\": {\"color\": \"#2a3f5f\"}, \"error_y\": {\"color\": \"#2a3f5f\"}, \"marker\": {\"line\": {\"color\": \"#E5ECF6\", \"width\": 0.5}}, \"type\": \"bar\"}], \"barpolar\": [{\"marker\": {\"line\": {\"color\": \"#E5ECF6\", \"width\": 0.5}}, \"type\": \"barpolar\"}], \"carpet\": [{\"aaxis\": {\"endlinecolor\": \"#2a3f5f\", \"gridcolor\": \"white\", \"linecolor\": \"white\", \"minorgridcolor\": \"white\", \"startlinecolor\": \"#2a3f5f\"}, \"baxis\": {\"endlinecolor\": \"#2a3f5f\", \"gridcolor\": \"white\", \"linecolor\": \"white\", \"minorgridcolor\": \"white\", \"startlinecolor\": \"#2a3f5f\"}, \"type\": \"carpet\"}], \"choropleth\": [{\"colorbar\": {\"outlinewidth\": 0, \"ticks\": \"\"}, \"type\": \"choropleth\"}], \"contour\": [{\"colorbar\": {\"outlinewidth\": 0, \"ticks\": \"\"}, \"colorscale\": [[0.0, \"#0d0887\"], [0.1111111111111111, \"#46039f\"], [0.2222222222222222, \"#7201a8\"], [0.3333333333333333, \"#9c179e\"], [0.4444444444444444, \"#bd3786\"], [0.5555555555555556, \"#d8576b\"], [0.6666666666666666, \"#ed7953\"], [0.7777777777777778, \"#fb9f3a\"], [0.8888888888888888, \"#fdca26\"], [1.0, \"#f0f921\"]], \"type\": \"contour\"}], \"contourcarpet\": [{\"colorbar\": {\"outlinewidth\": 0, \"ticks\": \"\"}, \"type\": \"contourcarpet\"}], \"heatmap\": [{\"colorbar\": {\"outlinewidth\": 0, \"ticks\": \"\"}, \"colorscale\": [[0.0, \"#0d0887\"], [0.1111111111111111, \"#46039f\"], [0.2222222222222222, \"#7201a8\"], [0.3333333333333333, \"#9c179e\"], [0.4444444444444444, \"#bd3786\"], [0.5555555555555556, \"#d8576b\"], [0.6666666666666666, \"#ed7953\"], [0.7777777777777778, \"#fb9f3a\"], [0.8888888888888888, \"#fdca26\"], [1.0, \"#f0f921\"]], \"type\": \"heatmap\"}], \"heatmapgl\": [{\"colorbar\": {\"outlinewidth\": 0, \"ticks\": \"\"}, \"colorscale\": [[0.0, \"#0d0887\"], [0.1111111111111111, \"#46039f\"], [0.2222222222222222, \"#7201a8\"], [0.3333333333333333, \"#9c179e\"], [0.4444444444444444, \"#bd3786\"], [0.5555555555555556, \"#d8576b\"], [0.6666666666666666, \"#ed7953\"], [0.7777777777777778, \"#fb9f3a\"], [0.8888888888888888, \"#fdca26\"], [1.0, \"#f0f921\"]], \"type\": \"heatmapgl\"}], \"histogram\": [{\"marker\": {\"colorbar\": {\"outlinewidth\": 0, \"ticks\": \"\"}}, \"type\": \"histogram\"}], \"histogram2d\": [{\"colorbar\": {\"outlinewidth\": 0, \"ticks\": \"\"}, \"colorscale\": [[0.0, \"#0d0887\"], [0.1111111111111111, \"#46039f\"], [0.2222222222222222, \"#7201a8\"], [0.3333333333333333, \"#9c179e\"], [0.4444444444444444, \"#bd3786\"], [0.5555555555555556, \"#d8576b\"], [0.6666666666666666, \"#ed7953\"], [0.7777777777777778, \"#fb9f3a\"], [0.8888888888888888, \"#fdca26\"], [1.0, \"#f0f921\"]], \"type\": \"histogram2d\"}], \"histogram2dcontour\": [{\"colorbar\": {\"outlinewidth\": 0, \"ticks\": \"\"}, \"colorscale\": [[0.0, \"#0d0887\"], [0.1111111111111111, \"#46039f\"], [0.2222222222222222, \"#7201a8\"], [0.3333333333333333, \"#9c179e\"], [0.4444444444444444, \"#bd3786\"], [0.5555555555555556, \"#d8576b\"], [0.6666666666666666, \"#ed7953\"], [0.7777777777777778, \"#fb9f3a\"], [0.8888888888888888, \"#fdca26\"], [1.0, \"#f0f921\"]], \"type\": \"histogram2dcontour\"}], \"mesh3d\": [{\"colorbar\": {\"outlinewidth\": 0, \"ticks\": \"\"}, \"type\": \"mesh3d\"}], \"parcoords\": [{\"line\": {\"colorbar\": {\"outlinewidth\": 0, \"ticks\": \"\"}}, \"type\": \"parcoords\"}], \"pie\": [{\"automargin\": true, \"type\": \"pie\"}], \"scatter\": [{\"marker\": {\"colorbar\": {\"outlinewidth\": 0, \"ticks\": \"\"}}, \"type\": \"scatter\"}], \"scatter3d\": [{\"line\": {\"colorbar\": {\"outlinewidth\": 0, \"ticks\": \"\"}}, \"marker\": {\"colorbar\": {\"outlinewidth\": 0, \"ticks\": \"\"}}, \"type\": \"scatter3d\"}], \"scattercarpet\": [{\"marker\": {\"colorbar\": {\"outlinewidth\": 0, \"ticks\": \"\"}}, \"type\": \"scattercarpet\"}], \"scattergeo\": [{\"marker\": {\"colorbar\": {\"outlinewidth\": 0, \"ticks\": \"\"}}, \"type\": \"scattergeo\"}], \"scattergl\": [{\"marker\": {\"colorbar\": {\"outlinewidth\": 0, \"ticks\": \"\"}}, \"type\": \"scattergl\"}], \"scattermapbox\": [{\"marker\": {\"colorbar\": {\"outlinewidth\": 0, \"ticks\": \"\"}}, \"type\": \"scattermapbox\"}], \"scatterpolar\": [{\"marker\": {\"colorbar\": {\"outlinewidth\": 0, \"ticks\": \"\"}}, \"type\": \"scatterpolar\"}], \"scatterpolargl\": [{\"marker\": {\"colorbar\": {\"outlinewidth\": 0, \"ticks\": \"\"}}, \"type\": \"scatterpolargl\"}], \"scatterternary\": [{\"marker\": {\"colorbar\": {\"outlinewidth\": 0, \"ticks\": \"\"}}, \"type\": \"scatterternary\"}], \"surface\": [{\"colorbar\": {\"outlinewidth\": 0, \"ticks\": \"\"}, \"colorscale\": [[0.0, \"#0d0887\"], [0.1111111111111111, \"#46039f\"], [0.2222222222222222, \"#7201a8\"], [0.3333333333333333, \"#9c179e\"], [0.4444444444444444, \"#bd3786\"], [0.5555555555555556, \"#d8576b\"], [0.6666666666666666, \"#ed7953\"], [0.7777777777777778, \"#fb9f3a\"], [0.8888888888888888, \"#fdca26\"], [1.0, \"#f0f921\"]], \"type\": \"surface\"}], \"table\": [{\"cells\": {\"fill\": {\"color\": \"#EBF0F8\"}, \"line\": {\"color\": \"white\"}}, \"header\": {\"fill\": {\"color\": \"#C8D4E3\"}, \"line\": {\"color\": \"white\"}}, \"type\": \"table\"}]}, \"layout\": {\"annotationdefaults\": {\"arrowcolor\": \"#2a3f5f\", \"arrowhead\": 0, \"arrowwidth\": 1}, \"coloraxis\": {\"colorbar\": {\"outlinewidth\": 0, \"ticks\": \"\"}}, \"colorscale\": {\"diverging\": [[0, \"#8e0152\"], [0.1, \"#c51b7d\"], [0.2, \"#de77ae\"], [0.3, \"#f1b6da\"], [0.4, \"#fde0ef\"], [0.5, \"#f7f7f7\"], [0.6, \"#e6f5d0\"], [0.7, \"#b8e186\"], [0.8, \"#7fbc41\"], [0.9, \"#4d9221\"], [1, \"#276419\"]], \"sequential\": [[0.0, \"#0d0887\"], [0.1111111111111111, \"#46039f\"], [0.2222222222222222, \"#7201a8\"], [0.3333333333333333, \"#9c179e\"], [0.4444444444444444, \"#bd3786\"], [0.5555555555555556, \"#d8576b\"], [0.6666666666666666, \"#ed7953\"], [0.7777777777777778, \"#fb9f3a\"], [0.8888888888888888, \"#fdca26\"], [1.0, \"#f0f921\"]], \"sequentialminus\": [[0.0, \"#0d0887\"], [0.1111111111111111, \"#46039f\"], [0.2222222222222222, \"#7201a8\"], [0.3333333333333333, \"#9c179e\"], [0.4444444444444444, \"#bd3786\"], [0.5555555555555556, \"#d8576b\"], [0.6666666666666666, \"#ed7953\"], [0.7777777777777778, \"#fb9f3a\"], [0.8888888888888888, \"#fdca26\"], [1.0, \"#f0f921\"]]}, \"colorway\": [\"#636efa\", \"#EF553B\", \"#00cc96\", \"#ab63fa\", \"#FFA15A\", \"#19d3f3\", \"#FF6692\", \"#B6E880\", \"#FF97FF\", \"#FECB52\"], \"font\": {\"color\": \"#2a3f5f\"}, \"geo\": {\"bgcolor\": \"white\", \"lakecolor\": \"white\", \"landcolor\": \"#E5ECF6\", \"showlakes\": true, \"showland\": true, \"subunitcolor\": \"white\"}, \"hoverlabel\": {\"align\": \"left\"}, \"hovermode\": \"closest\", \"mapbox\": {\"style\": \"light\"}, \"paper_bgcolor\": \"white\", \"plot_bgcolor\": \"#E5ECF6\", \"polar\": {\"angularaxis\": {\"gridcolor\": \"white\", \"linecolor\": \"white\", \"ticks\": \"\"}, \"bgcolor\": \"#E5ECF6\", \"radialaxis\": {\"gridcolor\": \"white\", \"linecolor\": \"white\", \"ticks\": \"\"}}, \"scene\": {\"xaxis\": {\"backgroundcolor\": \"#E5ECF6\", \"gridcolor\": \"white\", \"gridwidth\": 2, \"linecolor\": \"white\", \"showbackground\": true, \"ticks\": \"\", \"zerolinecolor\": \"white\"}, \"yaxis\": {\"backgroundcolor\": \"#E5ECF6\", \"gridcolor\": \"white\", \"gridwidth\": 2, \"linecolor\": \"white\", \"showbackground\": true, \"ticks\": \"\", \"zerolinecolor\": \"white\"}, \"zaxis\": {\"backgroundcolor\": \"#E5ECF6\", \"gridcolor\": \"white\", \"gridwidth\": 2, \"linecolor\": \"white\", \"showbackground\": true, \"ticks\": \"\", \"zerolinecolor\": \"white\"}}, \"shapedefaults\": {\"line\": {\"color\": \"#2a3f5f\"}}, \"ternary\": {\"aaxis\": {\"gridcolor\": \"white\", \"linecolor\": \"white\", \"ticks\": \"\"}, \"baxis\": {\"gridcolor\": \"white\", \"linecolor\": \"white\", \"ticks\": \"\"}, \"bgcolor\": \"#E5ECF6\", \"caxis\": {\"gridcolor\": \"white\", \"linecolor\": \"white\", \"ticks\": \"\"}}, \"title\": {\"x\": 0.05}, \"xaxis\": {\"automargin\": true, \"gridcolor\": \"white\", \"linecolor\": \"white\", \"ticks\": \"\", \"title\": {\"standoff\": 15}, \"zerolinecolor\": \"white\", \"zerolinewidth\": 2}, \"yaxis\": {\"automargin\": true, \"gridcolor\": \"white\", \"linecolor\": \"white\", \"ticks\": \"\", \"title\": {\"standoff\": 15}, \"zerolinecolor\": \"white\", \"zerolinewidth\": 2}}}, \"title\": {\"font\": {\"color\": \"#4D5663\"}}, \"xaxis\": {\"gridcolor\": \"#E1E5ED\", \"showgrid\": true, \"tickfont\": {\"color\": \"#4D5663\"}, \"title\": {\"font\": {\"color\": \"#4D5663\"}, \"text\": \"\"}, \"zerolinecolor\": \"#E1E5ED\"}, \"yaxis\": {\"gridcolor\": \"#E1E5ED\", \"showgrid\": true, \"tickfont\": {\"color\": \"#4D5663\"}, \"title\": {\"font\": {\"color\": \"#4D5663\"}, \"text\": \"\"}, \"zerolinecolor\": \"#E1E5ED\"}},\n",
       "                        {\"showLink\": true, \"linkText\": \"Export to plot.ly\", \"plotlyServerURL\": \"https://plot.ly\", \"responsive\": true}\n",
       "                    ).then(function(){\n",
       "                            \n",
       "var gd = document.getElementById('2c6a6d52-8ffe-491c-8a95-9abd80b2c86d');\n",
       "var x = new MutationObserver(function (mutations, observer) {{\n",
       "        var display = window.getComputedStyle(gd).display;\n",
       "        if (!display || display === 'none') {{\n",
       "            console.log([gd, 'removed!']);\n",
       "            Plotly.purge(gd);\n",
       "            observer.disconnect();\n",
       "        }}\n",
       "}});\n",
       "\n",
       "// Listen for the removal of the full notebook cells\n",
       "var notebookContainer = gd.closest('#notebook-container');\n",
       "if (notebookContainer) {{\n",
       "    x.observe(notebookContainer, {childList: true});\n",
       "}}\n",
       "\n",
       "// Listen for the clearing of the current output cell\n",
       "var outputEl = gd.closest('.output');\n",
       "if (outputEl) {{\n",
       "    x.observe(outputEl, {childList: true});\n",
       "}}\n",
       "\n",
       "                        })\n",
       "                };\n",
       "                });\n",
       "            </script>\n",
       "        </div>"
      ]
     },
     "metadata": {},
     "output_type": "display_data"
    }
   ],
   "source": [
    "df.count().iplot(kind='bar')"
   ]
  },
  {
   "cell_type": "markdown",
   "metadata": {},
   "source": [
    "## Boxplots"
   ]
  },
  {
   "cell_type": "code",
   "execution_count": 15,
   "metadata": {},
   "outputs": [
    {
     "data": {
      "application/vnd.plotly.v1+json": {
       "config": {
        "linkText": "Export to plot.ly",
        "plotlyServerURL": "https://plot.ly",
        "showLink": true
       },
       "data": [
        {
         "boxpoints": false,
         "line": {
          "width": 1.3
         },
         "marker": {
          "color": "rgba(255, 153, 51, 1.0)"
         },
         "name": "A",
         "orientation": "v",
         "type": "box",
         "y": [
          0.32205259576789935,
          -1.2705842440830204,
          0.10782211694491088,
          -1.2646863492002582,
          -0.623016293453436,
          0.4370049139590851,
          -1.8552254970766764,
          -1.073096970098413,
          1.3267635793739714,
          0.24419011655680606,
          1.0557345774677764,
          1.7122399294231183,
          -0.2677909309326994,
          -0.28051016349477526,
          1.4218608035818048,
          -1.0755029134841767,
          -0.9863577816639659,
          1.1115777342445334,
          -0.6008887227314611,
          -0.22539529068580208,
          -1.9716753893735646,
          -0.2365223696654613,
          0.03208548148818823,
          1.8767437352407905,
          0.11545545793837805,
          0.4970025785014497,
          1.3483980343794544,
          -0.010039690351554604,
          -0.2862034883600797,
          0.7806427708890616,
          1.2081127390165514,
          2.218774713469848,
          0.32195990417680637,
          -0.789709658198847,
          -0.9214869451393399,
          0.6711847095892842,
          -2.0114126158674566,
          -0.5309530198516696,
          -0.5878185997505112,
          -1.2238813239452369,
          -0.6931838125152013,
          -0.18979028816183985,
          0.1999551589396969,
          -0.8954707479977178,
          0.008236776144134046,
          -0.7787953946941676,
          -1.2036680132508266,
          -1.0847531776936057,
          0.005830557401403538,
          0.1728310981019457,
          0.4449020848059417,
          -1.2639359430032238,
          -0.43542486573921074,
          0.9384190809815643,
          0.4417474515879442,
          0.9940869401415626,
          -0.24283687971943876,
          1.1349532128915576,
          -1.4141984420513154,
          -0.1588896627196114,
          1.4481799160580093,
          2.1823007739131963,
          2.2440304393283648,
          -0.5847717373041349,
          0.8639441573674254,
          1.5196751985682482,
          0.3827391753660122,
          0.8684445003403783,
          -1.2023800499448436,
          0.8930942078797675,
          0.9233087070208601,
          0.6698237160538058,
          0.02239191937027293,
          0.7820499553794281,
          -0.3248424573510298,
          -1.8242941941509472,
          -0.09514443783697729,
          1.2553052652092374,
          0.5534742778189647,
          -0.12727753897390603,
          -0.7962665535640177,
          1.2211010568044924,
          1.5560296838025678,
          -0.40481828496818456,
          0.5218851881531966,
          -1.5271712764268646,
          -2.776318086494025,
          0.999386989977953,
          -0.19556324612903161,
          1.6357935804232269,
          -0.8896042579824299,
          0.8581748464534634,
          0.8086306539297275,
          0.506194813669362,
          0.7183057346101549,
          -0.11471459993668659,
          -1.0265711561628377,
          -0.5019344243022291,
          1.6007548010842878,
          -0.40354560457594973
         ]
        },
        {
         "boxpoints": false,
         "line": {
          "width": 1.3
         },
         "marker": {
          "color": "rgba(55, 128, 191, 1.0)"
         },
         "name": "B",
         "orientation": "v",
         "type": "box",
         "y": [
          0.10125898893055496,
          0.8301536855043266,
          -0.7327192245673191,
          -1.0387054262404438,
          -0.13081600367508936,
          0.38664976245140625,
          -1.0533449001438244,
          -0.20007675282923942,
          -0.6185234313147078,
          0.36942411017863375,
          -0.22375568353621758,
          0.2526470287312885,
          0.2267419219131918,
          0.2639775339786776,
          -1.132739394771502,
          -1.1482843495848114,
          -1.4128591948532767,
          -0.18778958090483552,
          0.7948906960485981,
          -0.7892335813067191,
          -0.8706073761676926,
          0.6770291787073698,
          2.0113237483420052,
          0.19388328189767956,
          -0.5002549827427382,
          -2.2199606530825187,
          0.4830527044613887,
          1.2011801375298716,
          -0.19774173866295486,
          -0.752708338255664,
          1.893701881344233,
          -1.5854693729649616,
          -1.1333779065857008,
          0.9496792076892996,
          -1.238894773355343,
          0.651939653630145,
          1.0901486579747812,
          -1.3242262316027364,
          0.2513360270523506,
          1.369678078932397,
          -1.5950170347251074,
          -0.3679375422795287,
          -1.7962568652676187,
          -0.5115298758591496,
          2.188733910681354,
          -1.1476516620997423,
          -0.8208471477547784,
          -1.416695201802754,
          2.11342701518249,
          0.08432602513735225,
          0.6781991471269608,
          0.07373698726313345,
          0.5710623935970508,
          -0.787688749375717,
          -0.41027858341862145,
          -0.34821811877131464,
          -1.5818949290626747,
          -1.1349294502844594,
          0.45585273942482807,
          1.3046051862052737,
          -0.4827487411487068,
          0.79507633799293,
          -0.5013579293617653,
          0.46322340516495625,
          -0.8457049730894419,
          1.648185620735109,
          0.19598567561280725,
          1.3150203116581147,
          1.237625968070254,
          0.08356414724553121,
          0.641786345422482,
          -0.6518313171806182,
          1.3354442167862435,
          -1.2043145454829405,
          0.4813823869913045,
          -1.5428335401166102,
          1.3821152573725537,
          -2.3212785452028672,
          0.8545589572697296,
          -0.772336453451533,
          -0.49736734351279943,
          0.14901385623969263,
          1.0662016178255687,
          -0.1434437840124678,
          -0.9085296086179435,
          1.0244448729388482,
          -1.4468528787919994,
          -0.3118340488124157,
          1.5188676784825625,
          0.15424572817777435,
          1.0003879295162246,
          1.3008090429174297,
          0.994546553788734,
          -1.2890830028500138,
          -0.40471979448408874,
          -0.03237658061551539,
          -1.3186709594255155,
          0.5681307989920067,
          -1.3027720666231417,
          -0.06021515309892382
         ]
        },
        {
         "boxpoints": false,
         "line": {
          "width": 1.3
         },
         "marker": {
          "color": "rgba(50, 171, 96, 1.0)"
         },
         "name": "C",
         "orientation": "v",
         "type": "box",
         "y": [
          1.9826782448481126,
          0.6600818749606454,
          -0.7854055017464745,
          -0.08872724199795148,
          -0.35279246861192526,
          0.6215279100419142,
          1.3736653722791574,
          -0.40792202522567933,
          0.8231698806251506,
          -1.553246690046408,
          0.22088143377335312,
          0.7774135595494679,
          -1.55053551221391,
          0.47592405088312434,
          1.0456508979979475,
          1.6668814387215036,
          -1.2006029762839654,
          0.5540732169210111,
          -0.3600213472190218,
          -3.170840601377859,
          -1.3271158572237098,
          -1.431561979386749,
          -0.13516694094318898,
          -0.41498156271042985,
          1.6075355347570155,
          0.23399065003498834,
          -0.19871215454320826,
          -0.7156949056824685,
          0.7040251458117656,
          0.12530893350336372,
          0.9148446107573772,
          -0.2578236533801504,
          -0.3506773793959923,
          -0.7991682589467581,
          0.5030303007338238,
          -1.0401276595171582,
          -0.4843027052254437,
          1.156546262137966,
          -0.30354580575355183,
          -0.10262540221690042,
          -1.4690705913420872,
          0.2784873551884508,
          0.9729973131378534,
          -0.7330067945563101,
          -0.7598605119691917,
          -1.2334213008030683,
          1.4962063070001845,
          1.2082717927798778,
          0.17010013579236172,
          -0.8863735645195022,
          0.7336502426571072,
          -1.9058614634267008,
          0.09789511266801598,
          0.13701814888768582,
          -0.9093317683087555,
          0.20466334264895744,
          -0.24188099303995766,
          0.9057330507174537,
          1.2761328555412583,
          1.7386742830337232,
          -0.202590221334881,
          -2.1029695709863367,
          0.14641879077536032,
          -1.6502858545801662,
          -0.9632721401819229,
          -0.5443663262373347,
          0.7373563980583779,
          -0.038878138917357315,
          1.1088815058094743,
          -1.0177086542559917,
          1.3392819492959913,
          0.8480710290197091,
          2.2118292809272386,
          -0.37324543937960414,
          0.23620321220896628,
          -0.6585985169454098,
          -0.37874543492459517,
          -1.1648530944745845,
          0.08038751477186008,
          0.042824923658853105,
          0.8875162333678649,
          -0.32968485330616065,
          -0.5822543338995056,
          -2.274098767235217,
          0.3992943572566447,
          -0.5029467403671517,
          1.1534579129616145,
          -0.0009568329346719737,
          0.16232992598021312,
          1.1100477325545908,
          -0.05287725555315468,
          0.2716913123767963,
          -0.2700301455458189,
          -1.367522650374015,
          -1.8518071989339262,
          0.3058211114172289,
          1.5109929744272923,
          1.2506236130378505,
          -0.651662497941342,
          0.9873831121193896
         ]
        },
        {
         "boxpoints": false,
         "line": {
          "width": 1.3
         },
         "marker": {
          "color": "rgba(128, 0, 128, 1.0)"
         },
         "name": "D",
         "orientation": "v",
         "type": "box",
         "y": [
          -0.9976983614351799,
          0.3482996174135738,
          0.5198729665770465,
          0.5961438411103572,
          -1.4455527654806652,
          -1.0439622504316568,
          -1.5061213313520547,
          -1.0832843449586425,
          -0.18330746470354786,
          -0.33573070365163415,
          -0.5524866987495552,
          0.48073881269727553,
          1.1714422206161683,
          2.4540043264885685,
          -1.0976434528759873,
          -0.0023124590897065,
          -0.05449348402022067,
          -0.8978018878319018,
          -0.10017269377275725,
          -0.652706473663357,
          0.6109271612495114,
          0.48669798595464,
          0.6821945418916386,
          1.363330444126585,
          -0.6309199044214974,
          0.5086943952845181,
          -0.5382771808153662,
          0.8364048543061532,
          -0.3750492219137734,
          -1.5622240907714506,
          0.8987183942935888,
          2.1446151990780864,
          -1.8706141653186803,
          0.3275876731514227,
          -0.6284816522555828,
          -0.6018605977870878,
          -0.3979495077307453,
          0.5606589040364272,
          0.11033256027691177,
          0.5214386168521874,
          1.5772815555419955,
          -0.9372458389931095,
          0.1731793470299087,
          0.2029761918958493,
          0.18242312016866313,
          0.4120567789077027,
          -0.32578608408009213,
          0.6890541866411583,
          0.8678327893559957,
          -0.33345182733732326,
          0.26690015294188374,
          -0.15113810493423677,
          0.16772173385135722,
          -1.49857338871038,
          -1.637674180671225,
          0.364355161926861,
          -0.889465826373414,
          -0.7478949314357145,
          1.5934730485312447,
          -0.22134157166250307,
          0.7923846183372784,
          0.3384719492622945,
          -0.045885261648630826,
          0.4405627829609798,
          1.0318548143612905,
          -1.385691540964935,
          -0.6826394395564014,
          -0.8052830818459382,
          0.6112279635616631,
          -0.43670449840982883,
          0.6346057391180093,
          0.25779002362252346,
          1.0182869198734814,
          -0.6809800645412656,
          0.36470782397371787,
          0.26794657305049113,
          -0.04242307532924371,
          -1.0156797741997807,
          -0.18951065153563823,
          0.7986965181101916,
          0.060549974776385324,
          0.3984054368083864,
          0.7774464251421512,
          0.7506239053217926,
          1.022601973677445,
          0.4927545810098558,
          -0.834021709032103,
          0.4935369060086965,
          0.37343704574554426,
          0.47114004839347245,
          -0.8701938686920545,
          -0.3708994306880713,
          -0.5769821101739236,
          0.6879933234032504,
          -0.891162953646132,
          -1.7261205934346362,
          -0.449625936317721,
          0.6303983269141106,
          1.1499202452107566,
          -1.0812453948426501
         ]
        }
       ],
       "layout": {
        "legend": {
         "bgcolor": "#F5F6F9",
         "font": {
          "color": "#4D5663"
         }
        },
        "paper_bgcolor": "#F5F6F9",
        "plot_bgcolor": "#F5F6F9",
        "template": {
         "data": {
          "bar": [
           {
            "error_x": {
             "color": "#2a3f5f"
            },
            "error_y": {
             "color": "#2a3f5f"
            },
            "marker": {
             "line": {
              "color": "#E5ECF6",
              "width": 0.5
             }
            },
            "type": "bar"
           }
          ],
          "barpolar": [
           {
            "marker": {
             "line": {
              "color": "#E5ECF6",
              "width": 0.5
             }
            },
            "type": "barpolar"
           }
          ],
          "carpet": [
           {
            "aaxis": {
             "endlinecolor": "#2a3f5f",
             "gridcolor": "white",
             "linecolor": "white",
             "minorgridcolor": "white",
             "startlinecolor": "#2a3f5f"
            },
            "baxis": {
             "endlinecolor": "#2a3f5f",
             "gridcolor": "white",
             "linecolor": "white",
             "minorgridcolor": "white",
             "startlinecolor": "#2a3f5f"
            },
            "type": "carpet"
           }
          ],
          "choropleth": [
           {
            "colorbar": {
             "outlinewidth": 0,
             "ticks": ""
            },
            "type": "choropleth"
           }
          ],
          "contour": [
           {
            "colorbar": {
             "outlinewidth": 0,
             "ticks": ""
            },
            "colorscale": [
             [
              0,
              "#0d0887"
             ],
             [
              0.1111111111111111,
              "#46039f"
             ],
             [
              0.2222222222222222,
              "#7201a8"
             ],
             [
              0.3333333333333333,
              "#9c179e"
             ],
             [
              0.4444444444444444,
              "#bd3786"
             ],
             [
              0.5555555555555556,
              "#d8576b"
             ],
             [
              0.6666666666666666,
              "#ed7953"
             ],
             [
              0.7777777777777778,
              "#fb9f3a"
             ],
             [
              0.8888888888888888,
              "#fdca26"
             ],
             [
              1,
              "#f0f921"
             ]
            ],
            "type": "contour"
           }
          ],
          "contourcarpet": [
           {
            "colorbar": {
             "outlinewidth": 0,
             "ticks": ""
            },
            "type": "contourcarpet"
           }
          ],
          "heatmap": [
           {
            "colorbar": {
             "outlinewidth": 0,
             "ticks": ""
            },
            "colorscale": [
             [
              0,
              "#0d0887"
             ],
             [
              0.1111111111111111,
              "#46039f"
             ],
             [
              0.2222222222222222,
              "#7201a8"
             ],
             [
              0.3333333333333333,
              "#9c179e"
             ],
             [
              0.4444444444444444,
              "#bd3786"
             ],
             [
              0.5555555555555556,
              "#d8576b"
             ],
             [
              0.6666666666666666,
              "#ed7953"
             ],
             [
              0.7777777777777778,
              "#fb9f3a"
             ],
             [
              0.8888888888888888,
              "#fdca26"
             ],
             [
              1,
              "#f0f921"
             ]
            ],
            "type": "heatmap"
           }
          ],
          "heatmapgl": [
           {
            "colorbar": {
             "outlinewidth": 0,
             "ticks": ""
            },
            "colorscale": [
             [
              0,
              "#0d0887"
             ],
             [
              0.1111111111111111,
              "#46039f"
             ],
             [
              0.2222222222222222,
              "#7201a8"
             ],
             [
              0.3333333333333333,
              "#9c179e"
             ],
             [
              0.4444444444444444,
              "#bd3786"
             ],
             [
              0.5555555555555556,
              "#d8576b"
             ],
             [
              0.6666666666666666,
              "#ed7953"
             ],
             [
              0.7777777777777778,
              "#fb9f3a"
             ],
             [
              0.8888888888888888,
              "#fdca26"
             ],
             [
              1,
              "#f0f921"
             ]
            ],
            "type": "heatmapgl"
           }
          ],
          "histogram": [
           {
            "marker": {
             "colorbar": {
              "outlinewidth": 0,
              "ticks": ""
             }
            },
            "type": "histogram"
           }
          ],
          "histogram2d": [
           {
            "colorbar": {
             "outlinewidth": 0,
             "ticks": ""
            },
            "colorscale": [
             [
              0,
              "#0d0887"
             ],
             [
              0.1111111111111111,
              "#46039f"
             ],
             [
              0.2222222222222222,
              "#7201a8"
             ],
             [
              0.3333333333333333,
              "#9c179e"
             ],
             [
              0.4444444444444444,
              "#bd3786"
             ],
             [
              0.5555555555555556,
              "#d8576b"
             ],
             [
              0.6666666666666666,
              "#ed7953"
             ],
             [
              0.7777777777777778,
              "#fb9f3a"
             ],
             [
              0.8888888888888888,
              "#fdca26"
             ],
             [
              1,
              "#f0f921"
             ]
            ],
            "type": "histogram2d"
           }
          ],
          "histogram2dcontour": [
           {
            "colorbar": {
             "outlinewidth": 0,
             "ticks": ""
            },
            "colorscale": [
             [
              0,
              "#0d0887"
             ],
             [
              0.1111111111111111,
              "#46039f"
             ],
             [
              0.2222222222222222,
              "#7201a8"
             ],
             [
              0.3333333333333333,
              "#9c179e"
             ],
             [
              0.4444444444444444,
              "#bd3786"
             ],
             [
              0.5555555555555556,
              "#d8576b"
             ],
             [
              0.6666666666666666,
              "#ed7953"
             ],
             [
              0.7777777777777778,
              "#fb9f3a"
             ],
             [
              0.8888888888888888,
              "#fdca26"
             ],
             [
              1,
              "#f0f921"
             ]
            ],
            "type": "histogram2dcontour"
           }
          ],
          "mesh3d": [
           {
            "colorbar": {
             "outlinewidth": 0,
             "ticks": ""
            },
            "type": "mesh3d"
           }
          ],
          "parcoords": [
           {
            "line": {
             "colorbar": {
              "outlinewidth": 0,
              "ticks": ""
             }
            },
            "type": "parcoords"
           }
          ],
          "pie": [
           {
            "automargin": true,
            "type": "pie"
           }
          ],
          "scatter": [
           {
            "marker": {
             "colorbar": {
              "outlinewidth": 0,
              "ticks": ""
             }
            },
            "type": "scatter"
           }
          ],
          "scatter3d": [
           {
            "line": {
             "colorbar": {
              "outlinewidth": 0,
              "ticks": ""
             }
            },
            "marker": {
             "colorbar": {
              "outlinewidth": 0,
              "ticks": ""
             }
            },
            "type": "scatter3d"
           }
          ],
          "scattercarpet": [
           {
            "marker": {
             "colorbar": {
              "outlinewidth": 0,
              "ticks": ""
             }
            },
            "type": "scattercarpet"
           }
          ],
          "scattergeo": [
           {
            "marker": {
             "colorbar": {
              "outlinewidth": 0,
              "ticks": ""
             }
            },
            "type": "scattergeo"
           }
          ],
          "scattergl": [
           {
            "marker": {
             "colorbar": {
              "outlinewidth": 0,
              "ticks": ""
             }
            },
            "type": "scattergl"
           }
          ],
          "scattermapbox": [
           {
            "marker": {
             "colorbar": {
              "outlinewidth": 0,
              "ticks": ""
             }
            },
            "type": "scattermapbox"
           }
          ],
          "scatterpolar": [
           {
            "marker": {
             "colorbar": {
              "outlinewidth": 0,
              "ticks": ""
             }
            },
            "type": "scatterpolar"
           }
          ],
          "scatterpolargl": [
           {
            "marker": {
             "colorbar": {
              "outlinewidth": 0,
              "ticks": ""
             }
            },
            "type": "scatterpolargl"
           }
          ],
          "scatterternary": [
           {
            "marker": {
             "colorbar": {
              "outlinewidth": 0,
              "ticks": ""
             }
            },
            "type": "scatterternary"
           }
          ],
          "surface": [
           {
            "colorbar": {
             "outlinewidth": 0,
             "ticks": ""
            },
            "colorscale": [
             [
              0,
              "#0d0887"
             ],
             [
              0.1111111111111111,
              "#46039f"
             ],
             [
              0.2222222222222222,
              "#7201a8"
             ],
             [
              0.3333333333333333,
              "#9c179e"
             ],
             [
              0.4444444444444444,
              "#bd3786"
             ],
             [
              0.5555555555555556,
              "#d8576b"
             ],
             [
              0.6666666666666666,
              "#ed7953"
             ],
             [
              0.7777777777777778,
              "#fb9f3a"
             ],
             [
              0.8888888888888888,
              "#fdca26"
             ],
             [
              1,
              "#f0f921"
             ]
            ],
            "type": "surface"
           }
          ],
          "table": [
           {
            "cells": {
             "fill": {
              "color": "#EBF0F8"
             },
             "line": {
              "color": "white"
             }
            },
            "header": {
             "fill": {
              "color": "#C8D4E3"
             },
             "line": {
              "color": "white"
             }
            },
            "type": "table"
           }
          ]
         },
         "layout": {
          "annotationdefaults": {
           "arrowcolor": "#2a3f5f",
           "arrowhead": 0,
           "arrowwidth": 1
          },
          "coloraxis": {
           "colorbar": {
            "outlinewidth": 0,
            "ticks": ""
           }
          },
          "colorscale": {
           "diverging": [
            [
             0,
             "#8e0152"
            ],
            [
             0.1,
             "#c51b7d"
            ],
            [
             0.2,
             "#de77ae"
            ],
            [
             0.3,
             "#f1b6da"
            ],
            [
             0.4,
             "#fde0ef"
            ],
            [
             0.5,
             "#f7f7f7"
            ],
            [
             0.6,
             "#e6f5d0"
            ],
            [
             0.7,
             "#b8e186"
            ],
            [
             0.8,
             "#7fbc41"
            ],
            [
             0.9,
             "#4d9221"
            ],
            [
             1,
             "#276419"
            ]
           ],
           "sequential": [
            [
             0,
             "#0d0887"
            ],
            [
             0.1111111111111111,
             "#46039f"
            ],
            [
             0.2222222222222222,
             "#7201a8"
            ],
            [
             0.3333333333333333,
             "#9c179e"
            ],
            [
             0.4444444444444444,
             "#bd3786"
            ],
            [
             0.5555555555555556,
             "#d8576b"
            ],
            [
             0.6666666666666666,
             "#ed7953"
            ],
            [
             0.7777777777777778,
             "#fb9f3a"
            ],
            [
             0.8888888888888888,
             "#fdca26"
            ],
            [
             1,
             "#f0f921"
            ]
           ],
           "sequentialminus": [
            [
             0,
             "#0d0887"
            ],
            [
             0.1111111111111111,
             "#46039f"
            ],
            [
             0.2222222222222222,
             "#7201a8"
            ],
            [
             0.3333333333333333,
             "#9c179e"
            ],
            [
             0.4444444444444444,
             "#bd3786"
            ],
            [
             0.5555555555555556,
             "#d8576b"
            ],
            [
             0.6666666666666666,
             "#ed7953"
            ],
            [
             0.7777777777777778,
             "#fb9f3a"
            ],
            [
             0.8888888888888888,
             "#fdca26"
            ],
            [
             1,
             "#f0f921"
            ]
           ]
          },
          "colorway": [
           "#636efa",
           "#EF553B",
           "#00cc96",
           "#ab63fa",
           "#FFA15A",
           "#19d3f3",
           "#FF6692",
           "#B6E880",
           "#FF97FF",
           "#FECB52"
          ],
          "font": {
           "color": "#2a3f5f"
          },
          "geo": {
           "bgcolor": "white",
           "lakecolor": "white",
           "landcolor": "#E5ECF6",
           "showlakes": true,
           "showland": true,
           "subunitcolor": "white"
          },
          "hoverlabel": {
           "align": "left"
          },
          "hovermode": "closest",
          "mapbox": {
           "style": "light"
          },
          "paper_bgcolor": "white",
          "plot_bgcolor": "#E5ECF6",
          "polar": {
           "angularaxis": {
            "gridcolor": "white",
            "linecolor": "white",
            "ticks": ""
           },
           "bgcolor": "#E5ECF6",
           "radialaxis": {
            "gridcolor": "white",
            "linecolor": "white",
            "ticks": ""
           }
          },
          "scene": {
           "xaxis": {
            "backgroundcolor": "#E5ECF6",
            "gridcolor": "white",
            "gridwidth": 2,
            "linecolor": "white",
            "showbackground": true,
            "ticks": "",
            "zerolinecolor": "white"
           },
           "yaxis": {
            "backgroundcolor": "#E5ECF6",
            "gridcolor": "white",
            "gridwidth": 2,
            "linecolor": "white",
            "showbackground": true,
            "ticks": "",
            "zerolinecolor": "white"
           },
           "zaxis": {
            "backgroundcolor": "#E5ECF6",
            "gridcolor": "white",
            "gridwidth": 2,
            "linecolor": "white",
            "showbackground": true,
            "ticks": "",
            "zerolinecolor": "white"
           }
          },
          "shapedefaults": {
           "line": {
            "color": "#2a3f5f"
           }
          },
          "ternary": {
           "aaxis": {
            "gridcolor": "white",
            "linecolor": "white",
            "ticks": ""
           },
           "baxis": {
            "gridcolor": "white",
            "linecolor": "white",
            "ticks": ""
           },
           "bgcolor": "#E5ECF6",
           "caxis": {
            "gridcolor": "white",
            "linecolor": "white",
            "ticks": ""
           }
          },
          "title": {
           "x": 0.05
          },
          "xaxis": {
           "automargin": true,
           "gridcolor": "white",
           "linecolor": "white",
           "ticks": "",
           "title": {
            "standoff": 15
           },
           "zerolinecolor": "white",
           "zerolinewidth": 2
          },
          "yaxis": {
           "automargin": true,
           "gridcolor": "white",
           "linecolor": "white",
           "ticks": "",
           "title": {
            "standoff": 15
           },
           "zerolinecolor": "white",
           "zerolinewidth": 2
          }
         }
        },
        "title": {
         "font": {
          "color": "#4D5663"
         }
        },
        "xaxis": {
         "gridcolor": "#E1E5ED",
         "showgrid": true,
         "tickfont": {
          "color": "#4D5663"
         },
         "title": {
          "font": {
           "color": "#4D5663"
          },
          "text": ""
         },
         "zerolinecolor": "#E1E5ED"
        },
        "yaxis": {
         "gridcolor": "#E1E5ED",
         "showgrid": true,
         "tickfont": {
          "color": "#4D5663"
         },
         "title": {
          "font": {
           "color": "#4D5663"
          },
          "text": ""
         },
         "zerolinecolor": "#E1E5ED"
        }
       }
      },
      "text/html": [
       "<div>\n",
       "        \n",
       "        \n",
       "            <div id=\"c7932f83-81e7-4c63-9616-8154968ec770\" class=\"plotly-graph-div\" style=\"height:525px; width:100%;\"></div>\n",
       "            <script type=\"text/javascript\">\n",
       "                require([\"plotly\"], function(Plotly) {\n",
       "                    window.PLOTLYENV=window.PLOTLYENV || {};\n",
       "                    window.PLOTLYENV.BASE_URL='https://plot.ly';\n",
       "                    \n",
       "                if (document.getElementById(\"c7932f83-81e7-4c63-9616-8154968ec770\")) {\n",
       "                    Plotly.newPlot(\n",
       "                        'c7932f83-81e7-4c63-9616-8154968ec770',\n",
       "                        [{\"boxpoints\": false, \"line\": {\"width\": 1.3}, \"marker\": {\"color\": \"rgba(255, 153, 51, 1.0)\"}, \"name\": \"A\", \"orientation\": \"v\", \"type\": \"box\", \"y\": [0.32205259576789935, -1.2705842440830204, 0.10782211694491088, -1.2646863492002582, -0.623016293453436, 0.4370049139590851, -1.8552254970766764, -1.073096970098413, 1.3267635793739714, 0.24419011655680606, 1.0557345774677764, 1.7122399294231183, -0.2677909309326994, -0.28051016349477526, 1.4218608035818048, -1.0755029134841767, -0.9863577816639659, 1.1115777342445334, -0.6008887227314611, -0.22539529068580208, -1.9716753893735646, -0.2365223696654613, 0.03208548148818823, 1.8767437352407905, 0.11545545793837805, 0.4970025785014497, 1.3483980343794544, -0.010039690351554604, -0.2862034883600797, 0.7806427708890616, 1.2081127390165514, 2.218774713469848, 0.32195990417680637, -0.789709658198847, -0.9214869451393399, 0.6711847095892842, -2.0114126158674566, -0.5309530198516696, -0.5878185997505112, -1.2238813239452369, -0.6931838125152013, -0.18979028816183985, 0.1999551589396969, -0.8954707479977178, 0.008236776144134046, -0.7787953946941676, -1.2036680132508266, -1.0847531776936057, 0.005830557401403538, 0.1728310981019457, 0.4449020848059417, -1.2639359430032238, -0.43542486573921074, 0.9384190809815643, 0.4417474515879442, 0.9940869401415626, -0.24283687971943876, 1.1349532128915576, -1.4141984420513154, -0.1588896627196114, 1.4481799160580093, 2.1823007739131963, 2.2440304393283648, -0.5847717373041349, 0.8639441573674254, 1.5196751985682482, 0.3827391753660122, 0.8684445003403783, -1.2023800499448436, 0.8930942078797675, 0.9233087070208601, 0.6698237160538058, 0.02239191937027293, 0.7820499553794281, -0.3248424573510298, -1.8242941941509472, -0.09514443783697729, 1.2553052652092374, 0.5534742778189647, -0.12727753897390603, -0.7962665535640177, 1.2211010568044924, 1.5560296838025678, -0.40481828496818456, 0.5218851881531966, -1.5271712764268646, -2.776318086494025, 0.999386989977953, -0.19556324612903161, 1.6357935804232269, -0.8896042579824299, 0.8581748464534634, 0.8086306539297275, 0.506194813669362, 0.7183057346101549, -0.11471459993668659, -1.0265711561628377, -0.5019344243022291, 1.6007548010842878, -0.40354560457594973]}, {\"boxpoints\": false, \"line\": {\"width\": 1.3}, \"marker\": {\"color\": \"rgba(55, 128, 191, 1.0)\"}, \"name\": \"B\", \"orientation\": \"v\", \"type\": \"box\", \"y\": [0.10125898893055496, 0.8301536855043266, -0.7327192245673191, -1.0387054262404438, -0.13081600367508936, 0.38664976245140625, -1.0533449001438244, -0.20007675282923942, -0.6185234313147078, 0.36942411017863375, -0.22375568353621758, 0.2526470287312885, 0.2267419219131918, 0.2639775339786776, -1.132739394771502, -1.1482843495848114, -1.4128591948532767, -0.18778958090483552, 0.7948906960485981, -0.7892335813067191, -0.8706073761676926, 0.6770291787073698, 2.0113237483420052, 0.19388328189767956, -0.5002549827427382, -2.2199606530825187, 0.4830527044613887, 1.2011801375298716, -0.19774173866295486, -0.752708338255664, 1.893701881344233, -1.5854693729649616, -1.1333779065857008, 0.9496792076892996, -1.238894773355343, 0.651939653630145, 1.0901486579747812, -1.3242262316027364, 0.2513360270523506, 1.369678078932397, -1.5950170347251074, -0.3679375422795287, -1.7962568652676187, -0.5115298758591496, 2.188733910681354, -1.1476516620997423, -0.8208471477547784, -1.416695201802754, 2.11342701518249, 0.08432602513735225, 0.6781991471269608, 0.07373698726313345, 0.5710623935970508, -0.787688749375717, -0.41027858341862145, -0.34821811877131464, -1.5818949290626747, -1.1349294502844594, 0.45585273942482807, 1.3046051862052737, -0.4827487411487068, 0.79507633799293, -0.5013579293617653, 0.46322340516495625, -0.8457049730894419, 1.648185620735109, 0.19598567561280725, 1.3150203116581147, 1.237625968070254, 0.08356414724553121, 0.641786345422482, -0.6518313171806182, 1.3354442167862435, -1.2043145454829405, 0.4813823869913045, -1.5428335401166102, 1.3821152573725537, -2.3212785452028672, 0.8545589572697296, -0.772336453451533, -0.49736734351279943, 0.14901385623969263, 1.0662016178255687, -0.1434437840124678, -0.9085296086179435, 1.0244448729388482, -1.4468528787919994, -0.3118340488124157, 1.5188676784825625, 0.15424572817777435, 1.0003879295162246, 1.3008090429174297, 0.994546553788734, -1.2890830028500138, -0.40471979448408874, -0.03237658061551539, -1.3186709594255155, 0.5681307989920067, -1.3027720666231417, -0.06021515309892382]}, {\"boxpoints\": false, \"line\": {\"width\": 1.3}, \"marker\": {\"color\": \"rgba(50, 171, 96, 1.0)\"}, \"name\": \"C\", \"orientation\": \"v\", \"type\": \"box\", \"y\": [1.9826782448481126, 0.6600818749606454, -0.7854055017464745, -0.08872724199795148, -0.35279246861192526, 0.6215279100419142, 1.3736653722791574, -0.40792202522567933, 0.8231698806251506, -1.553246690046408, 0.22088143377335312, 0.7774135595494679, -1.55053551221391, 0.47592405088312434, 1.0456508979979475, 1.6668814387215036, -1.2006029762839654, 0.5540732169210111, -0.3600213472190218, -3.170840601377859, -1.3271158572237098, -1.431561979386749, -0.13516694094318898, -0.41498156271042985, 1.6075355347570155, 0.23399065003498834, -0.19871215454320826, -0.7156949056824685, 0.7040251458117656, 0.12530893350336372, 0.9148446107573772, -0.2578236533801504, -0.3506773793959923, -0.7991682589467581, 0.5030303007338238, -1.0401276595171582, -0.4843027052254437, 1.156546262137966, -0.30354580575355183, -0.10262540221690042, -1.4690705913420872, 0.2784873551884508, 0.9729973131378534, -0.7330067945563101, -0.7598605119691917, -1.2334213008030683, 1.4962063070001845, 1.2082717927798778, 0.17010013579236172, -0.8863735645195022, 0.7336502426571072, -1.9058614634267008, 0.09789511266801598, 0.13701814888768582, -0.9093317683087555, 0.20466334264895744, -0.24188099303995766, 0.9057330507174537, 1.2761328555412583, 1.7386742830337232, -0.202590221334881, -2.1029695709863367, 0.14641879077536032, -1.6502858545801662, -0.9632721401819229, -0.5443663262373347, 0.7373563980583779, -0.038878138917357315, 1.1088815058094743, -1.0177086542559917, 1.3392819492959913, 0.8480710290197091, 2.2118292809272386, -0.37324543937960414, 0.23620321220896628, -0.6585985169454098, -0.37874543492459517, -1.1648530944745845, 0.08038751477186008, 0.042824923658853105, 0.8875162333678649, -0.32968485330616065, -0.5822543338995056, -2.274098767235217, 0.3992943572566447, -0.5029467403671517, 1.1534579129616145, -0.0009568329346719737, 0.16232992598021312, 1.1100477325545908, -0.05287725555315468, 0.2716913123767963, -0.2700301455458189, -1.367522650374015, -1.8518071989339262, 0.3058211114172289, 1.5109929744272923, 1.2506236130378505, -0.651662497941342, 0.9873831121193896]}, {\"boxpoints\": false, \"line\": {\"width\": 1.3}, \"marker\": {\"color\": \"rgba(128, 0, 128, 1.0)\"}, \"name\": \"D\", \"orientation\": \"v\", \"type\": \"box\", \"y\": [-0.9976983614351799, 0.3482996174135738, 0.5198729665770465, 0.5961438411103572, -1.4455527654806652, -1.0439622504316568, -1.5061213313520547, -1.0832843449586425, -0.18330746470354786, -0.33573070365163415, -0.5524866987495552, 0.48073881269727553, 1.1714422206161683, 2.4540043264885685, -1.0976434528759873, -0.0023124590897065, -0.05449348402022067, -0.8978018878319018, -0.10017269377275725, -0.652706473663357, 0.6109271612495114, 0.48669798595464, 0.6821945418916386, 1.363330444126585, -0.6309199044214974, 0.5086943952845181, -0.5382771808153662, 0.8364048543061532, -0.3750492219137734, -1.5622240907714506, 0.8987183942935888, 2.1446151990780864, -1.8706141653186803, 0.3275876731514227, -0.6284816522555828, -0.6018605977870878, -0.3979495077307453, 0.5606589040364272, 0.11033256027691177, 0.5214386168521874, 1.5772815555419955, -0.9372458389931095, 0.1731793470299087, 0.2029761918958493, 0.18242312016866313, 0.4120567789077027, -0.32578608408009213, 0.6890541866411583, 0.8678327893559957, -0.33345182733732326, 0.26690015294188374, -0.15113810493423677, 0.16772173385135722, -1.49857338871038, -1.637674180671225, 0.364355161926861, -0.889465826373414, -0.7478949314357145, 1.5934730485312447, -0.22134157166250307, 0.7923846183372784, 0.3384719492622945, -0.045885261648630826, 0.4405627829609798, 1.0318548143612905, -1.385691540964935, -0.6826394395564014, -0.8052830818459382, 0.6112279635616631, -0.43670449840982883, 0.6346057391180093, 0.25779002362252346, 1.0182869198734814, -0.6809800645412656, 0.36470782397371787, 0.26794657305049113, -0.04242307532924371, -1.0156797741997807, -0.18951065153563823, 0.7986965181101916, 0.060549974776385324, 0.3984054368083864, 0.7774464251421512, 0.7506239053217926, 1.022601973677445, 0.4927545810098558, -0.834021709032103, 0.4935369060086965, 0.37343704574554426, 0.47114004839347245, -0.8701938686920545, -0.3708994306880713, -0.5769821101739236, 0.6879933234032504, -0.891162953646132, -1.7261205934346362, -0.449625936317721, 0.6303983269141106, 1.1499202452107566, -1.0812453948426501]}],\n",
       "                        {\"legend\": {\"bgcolor\": \"#F5F6F9\", \"font\": {\"color\": \"#4D5663\"}}, \"paper_bgcolor\": \"#F5F6F9\", \"plot_bgcolor\": \"#F5F6F9\", \"template\": {\"data\": {\"bar\": [{\"error_x\": {\"color\": \"#2a3f5f\"}, \"error_y\": {\"color\": \"#2a3f5f\"}, \"marker\": {\"line\": {\"color\": \"#E5ECF6\", \"width\": 0.5}}, \"type\": \"bar\"}], \"barpolar\": [{\"marker\": {\"line\": {\"color\": \"#E5ECF6\", \"width\": 0.5}}, \"type\": \"barpolar\"}], \"carpet\": [{\"aaxis\": {\"endlinecolor\": \"#2a3f5f\", \"gridcolor\": \"white\", \"linecolor\": \"white\", \"minorgridcolor\": \"white\", \"startlinecolor\": \"#2a3f5f\"}, \"baxis\": {\"endlinecolor\": \"#2a3f5f\", \"gridcolor\": \"white\", \"linecolor\": \"white\", \"minorgridcolor\": \"white\", \"startlinecolor\": \"#2a3f5f\"}, \"type\": \"carpet\"}], \"choropleth\": [{\"colorbar\": {\"outlinewidth\": 0, \"ticks\": \"\"}, \"type\": \"choropleth\"}], \"contour\": [{\"colorbar\": {\"outlinewidth\": 0, \"ticks\": \"\"}, \"colorscale\": [[0.0, \"#0d0887\"], [0.1111111111111111, \"#46039f\"], [0.2222222222222222, \"#7201a8\"], [0.3333333333333333, \"#9c179e\"], [0.4444444444444444, \"#bd3786\"], [0.5555555555555556, \"#d8576b\"], [0.6666666666666666, \"#ed7953\"], [0.7777777777777778, \"#fb9f3a\"], [0.8888888888888888, \"#fdca26\"], [1.0, \"#f0f921\"]], \"type\": \"contour\"}], \"contourcarpet\": [{\"colorbar\": {\"outlinewidth\": 0, \"ticks\": \"\"}, \"type\": \"contourcarpet\"}], \"heatmap\": [{\"colorbar\": {\"outlinewidth\": 0, \"ticks\": \"\"}, \"colorscale\": [[0.0, \"#0d0887\"], [0.1111111111111111, \"#46039f\"], [0.2222222222222222, \"#7201a8\"], [0.3333333333333333, \"#9c179e\"], [0.4444444444444444, \"#bd3786\"], [0.5555555555555556, \"#d8576b\"], [0.6666666666666666, \"#ed7953\"], [0.7777777777777778, \"#fb9f3a\"], [0.8888888888888888, \"#fdca26\"], [1.0, \"#f0f921\"]], \"type\": \"heatmap\"}], \"heatmapgl\": [{\"colorbar\": {\"outlinewidth\": 0, \"ticks\": \"\"}, \"colorscale\": [[0.0, \"#0d0887\"], [0.1111111111111111, \"#46039f\"], [0.2222222222222222, \"#7201a8\"], [0.3333333333333333, \"#9c179e\"], [0.4444444444444444, \"#bd3786\"], [0.5555555555555556, \"#d8576b\"], [0.6666666666666666, \"#ed7953\"], [0.7777777777777778, \"#fb9f3a\"], [0.8888888888888888, \"#fdca26\"], [1.0, \"#f0f921\"]], \"type\": \"heatmapgl\"}], \"histogram\": [{\"marker\": {\"colorbar\": {\"outlinewidth\": 0, \"ticks\": \"\"}}, \"type\": \"histogram\"}], \"histogram2d\": [{\"colorbar\": {\"outlinewidth\": 0, \"ticks\": \"\"}, \"colorscale\": [[0.0, \"#0d0887\"], [0.1111111111111111, \"#46039f\"], [0.2222222222222222, \"#7201a8\"], [0.3333333333333333, \"#9c179e\"], [0.4444444444444444, \"#bd3786\"], [0.5555555555555556, \"#d8576b\"], [0.6666666666666666, \"#ed7953\"], [0.7777777777777778, \"#fb9f3a\"], [0.8888888888888888, \"#fdca26\"], [1.0, \"#f0f921\"]], \"type\": \"histogram2d\"}], \"histogram2dcontour\": [{\"colorbar\": {\"outlinewidth\": 0, \"ticks\": \"\"}, \"colorscale\": [[0.0, \"#0d0887\"], [0.1111111111111111, \"#46039f\"], [0.2222222222222222, \"#7201a8\"], [0.3333333333333333, \"#9c179e\"], [0.4444444444444444, \"#bd3786\"], [0.5555555555555556, \"#d8576b\"], [0.6666666666666666, \"#ed7953\"], [0.7777777777777778, \"#fb9f3a\"], [0.8888888888888888, \"#fdca26\"], [1.0, \"#f0f921\"]], \"type\": \"histogram2dcontour\"}], \"mesh3d\": [{\"colorbar\": {\"outlinewidth\": 0, \"ticks\": \"\"}, \"type\": \"mesh3d\"}], \"parcoords\": [{\"line\": {\"colorbar\": {\"outlinewidth\": 0, \"ticks\": \"\"}}, \"type\": \"parcoords\"}], \"pie\": [{\"automargin\": true, \"type\": \"pie\"}], \"scatter\": [{\"marker\": {\"colorbar\": {\"outlinewidth\": 0, \"ticks\": \"\"}}, \"type\": \"scatter\"}], \"scatter3d\": [{\"line\": {\"colorbar\": {\"outlinewidth\": 0, \"ticks\": \"\"}}, \"marker\": {\"colorbar\": {\"outlinewidth\": 0, \"ticks\": \"\"}}, \"type\": \"scatter3d\"}], \"scattercarpet\": [{\"marker\": {\"colorbar\": {\"outlinewidth\": 0, \"ticks\": \"\"}}, \"type\": \"scattercarpet\"}], \"scattergeo\": [{\"marker\": {\"colorbar\": {\"outlinewidth\": 0, \"ticks\": \"\"}}, \"type\": \"scattergeo\"}], \"scattergl\": [{\"marker\": {\"colorbar\": {\"outlinewidth\": 0, \"ticks\": \"\"}}, \"type\": \"scattergl\"}], \"scattermapbox\": [{\"marker\": {\"colorbar\": {\"outlinewidth\": 0, \"ticks\": \"\"}}, \"type\": \"scattermapbox\"}], \"scatterpolar\": [{\"marker\": {\"colorbar\": {\"outlinewidth\": 0, \"ticks\": \"\"}}, \"type\": \"scatterpolar\"}], \"scatterpolargl\": [{\"marker\": {\"colorbar\": {\"outlinewidth\": 0, \"ticks\": \"\"}}, \"type\": \"scatterpolargl\"}], \"scatterternary\": [{\"marker\": {\"colorbar\": {\"outlinewidth\": 0, \"ticks\": \"\"}}, \"type\": \"scatterternary\"}], \"surface\": [{\"colorbar\": {\"outlinewidth\": 0, \"ticks\": \"\"}, \"colorscale\": [[0.0, \"#0d0887\"], [0.1111111111111111, \"#46039f\"], [0.2222222222222222, \"#7201a8\"], [0.3333333333333333, \"#9c179e\"], [0.4444444444444444, \"#bd3786\"], [0.5555555555555556, \"#d8576b\"], [0.6666666666666666, \"#ed7953\"], [0.7777777777777778, \"#fb9f3a\"], [0.8888888888888888, \"#fdca26\"], [1.0, \"#f0f921\"]], \"type\": \"surface\"}], \"table\": [{\"cells\": {\"fill\": {\"color\": \"#EBF0F8\"}, \"line\": {\"color\": \"white\"}}, \"header\": {\"fill\": {\"color\": \"#C8D4E3\"}, \"line\": {\"color\": \"white\"}}, \"type\": \"table\"}]}, \"layout\": {\"annotationdefaults\": {\"arrowcolor\": \"#2a3f5f\", \"arrowhead\": 0, \"arrowwidth\": 1}, \"coloraxis\": {\"colorbar\": {\"outlinewidth\": 0, \"ticks\": \"\"}}, \"colorscale\": {\"diverging\": [[0, \"#8e0152\"], [0.1, \"#c51b7d\"], [0.2, \"#de77ae\"], [0.3, \"#f1b6da\"], [0.4, \"#fde0ef\"], [0.5, \"#f7f7f7\"], [0.6, \"#e6f5d0\"], [0.7, \"#b8e186\"], [0.8, \"#7fbc41\"], [0.9, \"#4d9221\"], [1, \"#276419\"]], \"sequential\": [[0.0, \"#0d0887\"], [0.1111111111111111, \"#46039f\"], [0.2222222222222222, \"#7201a8\"], [0.3333333333333333, \"#9c179e\"], [0.4444444444444444, \"#bd3786\"], [0.5555555555555556, \"#d8576b\"], [0.6666666666666666, \"#ed7953\"], [0.7777777777777778, \"#fb9f3a\"], [0.8888888888888888, \"#fdca26\"], [1.0, \"#f0f921\"]], \"sequentialminus\": [[0.0, \"#0d0887\"], [0.1111111111111111, \"#46039f\"], [0.2222222222222222, \"#7201a8\"], [0.3333333333333333, \"#9c179e\"], [0.4444444444444444, \"#bd3786\"], [0.5555555555555556, \"#d8576b\"], [0.6666666666666666, \"#ed7953\"], [0.7777777777777778, \"#fb9f3a\"], [0.8888888888888888, \"#fdca26\"], [1.0, \"#f0f921\"]]}, \"colorway\": [\"#636efa\", \"#EF553B\", \"#00cc96\", \"#ab63fa\", \"#FFA15A\", \"#19d3f3\", \"#FF6692\", \"#B6E880\", \"#FF97FF\", \"#FECB52\"], \"font\": {\"color\": \"#2a3f5f\"}, \"geo\": {\"bgcolor\": \"white\", \"lakecolor\": \"white\", \"landcolor\": \"#E5ECF6\", \"showlakes\": true, \"showland\": true, \"subunitcolor\": \"white\"}, \"hoverlabel\": {\"align\": \"left\"}, \"hovermode\": \"closest\", \"mapbox\": {\"style\": \"light\"}, \"paper_bgcolor\": \"white\", \"plot_bgcolor\": \"#E5ECF6\", \"polar\": {\"angularaxis\": {\"gridcolor\": \"white\", \"linecolor\": \"white\", \"ticks\": \"\"}, \"bgcolor\": \"#E5ECF6\", \"radialaxis\": {\"gridcolor\": \"white\", \"linecolor\": \"white\", \"ticks\": \"\"}}, \"scene\": {\"xaxis\": {\"backgroundcolor\": \"#E5ECF6\", \"gridcolor\": \"white\", \"gridwidth\": 2, \"linecolor\": \"white\", \"showbackground\": true, \"ticks\": \"\", \"zerolinecolor\": \"white\"}, \"yaxis\": {\"backgroundcolor\": \"#E5ECF6\", \"gridcolor\": \"white\", \"gridwidth\": 2, \"linecolor\": \"white\", \"showbackground\": true, \"ticks\": \"\", \"zerolinecolor\": \"white\"}, \"zaxis\": {\"backgroundcolor\": \"#E5ECF6\", \"gridcolor\": \"white\", \"gridwidth\": 2, \"linecolor\": \"white\", \"showbackground\": true, \"ticks\": \"\", \"zerolinecolor\": \"white\"}}, \"shapedefaults\": {\"line\": {\"color\": \"#2a3f5f\"}}, \"ternary\": {\"aaxis\": {\"gridcolor\": \"white\", \"linecolor\": \"white\", \"ticks\": \"\"}, \"baxis\": {\"gridcolor\": \"white\", \"linecolor\": \"white\", \"ticks\": \"\"}, \"bgcolor\": \"#E5ECF6\", \"caxis\": {\"gridcolor\": \"white\", \"linecolor\": \"white\", \"ticks\": \"\"}}, \"title\": {\"x\": 0.05}, \"xaxis\": {\"automargin\": true, \"gridcolor\": \"white\", \"linecolor\": \"white\", \"ticks\": \"\", \"title\": {\"standoff\": 15}, \"zerolinecolor\": \"white\", \"zerolinewidth\": 2}, \"yaxis\": {\"automargin\": true, \"gridcolor\": \"white\", \"linecolor\": \"white\", \"ticks\": \"\", \"title\": {\"standoff\": 15}, \"zerolinecolor\": \"white\", \"zerolinewidth\": 2}}}, \"title\": {\"font\": {\"color\": \"#4D5663\"}}, \"xaxis\": {\"gridcolor\": \"#E1E5ED\", \"showgrid\": true, \"tickfont\": {\"color\": \"#4D5663\"}, \"title\": {\"font\": {\"color\": \"#4D5663\"}, \"text\": \"\"}, \"zerolinecolor\": \"#E1E5ED\"}, \"yaxis\": {\"gridcolor\": \"#E1E5ED\", \"showgrid\": true, \"tickfont\": {\"color\": \"#4D5663\"}, \"title\": {\"font\": {\"color\": \"#4D5663\"}, \"text\": \"\"}, \"zerolinecolor\": \"#E1E5ED\"}},\n",
       "                        {\"showLink\": true, \"linkText\": \"Export to plot.ly\", \"plotlyServerURL\": \"https://plot.ly\", \"responsive\": true}\n",
       "                    ).then(function(){\n",
       "                            \n",
       "var gd = document.getElementById('c7932f83-81e7-4c63-9616-8154968ec770');\n",
       "var x = new MutationObserver(function (mutations, observer) {{\n",
       "        var display = window.getComputedStyle(gd).display;\n",
       "        if (!display || display === 'none') {{\n",
       "            console.log([gd, 'removed!']);\n",
       "            Plotly.purge(gd);\n",
       "            observer.disconnect();\n",
       "        }}\n",
       "}});\n",
       "\n",
       "// Listen for the removal of the full notebook cells\n",
       "var notebookContainer = gd.closest('#notebook-container');\n",
       "if (notebookContainer) {{\n",
       "    x.observe(notebookContainer, {childList: true});\n",
       "}}\n",
       "\n",
       "// Listen for the clearing of the current output cell\n",
       "var outputEl = gd.closest('.output');\n",
       "if (outputEl) {{\n",
       "    x.observe(outputEl, {childList: true});\n",
       "}}\n",
       "\n",
       "                        })\n",
       "                };\n",
       "                });\n",
       "            </script>\n",
       "        </div>"
      ]
     },
     "metadata": {},
     "output_type": "display_data"
    }
   ],
   "source": [
    "df.iplot(kind='box')"
   ]
  },
  {
   "cell_type": "markdown",
   "metadata": {},
   "source": [
    "## 3d Surface"
   ]
  },
  {
   "cell_type": "code",
   "execution_count": 16,
   "metadata": {},
   "outputs": [
    {
     "data": {
      "application/vnd.plotly.v1+json": {
       "config": {
        "linkText": "Export to plot.ly",
        "plotlyServerURL": "https://plot.ly",
        "showLink": true
       },
       "data": [
        {
         "colorscale": [
          [
           0,
           "rgb(165,0,38)"
          ],
          [
           0.1,
           "rgb(215,48,39)"
          ],
          [
           0.2,
           "rgb(244,109,67)"
          ],
          [
           0.3,
           "rgb(253,174,97)"
          ],
          [
           0.4,
           "rgb(254,224,144)"
          ],
          [
           0.5,
           "rgb(255,255,191)"
          ],
          [
           0.6,
           "rgb(224,243,248)"
          ],
          [
           0.7,
           "rgb(171,217,233)"
          ],
          [
           0.8,
           "rgb(116,173,209)"
          ],
          [
           0.9,
           "rgb(69,117,180)"
          ],
          [
           1,
           "rgb(49,54,149)"
          ]
         ],
         "type": "surface",
         "x": [
          0,
          1,
          2,
          3,
          4
         ],
         "y": [
          "x",
          "y",
          "z"
         ],
         "z": [
          [
           1,
           2,
           3,
           4,
           5
          ],
          [
           10,
           20,
           30,
           20,
           10
          ],
          [
           5,
           4,
           3,
           2,
           1
          ]
         ]
        }
       ],
       "layout": {
        "legend": {
         "bgcolor": "#F5F6F9",
         "font": {
          "color": "#4D5663"
         }
        },
        "paper_bgcolor": "#F5F6F9",
        "plot_bgcolor": "#F5F6F9",
        "template": {
         "data": {
          "bar": [
           {
            "error_x": {
             "color": "#2a3f5f"
            },
            "error_y": {
             "color": "#2a3f5f"
            },
            "marker": {
             "line": {
              "color": "#E5ECF6",
              "width": 0.5
             }
            },
            "type": "bar"
           }
          ],
          "barpolar": [
           {
            "marker": {
             "line": {
              "color": "#E5ECF6",
              "width": 0.5
             }
            },
            "type": "barpolar"
           }
          ],
          "carpet": [
           {
            "aaxis": {
             "endlinecolor": "#2a3f5f",
             "gridcolor": "white",
             "linecolor": "white",
             "minorgridcolor": "white",
             "startlinecolor": "#2a3f5f"
            },
            "baxis": {
             "endlinecolor": "#2a3f5f",
             "gridcolor": "white",
             "linecolor": "white",
             "minorgridcolor": "white",
             "startlinecolor": "#2a3f5f"
            },
            "type": "carpet"
           }
          ],
          "choropleth": [
           {
            "colorbar": {
             "outlinewidth": 0,
             "ticks": ""
            },
            "type": "choropleth"
           }
          ],
          "contour": [
           {
            "colorbar": {
             "outlinewidth": 0,
             "ticks": ""
            },
            "colorscale": [
             [
              0,
              "#0d0887"
             ],
             [
              0.1111111111111111,
              "#46039f"
             ],
             [
              0.2222222222222222,
              "#7201a8"
             ],
             [
              0.3333333333333333,
              "#9c179e"
             ],
             [
              0.4444444444444444,
              "#bd3786"
             ],
             [
              0.5555555555555556,
              "#d8576b"
             ],
             [
              0.6666666666666666,
              "#ed7953"
             ],
             [
              0.7777777777777778,
              "#fb9f3a"
             ],
             [
              0.8888888888888888,
              "#fdca26"
             ],
             [
              1,
              "#f0f921"
             ]
            ],
            "type": "contour"
           }
          ],
          "contourcarpet": [
           {
            "colorbar": {
             "outlinewidth": 0,
             "ticks": ""
            },
            "type": "contourcarpet"
           }
          ],
          "heatmap": [
           {
            "colorbar": {
             "outlinewidth": 0,
             "ticks": ""
            },
            "colorscale": [
             [
              0,
              "#0d0887"
             ],
             [
              0.1111111111111111,
              "#46039f"
             ],
             [
              0.2222222222222222,
              "#7201a8"
             ],
             [
              0.3333333333333333,
              "#9c179e"
             ],
             [
              0.4444444444444444,
              "#bd3786"
             ],
             [
              0.5555555555555556,
              "#d8576b"
             ],
             [
              0.6666666666666666,
              "#ed7953"
             ],
             [
              0.7777777777777778,
              "#fb9f3a"
             ],
             [
              0.8888888888888888,
              "#fdca26"
             ],
             [
              1,
              "#f0f921"
             ]
            ],
            "type": "heatmap"
           }
          ],
          "heatmapgl": [
           {
            "colorbar": {
             "outlinewidth": 0,
             "ticks": ""
            },
            "colorscale": [
             [
              0,
              "#0d0887"
             ],
             [
              0.1111111111111111,
              "#46039f"
             ],
             [
              0.2222222222222222,
              "#7201a8"
             ],
             [
              0.3333333333333333,
              "#9c179e"
             ],
             [
              0.4444444444444444,
              "#bd3786"
             ],
             [
              0.5555555555555556,
              "#d8576b"
             ],
             [
              0.6666666666666666,
              "#ed7953"
             ],
             [
              0.7777777777777778,
              "#fb9f3a"
             ],
             [
              0.8888888888888888,
              "#fdca26"
             ],
             [
              1,
              "#f0f921"
             ]
            ],
            "type": "heatmapgl"
           }
          ],
          "histogram": [
           {
            "marker": {
             "colorbar": {
              "outlinewidth": 0,
              "ticks": ""
             }
            },
            "type": "histogram"
           }
          ],
          "histogram2d": [
           {
            "colorbar": {
             "outlinewidth": 0,
             "ticks": ""
            },
            "colorscale": [
             [
              0,
              "#0d0887"
             ],
             [
              0.1111111111111111,
              "#46039f"
             ],
             [
              0.2222222222222222,
              "#7201a8"
             ],
             [
              0.3333333333333333,
              "#9c179e"
             ],
             [
              0.4444444444444444,
              "#bd3786"
             ],
             [
              0.5555555555555556,
              "#d8576b"
             ],
             [
              0.6666666666666666,
              "#ed7953"
             ],
             [
              0.7777777777777778,
              "#fb9f3a"
             ],
             [
              0.8888888888888888,
              "#fdca26"
             ],
             [
              1,
              "#f0f921"
             ]
            ],
            "type": "histogram2d"
           }
          ],
          "histogram2dcontour": [
           {
            "colorbar": {
             "outlinewidth": 0,
             "ticks": ""
            },
            "colorscale": [
             [
              0,
              "#0d0887"
             ],
             [
              0.1111111111111111,
              "#46039f"
             ],
             [
              0.2222222222222222,
              "#7201a8"
             ],
             [
              0.3333333333333333,
              "#9c179e"
             ],
             [
              0.4444444444444444,
              "#bd3786"
             ],
             [
              0.5555555555555556,
              "#d8576b"
             ],
             [
              0.6666666666666666,
              "#ed7953"
             ],
             [
              0.7777777777777778,
              "#fb9f3a"
             ],
             [
              0.8888888888888888,
              "#fdca26"
             ],
             [
              1,
              "#f0f921"
             ]
            ],
            "type": "histogram2dcontour"
           }
          ],
          "mesh3d": [
           {
            "colorbar": {
             "outlinewidth": 0,
             "ticks": ""
            },
            "type": "mesh3d"
           }
          ],
          "parcoords": [
           {
            "line": {
             "colorbar": {
              "outlinewidth": 0,
              "ticks": ""
             }
            },
            "type": "parcoords"
           }
          ],
          "pie": [
           {
            "automargin": true,
            "type": "pie"
           }
          ],
          "scatter": [
           {
            "marker": {
             "colorbar": {
              "outlinewidth": 0,
              "ticks": ""
             }
            },
            "type": "scatter"
           }
          ],
          "scatter3d": [
           {
            "line": {
             "colorbar": {
              "outlinewidth": 0,
              "ticks": ""
             }
            },
            "marker": {
             "colorbar": {
              "outlinewidth": 0,
              "ticks": ""
             }
            },
            "type": "scatter3d"
           }
          ],
          "scattercarpet": [
           {
            "marker": {
             "colorbar": {
              "outlinewidth": 0,
              "ticks": ""
             }
            },
            "type": "scattercarpet"
           }
          ],
          "scattergeo": [
           {
            "marker": {
             "colorbar": {
              "outlinewidth": 0,
              "ticks": ""
             }
            },
            "type": "scattergeo"
           }
          ],
          "scattergl": [
           {
            "marker": {
             "colorbar": {
              "outlinewidth": 0,
              "ticks": ""
             }
            },
            "type": "scattergl"
           }
          ],
          "scattermapbox": [
           {
            "marker": {
             "colorbar": {
              "outlinewidth": 0,
              "ticks": ""
             }
            },
            "type": "scattermapbox"
           }
          ],
          "scatterpolar": [
           {
            "marker": {
             "colorbar": {
              "outlinewidth": 0,
              "ticks": ""
             }
            },
            "type": "scatterpolar"
           }
          ],
          "scatterpolargl": [
           {
            "marker": {
             "colorbar": {
              "outlinewidth": 0,
              "ticks": ""
             }
            },
            "type": "scatterpolargl"
           }
          ],
          "scatterternary": [
           {
            "marker": {
             "colorbar": {
              "outlinewidth": 0,
              "ticks": ""
             }
            },
            "type": "scatterternary"
           }
          ],
          "surface": [
           {
            "colorbar": {
             "outlinewidth": 0,
             "ticks": ""
            },
            "colorscale": [
             [
              0,
              "#0d0887"
             ],
             [
              0.1111111111111111,
              "#46039f"
             ],
             [
              0.2222222222222222,
              "#7201a8"
             ],
             [
              0.3333333333333333,
              "#9c179e"
             ],
             [
              0.4444444444444444,
              "#bd3786"
             ],
             [
              0.5555555555555556,
              "#d8576b"
             ],
             [
              0.6666666666666666,
              "#ed7953"
             ],
             [
              0.7777777777777778,
              "#fb9f3a"
             ],
             [
              0.8888888888888888,
              "#fdca26"
             ],
             [
              1,
              "#f0f921"
             ]
            ],
            "type": "surface"
           }
          ],
          "table": [
           {
            "cells": {
             "fill": {
              "color": "#EBF0F8"
             },
             "line": {
              "color": "white"
             }
            },
            "header": {
             "fill": {
              "color": "#C8D4E3"
             },
             "line": {
              "color": "white"
             }
            },
            "type": "table"
           }
          ]
         },
         "layout": {
          "annotationdefaults": {
           "arrowcolor": "#2a3f5f",
           "arrowhead": 0,
           "arrowwidth": 1
          },
          "coloraxis": {
           "colorbar": {
            "outlinewidth": 0,
            "ticks": ""
           }
          },
          "colorscale": {
           "diverging": [
            [
             0,
             "#8e0152"
            ],
            [
             0.1,
             "#c51b7d"
            ],
            [
             0.2,
             "#de77ae"
            ],
            [
             0.3,
             "#f1b6da"
            ],
            [
             0.4,
             "#fde0ef"
            ],
            [
             0.5,
             "#f7f7f7"
            ],
            [
             0.6,
             "#e6f5d0"
            ],
            [
             0.7,
             "#b8e186"
            ],
            [
             0.8,
             "#7fbc41"
            ],
            [
             0.9,
             "#4d9221"
            ],
            [
             1,
             "#276419"
            ]
           ],
           "sequential": [
            [
             0,
             "#0d0887"
            ],
            [
             0.1111111111111111,
             "#46039f"
            ],
            [
             0.2222222222222222,
             "#7201a8"
            ],
            [
             0.3333333333333333,
             "#9c179e"
            ],
            [
             0.4444444444444444,
             "#bd3786"
            ],
            [
             0.5555555555555556,
             "#d8576b"
            ],
            [
             0.6666666666666666,
             "#ed7953"
            ],
            [
             0.7777777777777778,
             "#fb9f3a"
            ],
            [
             0.8888888888888888,
             "#fdca26"
            ],
            [
             1,
             "#f0f921"
            ]
           ],
           "sequentialminus": [
            [
             0,
             "#0d0887"
            ],
            [
             0.1111111111111111,
             "#46039f"
            ],
            [
             0.2222222222222222,
             "#7201a8"
            ],
            [
             0.3333333333333333,
             "#9c179e"
            ],
            [
             0.4444444444444444,
             "#bd3786"
            ],
            [
             0.5555555555555556,
             "#d8576b"
            ],
            [
             0.6666666666666666,
             "#ed7953"
            ],
            [
             0.7777777777777778,
             "#fb9f3a"
            ],
            [
             0.8888888888888888,
             "#fdca26"
            ],
            [
             1,
             "#f0f921"
            ]
           ]
          },
          "colorway": [
           "#636efa",
           "#EF553B",
           "#00cc96",
           "#ab63fa",
           "#FFA15A",
           "#19d3f3",
           "#FF6692",
           "#B6E880",
           "#FF97FF",
           "#FECB52"
          ],
          "font": {
           "color": "#2a3f5f"
          },
          "geo": {
           "bgcolor": "white",
           "lakecolor": "white",
           "landcolor": "#E5ECF6",
           "showlakes": true,
           "showland": true,
           "subunitcolor": "white"
          },
          "hoverlabel": {
           "align": "left"
          },
          "hovermode": "closest",
          "mapbox": {
           "style": "light"
          },
          "paper_bgcolor": "white",
          "plot_bgcolor": "#E5ECF6",
          "polar": {
           "angularaxis": {
            "gridcolor": "white",
            "linecolor": "white",
            "ticks": ""
           },
           "bgcolor": "#E5ECF6",
           "radialaxis": {
            "gridcolor": "white",
            "linecolor": "white",
            "ticks": ""
           }
          },
          "scene": {
           "xaxis": {
            "backgroundcolor": "#E5ECF6",
            "gridcolor": "white",
            "gridwidth": 2,
            "linecolor": "white",
            "showbackground": true,
            "ticks": "",
            "zerolinecolor": "white"
           },
           "yaxis": {
            "backgroundcolor": "#E5ECF6",
            "gridcolor": "white",
            "gridwidth": 2,
            "linecolor": "white",
            "showbackground": true,
            "ticks": "",
            "zerolinecolor": "white"
           },
           "zaxis": {
            "backgroundcolor": "#E5ECF6",
            "gridcolor": "white",
            "gridwidth": 2,
            "linecolor": "white",
            "showbackground": true,
            "ticks": "",
            "zerolinecolor": "white"
           }
          },
          "shapedefaults": {
           "line": {
            "color": "#2a3f5f"
           }
          },
          "ternary": {
           "aaxis": {
            "gridcolor": "white",
            "linecolor": "white",
            "ticks": ""
           },
           "baxis": {
            "gridcolor": "white",
            "linecolor": "white",
            "ticks": ""
           },
           "bgcolor": "#E5ECF6",
           "caxis": {
            "gridcolor": "white",
            "linecolor": "white",
            "ticks": ""
           }
          },
          "title": {
           "x": 0.05
          },
          "xaxis": {
           "automargin": true,
           "gridcolor": "white",
           "linecolor": "white",
           "ticks": "",
           "title": {
            "standoff": 15
           },
           "zerolinecolor": "white",
           "zerolinewidth": 2
          },
          "yaxis": {
           "automargin": true,
           "gridcolor": "white",
           "linecolor": "white",
           "ticks": "",
           "title": {
            "standoff": 15
           },
           "zerolinecolor": "white",
           "zerolinewidth": 2
          }
         }
        },
        "title": {
         "font": {
          "color": "#4D5663"
         }
        },
        "xaxis": {
         "gridcolor": "#E1E5ED",
         "showgrid": true,
         "tickfont": {
          "color": "#4D5663"
         },
         "title": {
          "font": {
           "color": "#4D5663"
          },
          "text": ""
         },
         "zerolinecolor": "#E1E5ED"
        },
        "yaxis": {
         "gridcolor": "#E1E5ED",
         "showgrid": true,
         "tickfont": {
          "color": "#4D5663"
         },
         "title": {
          "font": {
           "color": "#4D5663"
          },
          "text": ""
         },
         "zerolinecolor": "#E1E5ED"
        }
       }
      },
      "text/html": [
       "<div>\n",
       "        \n",
       "        \n",
       "            <div id=\"251592f1-c350-4fec-aa04-147fc32b3108\" class=\"plotly-graph-div\" style=\"height:525px; width:100%;\"></div>\n",
       "            <script type=\"text/javascript\">\n",
       "                require([\"plotly\"], function(Plotly) {\n",
       "                    window.PLOTLYENV=window.PLOTLYENV || {};\n",
       "                    window.PLOTLYENV.BASE_URL='https://plot.ly';\n",
       "                    \n",
       "                if (document.getElementById(\"251592f1-c350-4fec-aa04-147fc32b3108\")) {\n",
       "                    Plotly.newPlot(\n",
       "                        '251592f1-c350-4fec-aa04-147fc32b3108',\n",
       "                        [{\"colorscale\": [[0.0, \"rgb(165,0,38)\"], [0.1, \"rgb(215,48,39)\"], [0.2, \"rgb(244,109,67)\"], [0.3, \"rgb(253,174,97)\"], [0.4, \"rgb(254,224,144)\"], [0.5, \"rgb(255,255,191)\"], [0.6, \"rgb(224,243,248)\"], [0.7, \"rgb(171,217,233)\"], [0.8, \"rgb(116,173,209)\"], [0.9, \"rgb(69,117,180)\"], [1.0, \"rgb(49,54,149)\"]], \"type\": \"surface\", \"x\": [0, 1, 2, 3, 4], \"y\": [\"x\", \"y\", \"z\"], \"z\": [[1, 2, 3, 4, 5], [10, 20, 30, 20, 10], [5, 4, 3, 2, 1]]}],\n",
       "                        {\"legend\": {\"bgcolor\": \"#F5F6F9\", \"font\": {\"color\": \"#4D5663\"}}, \"paper_bgcolor\": \"#F5F6F9\", \"plot_bgcolor\": \"#F5F6F9\", \"template\": {\"data\": {\"bar\": [{\"error_x\": {\"color\": \"#2a3f5f\"}, \"error_y\": {\"color\": \"#2a3f5f\"}, \"marker\": {\"line\": {\"color\": \"#E5ECF6\", \"width\": 0.5}}, \"type\": \"bar\"}], \"barpolar\": [{\"marker\": {\"line\": {\"color\": \"#E5ECF6\", \"width\": 0.5}}, \"type\": \"barpolar\"}], \"carpet\": [{\"aaxis\": {\"endlinecolor\": \"#2a3f5f\", \"gridcolor\": \"white\", \"linecolor\": \"white\", \"minorgridcolor\": \"white\", \"startlinecolor\": \"#2a3f5f\"}, \"baxis\": {\"endlinecolor\": \"#2a3f5f\", \"gridcolor\": \"white\", \"linecolor\": \"white\", \"minorgridcolor\": \"white\", \"startlinecolor\": \"#2a3f5f\"}, \"type\": \"carpet\"}], \"choropleth\": [{\"colorbar\": {\"outlinewidth\": 0, \"ticks\": \"\"}, \"type\": \"choropleth\"}], \"contour\": [{\"colorbar\": {\"outlinewidth\": 0, \"ticks\": \"\"}, \"colorscale\": [[0.0, \"#0d0887\"], [0.1111111111111111, \"#46039f\"], [0.2222222222222222, \"#7201a8\"], [0.3333333333333333, \"#9c179e\"], [0.4444444444444444, \"#bd3786\"], [0.5555555555555556, \"#d8576b\"], [0.6666666666666666, \"#ed7953\"], [0.7777777777777778, \"#fb9f3a\"], [0.8888888888888888, \"#fdca26\"], [1.0, \"#f0f921\"]], \"type\": \"contour\"}], \"contourcarpet\": [{\"colorbar\": {\"outlinewidth\": 0, \"ticks\": \"\"}, \"type\": \"contourcarpet\"}], \"heatmap\": [{\"colorbar\": {\"outlinewidth\": 0, \"ticks\": \"\"}, \"colorscale\": [[0.0, \"#0d0887\"], [0.1111111111111111, \"#46039f\"], [0.2222222222222222, \"#7201a8\"], [0.3333333333333333, \"#9c179e\"], [0.4444444444444444, \"#bd3786\"], [0.5555555555555556, \"#d8576b\"], [0.6666666666666666, \"#ed7953\"], [0.7777777777777778, \"#fb9f3a\"], [0.8888888888888888, \"#fdca26\"], [1.0, \"#f0f921\"]], \"type\": \"heatmap\"}], \"heatmapgl\": [{\"colorbar\": {\"outlinewidth\": 0, \"ticks\": \"\"}, \"colorscale\": [[0.0, \"#0d0887\"], [0.1111111111111111, \"#46039f\"], [0.2222222222222222, \"#7201a8\"], [0.3333333333333333, \"#9c179e\"], [0.4444444444444444, \"#bd3786\"], [0.5555555555555556, \"#d8576b\"], [0.6666666666666666, \"#ed7953\"], [0.7777777777777778, \"#fb9f3a\"], [0.8888888888888888, \"#fdca26\"], [1.0, \"#f0f921\"]], \"type\": \"heatmapgl\"}], \"histogram\": [{\"marker\": {\"colorbar\": {\"outlinewidth\": 0, \"ticks\": \"\"}}, \"type\": \"histogram\"}], \"histogram2d\": [{\"colorbar\": {\"outlinewidth\": 0, \"ticks\": \"\"}, \"colorscale\": [[0.0, \"#0d0887\"], [0.1111111111111111, \"#46039f\"], [0.2222222222222222, \"#7201a8\"], [0.3333333333333333, \"#9c179e\"], [0.4444444444444444, \"#bd3786\"], [0.5555555555555556, \"#d8576b\"], [0.6666666666666666, \"#ed7953\"], [0.7777777777777778, \"#fb9f3a\"], [0.8888888888888888, \"#fdca26\"], [1.0, \"#f0f921\"]], \"type\": \"histogram2d\"}], \"histogram2dcontour\": [{\"colorbar\": {\"outlinewidth\": 0, \"ticks\": \"\"}, \"colorscale\": [[0.0, \"#0d0887\"], [0.1111111111111111, \"#46039f\"], [0.2222222222222222, \"#7201a8\"], [0.3333333333333333, \"#9c179e\"], [0.4444444444444444, \"#bd3786\"], [0.5555555555555556, \"#d8576b\"], [0.6666666666666666, \"#ed7953\"], [0.7777777777777778, \"#fb9f3a\"], [0.8888888888888888, \"#fdca26\"], [1.0, \"#f0f921\"]], \"type\": \"histogram2dcontour\"}], \"mesh3d\": [{\"colorbar\": {\"outlinewidth\": 0, \"ticks\": \"\"}, \"type\": \"mesh3d\"}], \"parcoords\": [{\"line\": {\"colorbar\": {\"outlinewidth\": 0, \"ticks\": \"\"}}, \"type\": \"parcoords\"}], \"pie\": [{\"automargin\": true, \"type\": \"pie\"}], \"scatter\": [{\"marker\": {\"colorbar\": {\"outlinewidth\": 0, \"ticks\": \"\"}}, \"type\": \"scatter\"}], \"scatter3d\": [{\"line\": {\"colorbar\": {\"outlinewidth\": 0, \"ticks\": \"\"}}, \"marker\": {\"colorbar\": {\"outlinewidth\": 0, \"ticks\": \"\"}}, \"type\": \"scatter3d\"}], \"scattercarpet\": [{\"marker\": {\"colorbar\": {\"outlinewidth\": 0, \"ticks\": \"\"}}, \"type\": \"scattercarpet\"}], \"scattergeo\": [{\"marker\": {\"colorbar\": {\"outlinewidth\": 0, \"ticks\": \"\"}}, \"type\": \"scattergeo\"}], \"scattergl\": [{\"marker\": {\"colorbar\": {\"outlinewidth\": 0, \"ticks\": \"\"}}, \"type\": \"scattergl\"}], \"scattermapbox\": [{\"marker\": {\"colorbar\": {\"outlinewidth\": 0, \"ticks\": \"\"}}, \"type\": \"scattermapbox\"}], \"scatterpolar\": [{\"marker\": {\"colorbar\": {\"outlinewidth\": 0, \"ticks\": \"\"}}, \"type\": \"scatterpolar\"}], \"scatterpolargl\": [{\"marker\": {\"colorbar\": {\"outlinewidth\": 0, \"ticks\": \"\"}}, \"type\": \"scatterpolargl\"}], \"scatterternary\": [{\"marker\": {\"colorbar\": {\"outlinewidth\": 0, \"ticks\": \"\"}}, \"type\": \"scatterternary\"}], \"surface\": [{\"colorbar\": {\"outlinewidth\": 0, \"ticks\": \"\"}, \"colorscale\": [[0.0, \"#0d0887\"], [0.1111111111111111, \"#46039f\"], [0.2222222222222222, \"#7201a8\"], [0.3333333333333333, \"#9c179e\"], [0.4444444444444444, \"#bd3786\"], [0.5555555555555556, \"#d8576b\"], [0.6666666666666666, \"#ed7953\"], [0.7777777777777778, \"#fb9f3a\"], [0.8888888888888888, \"#fdca26\"], [1.0, \"#f0f921\"]], \"type\": \"surface\"}], \"table\": [{\"cells\": {\"fill\": {\"color\": \"#EBF0F8\"}, \"line\": {\"color\": \"white\"}}, \"header\": {\"fill\": {\"color\": \"#C8D4E3\"}, \"line\": {\"color\": \"white\"}}, \"type\": \"table\"}]}, \"layout\": {\"annotationdefaults\": {\"arrowcolor\": \"#2a3f5f\", \"arrowhead\": 0, \"arrowwidth\": 1}, \"coloraxis\": {\"colorbar\": {\"outlinewidth\": 0, \"ticks\": \"\"}}, \"colorscale\": {\"diverging\": [[0, \"#8e0152\"], [0.1, \"#c51b7d\"], [0.2, \"#de77ae\"], [0.3, \"#f1b6da\"], [0.4, \"#fde0ef\"], [0.5, \"#f7f7f7\"], [0.6, \"#e6f5d0\"], [0.7, \"#b8e186\"], [0.8, \"#7fbc41\"], [0.9, \"#4d9221\"], [1, \"#276419\"]], \"sequential\": [[0.0, \"#0d0887\"], [0.1111111111111111, \"#46039f\"], [0.2222222222222222, \"#7201a8\"], [0.3333333333333333, \"#9c179e\"], [0.4444444444444444, \"#bd3786\"], [0.5555555555555556, \"#d8576b\"], [0.6666666666666666, \"#ed7953\"], [0.7777777777777778, \"#fb9f3a\"], [0.8888888888888888, \"#fdca26\"], [1.0, \"#f0f921\"]], \"sequentialminus\": [[0.0, \"#0d0887\"], [0.1111111111111111, \"#46039f\"], [0.2222222222222222, \"#7201a8\"], [0.3333333333333333, \"#9c179e\"], [0.4444444444444444, \"#bd3786\"], [0.5555555555555556, \"#d8576b\"], [0.6666666666666666, \"#ed7953\"], [0.7777777777777778, \"#fb9f3a\"], [0.8888888888888888, \"#fdca26\"], [1.0, \"#f0f921\"]]}, \"colorway\": [\"#636efa\", \"#EF553B\", \"#00cc96\", \"#ab63fa\", \"#FFA15A\", \"#19d3f3\", \"#FF6692\", \"#B6E880\", \"#FF97FF\", \"#FECB52\"], \"font\": {\"color\": \"#2a3f5f\"}, \"geo\": {\"bgcolor\": \"white\", \"lakecolor\": \"white\", \"landcolor\": \"#E5ECF6\", \"showlakes\": true, \"showland\": true, \"subunitcolor\": \"white\"}, \"hoverlabel\": {\"align\": \"left\"}, \"hovermode\": \"closest\", \"mapbox\": {\"style\": \"light\"}, \"paper_bgcolor\": \"white\", \"plot_bgcolor\": \"#E5ECF6\", \"polar\": {\"angularaxis\": {\"gridcolor\": \"white\", \"linecolor\": \"white\", \"ticks\": \"\"}, \"bgcolor\": \"#E5ECF6\", \"radialaxis\": {\"gridcolor\": \"white\", \"linecolor\": \"white\", \"ticks\": \"\"}}, \"scene\": {\"xaxis\": {\"backgroundcolor\": \"#E5ECF6\", \"gridcolor\": \"white\", \"gridwidth\": 2, \"linecolor\": \"white\", \"showbackground\": true, \"ticks\": \"\", \"zerolinecolor\": \"white\"}, \"yaxis\": {\"backgroundcolor\": \"#E5ECF6\", \"gridcolor\": \"white\", \"gridwidth\": 2, \"linecolor\": \"white\", \"showbackground\": true, \"ticks\": \"\", \"zerolinecolor\": \"white\"}, \"zaxis\": {\"backgroundcolor\": \"#E5ECF6\", \"gridcolor\": \"white\", \"gridwidth\": 2, \"linecolor\": \"white\", \"showbackground\": true, \"ticks\": \"\", \"zerolinecolor\": \"white\"}}, \"shapedefaults\": {\"line\": {\"color\": \"#2a3f5f\"}}, \"ternary\": {\"aaxis\": {\"gridcolor\": \"white\", \"linecolor\": \"white\", \"ticks\": \"\"}, \"baxis\": {\"gridcolor\": \"white\", \"linecolor\": \"white\", \"ticks\": \"\"}, \"bgcolor\": \"#E5ECF6\", \"caxis\": {\"gridcolor\": \"white\", \"linecolor\": \"white\", \"ticks\": \"\"}}, \"title\": {\"x\": 0.05}, \"xaxis\": {\"automargin\": true, \"gridcolor\": \"white\", \"linecolor\": \"white\", \"ticks\": \"\", \"title\": {\"standoff\": 15}, \"zerolinecolor\": \"white\", \"zerolinewidth\": 2}, \"yaxis\": {\"automargin\": true, \"gridcolor\": \"white\", \"linecolor\": \"white\", \"ticks\": \"\", \"title\": {\"standoff\": 15}, \"zerolinecolor\": \"white\", \"zerolinewidth\": 2}}}, \"title\": {\"font\": {\"color\": \"#4D5663\"}}, \"xaxis\": {\"gridcolor\": \"#E1E5ED\", \"showgrid\": true, \"tickfont\": {\"color\": \"#4D5663\"}, \"title\": {\"font\": {\"color\": \"#4D5663\"}, \"text\": \"\"}, \"zerolinecolor\": \"#E1E5ED\"}, \"yaxis\": {\"gridcolor\": \"#E1E5ED\", \"showgrid\": true, \"tickfont\": {\"color\": \"#4D5663\"}, \"title\": {\"font\": {\"color\": \"#4D5663\"}, \"text\": \"\"}, \"zerolinecolor\": \"#E1E5ED\"}},\n",
       "                        {\"showLink\": true, \"linkText\": \"Export to plot.ly\", \"plotlyServerURL\": \"https://plot.ly\", \"responsive\": true}\n",
       "                    ).then(function(){\n",
       "                            \n",
       "var gd = document.getElementById('251592f1-c350-4fec-aa04-147fc32b3108');\n",
       "var x = new MutationObserver(function (mutations, observer) {{\n",
       "        var display = window.getComputedStyle(gd).display;\n",
       "        if (!display || display === 'none') {{\n",
       "            console.log([gd, 'removed!']);\n",
       "            Plotly.purge(gd);\n",
       "            observer.disconnect();\n",
       "        }}\n",
       "}});\n",
       "\n",
       "// Listen for the removal of the full notebook cells\n",
       "var notebookContainer = gd.closest('#notebook-container');\n",
       "if (notebookContainer) {{\n",
       "    x.observe(notebookContainer, {childList: true});\n",
       "}}\n",
       "\n",
       "// Listen for the clearing of the current output cell\n",
       "var outputEl = gd.closest('.output');\n",
       "if (outputEl) {{\n",
       "    x.observe(outputEl, {childList: true});\n",
       "}}\n",
       "\n",
       "                        })\n",
       "                };\n",
       "                });\n",
       "            </script>\n",
       "        </div>"
      ]
     },
     "metadata": {},
     "output_type": "display_data"
    }
   ],
   "source": [
    "df3 = pd.DataFrame({'x':[1,2,3,4,5],'y':[10,20,30,20,10],'z':[5,4,3,2,1]})\n",
    "df3.iplot(kind='surface',colorscale='rdylbu')"
   ]
  },
  {
   "cell_type": "markdown",
   "metadata": {},
   "source": [
    "## Spread"
   ]
  },
  {
   "cell_type": "code",
   "execution_count": 17,
   "metadata": {},
   "outputs": [
    {
     "data": {
      "application/vnd.plotly.v1+json": {
       "config": {
        "linkText": "Export to plot.ly",
        "plotlyServerURL": "https://plot.ly",
        "showLink": true
       },
       "data": [
        {
         "line": {
          "color": "rgba(255, 153, 51, 1.0)",
          "dash": "solid",
          "shape": "linear",
          "width": 1.3
         },
         "mode": "lines",
         "name": "A",
         "text": "",
         "type": "scatter",
         "x": [
          0,
          1,
          2,
          3,
          4,
          5,
          6,
          7,
          8,
          9,
          10,
          11,
          12,
          13,
          14,
          15,
          16,
          17,
          18,
          19,
          20,
          21,
          22,
          23,
          24,
          25,
          26,
          27,
          28,
          29,
          30,
          31,
          32,
          33,
          34,
          35,
          36,
          37,
          38,
          39,
          40,
          41,
          42,
          43,
          44,
          45,
          46,
          47,
          48,
          49,
          50,
          51,
          52,
          53,
          54,
          55,
          56,
          57,
          58,
          59,
          60,
          61,
          62,
          63,
          64,
          65,
          66,
          67,
          68,
          69,
          70,
          71,
          72,
          73,
          74,
          75,
          76,
          77,
          78,
          79,
          80,
          81,
          82,
          83,
          84,
          85,
          86,
          87,
          88,
          89,
          90,
          91,
          92,
          93,
          94,
          95,
          96,
          97,
          98,
          99
         ],
         "y": [
          0.32205259576789935,
          -1.2705842440830204,
          0.10782211694491088,
          -1.2646863492002582,
          -0.623016293453436,
          0.4370049139590851,
          -1.8552254970766764,
          -1.073096970098413,
          1.3267635793739714,
          0.24419011655680606,
          1.0557345774677764,
          1.7122399294231183,
          -0.2677909309326994,
          -0.28051016349477526,
          1.4218608035818048,
          -1.0755029134841767,
          -0.9863577816639659,
          1.1115777342445334,
          -0.6008887227314611,
          -0.22539529068580208,
          -1.9716753893735646,
          -0.2365223696654613,
          0.03208548148818823,
          1.8767437352407905,
          0.11545545793837805,
          0.4970025785014497,
          1.3483980343794544,
          -0.010039690351554604,
          -0.2862034883600797,
          0.7806427708890616,
          1.2081127390165514,
          2.218774713469848,
          0.32195990417680637,
          -0.789709658198847,
          -0.9214869451393399,
          0.6711847095892842,
          -2.0114126158674566,
          -0.5309530198516696,
          -0.5878185997505112,
          -1.2238813239452369,
          -0.6931838125152013,
          -0.18979028816183985,
          0.1999551589396969,
          -0.8954707479977178,
          0.008236776144134046,
          -0.7787953946941676,
          -1.2036680132508266,
          -1.0847531776936057,
          0.005830557401403538,
          0.1728310981019457,
          0.4449020848059417,
          -1.2639359430032238,
          -0.43542486573921074,
          0.9384190809815643,
          0.4417474515879442,
          0.9940869401415626,
          -0.24283687971943876,
          1.1349532128915576,
          -1.4141984420513154,
          -0.1588896627196114,
          1.4481799160580093,
          2.1823007739131963,
          2.2440304393283648,
          -0.5847717373041349,
          0.8639441573674254,
          1.5196751985682482,
          0.3827391753660122,
          0.8684445003403783,
          -1.2023800499448436,
          0.8930942078797675,
          0.9233087070208601,
          0.6698237160538058,
          0.02239191937027293,
          0.7820499553794281,
          -0.3248424573510298,
          -1.8242941941509472,
          -0.09514443783697729,
          1.2553052652092374,
          0.5534742778189647,
          -0.12727753897390603,
          -0.7962665535640177,
          1.2211010568044924,
          1.5560296838025678,
          -0.40481828496818456,
          0.5218851881531966,
          -1.5271712764268646,
          -2.776318086494025,
          0.999386989977953,
          -0.19556324612903161,
          1.6357935804232269,
          -0.8896042579824299,
          0.8581748464534634,
          0.8086306539297275,
          0.506194813669362,
          0.7183057346101549,
          -0.11471459993668659,
          -1.0265711561628377,
          -0.5019344243022291,
          1.6007548010842878,
          -0.40354560457594973
         ]
        },
        {
         "line": {
          "color": "rgba(55, 128, 191, 1.0)",
          "dash": "solid",
          "shape": "linear",
          "width": 1.3
         },
         "mode": "lines",
         "name": "B",
         "text": "",
         "type": "scatter",
         "x": [
          0,
          1,
          2,
          3,
          4,
          5,
          6,
          7,
          8,
          9,
          10,
          11,
          12,
          13,
          14,
          15,
          16,
          17,
          18,
          19,
          20,
          21,
          22,
          23,
          24,
          25,
          26,
          27,
          28,
          29,
          30,
          31,
          32,
          33,
          34,
          35,
          36,
          37,
          38,
          39,
          40,
          41,
          42,
          43,
          44,
          45,
          46,
          47,
          48,
          49,
          50,
          51,
          52,
          53,
          54,
          55,
          56,
          57,
          58,
          59,
          60,
          61,
          62,
          63,
          64,
          65,
          66,
          67,
          68,
          69,
          70,
          71,
          72,
          73,
          74,
          75,
          76,
          77,
          78,
          79,
          80,
          81,
          82,
          83,
          84,
          85,
          86,
          87,
          88,
          89,
          90,
          91,
          92,
          93,
          94,
          95,
          96,
          97,
          98,
          99
         ],
         "y": [
          0.10125898893055496,
          0.8301536855043266,
          -0.7327192245673191,
          -1.0387054262404438,
          -0.13081600367508936,
          0.38664976245140625,
          -1.0533449001438244,
          -0.20007675282923942,
          -0.6185234313147078,
          0.36942411017863375,
          -0.22375568353621758,
          0.2526470287312885,
          0.2267419219131918,
          0.2639775339786776,
          -1.132739394771502,
          -1.1482843495848114,
          -1.4128591948532767,
          -0.18778958090483552,
          0.7948906960485981,
          -0.7892335813067191,
          -0.8706073761676926,
          0.6770291787073698,
          2.0113237483420052,
          0.19388328189767956,
          -0.5002549827427382,
          -2.2199606530825187,
          0.4830527044613887,
          1.2011801375298716,
          -0.19774173866295486,
          -0.752708338255664,
          1.893701881344233,
          -1.5854693729649616,
          -1.1333779065857008,
          0.9496792076892996,
          -1.238894773355343,
          0.651939653630145,
          1.0901486579747812,
          -1.3242262316027364,
          0.2513360270523506,
          1.369678078932397,
          -1.5950170347251074,
          -0.3679375422795287,
          -1.7962568652676187,
          -0.5115298758591496,
          2.188733910681354,
          -1.1476516620997423,
          -0.8208471477547784,
          -1.416695201802754,
          2.11342701518249,
          0.08432602513735225,
          0.6781991471269608,
          0.07373698726313345,
          0.5710623935970508,
          -0.787688749375717,
          -0.41027858341862145,
          -0.34821811877131464,
          -1.5818949290626747,
          -1.1349294502844594,
          0.45585273942482807,
          1.3046051862052737,
          -0.4827487411487068,
          0.79507633799293,
          -0.5013579293617653,
          0.46322340516495625,
          -0.8457049730894419,
          1.648185620735109,
          0.19598567561280725,
          1.3150203116581147,
          1.237625968070254,
          0.08356414724553121,
          0.641786345422482,
          -0.6518313171806182,
          1.3354442167862435,
          -1.2043145454829405,
          0.4813823869913045,
          -1.5428335401166102,
          1.3821152573725537,
          -2.3212785452028672,
          0.8545589572697296,
          -0.772336453451533,
          -0.49736734351279943,
          0.14901385623969263,
          1.0662016178255687,
          -0.1434437840124678,
          -0.9085296086179435,
          1.0244448729388482,
          -1.4468528787919994,
          -0.3118340488124157,
          1.5188676784825625,
          0.15424572817777435,
          1.0003879295162246,
          1.3008090429174297,
          0.994546553788734,
          -1.2890830028500138,
          -0.40471979448408874,
          -0.03237658061551539,
          -1.3186709594255155,
          0.5681307989920067,
          -1.3027720666231417,
          -0.06021515309892382
         ]
        },
        {
         "connectgaps": false,
         "fill": "tozeroy",
         "line": {
          "color": "green",
          "dash": "solid",
          "shape": "linear",
          "width": 0.5
         },
         "mode": "lines",
         "name": "Spread",
         "showlegend": false,
         "type": "scatter",
         "x": [
          0,
          1,
          2,
          3,
          4,
          5,
          6,
          7,
          8,
          9,
          10,
          11,
          12,
          13,
          14,
          15,
          16,
          17,
          18,
          19,
          20,
          21,
          22,
          23,
          24,
          25,
          26,
          27,
          28,
          29,
          30,
          31,
          32,
          33,
          34,
          35,
          36,
          37,
          38,
          39,
          40,
          41,
          42,
          43,
          44,
          45,
          46,
          47,
          48,
          49,
          50,
          51,
          52,
          53,
          54,
          55,
          56,
          57,
          58,
          59,
          60,
          61,
          62,
          63,
          64,
          65,
          66,
          67,
          68,
          69,
          70,
          71,
          72,
          73,
          74,
          75,
          76,
          77,
          78,
          79,
          80,
          81,
          82,
          83,
          84,
          85,
          86,
          87,
          88,
          89,
          90,
          91,
          92,
          93,
          94,
          95,
          96,
          97,
          98,
          99
         ],
         "xaxis": "x2",
         "y": [
          0.2207936068373444,
          "",
          0.8405413415122299,
          "",
          "",
          0.05035515150767883,
          "",
          "",
          1.9452870106886793,
          "",
          1.279490261003994,
          1.4595929006918298,
          "",
          "",
          2.554600198353307,
          0.0727814361006347,
          0.4265014131893108,
          1.299367315149369,
          "",
          0.563838290620917,
          "",
          "",
          "",
          1.6828604533431109,
          0.6157104406811162,
          2.7169632315839682,
          0.8653453299180657,
          "",
          "",
          1.5333511091447256,
          "",
          3.8042440864348093,
          1.4553378107625072,
          "",
          0.3174078282160031,
          0.019245055959139168,
          "",
          0.7932732117510668,
          "",
          "",
          0.901833222209906,
          0.17814725411768884,
          1.9962120242073156,
          "",
          "",
          0.36885626740557476,
          "",
          0.3319420241091484,
          "",
          0.08850507296459344,
          "",
          "",
          "",
          1.7261078303572814,
          0.8520260350065656,
          1.3423050589128773,
          1.339058049343236,
          2.269882663176017,
          "",
          "",
          1.9309286572067161,
          1.3872244359202663,
          2.74538836869013,
          "",
          1.7096491304568673,
          "",
          0.18675349975320496,
          "",
          "",
          0.8095300606342363,
          0.28152236159837807,
          1.321655033234424,
          "",
          1.9863645008623685,
          "",
          "",
          "",
          3.576583810412105,
          "",
          0.645058914477627,
          "",
          1.0720872005648,
          0.4898280659769991,
          "",
          1.43041479677114,
          "",
          "",
          1.3112210387903689,
          "",
          1.4815478522454526,
          "",
          "",
          "",
          1.7952778165193757,
          1.1230255290942437,
          "",
          0.2920998032626778,
          "",
          2.9035268677074297,
          ""
         ],
         "yaxis": "y2"
        },
        {
         "connectgaps": false,
         "fill": "tozeroy",
         "line": {
          "color": "red",
          "dash": "solid",
          "shape": "linear",
          "width": 0.5
         },
         "mode": "lines",
         "name": "Spread",
         "showlegend": false,
         "type": "scatter",
         "x": [
          0,
          1,
          2,
          3,
          4,
          5,
          6,
          7,
          8,
          9,
          10,
          11,
          12,
          13,
          14,
          15,
          16,
          17,
          18,
          19,
          20,
          21,
          22,
          23,
          24,
          25,
          26,
          27,
          28,
          29,
          30,
          31,
          32,
          33,
          34,
          35,
          36,
          37,
          38,
          39,
          40,
          41,
          42,
          43,
          44,
          45,
          46,
          47,
          48,
          49,
          50,
          51,
          52,
          53,
          54,
          55,
          56,
          57,
          58,
          59,
          60,
          61,
          62,
          63,
          64,
          65,
          66,
          67,
          68,
          69,
          70,
          71,
          72,
          73,
          74,
          75,
          76,
          77,
          78,
          79,
          80,
          81,
          82,
          83,
          84,
          85,
          86,
          87,
          88,
          89,
          90,
          91,
          92,
          93,
          94,
          95,
          96,
          97,
          98,
          99
         ],
         "xaxis": "x2",
         "y": [
          "",
          -2.100737929587347,
          "",
          -0.22598092295981442,
          -0.4922002897783466,
          "",
          -0.801880596932852,
          -0.8730202172691736,
          "",
          -0.1252339936218277,
          "",
          "",
          -0.4945328528458912,
          -0.5444876974734529,
          "",
          "",
          "",
          "",
          -1.3957794187800592,
          "",
          -1.101068013205872,
          -0.9135515483728311,
          -1.979238266853817,
          "",
          "",
          "",
          "",
          -1.2112198278814261,
          -0.08846174969712484,
          "",
          -0.6855891423276816,
          "",
          "",
          -1.7393888658881465,
          "",
          "",
          -3.101561273842238,
          "",
          -0.8391546268028618,
          -2.593559402877634,
          "",
          "",
          "",
          -0.3839408721385682,
          -2.18049713453722,
          "",
          -0.3828208654960482,
          "",
          -2.1075964577810864,
          "",
          -0.23329706232101916,
          -1.3376729302663573,
          -1.0064872593362615,
          "",
          "",
          "",
          "",
          "",
          -1.8700511814761436,
          -1.4634948489248851,
          "",
          "",
          "",
          -1.0479951424690912,
          "",
          -0.12851042216686093,
          "",
          -0.4465758113177364,
          -2.4400060180150973,
          "",
          "",
          "",
          -1.3130522974159706,
          "",
          -0.8062248443423343,
          -0.28146065403433695,
          -1.477259695209531,
          "",
          -0.3010846794507649,
          "",
          -0.2988992100512182,
          "",
          "",
          -0.2613745009557168,
          "",
          -2.551616149365713,
          -1.3294652077020257,
          "",
          -1.714430924611594,
          "",
          -1.8899921874986545,
          -0.4426341964639663,
          -0.18591589985900647,
          "",
          "",
          -0.0823380193211712,
          "",
          -1.0700652232942358,
          "",
          -0.3433304514770259
         ],
         "yaxis": "y2"
        }
       ],
       "layout": {
        "hovermode": "x",
        "legend": {
         "bgcolor": "#F5F6F9",
         "font": {
          "color": "#4D5663"
         }
        },
        "paper_bgcolor": "#F5F6F9",
        "plot_bgcolor": "#F5F6F9",
        "template": {
         "data": {
          "bar": [
           {
            "error_x": {
             "color": "#2a3f5f"
            },
            "error_y": {
             "color": "#2a3f5f"
            },
            "marker": {
             "line": {
              "color": "#E5ECF6",
              "width": 0.5
             }
            },
            "type": "bar"
           }
          ],
          "barpolar": [
           {
            "marker": {
             "line": {
              "color": "#E5ECF6",
              "width": 0.5
             }
            },
            "type": "barpolar"
           }
          ],
          "carpet": [
           {
            "aaxis": {
             "endlinecolor": "#2a3f5f",
             "gridcolor": "white",
             "linecolor": "white",
             "minorgridcolor": "white",
             "startlinecolor": "#2a3f5f"
            },
            "baxis": {
             "endlinecolor": "#2a3f5f",
             "gridcolor": "white",
             "linecolor": "white",
             "minorgridcolor": "white",
             "startlinecolor": "#2a3f5f"
            },
            "type": "carpet"
           }
          ],
          "choropleth": [
           {
            "colorbar": {
             "outlinewidth": 0,
             "ticks": ""
            },
            "type": "choropleth"
           }
          ],
          "contour": [
           {
            "colorbar": {
             "outlinewidth": 0,
             "ticks": ""
            },
            "colorscale": [
             [
              0,
              "#0d0887"
             ],
             [
              0.1111111111111111,
              "#46039f"
             ],
             [
              0.2222222222222222,
              "#7201a8"
             ],
             [
              0.3333333333333333,
              "#9c179e"
             ],
             [
              0.4444444444444444,
              "#bd3786"
             ],
             [
              0.5555555555555556,
              "#d8576b"
             ],
             [
              0.6666666666666666,
              "#ed7953"
             ],
             [
              0.7777777777777778,
              "#fb9f3a"
             ],
             [
              0.8888888888888888,
              "#fdca26"
             ],
             [
              1,
              "#f0f921"
             ]
            ],
            "type": "contour"
           }
          ],
          "contourcarpet": [
           {
            "colorbar": {
             "outlinewidth": 0,
             "ticks": ""
            },
            "type": "contourcarpet"
           }
          ],
          "heatmap": [
           {
            "colorbar": {
             "outlinewidth": 0,
             "ticks": ""
            },
            "colorscale": [
             [
              0,
              "#0d0887"
             ],
             [
              0.1111111111111111,
              "#46039f"
             ],
             [
              0.2222222222222222,
              "#7201a8"
             ],
             [
              0.3333333333333333,
              "#9c179e"
             ],
             [
              0.4444444444444444,
              "#bd3786"
             ],
             [
              0.5555555555555556,
              "#d8576b"
             ],
             [
              0.6666666666666666,
              "#ed7953"
             ],
             [
              0.7777777777777778,
              "#fb9f3a"
             ],
             [
              0.8888888888888888,
              "#fdca26"
             ],
             [
              1,
              "#f0f921"
             ]
            ],
            "type": "heatmap"
           }
          ],
          "heatmapgl": [
           {
            "colorbar": {
             "outlinewidth": 0,
             "ticks": ""
            },
            "colorscale": [
             [
              0,
              "#0d0887"
             ],
             [
              0.1111111111111111,
              "#46039f"
             ],
             [
              0.2222222222222222,
              "#7201a8"
             ],
             [
              0.3333333333333333,
              "#9c179e"
             ],
             [
              0.4444444444444444,
              "#bd3786"
             ],
             [
              0.5555555555555556,
              "#d8576b"
             ],
             [
              0.6666666666666666,
              "#ed7953"
             ],
             [
              0.7777777777777778,
              "#fb9f3a"
             ],
             [
              0.8888888888888888,
              "#fdca26"
             ],
             [
              1,
              "#f0f921"
             ]
            ],
            "type": "heatmapgl"
           }
          ],
          "histogram": [
           {
            "marker": {
             "colorbar": {
              "outlinewidth": 0,
              "ticks": ""
             }
            },
            "type": "histogram"
           }
          ],
          "histogram2d": [
           {
            "colorbar": {
             "outlinewidth": 0,
             "ticks": ""
            },
            "colorscale": [
             [
              0,
              "#0d0887"
             ],
             [
              0.1111111111111111,
              "#46039f"
             ],
             [
              0.2222222222222222,
              "#7201a8"
             ],
             [
              0.3333333333333333,
              "#9c179e"
             ],
             [
              0.4444444444444444,
              "#bd3786"
             ],
             [
              0.5555555555555556,
              "#d8576b"
             ],
             [
              0.6666666666666666,
              "#ed7953"
             ],
             [
              0.7777777777777778,
              "#fb9f3a"
             ],
             [
              0.8888888888888888,
              "#fdca26"
             ],
             [
              1,
              "#f0f921"
             ]
            ],
            "type": "histogram2d"
           }
          ],
          "histogram2dcontour": [
           {
            "colorbar": {
             "outlinewidth": 0,
             "ticks": ""
            },
            "colorscale": [
             [
              0,
              "#0d0887"
             ],
             [
              0.1111111111111111,
              "#46039f"
             ],
             [
              0.2222222222222222,
              "#7201a8"
             ],
             [
              0.3333333333333333,
              "#9c179e"
             ],
             [
              0.4444444444444444,
              "#bd3786"
             ],
             [
              0.5555555555555556,
              "#d8576b"
             ],
             [
              0.6666666666666666,
              "#ed7953"
             ],
             [
              0.7777777777777778,
              "#fb9f3a"
             ],
             [
              0.8888888888888888,
              "#fdca26"
             ],
             [
              1,
              "#f0f921"
             ]
            ],
            "type": "histogram2dcontour"
           }
          ],
          "mesh3d": [
           {
            "colorbar": {
             "outlinewidth": 0,
             "ticks": ""
            },
            "type": "mesh3d"
           }
          ],
          "parcoords": [
           {
            "line": {
             "colorbar": {
              "outlinewidth": 0,
              "ticks": ""
             }
            },
            "type": "parcoords"
           }
          ],
          "pie": [
           {
            "automargin": true,
            "type": "pie"
           }
          ],
          "scatter": [
           {
            "marker": {
             "colorbar": {
              "outlinewidth": 0,
              "ticks": ""
             }
            },
            "type": "scatter"
           }
          ],
          "scatter3d": [
           {
            "line": {
             "colorbar": {
              "outlinewidth": 0,
              "ticks": ""
             }
            },
            "marker": {
             "colorbar": {
              "outlinewidth": 0,
              "ticks": ""
             }
            },
            "type": "scatter3d"
           }
          ],
          "scattercarpet": [
           {
            "marker": {
             "colorbar": {
              "outlinewidth": 0,
              "ticks": ""
             }
            },
            "type": "scattercarpet"
           }
          ],
          "scattergeo": [
           {
            "marker": {
             "colorbar": {
              "outlinewidth": 0,
              "ticks": ""
             }
            },
            "type": "scattergeo"
           }
          ],
          "scattergl": [
           {
            "marker": {
             "colorbar": {
              "outlinewidth": 0,
              "ticks": ""
             }
            },
            "type": "scattergl"
           }
          ],
          "scattermapbox": [
           {
            "marker": {
             "colorbar": {
              "outlinewidth": 0,
              "ticks": ""
             }
            },
            "type": "scattermapbox"
           }
          ],
          "scatterpolar": [
           {
            "marker": {
             "colorbar": {
              "outlinewidth": 0,
              "ticks": ""
             }
            },
            "type": "scatterpolar"
           }
          ],
          "scatterpolargl": [
           {
            "marker": {
             "colorbar": {
              "outlinewidth": 0,
              "ticks": ""
             }
            },
            "type": "scatterpolargl"
           }
          ],
          "scatterternary": [
           {
            "marker": {
             "colorbar": {
              "outlinewidth": 0,
              "ticks": ""
             }
            },
            "type": "scatterternary"
           }
          ],
          "surface": [
           {
            "colorbar": {
             "outlinewidth": 0,
             "ticks": ""
            },
            "colorscale": [
             [
              0,
              "#0d0887"
             ],
             [
              0.1111111111111111,
              "#46039f"
             ],
             [
              0.2222222222222222,
              "#7201a8"
             ],
             [
              0.3333333333333333,
              "#9c179e"
             ],
             [
              0.4444444444444444,
              "#bd3786"
             ],
             [
              0.5555555555555556,
              "#d8576b"
             ],
             [
              0.6666666666666666,
              "#ed7953"
             ],
             [
              0.7777777777777778,
              "#fb9f3a"
             ],
             [
              0.8888888888888888,
              "#fdca26"
             ],
             [
              1,
              "#f0f921"
             ]
            ],
            "type": "surface"
           }
          ],
          "table": [
           {
            "cells": {
             "fill": {
              "color": "#EBF0F8"
             },
             "line": {
              "color": "white"
             }
            },
            "header": {
             "fill": {
              "color": "#C8D4E3"
             },
             "line": {
              "color": "white"
             }
            },
            "type": "table"
           }
          ]
         },
         "layout": {
          "annotationdefaults": {
           "arrowcolor": "#2a3f5f",
           "arrowhead": 0,
           "arrowwidth": 1
          },
          "coloraxis": {
           "colorbar": {
            "outlinewidth": 0,
            "ticks": ""
           }
          },
          "colorscale": {
           "diverging": [
            [
             0,
             "#8e0152"
            ],
            [
             0.1,
             "#c51b7d"
            ],
            [
             0.2,
             "#de77ae"
            ],
            [
             0.3,
             "#f1b6da"
            ],
            [
             0.4,
             "#fde0ef"
            ],
            [
             0.5,
             "#f7f7f7"
            ],
            [
             0.6,
             "#e6f5d0"
            ],
            [
             0.7,
             "#b8e186"
            ],
            [
             0.8,
             "#7fbc41"
            ],
            [
             0.9,
             "#4d9221"
            ],
            [
             1,
             "#276419"
            ]
           ],
           "sequential": [
            [
             0,
             "#0d0887"
            ],
            [
             0.1111111111111111,
             "#46039f"
            ],
            [
             0.2222222222222222,
             "#7201a8"
            ],
            [
             0.3333333333333333,
             "#9c179e"
            ],
            [
             0.4444444444444444,
             "#bd3786"
            ],
            [
             0.5555555555555556,
             "#d8576b"
            ],
            [
             0.6666666666666666,
             "#ed7953"
            ],
            [
             0.7777777777777778,
             "#fb9f3a"
            ],
            [
             0.8888888888888888,
             "#fdca26"
            ],
            [
             1,
             "#f0f921"
            ]
           ],
           "sequentialminus": [
            [
             0,
             "#0d0887"
            ],
            [
             0.1111111111111111,
             "#46039f"
            ],
            [
             0.2222222222222222,
             "#7201a8"
            ],
            [
             0.3333333333333333,
             "#9c179e"
            ],
            [
             0.4444444444444444,
             "#bd3786"
            ],
            [
             0.5555555555555556,
             "#d8576b"
            ],
            [
             0.6666666666666666,
             "#ed7953"
            ],
            [
             0.7777777777777778,
             "#fb9f3a"
            ],
            [
             0.8888888888888888,
             "#fdca26"
            ],
            [
             1,
             "#f0f921"
            ]
           ]
          },
          "colorway": [
           "#636efa",
           "#EF553B",
           "#00cc96",
           "#ab63fa",
           "#FFA15A",
           "#19d3f3",
           "#FF6692",
           "#B6E880",
           "#FF97FF",
           "#FECB52"
          ],
          "font": {
           "color": "#2a3f5f"
          },
          "geo": {
           "bgcolor": "white",
           "lakecolor": "white",
           "landcolor": "#E5ECF6",
           "showlakes": true,
           "showland": true,
           "subunitcolor": "white"
          },
          "hoverlabel": {
           "align": "left"
          },
          "hovermode": "closest",
          "mapbox": {
           "style": "light"
          },
          "paper_bgcolor": "white",
          "plot_bgcolor": "#E5ECF6",
          "polar": {
           "angularaxis": {
            "gridcolor": "white",
            "linecolor": "white",
            "ticks": ""
           },
           "bgcolor": "#E5ECF6",
           "radialaxis": {
            "gridcolor": "white",
            "linecolor": "white",
            "ticks": ""
           }
          },
          "scene": {
           "xaxis": {
            "backgroundcolor": "#E5ECF6",
            "gridcolor": "white",
            "gridwidth": 2,
            "linecolor": "white",
            "showbackground": true,
            "ticks": "",
            "zerolinecolor": "white"
           },
           "yaxis": {
            "backgroundcolor": "#E5ECF6",
            "gridcolor": "white",
            "gridwidth": 2,
            "linecolor": "white",
            "showbackground": true,
            "ticks": "",
            "zerolinecolor": "white"
           },
           "zaxis": {
            "backgroundcolor": "#E5ECF6",
            "gridcolor": "white",
            "gridwidth": 2,
            "linecolor": "white",
            "showbackground": true,
            "ticks": "",
            "zerolinecolor": "white"
           }
          },
          "shapedefaults": {
           "line": {
            "color": "#2a3f5f"
           }
          },
          "ternary": {
           "aaxis": {
            "gridcolor": "white",
            "linecolor": "white",
            "ticks": ""
           },
           "baxis": {
            "gridcolor": "white",
            "linecolor": "white",
            "ticks": ""
           },
           "bgcolor": "#E5ECF6",
           "caxis": {
            "gridcolor": "white",
            "linecolor": "white",
            "ticks": ""
           }
          },
          "title": {
           "x": 0.05
          },
          "xaxis": {
           "automargin": true,
           "gridcolor": "white",
           "linecolor": "white",
           "ticks": "",
           "title": {
            "standoff": 15
           },
           "zerolinecolor": "white",
           "zerolinewidth": 2
          },
          "yaxis": {
           "automargin": true,
           "gridcolor": "white",
           "linecolor": "white",
           "ticks": "",
           "title": {
            "standoff": 15
           },
           "zerolinecolor": "white",
           "zerolinewidth": 2
          }
         }
        },
        "title": {
         "font": {
          "color": "#4D5663"
         }
        },
        "xaxis": {
         "gridcolor": "#E1E5ED",
         "showgrid": true,
         "tickfont": {
          "color": "#4D5663"
         },
         "title": {
          "font": {
           "color": "#4D5663"
          },
          "text": ""
         },
         "zerolinecolor": "#E1E5ED"
        },
        "xaxis2": {
         "anchor": "y2",
         "gridcolor": "#E1E5ED",
         "showgrid": true,
         "showticklabels": false,
         "tickfont": {
          "color": "#4D5663"
         },
         "title": {
          "font": {
           "color": "#4D5663"
          },
          "text": ""
         },
         "zerolinecolor": "#E1E5ED"
        },
        "yaxis": {
         "domain": [
          0.3,
          1
         ],
         "gridcolor": "#E1E5ED",
         "showgrid": true,
         "tickfont": {
          "color": "#4D5663"
         },
         "title": {
          "font": {
           "color": "#4D5663"
          },
          "text": ""
         },
         "zerolinecolor": "#E1E5ED"
        },
        "yaxis2": {
         "domain": [
          0,
          0.25
         ],
         "gridcolor": "#E1E5ED",
         "showgrid": true,
         "tickfont": {
          "color": "#4D5663"
         },
         "title": {
          "font": {
           "color": "#4D5663"
          },
          "text": "Spread"
         },
         "zerolinecolor": "#E1E5ED"
        }
       }
      },
      "text/html": [
       "<div>\n",
       "        \n",
       "        \n",
       "            <div id=\"9e31a4fa-e12e-405d-94e2-3fede11bc24c\" class=\"plotly-graph-div\" style=\"height:525px; width:100%;\"></div>\n",
       "            <script type=\"text/javascript\">\n",
       "                require([\"plotly\"], function(Plotly) {\n",
       "                    window.PLOTLYENV=window.PLOTLYENV || {};\n",
       "                    window.PLOTLYENV.BASE_URL='https://plot.ly';\n",
       "                    \n",
       "                if (document.getElementById(\"9e31a4fa-e12e-405d-94e2-3fede11bc24c\")) {\n",
       "                    Plotly.newPlot(\n",
       "                        '9e31a4fa-e12e-405d-94e2-3fede11bc24c',\n",
       "                        [{\"line\": {\"color\": \"rgba(255, 153, 51, 1.0)\", \"dash\": \"solid\", \"shape\": \"linear\", \"width\": 1.3}, \"mode\": \"lines\", \"name\": \"A\", \"text\": \"\", \"type\": \"scatter\", \"x\": [0, 1, 2, 3, 4, 5, 6, 7, 8, 9, 10, 11, 12, 13, 14, 15, 16, 17, 18, 19, 20, 21, 22, 23, 24, 25, 26, 27, 28, 29, 30, 31, 32, 33, 34, 35, 36, 37, 38, 39, 40, 41, 42, 43, 44, 45, 46, 47, 48, 49, 50, 51, 52, 53, 54, 55, 56, 57, 58, 59, 60, 61, 62, 63, 64, 65, 66, 67, 68, 69, 70, 71, 72, 73, 74, 75, 76, 77, 78, 79, 80, 81, 82, 83, 84, 85, 86, 87, 88, 89, 90, 91, 92, 93, 94, 95, 96, 97, 98, 99], \"y\": [0.32205259576789935, -1.2705842440830204, 0.10782211694491088, -1.2646863492002582, -0.623016293453436, 0.4370049139590851, -1.8552254970766764, -1.073096970098413, 1.3267635793739714, 0.24419011655680606, 1.0557345774677764, 1.7122399294231183, -0.2677909309326994, -0.28051016349477526, 1.4218608035818048, -1.0755029134841767, -0.9863577816639659, 1.1115777342445334, -0.6008887227314611, -0.22539529068580208, -1.9716753893735646, -0.2365223696654613, 0.03208548148818823, 1.8767437352407905, 0.11545545793837805, 0.4970025785014497, 1.3483980343794544, -0.010039690351554604, -0.2862034883600797, 0.7806427708890616, 1.2081127390165514, 2.218774713469848, 0.32195990417680637, -0.789709658198847, -0.9214869451393399, 0.6711847095892842, -2.0114126158674566, -0.5309530198516696, -0.5878185997505112, -1.2238813239452369, -0.6931838125152013, -0.18979028816183985, 0.1999551589396969, -0.8954707479977178, 0.008236776144134046, -0.7787953946941676, -1.2036680132508266, -1.0847531776936057, 0.005830557401403538, 0.1728310981019457, 0.4449020848059417, -1.2639359430032238, -0.43542486573921074, 0.9384190809815643, 0.4417474515879442, 0.9940869401415626, -0.24283687971943876, 1.1349532128915576, -1.4141984420513154, -0.1588896627196114, 1.4481799160580093, 2.1823007739131963, 2.2440304393283648, -0.5847717373041349, 0.8639441573674254, 1.5196751985682482, 0.3827391753660122, 0.8684445003403783, -1.2023800499448436, 0.8930942078797675, 0.9233087070208601, 0.6698237160538058, 0.02239191937027293, 0.7820499553794281, -0.3248424573510298, -1.8242941941509472, -0.09514443783697729, 1.2553052652092374, 0.5534742778189647, -0.12727753897390603, -0.7962665535640177, 1.2211010568044924, 1.5560296838025678, -0.40481828496818456, 0.5218851881531966, -1.5271712764268646, -2.776318086494025, 0.999386989977953, -0.19556324612903161, 1.6357935804232269, -0.8896042579824299, 0.8581748464534634, 0.8086306539297275, 0.506194813669362, 0.7183057346101549, -0.11471459993668659, -1.0265711561628377, -0.5019344243022291, 1.6007548010842878, -0.40354560457594973]}, {\"line\": {\"color\": \"rgba(55, 128, 191, 1.0)\", \"dash\": \"solid\", \"shape\": \"linear\", \"width\": 1.3}, \"mode\": \"lines\", \"name\": \"B\", \"text\": \"\", \"type\": \"scatter\", \"x\": [0, 1, 2, 3, 4, 5, 6, 7, 8, 9, 10, 11, 12, 13, 14, 15, 16, 17, 18, 19, 20, 21, 22, 23, 24, 25, 26, 27, 28, 29, 30, 31, 32, 33, 34, 35, 36, 37, 38, 39, 40, 41, 42, 43, 44, 45, 46, 47, 48, 49, 50, 51, 52, 53, 54, 55, 56, 57, 58, 59, 60, 61, 62, 63, 64, 65, 66, 67, 68, 69, 70, 71, 72, 73, 74, 75, 76, 77, 78, 79, 80, 81, 82, 83, 84, 85, 86, 87, 88, 89, 90, 91, 92, 93, 94, 95, 96, 97, 98, 99], \"y\": [0.10125898893055496, 0.8301536855043266, -0.7327192245673191, -1.0387054262404438, -0.13081600367508936, 0.38664976245140625, -1.0533449001438244, -0.20007675282923942, -0.6185234313147078, 0.36942411017863375, -0.22375568353621758, 0.2526470287312885, 0.2267419219131918, 0.2639775339786776, -1.132739394771502, -1.1482843495848114, -1.4128591948532767, -0.18778958090483552, 0.7948906960485981, -0.7892335813067191, -0.8706073761676926, 0.6770291787073698, 2.0113237483420052, 0.19388328189767956, -0.5002549827427382, -2.2199606530825187, 0.4830527044613887, 1.2011801375298716, -0.19774173866295486, -0.752708338255664, 1.893701881344233, -1.5854693729649616, -1.1333779065857008, 0.9496792076892996, -1.238894773355343, 0.651939653630145, 1.0901486579747812, -1.3242262316027364, 0.2513360270523506, 1.369678078932397, -1.5950170347251074, -0.3679375422795287, -1.7962568652676187, -0.5115298758591496, 2.188733910681354, -1.1476516620997423, -0.8208471477547784, -1.416695201802754, 2.11342701518249, 0.08432602513735225, 0.6781991471269608, 0.07373698726313345, 0.5710623935970508, -0.787688749375717, -0.41027858341862145, -0.34821811877131464, -1.5818949290626747, -1.1349294502844594, 0.45585273942482807, 1.3046051862052737, -0.4827487411487068, 0.79507633799293, -0.5013579293617653, 0.46322340516495625, -0.8457049730894419, 1.648185620735109, 0.19598567561280725, 1.3150203116581147, 1.237625968070254, 0.08356414724553121, 0.641786345422482, -0.6518313171806182, 1.3354442167862435, -1.2043145454829405, 0.4813823869913045, -1.5428335401166102, 1.3821152573725537, -2.3212785452028672, 0.8545589572697296, -0.772336453451533, -0.49736734351279943, 0.14901385623969263, 1.0662016178255687, -0.1434437840124678, -0.9085296086179435, 1.0244448729388482, -1.4468528787919994, -0.3118340488124157, 1.5188676784825625, 0.15424572817777435, 1.0003879295162246, 1.3008090429174297, 0.994546553788734, -1.2890830028500138, -0.40471979448408874, -0.03237658061551539, -1.3186709594255155, 0.5681307989920067, -1.3027720666231417, -0.06021515309892382]}, {\"connectgaps\": false, \"fill\": \"tozeroy\", \"line\": {\"color\": \"green\", \"dash\": \"solid\", \"shape\": \"linear\", \"width\": 0.5}, \"mode\": \"lines\", \"name\": \"Spread\", \"showlegend\": false, \"type\": \"scatter\", \"x\": [0, 1, 2, 3, 4, 5, 6, 7, 8, 9, 10, 11, 12, 13, 14, 15, 16, 17, 18, 19, 20, 21, 22, 23, 24, 25, 26, 27, 28, 29, 30, 31, 32, 33, 34, 35, 36, 37, 38, 39, 40, 41, 42, 43, 44, 45, 46, 47, 48, 49, 50, 51, 52, 53, 54, 55, 56, 57, 58, 59, 60, 61, 62, 63, 64, 65, 66, 67, 68, 69, 70, 71, 72, 73, 74, 75, 76, 77, 78, 79, 80, 81, 82, 83, 84, 85, 86, 87, 88, 89, 90, 91, 92, 93, 94, 95, 96, 97, 98, 99], \"xaxis\": \"x2\", \"y\": [0.2207936068373444, \"\", 0.8405413415122299, \"\", \"\", 0.05035515150767883, \"\", \"\", 1.9452870106886793, \"\", 1.279490261003994, 1.4595929006918298, \"\", \"\", 2.554600198353307, 0.0727814361006347, 0.4265014131893108, 1.299367315149369, \"\", 0.563838290620917, \"\", \"\", \"\", 1.6828604533431109, 0.6157104406811162, 2.7169632315839682, 0.8653453299180657, \"\", \"\", 1.5333511091447256, \"\", 3.8042440864348093, 1.4553378107625072, \"\", 0.3174078282160031, 0.019245055959139168, \"\", 0.7932732117510668, \"\", \"\", 0.901833222209906, 0.17814725411768884, 1.9962120242073156, \"\", \"\", 0.36885626740557476, \"\", 0.3319420241091484, \"\", 0.08850507296459344, \"\", \"\", \"\", 1.7261078303572814, 0.8520260350065656, 1.3423050589128773, 1.339058049343236, 2.269882663176017, \"\", \"\", 1.9309286572067161, 1.3872244359202663, 2.74538836869013, \"\", 1.7096491304568673, \"\", 0.18675349975320496, \"\", \"\", 0.8095300606342363, 0.28152236159837807, 1.321655033234424, \"\", 1.9863645008623685, \"\", \"\", \"\", 3.576583810412105, \"\", 0.645058914477627, \"\", 1.0720872005648, 0.4898280659769991, \"\", 1.43041479677114, \"\", \"\", 1.3112210387903689, \"\", 1.4815478522454526, \"\", \"\", \"\", 1.7952778165193757, 1.1230255290942437, \"\", 0.2920998032626778, \"\", 2.9035268677074297, \"\"], \"yaxis\": \"y2\"}, {\"connectgaps\": false, \"fill\": \"tozeroy\", \"line\": {\"color\": \"red\", \"dash\": \"solid\", \"shape\": \"linear\", \"width\": 0.5}, \"mode\": \"lines\", \"name\": \"Spread\", \"showlegend\": false, \"type\": \"scatter\", \"x\": [0, 1, 2, 3, 4, 5, 6, 7, 8, 9, 10, 11, 12, 13, 14, 15, 16, 17, 18, 19, 20, 21, 22, 23, 24, 25, 26, 27, 28, 29, 30, 31, 32, 33, 34, 35, 36, 37, 38, 39, 40, 41, 42, 43, 44, 45, 46, 47, 48, 49, 50, 51, 52, 53, 54, 55, 56, 57, 58, 59, 60, 61, 62, 63, 64, 65, 66, 67, 68, 69, 70, 71, 72, 73, 74, 75, 76, 77, 78, 79, 80, 81, 82, 83, 84, 85, 86, 87, 88, 89, 90, 91, 92, 93, 94, 95, 96, 97, 98, 99], \"xaxis\": \"x2\", \"y\": [\"\", -2.100737929587347, \"\", -0.22598092295981442, -0.4922002897783466, \"\", -0.801880596932852, -0.8730202172691736, \"\", -0.1252339936218277, \"\", \"\", -0.4945328528458912, -0.5444876974734529, \"\", \"\", \"\", \"\", -1.3957794187800592, \"\", -1.101068013205872, -0.9135515483728311, -1.979238266853817, \"\", \"\", \"\", \"\", -1.2112198278814261, -0.08846174969712484, \"\", -0.6855891423276816, \"\", \"\", -1.7393888658881465, \"\", \"\", -3.101561273842238, \"\", -0.8391546268028618, -2.593559402877634, \"\", \"\", \"\", -0.3839408721385682, -2.18049713453722, \"\", -0.3828208654960482, \"\", -2.1075964577810864, \"\", -0.23329706232101916, -1.3376729302663573, -1.0064872593362615, \"\", \"\", \"\", \"\", \"\", -1.8700511814761436, -1.4634948489248851, \"\", \"\", \"\", -1.0479951424690912, \"\", -0.12851042216686093, \"\", -0.4465758113177364, -2.4400060180150973, \"\", \"\", \"\", -1.3130522974159706, \"\", -0.8062248443423343, -0.28146065403433695, -1.477259695209531, \"\", -0.3010846794507649, \"\", -0.2988992100512182, \"\", \"\", -0.2613745009557168, \"\", -2.551616149365713, -1.3294652077020257, \"\", -1.714430924611594, \"\", -1.8899921874986545, -0.4426341964639663, -0.18591589985900647, \"\", \"\", -0.0823380193211712, \"\", -1.0700652232942358, \"\", -0.3433304514770259], \"yaxis\": \"y2\"}],\n",
       "                        {\"hovermode\": \"x\", \"legend\": {\"bgcolor\": \"#F5F6F9\", \"font\": {\"color\": \"#4D5663\"}}, \"paper_bgcolor\": \"#F5F6F9\", \"plot_bgcolor\": \"#F5F6F9\", \"template\": {\"data\": {\"bar\": [{\"error_x\": {\"color\": \"#2a3f5f\"}, \"error_y\": {\"color\": \"#2a3f5f\"}, \"marker\": {\"line\": {\"color\": \"#E5ECF6\", \"width\": 0.5}}, \"type\": \"bar\"}], \"barpolar\": [{\"marker\": {\"line\": {\"color\": \"#E5ECF6\", \"width\": 0.5}}, \"type\": \"barpolar\"}], \"carpet\": [{\"aaxis\": {\"endlinecolor\": \"#2a3f5f\", \"gridcolor\": \"white\", \"linecolor\": \"white\", \"minorgridcolor\": \"white\", \"startlinecolor\": \"#2a3f5f\"}, \"baxis\": {\"endlinecolor\": \"#2a3f5f\", \"gridcolor\": \"white\", \"linecolor\": \"white\", \"minorgridcolor\": \"white\", \"startlinecolor\": \"#2a3f5f\"}, \"type\": \"carpet\"}], \"choropleth\": [{\"colorbar\": {\"outlinewidth\": 0, \"ticks\": \"\"}, \"type\": \"choropleth\"}], \"contour\": [{\"colorbar\": {\"outlinewidth\": 0, \"ticks\": \"\"}, \"colorscale\": [[0.0, \"#0d0887\"], [0.1111111111111111, \"#46039f\"], [0.2222222222222222, \"#7201a8\"], [0.3333333333333333, \"#9c179e\"], [0.4444444444444444, \"#bd3786\"], [0.5555555555555556, \"#d8576b\"], [0.6666666666666666, \"#ed7953\"], [0.7777777777777778, \"#fb9f3a\"], [0.8888888888888888, \"#fdca26\"], [1.0, \"#f0f921\"]], \"type\": \"contour\"}], \"contourcarpet\": [{\"colorbar\": {\"outlinewidth\": 0, \"ticks\": \"\"}, \"type\": \"contourcarpet\"}], \"heatmap\": [{\"colorbar\": {\"outlinewidth\": 0, \"ticks\": \"\"}, \"colorscale\": [[0.0, \"#0d0887\"], [0.1111111111111111, \"#46039f\"], [0.2222222222222222, \"#7201a8\"], [0.3333333333333333, \"#9c179e\"], [0.4444444444444444, \"#bd3786\"], [0.5555555555555556, \"#d8576b\"], [0.6666666666666666, \"#ed7953\"], [0.7777777777777778, \"#fb9f3a\"], [0.8888888888888888, \"#fdca26\"], [1.0, \"#f0f921\"]], \"type\": \"heatmap\"}], \"heatmapgl\": [{\"colorbar\": {\"outlinewidth\": 0, \"ticks\": \"\"}, \"colorscale\": [[0.0, \"#0d0887\"], [0.1111111111111111, \"#46039f\"], [0.2222222222222222, \"#7201a8\"], [0.3333333333333333, \"#9c179e\"], [0.4444444444444444, \"#bd3786\"], [0.5555555555555556, \"#d8576b\"], [0.6666666666666666, \"#ed7953\"], [0.7777777777777778, \"#fb9f3a\"], [0.8888888888888888, \"#fdca26\"], [1.0, \"#f0f921\"]], \"type\": \"heatmapgl\"}], \"histogram\": [{\"marker\": {\"colorbar\": {\"outlinewidth\": 0, \"ticks\": \"\"}}, \"type\": \"histogram\"}], \"histogram2d\": [{\"colorbar\": {\"outlinewidth\": 0, \"ticks\": \"\"}, \"colorscale\": [[0.0, \"#0d0887\"], [0.1111111111111111, \"#46039f\"], [0.2222222222222222, \"#7201a8\"], [0.3333333333333333, \"#9c179e\"], [0.4444444444444444, \"#bd3786\"], [0.5555555555555556, \"#d8576b\"], [0.6666666666666666, \"#ed7953\"], [0.7777777777777778, \"#fb9f3a\"], [0.8888888888888888, \"#fdca26\"], [1.0, \"#f0f921\"]], \"type\": \"histogram2d\"}], \"histogram2dcontour\": [{\"colorbar\": {\"outlinewidth\": 0, \"ticks\": \"\"}, \"colorscale\": [[0.0, \"#0d0887\"], [0.1111111111111111, \"#46039f\"], [0.2222222222222222, \"#7201a8\"], [0.3333333333333333, \"#9c179e\"], [0.4444444444444444, \"#bd3786\"], [0.5555555555555556, \"#d8576b\"], [0.6666666666666666, \"#ed7953\"], [0.7777777777777778, \"#fb9f3a\"], [0.8888888888888888, \"#fdca26\"], [1.0, \"#f0f921\"]], \"type\": \"histogram2dcontour\"}], \"mesh3d\": [{\"colorbar\": {\"outlinewidth\": 0, \"ticks\": \"\"}, \"type\": \"mesh3d\"}], \"parcoords\": [{\"line\": {\"colorbar\": {\"outlinewidth\": 0, \"ticks\": \"\"}}, \"type\": \"parcoords\"}], \"pie\": [{\"automargin\": true, \"type\": \"pie\"}], \"scatter\": [{\"marker\": {\"colorbar\": {\"outlinewidth\": 0, \"ticks\": \"\"}}, \"type\": \"scatter\"}], \"scatter3d\": [{\"line\": {\"colorbar\": {\"outlinewidth\": 0, \"ticks\": \"\"}}, \"marker\": {\"colorbar\": {\"outlinewidth\": 0, \"ticks\": \"\"}}, \"type\": \"scatter3d\"}], \"scattercarpet\": [{\"marker\": {\"colorbar\": {\"outlinewidth\": 0, \"ticks\": \"\"}}, \"type\": \"scattercarpet\"}], \"scattergeo\": [{\"marker\": {\"colorbar\": {\"outlinewidth\": 0, \"ticks\": \"\"}}, \"type\": \"scattergeo\"}], \"scattergl\": [{\"marker\": {\"colorbar\": {\"outlinewidth\": 0, \"ticks\": \"\"}}, \"type\": \"scattergl\"}], \"scattermapbox\": [{\"marker\": {\"colorbar\": {\"outlinewidth\": 0, \"ticks\": \"\"}}, \"type\": \"scattermapbox\"}], \"scatterpolar\": [{\"marker\": {\"colorbar\": {\"outlinewidth\": 0, \"ticks\": \"\"}}, \"type\": \"scatterpolar\"}], \"scatterpolargl\": [{\"marker\": {\"colorbar\": {\"outlinewidth\": 0, \"ticks\": \"\"}}, \"type\": \"scatterpolargl\"}], \"scatterternary\": [{\"marker\": {\"colorbar\": {\"outlinewidth\": 0, \"ticks\": \"\"}}, \"type\": \"scatterternary\"}], \"surface\": [{\"colorbar\": {\"outlinewidth\": 0, \"ticks\": \"\"}, \"colorscale\": [[0.0, \"#0d0887\"], [0.1111111111111111, \"#46039f\"], [0.2222222222222222, \"#7201a8\"], [0.3333333333333333, \"#9c179e\"], [0.4444444444444444, \"#bd3786\"], [0.5555555555555556, \"#d8576b\"], [0.6666666666666666, \"#ed7953\"], [0.7777777777777778, \"#fb9f3a\"], [0.8888888888888888, \"#fdca26\"], [1.0, \"#f0f921\"]], \"type\": \"surface\"}], \"table\": [{\"cells\": {\"fill\": {\"color\": \"#EBF0F8\"}, \"line\": {\"color\": \"white\"}}, \"header\": {\"fill\": {\"color\": \"#C8D4E3\"}, \"line\": {\"color\": \"white\"}}, \"type\": \"table\"}]}, \"layout\": {\"annotationdefaults\": {\"arrowcolor\": \"#2a3f5f\", \"arrowhead\": 0, \"arrowwidth\": 1}, \"coloraxis\": {\"colorbar\": {\"outlinewidth\": 0, \"ticks\": \"\"}}, \"colorscale\": {\"diverging\": [[0, \"#8e0152\"], [0.1, \"#c51b7d\"], [0.2, \"#de77ae\"], [0.3, \"#f1b6da\"], [0.4, \"#fde0ef\"], [0.5, \"#f7f7f7\"], [0.6, \"#e6f5d0\"], [0.7, \"#b8e186\"], [0.8, \"#7fbc41\"], [0.9, \"#4d9221\"], [1, \"#276419\"]], \"sequential\": [[0.0, \"#0d0887\"], [0.1111111111111111, \"#46039f\"], [0.2222222222222222, \"#7201a8\"], [0.3333333333333333, \"#9c179e\"], [0.4444444444444444, \"#bd3786\"], [0.5555555555555556, \"#d8576b\"], [0.6666666666666666, \"#ed7953\"], [0.7777777777777778, \"#fb9f3a\"], [0.8888888888888888, \"#fdca26\"], [1.0, \"#f0f921\"]], \"sequentialminus\": [[0.0, \"#0d0887\"], [0.1111111111111111, \"#46039f\"], [0.2222222222222222, \"#7201a8\"], [0.3333333333333333, \"#9c179e\"], [0.4444444444444444, \"#bd3786\"], [0.5555555555555556, \"#d8576b\"], [0.6666666666666666, \"#ed7953\"], [0.7777777777777778, \"#fb9f3a\"], [0.8888888888888888, \"#fdca26\"], [1.0, \"#f0f921\"]]}, \"colorway\": [\"#636efa\", \"#EF553B\", \"#00cc96\", \"#ab63fa\", \"#FFA15A\", \"#19d3f3\", \"#FF6692\", \"#B6E880\", \"#FF97FF\", \"#FECB52\"], \"font\": {\"color\": \"#2a3f5f\"}, \"geo\": {\"bgcolor\": \"white\", \"lakecolor\": \"white\", \"landcolor\": \"#E5ECF6\", \"showlakes\": true, \"showland\": true, \"subunitcolor\": \"white\"}, \"hoverlabel\": {\"align\": \"left\"}, \"hovermode\": \"closest\", \"mapbox\": {\"style\": \"light\"}, \"paper_bgcolor\": \"white\", \"plot_bgcolor\": \"#E5ECF6\", \"polar\": {\"angularaxis\": {\"gridcolor\": \"white\", \"linecolor\": \"white\", \"ticks\": \"\"}, \"bgcolor\": \"#E5ECF6\", \"radialaxis\": {\"gridcolor\": \"white\", \"linecolor\": \"white\", \"ticks\": \"\"}}, \"scene\": {\"xaxis\": {\"backgroundcolor\": \"#E5ECF6\", \"gridcolor\": \"white\", \"gridwidth\": 2, \"linecolor\": \"white\", \"showbackground\": true, \"ticks\": \"\", \"zerolinecolor\": \"white\"}, \"yaxis\": {\"backgroundcolor\": \"#E5ECF6\", \"gridcolor\": \"white\", \"gridwidth\": 2, \"linecolor\": \"white\", \"showbackground\": true, \"ticks\": \"\", \"zerolinecolor\": \"white\"}, \"zaxis\": {\"backgroundcolor\": \"#E5ECF6\", \"gridcolor\": \"white\", \"gridwidth\": 2, \"linecolor\": \"white\", \"showbackground\": true, \"ticks\": \"\", \"zerolinecolor\": \"white\"}}, \"shapedefaults\": {\"line\": {\"color\": \"#2a3f5f\"}}, \"ternary\": {\"aaxis\": {\"gridcolor\": \"white\", \"linecolor\": \"white\", \"ticks\": \"\"}, \"baxis\": {\"gridcolor\": \"white\", \"linecolor\": \"white\", \"ticks\": \"\"}, \"bgcolor\": \"#E5ECF6\", \"caxis\": {\"gridcolor\": \"white\", \"linecolor\": \"white\", \"ticks\": \"\"}}, \"title\": {\"x\": 0.05}, \"xaxis\": {\"automargin\": true, \"gridcolor\": \"white\", \"linecolor\": \"white\", \"ticks\": \"\", \"title\": {\"standoff\": 15}, \"zerolinecolor\": \"white\", \"zerolinewidth\": 2}, \"yaxis\": {\"automargin\": true, \"gridcolor\": \"white\", \"linecolor\": \"white\", \"ticks\": \"\", \"title\": {\"standoff\": 15}, \"zerolinecolor\": \"white\", \"zerolinewidth\": 2}}}, \"title\": {\"font\": {\"color\": \"#4D5663\"}}, \"xaxis\": {\"gridcolor\": \"#E1E5ED\", \"showgrid\": true, \"tickfont\": {\"color\": \"#4D5663\"}, \"title\": {\"font\": {\"color\": \"#4D5663\"}, \"text\": \"\"}, \"zerolinecolor\": \"#E1E5ED\"}, \"xaxis2\": {\"anchor\": \"y2\", \"gridcolor\": \"#E1E5ED\", \"showgrid\": true, \"showticklabels\": false, \"tickfont\": {\"color\": \"#4D5663\"}, \"title\": {\"font\": {\"color\": \"#4D5663\"}, \"text\": \"\"}, \"zerolinecolor\": \"#E1E5ED\"}, \"yaxis\": {\"domain\": [0.3, 1], \"gridcolor\": \"#E1E5ED\", \"showgrid\": true, \"tickfont\": {\"color\": \"#4D5663\"}, \"title\": {\"font\": {\"color\": \"#4D5663\"}, \"text\": \"\"}, \"zerolinecolor\": \"#E1E5ED\"}, \"yaxis2\": {\"domain\": [0, 0.25], \"gridcolor\": \"#E1E5ED\", \"showgrid\": true, \"tickfont\": {\"color\": \"#4D5663\"}, \"title\": {\"font\": {\"color\": \"#4D5663\"}, \"text\": \"Spread\"}, \"zerolinecolor\": \"#E1E5ED\"}},\n",
       "                        {\"showLink\": true, \"linkText\": \"Export to plot.ly\", \"plotlyServerURL\": \"https://plot.ly\", \"responsive\": true}\n",
       "                    ).then(function(){\n",
       "                            \n",
       "var gd = document.getElementById('9e31a4fa-e12e-405d-94e2-3fede11bc24c');\n",
       "var x = new MutationObserver(function (mutations, observer) {{\n",
       "        var display = window.getComputedStyle(gd).display;\n",
       "        if (!display || display === 'none') {{\n",
       "            console.log([gd, 'removed!']);\n",
       "            Plotly.purge(gd);\n",
       "            observer.disconnect();\n",
       "        }}\n",
       "}});\n",
       "\n",
       "// Listen for the removal of the full notebook cells\n",
       "var notebookContainer = gd.closest('#notebook-container');\n",
       "if (notebookContainer) {{\n",
       "    x.observe(notebookContainer, {childList: true});\n",
       "}}\n",
       "\n",
       "// Listen for the clearing of the current output cell\n",
       "var outputEl = gd.closest('.output');\n",
       "if (outputEl) {{\n",
       "    x.observe(outputEl, {childList: true});\n",
       "}}\n",
       "\n",
       "                        })\n",
       "                };\n",
       "                });\n",
       "            </script>\n",
       "        </div>"
      ]
     },
     "metadata": {},
     "output_type": "display_data"
    }
   ],
   "source": [
    "df[['A','B']].iplot(kind='spread')"
   ]
  },
  {
   "cell_type": "markdown",
   "metadata": {},
   "source": [
    "## histogram"
   ]
  },
  {
   "cell_type": "code",
   "execution_count": 18,
   "metadata": {},
   "outputs": [
    {
     "data": {
      "application/vnd.plotly.v1+json": {
       "config": {
        "linkText": "Export to plot.ly",
        "plotlyServerURL": "https://plot.ly",
        "showLink": true
       },
       "data": [
        {
         "histfunc": "count",
         "histnorm": "",
         "marker": {
          "color": "rgba(255, 153, 51, 1.0)",
          "line": {
           "color": "#4D5663",
           "width": 1.3
          }
         },
         "name": "A",
         "nbinsx": 25,
         "opacity": 0.8,
         "orientation": "v",
         "type": "histogram",
         "x": [
          0.32205259576789935,
          -1.2705842440830204,
          0.10782211694491088,
          -1.2646863492002582,
          -0.623016293453436,
          0.4370049139590851,
          -1.8552254970766764,
          -1.073096970098413,
          1.3267635793739714,
          0.24419011655680606,
          1.0557345774677764,
          1.7122399294231183,
          -0.2677909309326994,
          -0.28051016349477526,
          1.4218608035818048,
          -1.0755029134841767,
          -0.9863577816639659,
          1.1115777342445334,
          -0.6008887227314611,
          -0.22539529068580208,
          -1.9716753893735646,
          -0.2365223696654613,
          0.03208548148818823,
          1.8767437352407905,
          0.11545545793837805,
          0.4970025785014497,
          1.3483980343794544,
          -0.010039690351554604,
          -0.2862034883600797,
          0.7806427708890616,
          1.2081127390165514,
          2.218774713469848,
          0.32195990417680637,
          -0.789709658198847,
          -0.9214869451393399,
          0.6711847095892842,
          -2.0114126158674566,
          -0.5309530198516696,
          -0.5878185997505112,
          -1.2238813239452369,
          -0.6931838125152013,
          -0.18979028816183985,
          0.1999551589396969,
          -0.8954707479977178,
          0.008236776144134046,
          -0.7787953946941676,
          -1.2036680132508266,
          -1.0847531776936057,
          0.005830557401403538,
          0.1728310981019457,
          0.4449020848059417,
          -1.2639359430032238,
          -0.43542486573921074,
          0.9384190809815643,
          0.4417474515879442,
          0.9940869401415626,
          -0.24283687971943876,
          1.1349532128915576,
          -1.4141984420513154,
          -0.1588896627196114,
          1.4481799160580093,
          2.1823007739131963,
          2.2440304393283648,
          -0.5847717373041349,
          0.8639441573674254,
          1.5196751985682482,
          0.3827391753660122,
          0.8684445003403783,
          -1.2023800499448436,
          0.8930942078797675,
          0.9233087070208601,
          0.6698237160538058,
          0.02239191937027293,
          0.7820499553794281,
          -0.3248424573510298,
          -1.8242941941509472,
          -0.09514443783697729,
          1.2553052652092374,
          0.5534742778189647,
          -0.12727753897390603,
          -0.7962665535640177,
          1.2211010568044924,
          1.5560296838025678,
          -0.40481828496818456,
          0.5218851881531966,
          -1.5271712764268646,
          -2.776318086494025,
          0.999386989977953,
          -0.19556324612903161,
          1.6357935804232269,
          -0.8896042579824299,
          0.8581748464534634,
          0.8086306539297275,
          0.506194813669362,
          0.7183057346101549,
          -0.11471459993668659,
          -1.0265711561628377,
          -0.5019344243022291,
          1.6007548010842878,
          -0.40354560457594973
         ]
        }
       ],
       "layout": {
        "barmode": "overlay",
        "legend": {
         "bgcolor": "#F5F6F9",
         "font": {
          "color": "#4D5663"
         }
        },
        "paper_bgcolor": "#F5F6F9",
        "plot_bgcolor": "#F5F6F9",
        "template": {
         "data": {
          "bar": [
           {
            "error_x": {
             "color": "#2a3f5f"
            },
            "error_y": {
             "color": "#2a3f5f"
            },
            "marker": {
             "line": {
              "color": "#E5ECF6",
              "width": 0.5
             }
            },
            "type": "bar"
           }
          ],
          "barpolar": [
           {
            "marker": {
             "line": {
              "color": "#E5ECF6",
              "width": 0.5
             }
            },
            "type": "barpolar"
           }
          ],
          "carpet": [
           {
            "aaxis": {
             "endlinecolor": "#2a3f5f",
             "gridcolor": "white",
             "linecolor": "white",
             "minorgridcolor": "white",
             "startlinecolor": "#2a3f5f"
            },
            "baxis": {
             "endlinecolor": "#2a3f5f",
             "gridcolor": "white",
             "linecolor": "white",
             "minorgridcolor": "white",
             "startlinecolor": "#2a3f5f"
            },
            "type": "carpet"
           }
          ],
          "choropleth": [
           {
            "colorbar": {
             "outlinewidth": 0,
             "ticks": ""
            },
            "type": "choropleth"
           }
          ],
          "contour": [
           {
            "colorbar": {
             "outlinewidth": 0,
             "ticks": ""
            },
            "colorscale": [
             [
              0,
              "#0d0887"
             ],
             [
              0.1111111111111111,
              "#46039f"
             ],
             [
              0.2222222222222222,
              "#7201a8"
             ],
             [
              0.3333333333333333,
              "#9c179e"
             ],
             [
              0.4444444444444444,
              "#bd3786"
             ],
             [
              0.5555555555555556,
              "#d8576b"
             ],
             [
              0.6666666666666666,
              "#ed7953"
             ],
             [
              0.7777777777777778,
              "#fb9f3a"
             ],
             [
              0.8888888888888888,
              "#fdca26"
             ],
             [
              1,
              "#f0f921"
             ]
            ],
            "type": "contour"
           }
          ],
          "contourcarpet": [
           {
            "colorbar": {
             "outlinewidth": 0,
             "ticks": ""
            },
            "type": "contourcarpet"
           }
          ],
          "heatmap": [
           {
            "colorbar": {
             "outlinewidth": 0,
             "ticks": ""
            },
            "colorscale": [
             [
              0,
              "#0d0887"
             ],
             [
              0.1111111111111111,
              "#46039f"
             ],
             [
              0.2222222222222222,
              "#7201a8"
             ],
             [
              0.3333333333333333,
              "#9c179e"
             ],
             [
              0.4444444444444444,
              "#bd3786"
             ],
             [
              0.5555555555555556,
              "#d8576b"
             ],
             [
              0.6666666666666666,
              "#ed7953"
             ],
             [
              0.7777777777777778,
              "#fb9f3a"
             ],
             [
              0.8888888888888888,
              "#fdca26"
             ],
             [
              1,
              "#f0f921"
             ]
            ],
            "type": "heatmap"
           }
          ],
          "heatmapgl": [
           {
            "colorbar": {
             "outlinewidth": 0,
             "ticks": ""
            },
            "colorscale": [
             [
              0,
              "#0d0887"
             ],
             [
              0.1111111111111111,
              "#46039f"
             ],
             [
              0.2222222222222222,
              "#7201a8"
             ],
             [
              0.3333333333333333,
              "#9c179e"
             ],
             [
              0.4444444444444444,
              "#bd3786"
             ],
             [
              0.5555555555555556,
              "#d8576b"
             ],
             [
              0.6666666666666666,
              "#ed7953"
             ],
             [
              0.7777777777777778,
              "#fb9f3a"
             ],
             [
              0.8888888888888888,
              "#fdca26"
             ],
             [
              1,
              "#f0f921"
             ]
            ],
            "type": "heatmapgl"
           }
          ],
          "histogram": [
           {
            "marker": {
             "colorbar": {
              "outlinewidth": 0,
              "ticks": ""
             }
            },
            "type": "histogram"
           }
          ],
          "histogram2d": [
           {
            "colorbar": {
             "outlinewidth": 0,
             "ticks": ""
            },
            "colorscale": [
             [
              0,
              "#0d0887"
             ],
             [
              0.1111111111111111,
              "#46039f"
             ],
             [
              0.2222222222222222,
              "#7201a8"
             ],
             [
              0.3333333333333333,
              "#9c179e"
             ],
             [
              0.4444444444444444,
              "#bd3786"
             ],
             [
              0.5555555555555556,
              "#d8576b"
             ],
             [
              0.6666666666666666,
              "#ed7953"
             ],
             [
              0.7777777777777778,
              "#fb9f3a"
             ],
             [
              0.8888888888888888,
              "#fdca26"
             ],
             [
              1,
              "#f0f921"
             ]
            ],
            "type": "histogram2d"
           }
          ],
          "histogram2dcontour": [
           {
            "colorbar": {
             "outlinewidth": 0,
             "ticks": ""
            },
            "colorscale": [
             [
              0,
              "#0d0887"
             ],
             [
              0.1111111111111111,
              "#46039f"
             ],
             [
              0.2222222222222222,
              "#7201a8"
             ],
             [
              0.3333333333333333,
              "#9c179e"
             ],
             [
              0.4444444444444444,
              "#bd3786"
             ],
             [
              0.5555555555555556,
              "#d8576b"
             ],
             [
              0.6666666666666666,
              "#ed7953"
             ],
             [
              0.7777777777777778,
              "#fb9f3a"
             ],
             [
              0.8888888888888888,
              "#fdca26"
             ],
             [
              1,
              "#f0f921"
             ]
            ],
            "type": "histogram2dcontour"
           }
          ],
          "mesh3d": [
           {
            "colorbar": {
             "outlinewidth": 0,
             "ticks": ""
            },
            "type": "mesh3d"
           }
          ],
          "parcoords": [
           {
            "line": {
             "colorbar": {
              "outlinewidth": 0,
              "ticks": ""
             }
            },
            "type": "parcoords"
           }
          ],
          "pie": [
           {
            "automargin": true,
            "type": "pie"
           }
          ],
          "scatter": [
           {
            "marker": {
             "colorbar": {
              "outlinewidth": 0,
              "ticks": ""
             }
            },
            "type": "scatter"
           }
          ],
          "scatter3d": [
           {
            "line": {
             "colorbar": {
              "outlinewidth": 0,
              "ticks": ""
             }
            },
            "marker": {
             "colorbar": {
              "outlinewidth": 0,
              "ticks": ""
             }
            },
            "type": "scatter3d"
           }
          ],
          "scattercarpet": [
           {
            "marker": {
             "colorbar": {
              "outlinewidth": 0,
              "ticks": ""
             }
            },
            "type": "scattercarpet"
           }
          ],
          "scattergeo": [
           {
            "marker": {
             "colorbar": {
              "outlinewidth": 0,
              "ticks": ""
             }
            },
            "type": "scattergeo"
           }
          ],
          "scattergl": [
           {
            "marker": {
             "colorbar": {
              "outlinewidth": 0,
              "ticks": ""
             }
            },
            "type": "scattergl"
           }
          ],
          "scattermapbox": [
           {
            "marker": {
             "colorbar": {
              "outlinewidth": 0,
              "ticks": ""
             }
            },
            "type": "scattermapbox"
           }
          ],
          "scatterpolar": [
           {
            "marker": {
             "colorbar": {
              "outlinewidth": 0,
              "ticks": ""
             }
            },
            "type": "scatterpolar"
           }
          ],
          "scatterpolargl": [
           {
            "marker": {
             "colorbar": {
              "outlinewidth": 0,
              "ticks": ""
             }
            },
            "type": "scatterpolargl"
           }
          ],
          "scatterternary": [
           {
            "marker": {
             "colorbar": {
              "outlinewidth": 0,
              "ticks": ""
             }
            },
            "type": "scatterternary"
           }
          ],
          "surface": [
           {
            "colorbar": {
             "outlinewidth": 0,
             "ticks": ""
            },
            "colorscale": [
             [
              0,
              "#0d0887"
             ],
             [
              0.1111111111111111,
              "#46039f"
             ],
             [
              0.2222222222222222,
              "#7201a8"
             ],
             [
              0.3333333333333333,
              "#9c179e"
             ],
             [
              0.4444444444444444,
              "#bd3786"
             ],
             [
              0.5555555555555556,
              "#d8576b"
             ],
             [
              0.6666666666666666,
              "#ed7953"
             ],
             [
              0.7777777777777778,
              "#fb9f3a"
             ],
             [
              0.8888888888888888,
              "#fdca26"
             ],
             [
              1,
              "#f0f921"
             ]
            ],
            "type": "surface"
           }
          ],
          "table": [
           {
            "cells": {
             "fill": {
              "color": "#EBF0F8"
             },
             "line": {
              "color": "white"
             }
            },
            "header": {
             "fill": {
              "color": "#C8D4E3"
             },
             "line": {
              "color": "white"
             }
            },
            "type": "table"
           }
          ]
         },
         "layout": {
          "annotationdefaults": {
           "arrowcolor": "#2a3f5f",
           "arrowhead": 0,
           "arrowwidth": 1
          },
          "coloraxis": {
           "colorbar": {
            "outlinewidth": 0,
            "ticks": ""
           }
          },
          "colorscale": {
           "diverging": [
            [
             0,
             "#8e0152"
            ],
            [
             0.1,
             "#c51b7d"
            ],
            [
             0.2,
             "#de77ae"
            ],
            [
             0.3,
             "#f1b6da"
            ],
            [
             0.4,
             "#fde0ef"
            ],
            [
             0.5,
             "#f7f7f7"
            ],
            [
             0.6,
             "#e6f5d0"
            ],
            [
             0.7,
             "#b8e186"
            ],
            [
             0.8,
             "#7fbc41"
            ],
            [
             0.9,
             "#4d9221"
            ],
            [
             1,
             "#276419"
            ]
           ],
           "sequential": [
            [
             0,
             "#0d0887"
            ],
            [
             0.1111111111111111,
             "#46039f"
            ],
            [
             0.2222222222222222,
             "#7201a8"
            ],
            [
             0.3333333333333333,
             "#9c179e"
            ],
            [
             0.4444444444444444,
             "#bd3786"
            ],
            [
             0.5555555555555556,
             "#d8576b"
            ],
            [
             0.6666666666666666,
             "#ed7953"
            ],
            [
             0.7777777777777778,
             "#fb9f3a"
            ],
            [
             0.8888888888888888,
             "#fdca26"
            ],
            [
             1,
             "#f0f921"
            ]
           ],
           "sequentialminus": [
            [
             0,
             "#0d0887"
            ],
            [
             0.1111111111111111,
             "#46039f"
            ],
            [
             0.2222222222222222,
             "#7201a8"
            ],
            [
             0.3333333333333333,
             "#9c179e"
            ],
            [
             0.4444444444444444,
             "#bd3786"
            ],
            [
             0.5555555555555556,
             "#d8576b"
            ],
            [
             0.6666666666666666,
             "#ed7953"
            ],
            [
             0.7777777777777778,
             "#fb9f3a"
            ],
            [
             0.8888888888888888,
             "#fdca26"
            ],
            [
             1,
             "#f0f921"
            ]
           ]
          },
          "colorway": [
           "#636efa",
           "#EF553B",
           "#00cc96",
           "#ab63fa",
           "#FFA15A",
           "#19d3f3",
           "#FF6692",
           "#B6E880",
           "#FF97FF",
           "#FECB52"
          ],
          "font": {
           "color": "#2a3f5f"
          },
          "geo": {
           "bgcolor": "white",
           "lakecolor": "white",
           "landcolor": "#E5ECF6",
           "showlakes": true,
           "showland": true,
           "subunitcolor": "white"
          },
          "hoverlabel": {
           "align": "left"
          },
          "hovermode": "closest",
          "mapbox": {
           "style": "light"
          },
          "paper_bgcolor": "white",
          "plot_bgcolor": "#E5ECF6",
          "polar": {
           "angularaxis": {
            "gridcolor": "white",
            "linecolor": "white",
            "ticks": ""
           },
           "bgcolor": "#E5ECF6",
           "radialaxis": {
            "gridcolor": "white",
            "linecolor": "white",
            "ticks": ""
           }
          },
          "scene": {
           "xaxis": {
            "backgroundcolor": "#E5ECF6",
            "gridcolor": "white",
            "gridwidth": 2,
            "linecolor": "white",
            "showbackground": true,
            "ticks": "",
            "zerolinecolor": "white"
           },
           "yaxis": {
            "backgroundcolor": "#E5ECF6",
            "gridcolor": "white",
            "gridwidth": 2,
            "linecolor": "white",
            "showbackground": true,
            "ticks": "",
            "zerolinecolor": "white"
           },
           "zaxis": {
            "backgroundcolor": "#E5ECF6",
            "gridcolor": "white",
            "gridwidth": 2,
            "linecolor": "white",
            "showbackground": true,
            "ticks": "",
            "zerolinecolor": "white"
           }
          },
          "shapedefaults": {
           "line": {
            "color": "#2a3f5f"
           }
          },
          "ternary": {
           "aaxis": {
            "gridcolor": "white",
            "linecolor": "white",
            "ticks": ""
           },
           "baxis": {
            "gridcolor": "white",
            "linecolor": "white",
            "ticks": ""
           },
           "bgcolor": "#E5ECF6",
           "caxis": {
            "gridcolor": "white",
            "linecolor": "white",
            "ticks": ""
           }
          },
          "title": {
           "x": 0.05
          },
          "xaxis": {
           "automargin": true,
           "gridcolor": "white",
           "linecolor": "white",
           "ticks": "",
           "title": {
            "standoff": 15
           },
           "zerolinecolor": "white",
           "zerolinewidth": 2
          },
          "yaxis": {
           "automargin": true,
           "gridcolor": "white",
           "linecolor": "white",
           "ticks": "",
           "title": {
            "standoff": 15
           },
           "zerolinecolor": "white",
           "zerolinewidth": 2
          }
         }
        },
        "title": {
         "font": {
          "color": "#4D5663"
         }
        },
        "xaxis": {
         "gridcolor": "#E1E5ED",
         "showgrid": true,
         "tickfont": {
          "color": "#4D5663"
         },
         "title": {
          "font": {
           "color": "#4D5663"
          },
          "text": ""
         },
         "zerolinecolor": "#E1E5ED"
        },
        "yaxis": {
         "gridcolor": "#E1E5ED",
         "showgrid": true,
         "tickfont": {
          "color": "#4D5663"
         },
         "title": {
          "font": {
           "color": "#4D5663"
          },
          "text": ""
         },
         "zerolinecolor": "#E1E5ED"
        }
       }
      },
      "text/html": [
       "<div>\n",
       "        \n",
       "        \n",
       "            <div id=\"9bc99653-1c41-4fc5-bd2e-8d88e745bbac\" class=\"plotly-graph-div\" style=\"height:525px; width:100%;\"></div>\n",
       "            <script type=\"text/javascript\">\n",
       "                require([\"plotly\"], function(Plotly) {\n",
       "                    window.PLOTLYENV=window.PLOTLYENV || {};\n",
       "                    window.PLOTLYENV.BASE_URL='https://plot.ly';\n",
       "                    \n",
       "                if (document.getElementById(\"9bc99653-1c41-4fc5-bd2e-8d88e745bbac\")) {\n",
       "                    Plotly.newPlot(\n",
       "                        '9bc99653-1c41-4fc5-bd2e-8d88e745bbac',\n",
       "                        [{\"histfunc\": \"count\", \"histnorm\": \"\", \"marker\": {\"color\": \"rgba(255, 153, 51, 1.0)\", \"line\": {\"color\": \"#4D5663\", \"width\": 1.3}}, \"name\": \"A\", \"nbinsx\": 25, \"opacity\": 0.8, \"orientation\": \"v\", \"type\": \"histogram\", \"x\": [0.32205259576789935, -1.2705842440830204, 0.10782211694491088, -1.2646863492002582, -0.623016293453436, 0.4370049139590851, -1.8552254970766764, -1.073096970098413, 1.3267635793739714, 0.24419011655680606, 1.0557345774677764, 1.7122399294231183, -0.2677909309326994, -0.28051016349477526, 1.4218608035818048, -1.0755029134841767, -0.9863577816639659, 1.1115777342445334, -0.6008887227314611, -0.22539529068580208, -1.9716753893735646, -0.2365223696654613, 0.03208548148818823, 1.8767437352407905, 0.11545545793837805, 0.4970025785014497, 1.3483980343794544, -0.010039690351554604, -0.2862034883600797, 0.7806427708890616, 1.2081127390165514, 2.218774713469848, 0.32195990417680637, -0.789709658198847, -0.9214869451393399, 0.6711847095892842, -2.0114126158674566, -0.5309530198516696, -0.5878185997505112, -1.2238813239452369, -0.6931838125152013, -0.18979028816183985, 0.1999551589396969, -0.8954707479977178, 0.008236776144134046, -0.7787953946941676, -1.2036680132508266, -1.0847531776936057, 0.005830557401403538, 0.1728310981019457, 0.4449020848059417, -1.2639359430032238, -0.43542486573921074, 0.9384190809815643, 0.4417474515879442, 0.9940869401415626, -0.24283687971943876, 1.1349532128915576, -1.4141984420513154, -0.1588896627196114, 1.4481799160580093, 2.1823007739131963, 2.2440304393283648, -0.5847717373041349, 0.8639441573674254, 1.5196751985682482, 0.3827391753660122, 0.8684445003403783, -1.2023800499448436, 0.8930942078797675, 0.9233087070208601, 0.6698237160538058, 0.02239191937027293, 0.7820499553794281, -0.3248424573510298, -1.8242941941509472, -0.09514443783697729, 1.2553052652092374, 0.5534742778189647, -0.12727753897390603, -0.7962665535640177, 1.2211010568044924, 1.5560296838025678, -0.40481828496818456, 0.5218851881531966, -1.5271712764268646, -2.776318086494025, 0.999386989977953, -0.19556324612903161, 1.6357935804232269, -0.8896042579824299, 0.8581748464534634, 0.8086306539297275, 0.506194813669362, 0.7183057346101549, -0.11471459993668659, -1.0265711561628377, -0.5019344243022291, 1.6007548010842878, -0.40354560457594973]}],\n",
       "                        {\"barmode\": \"overlay\", \"legend\": {\"bgcolor\": \"#F5F6F9\", \"font\": {\"color\": \"#4D5663\"}}, \"paper_bgcolor\": \"#F5F6F9\", \"plot_bgcolor\": \"#F5F6F9\", \"template\": {\"data\": {\"bar\": [{\"error_x\": {\"color\": \"#2a3f5f\"}, \"error_y\": {\"color\": \"#2a3f5f\"}, \"marker\": {\"line\": {\"color\": \"#E5ECF6\", \"width\": 0.5}}, \"type\": \"bar\"}], \"barpolar\": [{\"marker\": {\"line\": {\"color\": \"#E5ECF6\", \"width\": 0.5}}, \"type\": \"barpolar\"}], \"carpet\": [{\"aaxis\": {\"endlinecolor\": \"#2a3f5f\", \"gridcolor\": \"white\", \"linecolor\": \"white\", \"minorgridcolor\": \"white\", \"startlinecolor\": \"#2a3f5f\"}, \"baxis\": {\"endlinecolor\": \"#2a3f5f\", \"gridcolor\": \"white\", \"linecolor\": \"white\", \"minorgridcolor\": \"white\", \"startlinecolor\": \"#2a3f5f\"}, \"type\": \"carpet\"}], \"choropleth\": [{\"colorbar\": {\"outlinewidth\": 0, \"ticks\": \"\"}, \"type\": \"choropleth\"}], \"contour\": [{\"colorbar\": {\"outlinewidth\": 0, \"ticks\": \"\"}, \"colorscale\": [[0.0, \"#0d0887\"], [0.1111111111111111, \"#46039f\"], [0.2222222222222222, \"#7201a8\"], [0.3333333333333333, \"#9c179e\"], [0.4444444444444444, \"#bd3786\"], [0.5555555555555556, \"#d8576b\"], [0.6666666666666666, \"#ed7953\"], [0.7777777777777778, \"#fb9f3a\"], [0.8888888888888888, \"#fdca26\"], [1.0, \"#f0f921\"]], \"type\": \"contour\"}], \"contourcarpet\": [{\"colorbar\": {\"outlinewidth\": 0, \"ticks\": \"\"}, \"type\": \"contourcarpet\"}], \"heatmap\": [{\"colorbar\": {\"outlinewidth\": 0, \"ticks\": \"\"}, \"colorscale\": [[0.0, \"#0d0887\"], [0.1111111111111111, \"#46039f\"], [0.2222222222222222, \"#7201a8\"], [0.3333333333333333, \"#9c179e\"], [0.4444444444444444, \"#bd3786\"], [0.5555555555555556, \"#d8576b\"], [0.6666666666666666, \"#ed7953\"], [0.7777777777777778, \"#fb9f3a\"], [0.8888888888888888, \"#fdca26\"], [1.0, \"#f0f921\"]], \"type\": \"heatmap\"}], \"heatmapgl\": [{\"colorbar\": {\"outlinewidth\": 0, \"ticks\": \"\"}, \"colorscale\": [[0.0, \"#0d0887\"], [0.1111111111111111, \"#46039f\"], [0.2222222222222222, \"#7201a8\"], [0.3333333333333333, \"#9c179e\"], [0.4444444444444444, \"#bd3786\"], [0.5555555555555556, \"#d8576b\"], [0.6666666666666666, \"#ed7953\"], [0.7777777777777778, \"#fb9f3a\"], [0.8888888888888888, \"#fdca26\"], [1.0, \"#f0f921\"]], \"type\": \"heatmapgl\"}], \"histogram\": [{\"marker\": {\"colorbar\": {\"outlinewidth\": 0, \"ticks\": \"\"}}, \"type\": \"histogram\"}], \"histogram2d\": [{\"colorbar\": {\"outlinewidth\": 0, \"ticks\": \"\"}, \"colorscale\": [[0.0, \"#0d0887\"], [0.1111111111111111, \"#46039f\"], [0.2222222222222222, \"#7201a8\"], [0.3333333333333333, \"#9c179e\"], [0.4444444444444444, \"#bd3786\"], [0.5555555555555556, \"#d8576b\"], [0.6666666666666666, \"#ed7953\"], [0.7777777777777778, \"#fb9f3a\"], [0.8888888888888888, \"#fdca26\"], [1.0, \"#f0f921\"]], \"type\": \"histogram2d\"}], \"histogram2dcontour\": [{\"colorbar\": {\"outlinewidth\": 0, \"ticks\": \"\"}, \"colorscale\": [[0.0, \"#0d0887\"], [0.1111111111111111, \"#46039f\"], [0.2222222222222222, \"#7201a8\"], [0.3333333333333333, \"#9c179e\"], [0.4444444444444444, \"#bd3786\"], [0.5555555555555556, \"#d8576b\"], [0.6666666666666666, \"#ed7953\"], [0.7777777777777778, \"#fb9f3a\"], [0.8888888888888888, \"#fdca26\"], [1.0, \"#f0f921\"]], \"type\": \"histogram2dcontour\"}], \"mesh3d\": [{\"colorbar\": {\"outlinewidth\": 0, \"ticks\": \"\"}, \"type\": \"mesh3d\"}], \"parcoords\": [{\"line\": {\"colorbar\": {\"outlinewidth\": 0, \"ticks\": \"\"}}, \"type\": \"parcoords\"}], \"pie\": [{\"automargin\": true, \"type\": \"pie\"}], \"scatter\": [{\"marker\": {\"colorbar\": {\"outlinewidth\": 0, \"ticks\": \"\"}}, \"type\": \"scatter\"}], \"scatter3d\": [{\"line\": {\"colorbar\": {\"outlinewidth\": 0, \"ticks\": \"\"}}, \"marker\": {\"colorbar\": {\"outlinewidth\": 0, \"ticks\": \"\"}}, \"type\": \"scatter3d\"}], \"scattercarpet\": [{\"marker\": {\"colorbar\": {\"outlinewidth\": 0, \"ticks\": \"\"}}, \"type\": \"scattercarpet\"}], \"scattergeo\": [{\"marker\": {\"colorbar\": {\"outlinewidth\": 0, \"ticks\": \"\"}}, \"type\": \"scattergeo\"}], \"scattergl\": [{\"marker\": {\"colorbar\": {\"outlinewidth\": 0, \"ticks\": \"\"}}, \"type\": \"scattergl\"}], \"scattermapbox\": [{\"marker\": {\"colorbar\": {\"outlinewidth\": 0, \"ticks\": \"\"}}, \"type\": \"scattermapbox\"}], \"scatterpolar\": [{\"marker\": {\"colorbar\": {\"outlinewidth\": 0, \"ticks\": \"\"}}, \"type\": \"scatterpolar\"}], \"scatterpolargl\": [{\"marker\": {\"colorbar\": {\"outlinewidth\": 0, \"ticks\": \"\"}}, \"type\": \"scatterpolargl\"}], \"scatterternary\": [{\"marker\": {\"colorbar\": {\"outlinewidth\": 0, \"ticks\": \"\"}}, \"type\": \"scatterternary\"}], \"surface\": [{\"colorbar\": {\"outlinewidth\": 0, \"ticks\": \"\"}, \"colorscale\": [[0.0, \"#0d0887\"], [0.1111111111111111, \"#46039f\"], [0.2222222222222222, \"#7201a8\"], [0.3333333333333333, \"#9c179e\"], [0.4444444444444444, \"#bd3786\"], [0.5555555555555556, \"#d8576b\"], [0.6666666666666666, \"#ed7953\"], [0.7777777777777778, \"#fb9f3a\"], [0.8888888888888888, \"#fdca26\"], [1.0, \"#f0f921\"]], \"type\": \"surface\"}], \"table\": [{\"cells\": {\"fill\": {\"color\": \"#EBF0F8\"}, \"line\": {\"color\": \"white\"}}, \"header\": {\"fill\": {\"color\": \"#C8D4E3\"}, \"line\": {\"color\": \"white\"}}, \"type\": \"table\"}]}, \"layout\": {\"annotationdefaults\": {\"arrowcolor\": \"#2a3f5f\", \"arrowhead\": 0, \"arrowwidth\": 1}, \"coloraxis\": {\"colorbar\": {\"outlinewidth\": 0, \"ticks\": \"\"}}, \"colorscale\": {\"diverging\": [[0, \"#8e0152\"], [0.1, \"#c51b7d\"], [0.2, \"#de77ae\"], [0.3, \"#f1b6da\"], [0.4, \"#fde0ef\"], [0.5, \"#f7f7f7\"], [0.6, \"#e6f5d0\"], [0.7, \"#b8e186\"], [0.8, \"#7fbc41\"], [0.9, \"#4d9221\"], [1, \"#276419\"]], \"sequential\": [[0.0, \"#0d0887\"], [0.1111111111111111, \"#46039f\"], [0.2222222222222222, \"#7201a8\"], [0.3333333333333333, \"#9c179e\"], [0.4444444444444444, \"#bd3786\"], [0.5555555555555556, \"#d8576b\"], [0.6666666666666666, \"#ed7953\"], [0.7777777777777778, \"#fb9f3a\"], [0.8888888888888888, \"#fdca26\"], [1.0, \"#f0f921\"]], \"sequentialminus\": [[0.0, \"#0d0887\"], [0.1111111111111111, \"#46039f\"], [0.2222222222222222, \"#7201a8\"], [0.3333333333333333, \"#9c179e\"], [0.4444444444444444, \"#bd3786\"], [0.5555555555555556, \"#d8576b\"], [0.6666666666666666, \"#ed7953\"], [0.7777777777777778, \"#fb9f3a\"], [0.8888888888888888, \"#fdca26\"], [1.0, \"#f0f921\"]]}, \"colorway\": [\"#636efa\", \"#EF553B\", \"#00cc96\", \"#ab63fa\", \"#FFA15A\", \"#19d3f3\", \"#FF6692\", \"#B6E880\", \"#FF97FF\", \"#FECB52\"], \"font\": {\"color\": \"#2a3f5f\"}, \"geo\": {\"bgcolor\": \"white\", \"lakecolor\": \"white\", \"landcolor\": \"#E5ECF6\", \"showlakes\": true, \"showland\": true, \"subunitcolor\": \"white\"}, \"hoverlabel\": {\"align\": \"left\"}, \"hovermode\": \"closest\", \"mapbox\": {\"style\": \"light\"}, \"paper_bgcolor\": \"white\", \"plot_bgcolor\": \"#E5ECF6\", \"polar\": {\"angularaxis\": {\"gridcolor\": \"white\", \"linecolor\": \"white\", \"ticks\": \"\"}, \"bgcolor\": \"#E5ECF6\", \"radialaxis\": {\"gridcolor\": \"white\", \"linecolor\": \"white\", \"ticks\": \"\"}}, \"scene\": {\"xaxis\": {\"backgroundcolor\": \"#E5ECF6\", \"gridcolor\": \"white\", \"gridwidth\": 2, \"linecolor\": \"white\", \"showbackground\": true, \"ticks\": \"\", \"zerolinecolor\": \"white\"}, \"yaxis\": {\"backgroundcolor\": \"#E5ECF6\", \"gridcolor\": \"white\", \"gridwidth\": 2, \"linecolor\": \"white\", \"showbackground\": true, \"ticks\": \"\", \"zerolinecolor\": \"white\"}, \"zaxis\": {\"backgroundcolor\": \"#E5ECF6\", \"gridcolor\": \"white\", \"gridwidth\": 2, \"linecolor\": \"white\", \"showbackground\": true, \"ticks\": \"\", \"zerolinecolor\": \"white\"}}, \"shapedefaults\": {\"line\": {\"color\": \"#2a3f5f\"}}, \"ternary\": {\"aaxis\": {\"gridcolor\": \"white\", \"linecolor\": \"white\", \"ticks\": \"\"}, \"baxis\": {\"gridcolor\": \"white\", \"linecolor\": \"white\", \"ticks\": \"\"}, \"bgcolor\": \"#E5ECF6\", \"caxis\": {\"gridcolor\": \"white\", \"linecolor\": \"white\", \"ticks\": \"\"}}, \"title\": {\"x\": 0.05}, \"xaxis\": {\"automargin\": true, \"gridcolor\": \"white\", \"linecolor\": \"white\", \"ticks\": \"\", \"title\": {\"standoff\": 15}, \"zerolinecolor\": \"white\", \"zerolinewidth\": 2}, \"yaxis\": {\"automargin\": true, \"gridcolor\": \"white\", \"linecolor\": \"white\", \"ticks\": \"\", \"title\": {\"standoff\": 15}, \"zerolinecolor\": \"white\", \"zerolinewidth\": 2}}}, \"title\": {\"font\": {\"color\": \"#4D5663\"}}, \"xaxis\": {\"gridcolor\": \"#E1E5ED\", \"showgrid\": true, \"tickfont\": {\"color\": \"#4D5663\"}, \"title\": {\"font\": {\"color\": \"#4D5663\"}, \"text\": \"\"}, \"zerolinecolor\": \"#E1E5ED\"}, \"yaxis\": {\"gridcolor\": \"#E1E5ED\", \"showgrid\": true, \"tickfont\": {\"color\": \"#4D5663\"}, \"title\": {\"font\": {\"color\": \"#4D5663\"}, \"text\": \"\"}, \"zerolinecolor\": \"#E1E5ED\"}},\n",
       "                        {\"showLink\": true, \"linkText\": \"Export to plot.ly\", \"plotlyServerURL\": \"https://plot.ly\", \"responsive\": true}\n",
       "                    ).then(function(){\n",
       "                            \n",
       "var gd = document.getElementById('9bc99653-1c41-4fc5-bd2e-8d88e745bbac');\n",
       "var x = new MutationObserver(function (mutations, observer) {{\n",
       "        var display = window.getComputedStyle(gd).display;\n",
       "        if (!display || display === 'none') {{\n",
       "            console.log([gd, 'removed!']);\n",
       "            Plotly.purge(gd);\n",
       "            observer.disconnect();\n",
       "        }}\n",
       "}});\n",
       "\n",
       "// Listen for the removal of the full notebook cells\n",
       "var notebookContainer = gd.closest('#notebook-container');\n",
       "if (notebookContainer) {{\n",
       "    x.observe(notebookContainer, {childList: true});\n",
       "}}\n",
       "\n",
       "// Listen for the clearing of the current output cell\n",
       "var outputEl = gd.closest('.output');\n",
       "if (outputEl) {{\n",
       "    x.observe(outputEl, {childList: true});\n",
       "}}\n",
       "\n",
       "                        })\n",
       "                };\n",
       "                });\n",
       "            </script>\n",
       "        </div>"
      ]
     },
     "metadata": {},
     "output_type": "display_data"
    }
   ],
   "source": [
    "df['A'].iplot(kind='hist',bins=25)"
   ]
  },
  {
   "cell_type": "code",
   "execution_count": 19,
   "metadata": {},
   "outputs": [
    {
     "data": {
      "application/vnd.plotly.v1+json": {
       "config": {
        "linkText": "Export to plot.ly",
        "plotlyServerURL": "https://plot.ly",
        "showLink": true
       },
       "data": [
        {
         "marker": {
          "color": [
           "rgb(255, 153, 51)",
           "rgb(55, 128, 191)",
           "rgb(50, 171, 96)",
           "rgb(128, 0, 128)",
           "rgb(219, 64, 82)",
           "rgb(0, 128, 128)",
           "rgb(255, 255, 51)",
           "rgb(128, 128, 0)",
           "rgb(251, 128, 114)",
           "rgb(128, 177, 211)"
          ],
          "line": {
           "width": 1.3
          },
          "size": [
           107,
           83,
           56,
           69,
           64,
           82,
           96,
           63,
           86,
           42,
           75,
           85,
           42,
           79,
           90,
           101,
           48,
           81,
           64,
           12,
           46,
           44,
           68,
           63,
           100,
           75,
           67,
           57,
           83,
           73,
           87,
           66,
           64,
           56,
           80,
           51,
           61,
           92,
           65,
           69,
           43,
           76,
           88,
           57,
           56,
           47,
           98,
           93,
           74,
           54,
           84,
           35,
           72,
           73,
           54,
           74,
           66,
           87,
           94,
           103,
           67,
           31,
           73,
           40,
           53,
           60,
           84,
           70,
           91,
           52,
           95,
           86,
           112,
           63,
           75,
           58,
           63,
           49,
           72,
           71,
           87,
           64,
           60,
           28,
           78,
           61,
           92,
           70,
           73,
           91,
           69,
           75,
           65,
           45,
           36,
           76,
           98,
           94,
           58,
           89
          ],
          "symbol": "circle"
         },
         "mode": "markers",
         "text": "",
         "type": "scatter",
         "x": [
          0.32205259576789935,
          -1.2705842440830204,
          0.10782211694491088,
          -1.2646863492002582,
          -0.623016293453436,
          0.4370049139590851,
          -1.8552254970766764,
          -1.073096970098413,
          1.3267635793739714,
          0.24419011655680606,
          1.0557345774677764,
          1.7122399294231183,
          -0.2677909309326994,
          -0.28051016349477526,
          1.4218608035818048,
          -1.0755029134841767,
          -0.9863577816639659,
          1.1115777342445334,
          -0.6008887227314611,
          -0.22539529068580208,
          -1.9716753893735646,
          -0.2365223696654613,
          0.03208548148818823,
          1.8767437352407905,
          0.11545545793837805,
          0.4970025785014497,
          1.3483980343794544,
          -0.010039690351554604,
          -0.2862034883600797,
          0.7806427708890616,
          1.2081127390165514,
          2.218774713469848,
          0.32195990417680637,
          -0.789709658198847,
          -0.9214869451393399,
          0.6711847095892842,
          -2.0114126158674566,
          -0.5309530198516696,
          -0.5878185997505112,
          -1.2238813239452369,
          -0.6931838125152013,
          -0.18979028816183985,
          0.1999551589396969,
          -0.8954707479977178,
          0.008236776144134046,
          -0.7787953946941676,
          -1.2036680132508266,
          -1.0847531776936057,
          0.005830557401403538,
          0.1728310981019457,
          0.4449020848059417,
          -1.2639359430032238,
          -0.43542486573921074,
          0.9384190809815643,
          0.4417474515879442,
          0.9940869401415626,
          -0.24283687971943876,
          1.1349532128915576,
          -1.4141984420513154,
          -0.1588896627196114,
          1.4481799160580093,
          2.1823007739131963,
          2.2440304393283648,
          -0.5847717373041349,
          0.8639441573674254,
          1.5196751985682482,
          0.3827391753660122,
          0.8684445003403783,
          -1.2023800499448436,
          0.8930942078797675,
          0.9233087070208601,
          0.6698237160538058,
          0.02239191937027293,
          0.7820499553794281,
          -0.3248424573510298,
          -1.8242941941509472,
          -0.09514443783697729,
          1.2553052652092374,
          0.5534742778189647,
          -0.12727753897390603,
          -0.7962665535640177,
          1.2211010568044924,
          1.5560296838025678,
          -0.40481828496818456,
          0.5218851881531966,
          -1.5271712764268646,
          -2.776318086494025,
          0.999386989977953,
          -0.19556324612903161,
          1.6357935804232269,
          -0.8896042579824299,
          0.8581748464534634,
          0.8086306539297275,
          0.506194813669362,
          0.7183057346101549,
          -0.11471459993668659,
          -1.0265711561628377,
          -0.5019344243022291,
          1.6007548010842878,
          -0.40354560457594973
         ],
         "y": [
          0.10125898893055496,
          0.8301536855043266,
          -0.7327192245673191,
          -1.0387054262404438,
          -0.13081600367508936,
          0.38664976245140625,
          -1.0533449001438244,
          -0.20007675282923942,
          -0.6185234313147078,
          0.36942411017863375,
          -0.22375568353621758,
          0.2526470287312885,
          0.2267419219131918,
          0.2639775339786776,
          -1.132739394771502,
          -1.1482843495848114,
          -1.4128591948532767,
          -0.18778958090483552,
          0.7948906960485981,
          -0.7892335813067191,
          -0.8706073761676926,
          0.6770291787073698,
          2.0113237483420052,
          0.19388328189767956,
          -0.5002549827427382,
          -2.2199606530825187,
          0.4830527044613887,
          1.2011801375298716,
          -0.19774173866295486,
          -0.752708338255664,
          1.893701881344233,
          -1.5854693729649616,
          -1.1333779065857008,
          0.9496792076892996,
          -1.238894773355343,
          0.651939653630145,
          1.0901486579747812,
          -1.3242262316027364,
          0.2513360270523506,
          1.369678078932397,
          -1.5950170347251074,
          -0.3679375422795287,
          -1.7962568652676187,
          -0.5115298758591496,
          2.188733910681354,
          -1.1476516620997423,
          -0.8208471477547784,
          -1.416695201802754,
          2.11342701518249,
          0.08432602513735225,
          0.6781991471269608,
          0.07373698726313345,
          0.5710623935970508,
          -0.787688749375717,
          -0.41027858341862145,
          -0.34821811877131464,
          -1.5818949290626747,
          -1.1349294502844594,
          0.45585273942482807,
          1.3046051862052737,
          -0.4827487411487068,
          0.79507633799293,
          -0.5013579293617653,
          0.46322340516495625,
          -0.8457049730894419,
          1.648185620735109,
          0.19598567561280725,
          1.3150203116581147,
          1.237625968070254,
          0.08356414724553121,
          0.641786345422482,
          -0.6518313171806182,
          1.3354442167862435,
          -1.2043145454829405,
          0.4813823869913045,
          -1.5428335401166102,
          1.3821152573725537,
          -2.3212785452028672,
          0.8545589572697296,
          -0.772336453451533,
          -0.49736734351279943,
          0.14901385623969263,
          1.0662016178255687,
          -0.1434437840124678,
          -0.9085296086179435,
          1.0244448729388482,
          -1.4468528787919994,
          -0.3118340488124157,
          1.5188676784825625,
          0.15424572817777435,
          1.0003879295162246,
          1.3008090429174297,
          0.994546553788734,
          -1.2890830028500138,
          -0.40471979448408874,
          -0.03237658061551539,
          -1.3186709594255155,
          0.5681307989920067,
          -1.3027720666231417,
          -0.06021515309892382
         ]
        }
       ],
       "layout": {
        "legend": {
         "bgcolor": "#F5F6F9",
         "font": {
          "color": "#4D5663"
         }
        },
        "paper_bgcolor": "#F5F6F9",
        "plot_bgcolor": "#F5F6F9",
        "template": {
         "data": {
          "bar": [
           {
            "error_x": {
             "color": "#2a3f5f"
            },
            "error_y": {
             "color": "#2a3f5f"
            },
            "marker": {
             "line": {
              "color": "#E5ECF6",
              "width": 0.5
             }
            },
            "type": "bar"
           }
          ],
          "barpolar": [
           {
            "marker": {
             "line": {
              "color": "#E5ECF6",
              "width": 0.5
             }
            },
            "type": "barpolar"
           }
          ],
          "carpet": [
           {
            "aaxis": {
             "endlinecolor": "#2a3f5f",
             "gridcolor": "white",
             "linecolor": "white",
             "minorgridcolor": "white",
             "startlinecolor": "#2a3f5f"
            },
            "baxis": {
             "endlinecolor": "#2a3f5f",
             "gridcolor": "white",
             "linecolor": "white",
             "minorgridcolor": "white",
             "startlinecolor": "#2a3f5f"
            },
            "type": "carpet"
           }
          ],
          "choropleth": [
           {
            "colorbar": {
             "outlinewidth": 0,
             "ticks": ""
            },
            "type": "choropleth"
           }
          ],
          "contour": [
           {
            "colorbar": {
             "outlinewidth": 0,
             "ticks": ""
            },
            "colorscale": [
             [
              0,
              "#0d0887"
             ],
             [
              0.1111111111111111,
              "#46039f"
             ],
             [
              0.2222222222222222,
              "#7201a8"
             ],
             [
              0.3333333333333333,
              "#9c179e"
             ],
             [
              0.4444444444444444,
              "#bd3786"
             ],
             [
              0.5555555555555556,
              "#d8576b"
             ],
             [
              0.6666666666666666,
              "#ed7953"
             ],
             [
              0.7777777777777778,
              "#fb9f3a"
             ],
             [
              0.8888888888888888,
              "#fdca26"
             ],
             [
              1,
              "#f0f921"
             ]
            ],
            "type": "contour"
           }
          ],
          "contourcarpet": [
           {
            "colorbar": {
             "outlinewidth": 0,
             "ticks": ""
            },
            "type": "contourcarpet"
           }
          ],
          "heatmap": [
           {
            "colorbar": {
             "outlinewidth": 0,
             "ticks": ""
            },
            "colorscale": [
             [
              0,
              "#0d0887"
             ],
             [
              0.1111111111111111,
              "#46039f"
             ],
             [
              0.2222222222222222,
              "#7201a8"
             ],
             [
              0.3333333333333333,
              "#9c179e"
             ],
             [
              0.4444444444444444,
              "#bd3786"
             ],
             [
              0.5555555555555556,
              "#d8576b"
             ],
             [
              0.6666666666666666,
              "#ed7953"
             ],
             [
              0.7777777777777778,
              "#fb9f3a"
             ],
             [
              0.8888888888888888,
              "#fdca26"
             ],
             [
              1,
              "#f0f921"
             ]
            ],
            "type": "heatmap"
           }
          ],
          "heatmapgl": [
           {
            "colorbar": {
             "outlinewidth": 0,
             "ticks": ""
            },
            "colorscale": [
             [
              0,
              "#0d0887"
             ],
             [
              0.1111111111111111,
              "#46039f"
             ],
             [
              0.2222222222222222,
              "#7201a8"
             ],
             [
              0.3333333333333333,
              "#9c179e"
             ],
             [
              0.4444444444444444,
              "#bd3786"
             ],
             [
              0.5555555555555556,
              "#d8576b"
             ],
             [
              0.6666666666666666,
              "#ed7953"
             ],
             [
              0.7777777777777778,
              "#fb9f3a"
             ],
             [
              0.8888888888888888,
              "#fdca26"
             ],
             [
              1,
              "#f0f921"
             ]
            ],
            "type": "heatmapgl"
           }
          ],
          "histogram": [
           {
            "marker": {
             "colorbar": {
              "outlinewidth": 0,
              "ticks": ""
             }
            },
            "type": "histogram"
           }
          ],
          "histogram2d": [
           {
            "colorbar": {
             "outlinewidth": 0,
             "ticks": ""
            },
            "colorscale": [
             [
              0,
              "#0d0887"
             ],
             [
              0.1111111111111111,
              "#46039f"
             ],
             [
              0.2222222222222222,
              "#7201a8"
             ],
             [
              0.3333333333333333,
              "#9c179e"
             ],
             [
              0.4444444444444444,
              "#bd3786"
             ],
             [
              0.5555555555555556,
              "#d8576b"
             ],
             [
              0.6666666666666666,
              "#ed7953"
             ],
             [
              0.7777777777777778,
              "#fb9f3a"
             ],
             [
              0.8888888888888888,
              "#fdca26"
             ],
             [
              1,
              "#f0f921"
             ]
            ],
            "type": "histogram2d"
           }
          ],
          "histogram2dcontour": [
           {
            "colorbar": {
             "outlinewidth": 0,
             "ticks": ""
            },
            "colorscale": [
             [
              0,
              "#0d0887"
             ],
             [
              0.1111111111111111,
              "#46039f"
             ],
             [
              0.2222222222222222,
              "#7201a8"
             ],
             [
              0.3333333333333333,
              "#9c179e"
             ],
             [
              0.4444444444444444,
              "#bd3786"
             ],
             [
              0.5555555555555556,
              "#d8576b"
             ],
             [
              0.6666666666666666,
              "#ed7953"
             ],
             [
              0.7777777777777778,
              "#fb9f3a"
             ],
             [
              0.8888888888888888,
              "#fdca26"
             ],
             [
              1,
              "#f0f921"
             ]
            ],
            "type": "histogram2dcontour"
           }
          ],
          "mesh3d": [
           {
            "colorbar": {
             "outlinewidth": 0,
             "ticks": ""
            },
            "type": "mesh3d"
           }
          ],
          "parcoords": [
           {
            "line": {
             "colorbar": {
              "outlinewidth": 0,
              "ticks": ""
             }
            },
            "type": "parcoords"
           }
          ],
          "pie": [
           {
            "automargin": true,
            "type": "pie"
           }
          ],
          "scatter": [
           {
            "marker": {
             "colorbar": {
              "outlinewidth": 0,
              "ticks": ""
             }
            },
            "type": "scatter"
           }
          ],
          "scatter3d": [
           {
            "line": {
             "colorbar": {
              "outlinewidth": 0,
              "ticks": ""
             }
            },
            "marker": {
             "colorbar": {
              "outlinewidth": 0,
              "ticks": ""
             }
            },
            "type": "scatter3d"
           }
          ],
          "scattercarpet": [
           {
            "marker": {
             "colorbar": {
              "outlinewidth": 0,
              "ticks": ""
             }
            },
            "type": "scattercarpet"
           }
          ],
          "scattergeo": [
           {
            "marker": {
             "colorbar": {
              "outlinewidth": 0,
              "ticks": ""
             }
            },
            "type": "scattergeo"
           }
          ],
          "scattergl": [
           {
            "marker": {
             "colorbar": {
              "outlinewidth": 0,
              "ticks": ""
             }
            },
            "type": "scattergl"
           }
          ],
          "scattermapbox": [
           {
            "marker": {
             "colorbar": {
              "outlinewidth": 0,
              "ticks": ""
             }
            },
            "type": "scattermapbox"
           }
          ],
          "scatterpolar": [
           {
            "marker": {
             "colorbar": {
              "outlinewidth": 0,
              "ticks": ""
             }
            },
            "type": "scatterpolar"
           }
          ],
          "scatterpolargl": [
           {
            "marker": {
             "colorbar": {
              "outlinewidth": 0,
              "ticks": ""
             }
            },
            "type": "scatterpolargl"
           }
          ],
          "scatterternary": [
           {
            "marker": {
             "colorbar": {
              "outlinewidth": 0,
              "ticks": ""
             }
            },
            "type": "scatterternary"
           }
          ],
          "surface": [
           {
            "colorbar": {
             "outlinewidth": 0,
             "ticks": ""
            },
            "colorscale": [
             [
              0,
              "#0d0887"
             ],
             [
              0.1111111111111111,
              "#46039f"
             ],
             [
              0.2222222222222222,
              "#7201a8"
             ],
             [
              0.3333333333333333,
              "#9c179e"
             ],
             [
              0.4444444444444444,
              "#bd3786"
             ],
             [
              0.5555555555555556,
              "#d8576b"
             ],
             [
              0.6666666666666666,
              "#ed7953"
             ],
             [
              0.7777777777777778,
              "#fb9f3a"
             ],
             [
              0.8888888888888888,
              "#fdca26"
             ],
             [
              1,
              "#f0f921"
             ]
            ],
            "type": "surface"
           }
          ],
          "table": [
           {
            "cells": {
             "fill": {
              "color": "#EBF0F8"
             },
             "line": {
              "color": "white"
             }
            },
            "header": {
             "fill": {
              "color": "#C8D4E3"
             },
             "line": {
              "color": "white"
             }
            },
            "type": "table"
           }
          ]
         },
         "layout": {
          "annotationdefaults": {
           "arrowcolor": "#2a3f5f",
           "arrowhead": 0,
           "arrowwidth": 1
          },
          "coloraxis": {
           "colorbar": {
            "outlinewidth": 0,
            "ticks": ""
           }
          },
          "colorscale": {
           "diverging": [
            [
             0,
             "#8e0152"
            ],
            [
             0.1,
             "#c51b7d"
            ],
            [
             0.2,
             "#de77ae"
            ],
            [
             0.3,
             "#f1b6da"
            ],
            [
             0.4,
             "#fde0ef"
            ],
            [
             0.5,
             "#f7f7f7"
            ],
            [
             0.6,
             "#e6f5d0"
            ],
            [
             0.7,
             "#b8e186"
            ],
            [
             0.8,
             "#7fbc41"
            ],
            [
             0.9,
             "#4d9221"
            ],
            [
             1,
             "#276419"
            ]
           ],
           "sequential": [
            [
             0,
             "#0d0887"
            ],
            [
             0.1111111111111111,
             "#46039f"
            ],
            [
             0.2222222222222222,
             "#7201a8"
            ],
            [
             0.3333333333333333,
             "#9c179e"
            ],
            [
             0.4444444444444444,
             "#bd3786"
            ],
            [
             0.5555555555555556,
             "#d8576b"
            ],
            [
             0.6666666666666666,
             "#ed7953"
            ],
            [
             0.7777777777777778,
             "#fb9f3a"
            ],
            [
             0.8888888888888888,
             "#fdca26"
            ],
            [
             1,
             "#f0f921"
            ]
           ],
           "sequentialminus": [
            [
             0,
             "#0d0887"
            ],
            [
             0.1111111111111111,
             "#46039f"
            ],
            [
             0.2222222222222222,
             "#7201a8"
            ],
            [
             0.3333333333333333,
             "#9c179e"
            ],
            [
             0.4444444444444444,
             "#bd3786"
            ],
            [
             0.5555555555555556,
             "#d8576b"
            ],
            [
             0.6666666666666666,
             "#ed7953"
            ],
            [
             0.7777777777777778,
             "#fb9f3a"
            ],
            [
             0.8888888888888888,
             "#fdca26"
            ],
            [
             1,
             "#f0f921"
            ]
           ]
          },
          "colorway": [
           "#636efa",
           "#EF553B",
           "#00cc96",
           "#ab63fa",
           "#FFA15A",
           "#19d3f3",
           "#FF6692",
           "#B6E880",
           "#FF97FF",
           "#FECB52"
          ],
          "font": {
           "color": "#2a3f5f"
          },
          "geo": {
           "bgcolor": "white",
           "lakecolor": "white",
           "landcolor": "#E5ECF6",
           "showlakes": true,
           "showland": true,
           "subunitcolor": "white"
          },
          "hoverlabel": {
           "align": "left"
          },
          "hovermode": "closest",
          "mapbox": {
           "style": "light"
          },
          "paper_bgcolor": "white",
          "plot_bgcolor": "#E5ECF6",
          "polar": {
           "angularaxis": {
            "gridcolor": "white",
            "linecolor": "white",
            "ticks": ""
           },
           "bgcolor": "#E5ECF6",
           "radialaxis": {
            "gridcolor": "white",
            "linecolor": "white",
            "ticks": ""
           }
          },
          "scene": {
           "xaxis": {
            "backgroundcolor": "#E5ECF6",
            "gridcolor": "white",
            "gridwidth": 2,
            "linecolor": "white",
            "showbackground": true,
            "ticks": "",
            "zerolinecolor": "white"
           },
           "yaxis": {
            "backgroundcolor": "#E5ECF6",
            "gridcolor": "white",
            "gridwidth": 2,
            "linecolor": "white",
            "showbackground": true,
            "ticks": "",
            "zerolinecolor": "white"
           },
           "zaxis": {
            "backgroundcolor": "#E5ECF6",
            "gridcolor": "white",
            "gridwidth": 2,
            "linecolor": "white",
            "showbackground": true,
            "ticks": "",
            "zerolinecolor": "white"
           }
          },
          "shapedefaults": {
           "line": {
            "color": "#2a3f5f"
           }
          },
          "ternary": {
           "aaxis": {
            "gridcolor": "white",
            "linecolor": "white",
            "ticks": ""
           },
           "baxis": {
            "gridcolor": "white",
            "linecolor": "white",
            "ticks": ""
           },
           "bgcolor": "#E5ECF6",
           "caxis": {
            "gridcolor": "white",
            "linecolor": "white",
            "ticks": ""
           }
          },
          "title": {
           "x": 0.05
          },
          "xaxis": {
           "automargin": true,
           "gridcolor": "white",
           "linecolor": "white",
           "ticks": "",
           "title": {
            "standoff": 15
           },
           "zerolinecolor": "white",
           "zerolinewidth": 2
          },
          "yaxis": {
           "automargin": true,
           "gridcolor": "white",
           "linecolor": "white",
           "ticks": "",
           "title": {
            "standoff": 15
           },
           "zerolinecolor": "white",
           "zerolinewidth": 2
          }
         }
        },
        "title": {
         "font": {
          "color": "#4D5663"
         }
        },
        "xaxis": {
         "gridcolor": "#E1E5ED",
         "showgrid": true,
         "tickfont": {
          "color": "#4D5663"
         },
         "title": {
          "font": {
           "color": "#4D5663"
          },
          "text": ""
         },
         "zerolinecolor": "#E1E5ED"
        },
        "yaxis": {
         "gridcolor": "#E1E5ED",
         "showgrid": true,
         "tickfont": {
          "color": "#4D5663"
         },
         "title": {
          "font": {
           "color": "#4D5663"
          },
          "text": ""
         },
         "zerolinecolor": "#E1E5ED"
        }
       }
      },
      "text/html": [
       "<div>\n",
       "        \n",
       "        \n",
       "            <div id=\"d2f897fd-be79-416f-925a-293c8369215f\" class=\"plotly-graph-div\" style=\"height:525px; width:100%;\"></div>\n",
       "            <script type=\"text/javascript\">\n",
       "                require([\"plotly\"], function(Plotly) {\n",
       "                    window.PLOTLYENV=window.PLOTLYENV || {};\n",
       "                    window.PLOTLYENV.BASE_URL='https://plot.ly';\n",
       "                    \n",
       "                if (document.getElementById(\"d2f897fd-be79-416f-925a-293c8369215f\")) {\n",
       "                    Plotly.newPlot(\n",
       "                        'd2f897fd-be79-416f-925a-293c8369215f',\n",
       "                        [{\"marker\": {\"color\": [\"rgb(255, 153, 51)\", \"rgb(55, 128, 191)\", \"rgb(50, 171, 96)\", \"rgb(128, 0, 128)\", \"rgb(219, 64, 82)\", \"rgb(0, 128, 128)\", \"rgb(255, 255, 51)\", \"rgb(128, 128, 0)\", \"rgb(251, 128, 114)\", \"rgb(128, 177, 211)\"], \"line\": {\"width\": 1.3}, \"size\": [107, 83, 56, 69, 64, 82, 96, 63, 86, 42, 75, 85, 42, 79, 90, 101, 48, 81, 64, 12, 46, 44, 68, 63, 100, 75, 67, 57, 83, 73, 87, 66, 64, 56, 80, 51, 61, 92, 65, 69, 43, 76, 88, 57, 56, 47, 98, 93, 74, 54, 84, 35, 72, 73, 54, 74, 66, 87, 94, 103, 67, 31, 73, 40, 53, 60, 84, 70, 91, 52, 95, 86, 112, 63, 75, 58, 63, 49, 72, 71, 87, 64, 60, 28, 78, 61, 92, 70, 73, 91, 69, 75, 65, 45, 36, 76, 98, 94, 58, 89], \"symbol\": \"circle\"}, \"mode\": \"markers\", \"text\": \"\", \"type\": \"scatter\", \"x\": [0.32205259576789935, -1.2705842440830204, 0.10782211694491088, -1.2646863492002582, -0.623016293453436, 0.4370049139590851, -1.8552254970766764, -1.073096970098413, 1.3267635793739714, 0.24419011655680606, 1.0557345774677764, 1.7122399294231183, -0.2677909309326994, -0.28051016349477526, 1.4218608035818048, -1.0755029134841767, -0.9863577816639659, 1.1115777342445334, -0.6008887227314611, -0.22539529068580208, -1.9716753893735646, -0.2365223696654613, 0.03208548148818823, 1.8767437352407905, 0.11545545793837805, 0.4970025785014497, 1.3483980343794544, -0.010039690351554604, -0.2862034883600797, 0.7806427708890616, 1.2081127390165514, 2.218774713469848, 0.32195990417680637, -0.789709658198847, -0.9214869451393399, 0.6711847095892842, -2.0114126158674566, -0.5309530198516696, -0.5878185997505112, -1.2238813239452369, -0.6931838125152013, -0.18979028816183985, 0.1999551589396969, -0.8954707479977178, 0.008236776144134046, -0.7787953946941676, -1.2036680132508266, -1.0847531776936057, 0.005830557401403538, 0.1728310981019457, 0.4449020848059417, -1.2639359430032238, -0.43542486573921074, 0.9384190809815643, 0.4417474515879442, 0.9940869401415626, -0.24283687971943876, 1.1349532128915576, -1.4141984420513154, -0.1588896627196114, 1.4481799160580093, 2.1823007739131963, 2.2440304393283648, -0.5847717373041349, 0.8639441573674254, 1.5196751985682482, 0.3827391753660122, 0.8684445003403783, -1.2023800499448436, 0.8930942078797675, 0.9233087070208601, 0.6698237160538058, 0.02239191937027293, 0.7820499553794281, -0.3248424573510298, -1.8242941941509472, -0.09514443783697729, 1.2553052652092374, 0.5534742778189647, -0.12727753897390603, -0.7962665535640177, 1.2211010568044924, 1.5560296838025678, -0.40481828496818456, 0.5218851881531966, -1.5271712764268646, -2.776318086494025, 0.999386989977953, -0.19556324612903161, 1.6357935804232269, -0.8896042579824299, 0.8581748464534634, 0.8086306539297275, 0.506194813669362, 0.7183057346101549, -0.11471459993668659, -1.0265711561628377, -0.5019344243022291, 1.6007548010842878, -0.40354560457594973], \"y\": [0.10125898893055496, 0.8301536855043266, -0.7327192245673191, -1.0387054262404438, -0.13081600367508936, 0.38664976245140625, -1.0533449001438244, -0.20007675282923942, -0.6185234313147078, 0.36942411017863375, -0.22375568353621758, 0.2526470287312885, 0.2267419219131918, 0.2639775339786776, -1.132739394771502, -1.1482843495848114, -1.4128591948532767, -0.18778958090483552, 0.7948906960485981, -0.7892335813067191, -0.8706073761676926, 0.6770291787073698, 2.0113237483420052, 0.19388328189767956, -0.5002549827427382, -2.2199606530825187, 0.4830527044613887, 1.2011801375298716, -0.19774173866295486, -0.752708338255664, 1.893701881344233, -1.5854693729649616, -1.1333779065857008, 0.9496792076892996, -1.238894773355343, 0.651939653630145, 1.0901486579747812, -1.3242262316027364, 0.2513360270523506, 1.369678078932397, -1.5950170347251074, -0.3679375422795287, -1.7962568652676187, -0.5115298758591496, 2.188733910681354, -1.1476516620997423, -0.8208471477547784, -1.416695201802754, 2.11342701518249, 0.08432602513735225, 0.6781991471269608, 0.07373698726313345, 0.5710623935970508, -0.787688749375717, -0.41027858341862145, -0.34821811877131464, -1.5818949290626747, -1.1349294502844594, 0.45585273942482807, 1.3046051862052737, -0.4827487411487068, 0.79507633799293, -0.5013579293617653, 0.46322340516495625, -0.8457049730894419, 1.648185620735109, 0.19598567561280725, 1.3150203116581147, 1.237625968070254, 0.08356414724553121, 0.641786345422482, -0.6518313171806182, 1.3354442167862435, -1.2043145454829405, 0.4813823869913045, -1.5428335401166102, 1.3821152573725537, -2.3212785452028672, 0.8545589572697296, -0.772336453451533, -0.49736734351279943, 0.14901385623969263, 1.0662016178255687, -0.1434437840124678, -0.9085296086179435, 1.0244448729388482, -1.4468528787919994, -0.3118340488124157, 1.5188676784825625, 0.15424572817777435, 1.0003879295162246, 1.3008090429174297, 0.994546553788734, -1.2890830028500138, -0.40471979448408874, -0.03237658061551539, -1.3186709594255155, 0.5681307989920067, -1.3027720666231417, -0.06021515309892382]}],\n",
       "                        {\"legend\": {\"bgcolor\": \"#F5F6F9\", \"font\": {\"color\": \"#4D5663\"}}, \"paper_bgcolor\": \"#F5F6F9\", \"plot_bgcolor\": \"#F5F6F9\", \"template\": {\"data\": {\"bar\": [{\"error_x\": {\"color\": \"#2a3f5f\"}, \"error_y\": {\"color\": \"#2a3f5f\"}, \"marker\": {\"line\": {\"color\": \"#E5ECF6\", \"width\": 0.5}}, \"type\": \"bar\"}], \"barpolar\": [{\"marker\": {\"line\": {\"color\": \"#E5ECF6\", \"width\": 0.5}}, \"type\": \"barpolar\"}], \"carpet\": [{\"aaxis\": {\"endlinecolor\": \"#2a3f5f\", \"gridcolor\": \"white\", \"linecolor\": \"white\", \"minorgridcolor\": \"white\", \"startlinecolor\": \"#2a3f5f\"}, \"baxis\": {\"endlinecolor\": \"#2a3f5f\", \"gridcolor\": \"white\", \"linecolor\": \"white\", \"minorgridcolor\": \"white\", \"startlinecolor\": \"#2a3f5f\"}, \"type\": \"carpet\"}], \"choropleth\": [{\"colorbar\": {\"outlinewidth\": 0, \"ticks\": \"\"}, \"type\": \"choropleth\"}], \"contour\": [{\"colorbar\": {\"outlinewidth\": 0, \"ticks\": \"\"}, \"colorscale\": [[0.0, \"#0d0887\"], [0.1111111111111111, \"#46039f\"], [0.2222222222222222, \"#7201a8\"], [0.3333333333333333, \"#9c179e\"], [0.4444444444444444, \"#bd3786\"], [0.5555555555555556, \"#d8576b\"], [0.6666666666666666, \"#ed7953\"], [0.7777777777777778, \"#fb9f3a\"], [0.8888888888888888, \"#fdca26\"], [1.0, \"#f0f921\"]], \"type\": \"contour\"}], \"contourcarpet\": [{\"colorbar\": {\"outlinewidth\": 0, \"ticks\": \"\"}, \"type\": \"contourcarpet\"}], \"heatmap\": [{\"colorbar\": {\"outlinewidth\": 0, \"ticks\": \"\"}, \"colorscale\": [[0.0, \"#0d0887\"], [0.1111111111111111, \"#46039f\"], [0.2222222222222222, \"#7201a8\"], [0.3333333333333333, \"#9c179e\"], [0.4444444444444444, \"#bd3786\"], [0.5555555555555556, \"#d8576b\"], [0.6666666666666666, \"#ed7953\"], [0.7777777777777778, \"#fb9f3a\"], [0.8888888888888888, \"#fdca26\"], [1.0, \"#f0f921\"]], \"type\": \"heatmap\"}], \"heatmapgl\": [{\"colorbar\": {\"outlinewidth\": 0, \"ticks\": \"\"}, \"colorscale\": [[0.0, \"#0d0887\"], [0.1111111111111111, \"#46039f\"], [0.2222222222222222, \"#7201a8\"], [0.3333333333333333, \"#9c179e\"], [0.4444444444444444, \"#bd3786\"], [0.5555555555555556, \"#d8576b\"], [0.6666666666666666, \"#ed7953\"], [0.7777777777777778, \"#fb9f3a\"], [0.8888888888888888, \"#fdca26\"], [1.0, \"#f0f921\"]], \"type\": \"heatmapgl\"}], \"histogram\": [{\"marker\": {\"colorbar\": {\"outlinewidth\": 0, \"ticks\": \"\"}}, \"type\": \"histogram\"}], \"histogram2d\": [{\"colorbar\": {\"outlinewidth\": 0, \"ticks\": \"\"}, \"colorscale\": [[0.0, \"#0d0887\"], [0.1111111111111111, \"#46039f\"], [0.2222222222222222, \"#7201a8\"], [0.3333333333333333, \"#9c179e\"], [0.4444444444444444, \"#bd3786\"], [0.5555555555555556, \"#d8576b\"], [0.6666666666666666, \"#ed7953\"], [0.7777777777777778, \"#fb9f3a\"], [0.8888888888888888, \"#fdca26\"], [1.0, \"#f0f921\"]], \"type\": \"histogram2d\"}], \"histogram2dcontour\": [{\"colorbar\": {\"outlinewidth\": 0, \"ticks\": \"\"}, \"colorscale\": [[0.0, \"#0d0887\"], [0.1111111111111111, \"#46039f\"], [0.2222222222222222, \"#7201a8\"], [0.3333333333333333, \"#9c179e\"], [0.4444444444444444, \"#bd3786\"], [0.5555555555555556, \"#d8576b\"], [0.6666666666666666, \"#ed7953\"], [0.7777777777777778, \"#fb9f3a\"], [0.8888888888888888, \"#fdca26\"], [1.0, \"#f0f921\"]], \"type\": \"histogram2dcontour\"}], \"mesh3d\": [{\"colorbar\": {\"outlinewidth\": 0, \"ticks\": \"\"}, \"type\": \"mesh3d\"}], \"parcoords\": [{\"line\": {\"colorbar\": {\"outlinewidth\": 0, \"ticks\": \"\"}}, \"type\": \"parcoords\"}], \"pie\": [{\"automargin\": true, \"type\": \"pie\"}], \"scatter\": [{\"marker\": {\"colorbar\": {\"outlinewidth\": 0, \"ticks\": \"\"}}, \"type\": \"scatter\"}], \"scatter3d\": [{\"line\": {\"colorbar\": {\"outlinewidth\": 0, \"ticks\": \"\"}}, \"marker\": {\"colorbar\": {\"outlinewidth\": 0, \"ticks\": \"\"}}, \"type\": \"scatter3d\"}], \"scattercarpet\": [{\"marker\": {\"colorbar\": {\"outlinewidth\": 0, \"ticks\": \"\"}}, \"type\": \"scattercarpet\"}], \"scattergeo\": [{\"marker\": {\"colorbar\": {\"outlinewidth\": 0, \"ticks\": \"\"}}, \"type\": \"scattergeo\"}], \"scattergl\": [{\"marker\": {\"colorbar\": {\"outlinewidth\": 0, \"ticks\": \"\"}}, \"type\": \"scattergl\"}], \"scattermapbox\": [{\"marker\": {\"colorbar\": {\"outlinewidth\": 0, \"ticks\": \"\"}}, \"type\": \"scattermapbox\"}], \"scatterpolar\": [{\"marker\": {\"colorbar\": {\"outlinewidth\": 0, \"ticks\": \"\"}}, \"type\": \"scatterpolar\"}], \"scatterpolargl\": [{\"marker\": {\"colorbar\": {\"outlinewidth\": 0, \"ticks\": \"\"}}, \"type\": \"scatterpolargl\"}], \"scatterternary\": [{\"marker\": {\"colorbar\": {\"outlinewidth\": 0, \"ticks\": \"\"}}, \"type\": \"scatterternary\"}], \"surface\": [{\"colorbar\": {\"outlinewidth\": 0, \"ticks\": \"\"}, \"colorscale\": [[0.0, \"#0d0887\"], [0.1111111111111111, \"#46039f\"], [0.2222222222222222, \"#7201a8\"], [0.3333333333333333, \"#9c179e\"], [0.4444444444444444, \"#bd3786\"], [0.5555555555555556, \"#d8576b\"], [0.6666666666666666, \"#ed7953\"], [0.7777777777777778, \"#fb9f3a\"], [0.8888888888888888, \"#fdca26\"], [1.0, \"#f0f921\"]], \"type\": \"surface\"}], \"table\": [{\"cells\": {\"fill\": {\"color\": \"#EBF0F8\"}, \"line\": {\"color\": \"white\"}}, \"header\": {\"fill\": {\"color\": \"#C8D4E3\"}, \"line\": {\"color\": \"white\"}}, \"type\": \"table\"}]}, \"layout\": {\"annotationdefaults\": {\"arrowcolor\": \"#2a3f5f\", \"arrowhead\": 0, \"arrowwidth\": 1}, \"coloraxis\": {\"colorbar\": {\"outlinewidth\": 0, \"ticks\": \"\"}}, \"colorscale\": {\"diverging\": [[0, \"#8e0152\"], [0.1, \"#c51b7d\"], [0.2, \"#de77ae\"], [0.3, \"#f1b6da\"], [0.4, \"#fde0ef\"], [0.5, \"#f7f7f7\"], [0.6, \"#e6f5d0\"], [0.7, \"#b8e186\"], [0.8, \"#7fbc41\"], [0.9, \"#4d9221\"], [1, \"#276419\"]], \"sequential\": [[0.0, \"#0d0887\"], [0.1111111111111111, \"#46039f\"], [0.2222222222222222, \"#7201a8\"], [0.3333333333333333, \"#9c179e\"], [0.4444444444444444, \"#bd3786\"], [0.5555555555555556, \"#d8576b\"], [0.6666666666666666, \"#ed7953\"], [0.7777777777777778, \"#fb9f3a\"], [0.8888888888888888, \"#fdca26\"], [1.0, \"#f0f921\"]], \"sequentialminus\": [[0.0, \"#0d0887\"], [0.1111111111111111, \"#46039f\"], [0.2222222222222222, \"#7201a8\"], [0.3333333333333333, \"#9c179e\"], [0.4444444444444444, \"#bd3786\"], [0.5555555555555556, \"#d8576b\"], [0.6666666666666666, \"#ed7953\"], [0.7777777777777778, \"#fb9f3a\"], [0.8888888888888888, \"#fdca26\"], [1.0, \"#f0f921\"]]}, \"colorway\": [\"#636efa\", \"#EF553B\", \"#00cc96\", \"#ab63fa\", \"#FFA15A\", \"#19d3f3\", \"#FF6692\", \"#B6E880\", \"#FF97FF\", \"#FECB52\"], \"font\": {\"color\": \"#2a3f5f\"}, \"geo\": {\"bgcolor\": \"white\", \"lakecolor\": \"white\", \"landcolor\": \"#E5ECF6\", \"showlakes\": true, \"showland\": true, \"subunitcolor\": \"white\"}, \"hoverlabel\": {\"align\": \"left\"}, \"hovermode\": \"closest\", \"mapbox\": {\"style\": \"light\"}, \"paper_bgcolor\": \"white\", \"plot_bgcolor\": \"#E5ECF6\", \"polar\": {\"angularaxis\": {\"gridcolor\": \"white\", \"linecolor\": \"white\", \"ticks\": \"\"}, \"bgcolor\": \"#E5ECF6\", \"radialaxis\": {\"gridcolor\": \"white\", \"linecolor\": \"white\", \"ticks\": \"\"}}, \"scene\": {\"xaxis\": {\"backgroundcolor\": \"#E5ECF6\", \"gridcolor\": \"white\", \"gridwidth\": 2, \"linecolor\": \"white\", \"showbackground\": true, \"ticks\": \"\", \"zerolinecolor\": \"white\"}, \"yaxis\": {\"backgroundcolor\": \"#E5ECF6\", \"gridcolor\": \"white\", \"gridwidth\": 2, \"linecolor\": \"white\", \"showbackground\": true, \"ticks\": \"\", \"zerolinecolor\": \"white\"}, \"zaxis\": {\"backgroundcolor\": \"#E5ECF6\", \"gridcolor\": \"white\", \"gridwidth\": 2, \"linecolor\": \"white\", \"showbackground\": true, \"ticks\": \"\", \"zerolinecolor\": \"white\"}}, \"shapedefaults\": {\"line\": {\"color\": \"#2a3f5f\"}}, \"ternary\": {\"aaxis\": {\"gridcolor\": \"white\", \"linecolor\": \"white\", \"ticks\": \"\"}, \"baxis\": {\"gridcolor\": \"white\", \"linecolor\": \"white\", \"ticks\": \"\"}, \"bgcolor\": \"#E5ECF6\", \"caxis\": {\"gridcolor\": \"white\", \"linecolor\": \"white\", \"ticks\": \"\"}}, \"title\": {\"x\": 0.05}, \"xaxis\": {\"automargin\": true, \"gridcolor\": \"white\", \"linecolor\": \"white\", \"ticks\": \"\", \"title\": {\"standoff\": 15}, \"zerolinecolor\": \"white\", \"zerolinewidth\": 2}, \"yaxis\": {\"automargin\": true, \"gridcolor\": \"white\", \"linecolor\": \"white\", \"ticks\": \"\", \"title\": {\"standoff\": 15}, \"zerolinecolor\": \"white\", \"zerolinewidth\": 2}}}, \"title\": {\"font\": {\"color\": \"#4D5663\"}}, \"xaxis\": {\"gridcolor\": \"#E1E5ED\", \"showgrid\": true, \"tickfont\": {\"color\": \"#4D5663\"}, \"title\": {\"font\": {\"color\": \"#4D5663\"}, \"text\": \"\"}, \"zerolinecolor\": \"#E1E5ED\"}, \"yaxis\": {\"gridcolor\": \"#E1E5ED\", \"showgrid\": true, \"tickfont\": {\"color\": \"#4D5663\"}, \"title\": {\"font\": {\"color\": \"#4D5663\"}, \"text\": \"\"}, \"zerolinecolor\": \"#E1E5ED\"}},\n",
       "                        {\"showLink\": true, \"linkText\": \"Export to plot.ly\", \"plotlyServerURL\": \"https://plot.ly\", \"responsive\": true}\n",
       "                    ).then(function(){\n",
       "                            \n",
       "var gd = document.getElementById('d2f897fd-be79-416f-925a-293c8369215f');\n",
       "var x = new MutationObserver(function (mutations, observer) {{\n",
       "        var display = window.getComputedStyle(gd).display;\n",
       "        if (!display || display === 'none') {{\n",
       "            console.log([gd, 'removed!']);\n",
       "            Plotly.purge(gd);\n",
       "            observer.disconnect();\n",
       "        }}\n",
       "}});\n",
       "\n",
       "// Listen for the removal of the full notebook cells\n",
       "var notebookContainer = gd.closest('#notebook-container');\n",
       "if (notebookContainer) {{\n",
       "    x.observe(notebookContainer, {childList: true});\n",
       "}}\n",
       "\n",
       "// Listen for the clearing of the current output cell\n",
       "var outputEl = gd.closest('.output');\n",
       "if (outputEl) {{\n",
       "    x.observe(outputEl, {childList: true});\n",
       "}}\n",
       "\n",
       "                        })\n",
       "                };\n",
       "                });\n",
       "            </script>\n",
       "        </div>"
      ]
     },
     "metadata": {},
     "output_type": "display_data"
    }
   ],
   "source": [
    "df.iplot(kind='bubble',x='A',y='B',size='C')"
   ]
  },
  {
   "cell_type": "markdown",
   "metadata": {},
   "source": [
    "## scatter_matrix()\n",
    "\n",
    "Similar to sns.pairplot()"
   ]
  },
  {
   "cell_type": "code",
   "execution_count": 20,
   "metadata": {},
   "outputs": [
    {
     "data": {
      "application/vnd.plotly.v1+json": {
       "config": {
        "linkText": "Export to plot.ly",
        "plotlyServerURL": "https://plot.ly",
        "showLink": true
       },
       "data": [
        {
         "histfunc": "count",
         "histnorm": "",
         "marker": {
          "color": "rgba(255, 153, 51, 1.0)",
          "line": {
           "color": "#4D5663",
           "width": 1.3
          }
         },
         "name": "A",
         "nbinsx": 10,
         "opacity": 0.8,
         "orientation": "v",
         "type": "histogram",
         "x": [
          0.32205259576789935,
          -1.2705842440830204,
          0.10782211694491088,
          -1.2646863492002582,
          -0.623016293453436,
          0.4370049139590851,
          -1.8552254970766764,
          -1.073096970098413,
          1.3267635793739714,
          0.24419011655680606,
          1.0557345774677764,
          1.7122399294231183,
          -0.2677909309326994,
          -0.28051016349477526,
          1.4218608035818048,
          -1.0755029134841767,
          -0.9863577816639659,
          1.1115777342445334,
          -0.6008887227314611,
          -0.22539529068580208,
          -1.9716753893735646,
          -0.2365223696654613,
          0.03208548148818823,
          1.8767437352407905,
          0.11545545793837805,
          0.4970025785014497,
          1.3483980343794544,
          -0.010039690351554604,
          -0.2862034883600797,
          0.7806427708890616,
          1.2081127390165514,
          2.218774713469848,
          0.32195990417680637,
          -0.789709658198847,
          -0.9214869451393399,
          0.6711847095892842,
          -2.0114126158674566,
          -0.5309530198516696,
          -0.5878185997505112,
          -1.2238813239452369,
          -0.6931838125152013,
          -0.18979028816183985,
          0.1999551589396969,
          -0.8954707479977178,
          0.008236776144134046,
          -0.7787953946941676,
          -1.2036680132508266,
          -1.0847531776936057,
          0.005830557401403538,
          0.1728310981019457,
          0.4449020848059417,
          -1.2639359430032238,
          -0.43542486573921074,
          0.9384190809815643,
          0.4417474515879442,
          0.9940869401415626,
          -0.24283687971943876,
          1.1349532128915576,
          -1.4141984420513154,
          -0.1588896627196114,
          1.4481799160580093,
          2.1823007739131963,
          2.2440304393283648,
          -0.5847717373041349,
          0.8639441573674254,
          1.5196751985682482,
          0.3827391753660122,
          0.8684445003403783,
          -1.2023800499448436,
          0.8930942078797675,
          0.9233087070208601,
          0.6698237160538058,
          0.02239191937027293,
          0.7820499553794281,
          -0.3248424573510298,
          -1.8242941941509472,
          -0.09514443783697729,
          1.2553052652092374,
          0.5534742778189647,
          -0.12727753897390603,
          -0.7962665535640177,
          1.2211010568044924,
          1.5560296838025678,
          -0.40481828496818456,
          0.5218851881531966,
          -1.5271712764268646,
          -2.776318086494025,
          0.999386989977953,
          -0.19556324612903161,
          1.6357935804232269,
          -0.8896042579824299,
          0.8581748464534634,
          0.8086306539297275,
          0.506194813669362,
          0.7183057346101549,
          -0.11471459993668659,
          -1.0265711561628377,
          -0.5019344243022291,
          1.6007548010842878,
          -0.40354560457594973
         ],
         "xaxis": "x",
         "yaxis": "y"
        },
        {
         "line": {
          "color": "rgba(128, 128, 128, 1.0)",
          "dash": "solid",
          "shape": "linear",
          "width": 1.3
         },
         "marker": {
          "size": 2,
          "symbol": "circle"
         },
         "mode": "markers",
         "name": "A",
         "text": "",
         "type": "scatter",
         "x": [
          0.10125898893055496,
          0.8301536855043266,
          -0.7327192245673191,
          -1.0387054262404438,
          -0.13081600367508936,
          0.38664976245140625,
          -1.0533449001438244,
          -0.20007675282923942,
          -0.6185234313147078,
          0.36942411017863375,
          -0.22375568353621758,
          0.2526470287312885,
          0.2267419219131918,
          0.2639775339786776,
          -1.132739394771502,
          -1.1482843495848114,
          -1.4128591948532767,
          -0.18778958090483552,
          0.7948906960485981,
          -0.7892335813067191,
          -0.8706073761676926,
          0.6770291787073698,
          2.0113237483420052,
          0.19388328189767956,
          -0.5002549827427382,
          -2.2199606530825187,
          0.4830527044613887,
          1.2011801375298716,
          -0.19774173866295486,
          -0.752708338255664,
          1.893701881344233,
          -1.5854693729649616,
          -1.1333779065857008,
          0.9496792076892996,
          -1.238894773355343,
          0.651939653630145,
          1.0901486579747812,
          -1.3242262316027364,
          0.2513360270523506,
          1.369678078932397,
          -1.5950170347251074,
          -0.3679375422795287,
          -1.7962568652676187,
          -0.5115298758591496,
          2.188733910681354,
          -1.1476516620997423,
          -0.8208471477547784,
          -1.416695201802754,
          2.11342701518249,
          0.08432602513735225,
          0.6781991471269608,
          0.07373698726313345,
          0.5710623935970508,
          -0.787688749375717,
          -0.41027858341862145,
          -0.34821811877131464,
          -1.5818949290626747,
          -1.1349294502844594,
          0.45585273942482807,
          1.3046051862052737,
          -0.4827487411487068,
          0.79507633799293,
          -0.5013579293617653,
          0.46322340516495625,
          -0.8457049730894419,
          1.648185620735109,
          0.19598567561280725,
          1.3150203116581147,
          1.237625968070254,
          0.08356414724553121,
          0.641786345422482,
          -0.6518313171806182,
          1.3354442167862435,
          -1.2043145454829405,
          0.4813823869913045,
          -1.5428335401166102,
          1.3821152573725537,
          -2.3212785452028672,
          0.8545589572697296,
          -0.772336453451533,
          -0.49736734351279943,
          0.14901385623969263,
          1.0662016178255687,
          -0.1434437840124678,
          -0.9085296086179435,
          1.0244448729388482,
          -1.4468528787919994,
          -0.3118340488124157,
          1.5188676784825625,
          0.15424572817777435,
          1.0003879295162246,
          1.3008090429174297,
          0.994546553788734,
          -1.2890830028500138,
          -0.40471979448408874,
          -0.03237658061551539,
          -1.3186709594255155,
          0.5681307989920067,
          -1.3027720666231417,
          -0.06021515309892382
         ],
         "xaxis": "x2",
         "y": [
          0.32205259576789935,
          -1.2705842440830204,
          0.10782211694491088,
          -1.2646863492002582,
          -0.623016293453436,
          0.4370049139590851,
          -1.8552254970766764,
          -1.073096970098413,
          1.3267635793739714,
          0.24419011655680606,
          1.0557345774677764,
          1.7122399294231183,
          -0.2677909309326994,
          -0.28051016349477526,
          1.4218608035818048,
          -1.0755029134841767,
          -0.9863577816639659,
          1.1115777342445334,
          -0.6008887227314611,
          -0.22539529068580208,
          -1.9716753893735646,
          -0.2365223696654613,
          0.03208548148818823,
          1.8767437352407905,
          0.11545545793837805,
          0.4970025785014497,
          1.3483980343794544,
          -0.010039690351554604,
          -0.2862034883600797,
          0.7806427708890616,
          1.2081127390165514,
          2.218774713469848,
          0.32195990417680637,
          -0.789709658198847,
          -0.9214869451393399,
          0.6711847095892842,
          -2.0114126158674566,
          -0.5309530198516696,
          -0.5878185997505112,
          -1.2238813239452369,
          -0.6931838125152013,
          -0.18979028816183985,
          0.1999551589396969,
          -0.8954707479977178,
          0.008236776144134046,
          -0.7787953946941676,
          -1.2036680132508266,
          -1.0847531776936057,
          0.005830557401403538,
          0.1728310981019457,
          0.4449020848059417,
          -1.2639359430032238,
          -0.43542486573921074,
          0.9384190809815643,
          0.4417474515879442,
          0.9940869401415626,
          -0.24283687971943876,
          1.1349532128915576,
          -1.4141984420513154,
          -0.1588896627196114,
          1.4481799160580093,
          2.1823007739131963,
          2.2440304393283648,
          -0.5847717373041349,
          0.8639441573674254,
          1.5196751985682482,
          0.3827391753660122,
          0.8684445003403783,
          -1.2023800499448436,
          0.8930942078797675,
          0.9233087070208601,
          0.6698237160538058,
          0.02239191937027293,
          0.7820499553794281,
          -0.3248424573510298,
          -1.8242941941509472,
          -0.09514443783697729,
          1.2553052652092374,
          0.5534742778189647,
          -0.12727753897390603,
          -0.7962665535640177,
          1.2211010568044924,
          1.5560296838025678,
          -0.40481828496818456,
          0.5218851881531966,
          -1.5271712764268646,
          -2.776318086494025,
          0.999386989977953,
          -0.19556324612903161,
          1.6357935804232269,
          -0.8896042579824299,
          0.8581748464534634,
          0.8086306539297275,
          0.506194813669362,
          0.7183057346101549,
          -0.11471459993668659,
          -1.0265711561628377,
          -0.5019344243022291,
          1.6007548010842878,
          -0.40354560457594973
         ],
         "yaxis": "y2"
        },
        {
         "line": {
          "color": "rgba(128, 128, 128, 1.0)",
          "dash": "solid",
          "shape": "linear",
          "width": 1.3
         },
         "marker": {
          "size": 2,
          "symbol": "circle"
         },
         "mode": "markers",
         "name": "A",
         "text": "",
         "type": "scatter",
         "x": [
          1.9826782448481126,
          0.6600818749606454,
          -0.7854055017464745,
          -0.08872724199795148,
          -0.35279246861192526,
          0.6215279100419142,
          1.3736653722791574,
          -0.40792202522567933,
          0.8231698806251506,
          -1.553246690046408,
          0.22088143377335312,
          0.7774135595494679,
          -1.55053551221391,
          0.47592405088312434,
          1.0456508979979475,
          1.6668814387215036,
          -1.2006029762839654,
          0.5540732169210111,
          -0.3600213472190218,
          -3.170840601377859,
          -1.3271158572237098,
          -1.431561979386749,
          -0.13516694094318898,
          -0.41498156271042985,
          1.6075355347570155,
          0.23399065003498834,
          -0.19871215454320826,
          -0.7156949056824685,
          0.7040251458117656,
          0.12530893350336372,
          0.9148446107573772,
          -0.2578236533801504,
          -0.3506773793959923,
          -0.7991682589467581,
          0.5030303007338238,
          -1.0401276595171582,
          -0.4843027052254437,
          1.156546262137966,
          -0.30354580575355183,
          -0.10262540221690042,
          -1.4690705913420872,
          0.2784873551884508,
          0.9729973131378534,
          -0.7330067945563101,
          -0.7598605119691917,
          -1.2334213008030683,
          1.4962063070001845,
          1.2082717927798778,
          0.17010013579236172,
          -0.8863735645195022,
          0.7336502426571072,
          -1.9058614634267008,
          0.09789511266801598,
          0.13701814888768582,
          -0.9093317683087555,
          0.20466334264895744,
          -0.24188099303995766,
          0.9057330507174537,
          1.2761328555412583,
          1.7386742830337232,
          -0.202590221334881,
          -2.1029695709863367,
          0.14641879077536032,
          -1.6502858545801662,
          -0.9632721401819229,
          -0.5443663262373347,
          0.7373563980583779,
          -0.038878138917357315,
          1.1088815058094743,
          -1.0177086542559917,
          1.3392819492959913,
          0.8480710290197091,
          2.2118292809272386,
          -0.37324543937960414,
          0.23620321220896628,
          -0.6585985169454098,
          -0.37874543492459517,
          -1.1648530944745845,
          0.08038751477186008,
          0.042824923658853105,
          0.8875162333678649,
          -0.32968485330616065,
          -0.5822543338995056,
          -2.274098767235217,
          0.3992943572566447,
          -0.5029467403671517,
          1.1534579129616145,
          -0.0009568329346719737,
          0.16232992598021312,
          1.1100477325545908,
          -0.05287725555315468,
          0.2716913123767963,
          -0.2700301455458189,
          -1.367522650374015,
          -1.8518071989339262,
          0.3058211114172289,
          1.5109929744272923,
          1.2506236130378505,
          -0.651662497941342,
          0.9873831121193896
         ],
         "xaxis": "x3",
         "y": [
          0.32205259576789935,
          -1.2705842440830204,
          0.10782211694491088,
          -1.2646863492002582,
          -0.623016293453436,
          0.4370049139590851,
          -1.8552254970766764,
          -1.073096970098413,
          1.3267635793739714,
          0.24419011655680606,
          1.0557345774677764,
          1.7122399294231183,
          -0.2677909309326994,
          -0.28051016349477526,
          1.4218608035818048,
          -1.0755029134841767,
          -0.9863577816639659,
          1.1115777342445334,
          -0.6008887227314611,
          -0.22539529068580208,
          -1.9716753893735646,
          -0.2365223696654613,
          0.03208548148818823,
          1.8767437352407905,
          0.11545545793837805,
          0.4970025785014497,
          1.3483980343794544,
          -0.010039690351554604,
          -0.2862034883600797,
          0.7806427708890616,
          1.2081127390165514,
          2.218774713469848,
          0.32195990417680637,
          -0.789709658198847,
          -0.9214869451393399,
          0.6711847095892842,
          -2.0114126158674566,
          -0.5309530198516696,
          -0.5878185997505112,
          -1.2238813239452369,
          -0.6931838125152013,
          -0.18979028816183985,
          0.1999551589396969,
          -0.8954707479977178,
          0.008236776144134046,
          -0.7787953946941676,
          -1.2036680132508266,
          -1.0847531776936057,
          0.005830557401403538,
          0.1728310981019457,
          0.4449020848059417,
          -1.2639359430032238,
          -0.43542486573921074,
          0.9384190809815643,
          0.4417474515879442,
          0.9940869401415626,
          -0.24283687971943876,
          1.1349532128915576,
          -1.4141984420513154,
          -0.1588896627196114,
          1.4481799160580093,
          2.1823007739131963,
          2.2440304393283648,
          -0.5847717373041349,
          0.8639441573674254,
          1.5196751985682482,
          0.3827391753660122,
          0.8684445003403783,
          -1.2023800499448436,
          0.8930942078797675,
          0.9233087070208601,
          0.6698237160538058,
          0.02239191937027293,
          0.7820499553794281,
          -0.3248424573510298,
          -1.8242941941509472,
          -0.09514443783697729,
          1.2553052652092374,
          0.5534742778189647,
          -0.12727753897390603,
          -0.7962665535640177,
          1.2211010568044924,
          1.5560296838025678,
          -0.40481828496818456,
          0.5218851881531966,
          -1.5271712764268646,
          -2.776318086494025,
          0.999386989977953,
          -0.19556324612903161,
          1.6357935804232269,
          -0.8896042579824299,
          0.8581748464534634,
          0.8086306539297275,
          0.506194813669362,
          0.7183057346101549,
          -0.11471459993668659,
          -1.0265711561628377,
          -0.5019344243022291,
          1.6007548010842878,
          -0.40354560457594973
         ],
         "yaxis": "y3"
        },
        {
         "line": {
          "color": "rgba(128, 128, 128, 1.0)",
          "dash": "solid",
          "shape": "linear",
          "width": 1.3
         },
         "marker": {
          "size": 2,
          "symbol": "circle"
         },
         "mode": "markers",
         "name": "A",
         "text": "",
         "type": "scatter",
         "x": [
          -0.9976983614351799,
          0.3482996174135738,
          0.5198729665770465,
          0.5961438411103572,
          -1.4455527654806652,
          -1.0439622504316568,
          -1.5061213313520547,
          -1.0832843449586425,
          -0.18330746470354786,
          -0.33573070365163415,
          -0.5524866987495552,
          0.48073881269727553,
          1.1714422206161683,
          2.4540043264885685,
          -1.0976434528759873,
          -0.0023124590897065,
          -0.05449348402022067,
          -0.8978018878319018,
          -0.10017269377275725,
          -0.652706473663357,
          0.6109271612495114,
          0.48669798595464,
          0.6821945418916386,
          1.363330444126585,
          -0.6309199044214974,
          0.5086943952845181,
          -0.5382771808153662,
          0.8364048543061532,
          -0.3750492219137734,
          -1.5622240907714506,
          0.8987183942935888,
          2.1446151990780864,
          -1.8706141653186803,
          0.3275876731514227,
          -0.6284816522555828,
          -0.6018605977870878,
          -0.3979495077307453,
          0.5606589040364272,
          0.11033256027691177,
          0.5214386168521874,
          1.5772815555419955,
          -0.9372458389931095,
          0.1731793470299087,
          0.2029761918958493,
          0.18242312016866313,
          0.4120567789077027,
          -0.32578608408009213,
          0.6890541866411583,
          0.8678327893559957,
          -0.33345182733732326,
          0.26690015294188374,
          -0.15113810493423677,
          0.16772173385135722,
          -1.49857338871038,
          -1.637674180671225,
          0.364355161926861,
          -0.889465826373414,
          -0.7478949314357145,
          1.5934730485312447,
          -0.22134157166250307,
          0.7923846183372784,
          0.3384719492622945,
          -0.045885261648630826,
          0.4405627829609798,
          1.0318548143612905,
          -1.385691540964935,
          -0.6826394395564014,
          -0.8052830818459382,
          0.6112279635616631,
          -0.43670449840982883,
          0.6346057391180093,
          0.25779002362252346,
          1.0182869198734814,
          -0.6809800645412656,
          0.36470782397371787,
          0.26794657305049113,
          -0.04242307532924371,
          -1.0156797741997807,
          -0.18951065153563823,
          0.7986965181101916,
          0.060549974776385324,
          0.3984054368083864,
          0.7774464251421512,
          0.7506239053217926,
          1.022601973677445,
          0.4927545810098558,
          -0.834021709032103,
          0.4935369060086965,
          0.37343704574554426,
          0.47114004839347245,
          -0.8701938686920545,
          -0.3708994306880713,
          -0.5769821101739236,
          0.6879933234032504,
          -0.891162953646132,
          -1.7261205934346362,
          -0.449625936317721,
          0.6303983269141106,
          1.1499202452107566,
          -1.0812453948426501
         ],
         "xaxis": "x4",
         "y": [
          0.32205259576789935,
          -1.2705842440830204,
          0.10782211694491088,
          -1.2646863492002582,
          -0.623016293453436,
          0.4370049139590851,
          -1.8552254970766764,
          -1.073096970098413,
          1.3267635793739714,
          0.24419011655680606,
          1.0557345774677764,
          1.7122399294231183,
          -0.2677909309326994,
          -0.28051016349477526,
          1.4218608035818048,
          -1.0755029134841767,
          -0.9863577816639659,
          1.1115777342445334,
          -0.6008887227314611,
          -0.22539529068580208,
          -1.9716753893735646,
          -0.2365223696654613,
          0.03208548148818823,
          1.8767437352407905,
          0.11545545793837805,
          0.4970025785014497,
          1.3483980343794544,
          -0.010039690351554604,
          -0.2862034883600797,
          0.7806427708890616,
          1.2081127390165514,
          2.218774713469848,
          0.32195990417680637,
          -0.789709658198847,
          -0.9214869451393399,
          0.6711847095892842,
          -2.0114126158674566,
          -0.5309530198516696,
          -0.5878185997505112,
          -1.2238813239452369,
          -0.6931838125152013,
          -0.18979028816183985,
          0.1999551589396969,
          -0.8954707479977178,
          0.008236776144134046,
          -0.7787953946941676,
          -1.2036680132508266,
          -1.0847531776936057,
          0.005830557401403538,
          0.1728310981019457,
          0.4449020848059417,
          -1.2639359430032238,
          -0.43542486573921074,
          0.9384190809815643,
          0.4417474515879442,
          0.9940869401415626,
          -0.24283687971943876,
          1.1349532128915576,
          -1.4141984420513154,
          -0.1588896627196114,
          1.4481799160580093,
          2.1823007739131963,
          2.2440304393283648,
          -0.5847717373041349,
          0.8639441573674254,
          1.5196751985682482,
          0.3827391753660122,
          0.8684445003403783,
          -1.2023800499448436,
          0.8930942078797675,
          0.9233087070208601,
          0.6698237160538058,
          0.02239191937027293,
          0.7820499553794281,
          -0.3248424573510298,
          -1.8242941941509472,
          -0.09514443783697729,
          1.2553052652092374,
          0.5534742778189647,
          -0.12727753897390603,
          -0.7962665535640177,
          1.2211010568044924,
          1.5560296838025678,
          -0.40481828496818456,
          0.5218851881531966,
          -1.5271712764268646,
          -2.776318086494025,
          0.999386989977953,
          -0.19556324612903161,
          1.6357935804232269,
          -0.8896042579824299,
          0.8581748464534634,
          0.8086306539297275,
          0.506194813669362,
          0.7183057346101549,
          -0.11471459993668659,
          -1.0265711561628377,
          -0.5019344243022291,
          1.6007548010842878,
          -0.40354560457594973
         ],
         "yaxis": "y4"
        },
        {
         "line": {
          "color": "rgba(128, 128, 128, 1.0)",
          "dash": "solid",
          "shape": "linear",
          "width": 1.3
         },
         "marker": {
          "size": 2,
          "symbol": "circle"
         },
         "mode": "markers",
         "name": "B",
         "text": "",
         "type": "scatter",
         "x": [
          0.32205259576789935,
          -1.2705842440830204,
          0.10782211694491088,
          -1.2646863492002582,
          -0.623016293453436,
          0.4370049139590851,
          -1.8552254970766764,
          -1.073096970098413,
          1.3267635793739714,
          0.24419011655680606,
          1.0557345774677764,
          1.7122399294231183,
          -0.2677909309326994,
          -0.28051016349477526,
          1.4218608035818048,
          -1.0755029134841767,
          -0.9863577816639659,
          1.1115777342445334,
          -0.6008887227314611,
          -0.22539529068580208,
          -1.9716753893735646,
          -0.2365223696654613,
          0.03208548148818823,
          1.8767437352407905,
          0.11545545793837805,
          0.4970025785014497,
          1.3483980343794544,
          -0.010039690351554604,
          -0.2862034883600797,
          0.7806427708890616,
          1.2081127390165514,
          2.218774713469848,
          0.32195990417680637,
          -0.789709658198847,
          -0.9214869451393399,
          0.6711847095892842,
          -2.0114126158674566,
          -0.5309530198516696,
          -0.5878185997505112,
          -1.2238813239452369,
          -0.6931838125152013,
          -0.18979028816183985,
          0.1999551589396969,
          -0.8954707479977178,
          0.008236776144134046,
          -0.7787953946941676,
          -1.2036680132508266,
          -1.0847531776936057,
          0.005830557401403538,
          0.1728310981019457,
          0.4449020848059417,
          -1.2639359430032238,
          -0.43542486573921074,
          0.9384190809815643,
          0.4417474515879442,
          0.9940869401415626,
          -0.24283687971943876,
          1.1349532128915576,
          -1.4141984420513154,
          -0.1588896627196114,
          1.4481799160580093,
          2.1823007739131963,
          2.2440304393283648,
          -0.5847717373041349,
          0.8639441573674254,
          1.5196751985682482,
          0.3827391753660122,
          0.8684445003403783,
          -1.2023800499448436,
          0.8930942078797675,
          0.9233087070208601,
          0.6698237160538058,
          0.02239191937027293,
          0.7820499553794281,
          -0.3248424573510298,
          -1.8242941941509472,
          -0.09514443783697729,
          1.2553052652092374,
          0.5534742778189647,
          -0.12727753897390603,
          -0.7962665535640177,
          1.2211010568044924,
          1.5560296838025678,
          -0.40481828496818456,
          0.5218851881531966,
          -1.5271712764268646,
          -2.776318086494025,
          0.999386989977953,
          -0.19556324612903161,
          1.6357935804232269,
          -0.8896042579824299,
          0.8581748464534634,
          0.8086306539297275,
          0.506194813669362,
          0.7183057346101549,
          -0.11471459993668659,
          -1.0265711561628377,
          -0.5019344243022291,
          1.6007548010842878,
          -0.40354560457594973
         ],
         "xaxis": "x5",
         "y": [
          0.10125898893055496,
          0.8301536855043266,
          -0.7327192245673191,
          -1.0387054262404438,
          -0.13081600367508936,
          0.38664976245140625,
          -1.0533449001438244,
          -0.20007675282923942,
          -0.6185234313147078,
          0.36942411017863375,
          -0.22375568353621758,
          0.2526470287312885,
          0.2267419219131918,
          0.2639775339786776,
          -1.132739394771502,
          -1.1482843495848114,
          -1.4128591948532767,
          -0.18778958090483552,
          0.7948906960485981,
          -0.7892335813067191,
          -0.8706073761676926,
          0.6770291787073698,
          2.0113237483420052,
          0.19388328189767956,
          -0.5002549827427382,
          -2.2199606530825187,
          0.4830527044613887,
          1.2011801375298716,
          -0.19774173866295486,
          -0.752708338255664,
          1.893701881344233,
          -1.5854693729649616,
          -1.1333779065857008,
          0.9496792076892996,
          -1.238894773355343,
          0.651939653630145,
          1.0901486579747812,
          -1.3242262316027364,
          0.2513360270523506,
          1.369678078932397,
          -1.5950170347251074,
          -0.3679375422795287,
          -1.7962568652676187,
          -0.5115298758591496,
          2.188733910681354,
          -1.1476516620997423,
          -0.8208471477547784,
          -1.416695201802754,
          2.11342701518249,
          0.08432602513735225,
          0.6781991471269608,
          0.07373698726313345,
          0.5710623935970508,
          -0.787688749375717,
          -0.41027858341862145,
          -0.34821811877131464,
          -1.5818949290626747,
          -1.1349294502844594,
          0.45585273942482807,
          1.3046051862052737,
          -0.4827487411487068,
          0.79507633799293,
          -0.5013579293617653,
          0.46322340516495625,
          -0.8457049730894419,
          1.648185620735109,
          0.19598567561280725,
          1.3150203116581147,
          1.237625968070254,
          0.08356414724553121,
          0.641786345422482,
          -0.6518313171806182,
          1.3354442167862435,
          -1.2043145454829405,
          0.4813823869913045,
          -1.5428335401166102,
          1.3821152573725537,
          -2.3212785452028672,
          0.8545589572697296,
          -0.772336453451533,
          -0.49736734351279943,
          0.14901385623969263,
          1.0662016178255687,
          -0.1434437840124678,
          -0.9085296086179435,
          1.0244448729388482,
          -1.4468528787919994,
          -0.3118340488124157,
          1.5188676784825625,
          0.15424572817777435,
          1.0003879295162246,
          1.3008090429174297,
          0.994546553788734,
          -1.2890830028500138,
          -0.40471979448408874,
          -0.03237658061551539,
          -1.3186709594255155,
          0.5681307989920067,
          -1.3027720666231417,
          -0.06021515309892382
         ],
         "yaxis": "y5"
        },
        {
         "histfunc": "count",
         "histnorm": "",
         "marker": {
          "color": "rgba(55, 128, 191, 1.0)",
          "line": {
           "color": "#4D5663",
           "width": 1.3
          }
         },
         "name": "B",
         "nbinsx": 10,
         "opacity": 0.8,
         "orientation": "v",
         "type": "histogram",
         "x": [
          0.10125898893055496,
          0.8301536855043266,
          -0.7327192245673191,
          -1.0387054262404438,
          -0.13081600367508936,
          0.38664976245140625,
          -1.0533449001438244,
          -0.20007675282923942,
          -0.6185234313147078,
          0.36942411017863375,
          -0.22375568353621758,
          0.2526470287312885,
          0.2267419219131918,
          0.2639775339786776,
          -1.132739394771502,
          -1.1482843495848114,
          -1.4128591948532767,
          -0.18778958090483552,
          0.7948906960485981,
          -0.7892335813067191,
          -0.8706073761676926,
          0.6770291787073698,
          2.0113237483420052,
          0.19388328189767956,
          -0.5002549827427382,
          -2.2199606530825187,
          0.4830527044613887,
          1.2011801375298716,
          -0.19774173866295486,
          -0.752708338255664,
          1.893701881344233,
          -1.5854693729649616,
          -1.1333779065857008,
          0.9496792076892996,
          -1.238894773355343,
          0.651939653630145,
          1.0901486579747812,
          -1.3242262316027364,
          0.2513360270523506,
          1.369678078932397,
          -1.5950170347251074,
          -0.3679375422795287,
          -1.7962568652676187,
          -0.5115298758591496,
          2.188733910681354,
          -1.1476516620997423,
          -0.8208471477547784,
          -1.416695201802754,
          2.11342701518249,
          0.08432602513735225,
          0.6781991471269608,
          0.07373698726313345,
          0.5710623935970508,
          -0.787688749375717,
          -0.41027858341862145,
          -0.34821811877131464,
          -1.5818949290626747,
          -1.1349294502844594,
          0.45585273942482807,
          1.3046051862052737,
          -0.4827487411487068,
          0.79507633799293,
          -0.5013579293617653,
          0.46322340516495625,
          -0.8457049730894419,
          1.648185620735109,
          0.19598567561280725,
          1.3150203116581147,
          1.237625968070254,
          0.08356414724553121,
          0.641786345422482,
          -0.6518313171806182,
          1.3354442167862435,
          -1.2043145454829405,
          0.4813823869913045,
          -1.5428335401166102,
          1.3821152573725537,
          -2.3212785452028672,
          0.8545589572697296,
          -0.772336453451533,
          -0.49736734351279943,
          0.14901385623969263,
          1.0662016178255687,
          -0.1434437840124678,
          -0.9085296086179435,
          1.0244448729388482,
          -1.4468528787919994,
          -0.3118340488124157,
          1.5188676784825625,
          0.15424572817777435,
          1.0003879295162246,
          1.3008090429174297,
          0.994546553788734,
          -1.2890830028500138,
          -0.40471979448408874,
          -0.03237658061551539,
          -1.3186709594255155,
          0.5681307989920067,
          -1.3027720666231417,
          -0.06021515309892382
         ],
         "xaxis": "x6",
         "yaxis": "y6"
        },
        {
         "line": {
          "color": "rgba(128, 128, 128, 1.0)",
          "dash": "solid",
          "shape": "linear",
          "width": 1.3
         },
         "marker": {
          "size": 2,
          "symbol": "circle"
         },
         "mode": "markers",
         "name": "B",
         "text": "",
         "type": "scatter",
         "x": [
          1.9826782448481126,
          0.6600818749606454,
          -0.7854055017464745,
          -0.08872724199795148,
          -0.35279246861192526,
          0.6215279100419142,
          1.3736653722791574,
          -0.40792202522567933,
          0.8231698806251506,
          -1.553246690046408,
          0.22088143377335312,
          0.7774135595494679,
          -1.55053551221391,
          0.47592405088312434,
          1.0456508979979475,
          1.6668814387215036,
          -1.2006029762839654,
          0.5540732169210111,
          -0.3600213472190218,
          -3.170840601377859,
          -1.3271158572237098,
          -1.431561979386749,
          -0.13516694094318898,
          -0.41498156271042985,
          1.6075355347570155,
          0.23399065003498834,
          -0.19871215454320826,
          -0.7156949056824685,
          0.7040251458117656,
          0.12530893350336372,
          0.9148446107573772,
          -0.2578236533801504,
          -0.3506773793959923,
          -0.7991682589467581,
          0.5030303007338238,
          -1.0401276595171582,
          -0.4843027052254437,
          1.156546262137966,
          -0.30354580575355183,
          -0.10262540221690042,
          -1.4690705913420872,
          0.2784873551884508,
          0.9729973131378534,
          -0.7330067945563101,
          -0.7598605119691917,
          -1.2334213008030683,
          1.4962063070001845,
          1.2082717927798778,
          0.17010013579236172,
          -0.8863735645195022,
          0.7336502426571072,
          -1.9058614634267008,
          0.09789511266801598,
          0.13701814888768582,
          -0.9093317683087555,
          0.20466334264895744,
          -0.24188099303995766,
          0.9057330507174537,
          1.2761328555412583,
          1.7386742830337232,
          -0.202590221334881,
          -2.1029695709863367,
          0.14641879077536032,
          -1.6502858545801662,
          -0.9632721401819229,
          -0.5443663262373347,
          0.7373563980583779,
          -0.038878138917357315,
          1.1088815058094743,
          -1.0177086542559917,
          1.3392819492959913,
          0.8480710290197091,
          2.2118292809272386,
          -0.37324543937960414,
          0.23620321220896628,
          -0.6585985169454098,
          -0.37874543492459517,
          -1.1648530944745845,
          0.08038751477186008,
          0.042824923658853105,
          0.8875162333678649,
          -0.32968485330616065,
          -0.5822543338995056,
          -2.274098767235217,
          0.3992943572566447,
          -0.5029467403671517,
          1.1534579129616145,
          -0.0009568329346719737,
          0.16232992598021312,
          1.1100477325545908,
          -0.05287725555315468,
          0.2716913123767963,
          -0.2700301455458189,
          -1.367522650374015,
          -1.8518071989339262,
          0.3058211114172289,
          1.5109929744272923,
          1.2506236130378505,
          -0.651662497941342,
          0.9873831121193896
         ],
         "xaxis": "x7",
         "y": [
          0.10125898893055496,
          0.8301536855043266,
          -0.7327192245673191,
          -1.0387054262404438,
          -0.13081600367508936,
          0.38664976245140625,
          -1.0533449001438244,
          -0.20007675282923942,
          -0.6185234313147078,
          0.36942411017863375,
          -0.22375568353621758,
          0.2526470287312885,
          0.2267419219131918,
          0.2639775339786776,
          -1.132739394771502,
          -1.1482843495848114,
          -1.4128591948532767,
          -0.18778958090483552,
          0.7948906960485981,
          -0.7892335813067191,
          -0.8706073761676926,
          0.6770291787073698,
          2.0113237483420052,
          0.19388328189767956,
          -0.5002549827427382,
          -2.2199606530825187,
          0.4830527044613887,
          1.2011801375298716,
          -0.19774173866295486,
          -0.752708338255664,
          1.893701881344233,
          -1.5854693729649616,
          -1.1333779065857008,
          0.9496792076892996,
          -1.238894773355343,
          0.651939653630145,
          1.0901486579747812,
          -1.3242262316027364,
          0.2513360270523506,
          1.369678078932397,
          -1.5950170347251074,
          -0.3679375422795287,
          -1.7962568652676187,
          -0.5115298758591496,
          2.188733910681354,
          -1.1476516620997423,
          -0.8208471477547784,
          -1.416695201802754,
          2.11342701518249,
          0.08432602513735225,
          0.6781991471269608,
          0.07373698726313345,
          0.5710623935970508,
          -0.787688749375717,
          -0.41027858341862145,
          -0.34821811877131464,
          -1.5818949290626747,
          -1.1349294502844594,
          0.45585273942482807,
          1.3046051862052737,
          -0.4827487411487068,
          0.79507633799293,
          -0.5013579293617653,
          0.46322340516495625,
          -0.8457049730894419,
          1.648185620735109,
          0.19598567561280725,
          1.3150203116581147,
          1.237625968070254,
          0.08356414724553121,
          0.641786345422482,
          -0.6518313171806182,
          1.3354442167862435,
          -1.2043145454829405,
          0.4813823869913045,
          -1.5428335401166102,
          1.3821152573725537,
          -2.3212785452028672,
          0.8545589572697296,
          -0.772336453451533,
          -0.49736734351279943,
          0.14901385623969263,
          1.0662016178255687,
          -0.1434437840124678,
          -0.9085296086179435,
          1.0244448729388482,
          -1.4468528787919994,
          -0.3118340488124157,
          1.5188676784825625,
          0.15424572817777435,
          1.0003879295162246,
          1.3008090429174297,
          0.994546553788734,
          -1.2890830028500138,
          -0.40471979448408874,
          -0.03237658061551539,
          -1.3186709594255155,
          0.5681307989920067,
          -1.3027720666231417,
          -0.06021515309892382
         ],
         "yaxis": "y7"
        },
        {
         "line": {
          "color": "rgba(128, 128, 128, 1.0)",
          "dash": "solid",
          "shape": "linear",
          "width": 1.3
         },
         "marker": {
          "size": 2,
          "symbol": "circle"
         },
         "mode": "markers",
         "name": "B",
         "text": "",
         "type": "scatter",
         "x": [
          -0.9976983614351799,
          0.3482996174135738,
          0.5198729665770465,
          0.5961438411103572,
          -1.4455527654806652,
          -1.0439622504316568,
          -1.5061213313520547,
          -1.0832843449586425,
          -0.18330746470354786,
          -0.33573070365163415,
          -0.5524866987495552,
          0.48073881269727553,
          1.1714422206161683,
          2.4540043264885685,
          -1.0976434528759873,
          -0.0023124590897065,
          -0.05449348402022067,
          -0.8978018878319018,
          -0.10017269377275725,
          -0.652706473663357,
          0.6109271612495114,
          0.48669798595464,
          0.6821945418916386,
          1.363330444126585,
          -0.6309199044214974,
          0.5086943952845181,
          -0.5382771808153662,
          0.8364048543061532,
          -0.3750492219137734,
          -1.5622240907714506,
          0.8987183942935888,
          2.1446151990780864,
          -1.8706141653186803,
          0.3275876731514227,
          -0.6284816522555828,
          -0.6018605977870878,
          -0.3979495077307453,
          0.5606589040364272,
          0.11033256027691177,
          0.5214386168521874,
          1.5772815555419955,
          -0.9372458389931095,
          0.1731793470299087,
          0.2029761918958493,
          0.18242312016866313,
          0.4120567789077027,
          -0.32578608408009213,
          0.6890541866411583,
          0.8678327893559957,
          -0.33345182733732326,
          0.26690015294188374,
          -0.15113810493423677,
          0.16772173385135722,
          -1.49857338871038,
          -1.637674180671225,
          0.364355161926861,
          -0.889465826373414,
          -0.7478949314357145,
          1.5934730485312447,
          -0.22134157166250307,
          0.7923846183372784,
          0.3384719492622945,
          -0.045885261648630826,
          0.4405627829609798,
          1.0318548143612905,
          -1.385691540964935,
          -0.6826394395564014,
          -0.8052830818459382,
          0.6112279635616631,
          -0.43670449840982883,
          0.6346057391180093,
          0.25779002362252346,
          1.0182869198734814,
          -0.6809800645412656,
          0.36470782397371787,
          0.26794657305049113,
          -0.04242307532924371,
          -1.0156797741997807,
          -0.18951065153563823,
          0.7986965181101916,
          0.060549974776385324,
          0.3984054368083864,
          0.7774464251421512,
          0.7506239053217926,
          1.022601973677445,
          0.4927545810098558,
          -0.834021709032103,
          0.4935369060086965,
          0.37343704574554426,
          0.47114004839347245,
          -0.8701938686920545,
          -0.3708994306880713,
          -0.5769821101739236,
          0.6879933234032504,
          -0.891162953646132,
          -1.7261205934346362,
          -0.449625936317721,
          0.6303983269141106,
          1.1499202452107566,
          -1.0812453948426501
         ],
         "xaxis": "x8",
         "y": [
          0.10125898893055496,
          0.8301536855043266,
          -0.7327192245673191,
          -1.0387054262404438,
          -0.13081600367508936,
          0.38664976245140625,
          -1.0533449001438244,
          -0.20007675282923942,
          -0.6185234313147078,
          0.36942411017863375,
          -0.22375568353621758,
          0.2526470287312885,
          0.2267419219131918,
          0.2639775339786776,
          -1.132739394771502,
          -1.1482843495848114,
          -1.4128591948532767,
          -0.18778958090483552,
          0.7948906960485981,
          -0.7892335813067191,
          -0.8706073761676926,
          0.6770291787073698,
          2.0113237483420052,
          0.19388328189767956,
          -0.5002549827427382,
          -2.2199606530825187,
          0.4830527044613887,
          1.2011801375298716,
          -0.19774173866295486,
          -0.752708338255664,
          1.893701881344233,
          -1.5854693729649616,
          -1.1333779065857008,
          0.9496792076892996,
          -1.238894773355343,
          0.651939653630145,
          1.0901486579747812,
          -1.3242262316027364,
          0.2513360270523506,
          1.369678078932397,
          -1.5950170347251074,
          -0.3679375422795287,
          -1.7962568652676187,
          -0.5115298758591496,
          2.188733910681354,
          -1.1476516620997423,
          -0.8208471477547784,
          -1.416695201802754,
          2.11342701518249,
          0.08432602513735225,
          0.6781991471269608,
          0.07373698726313345,
          0.5710623935970508,
          -0.787688749375717,
          -0.41027858341862145,
          -0.34821811877131464,
          -1.5818949290626747,
          -1.1349294502844594,
          0.45585273942482807,
          1.3046051862052737,
          -0.4827487411487068,
          0.79507633799293,
          -0.5013579293617653,
          0.46322340516495625,
          -0.8457049730894419,
          1.648185620735109,
          0.19598567561280725,
          1.3150203116581147,
          1.237625968070254,
          0.08356414724553121,
          0.641786345422482,
          -0.6518313171806182,
          1.3354442167862435,
          -1.2043145454829405,
          0.4813823869913045,
          -1.5428335401166102,
          1.3821152573725537,
          -2.3212785452028672,
          0.8545589572697296,
          -0.772336453451533,
          -0.49736734351279943,
          0.14901385623969263,
          1.0662016178255687,
          -0.1434437840124678,
          -0.9085296086179435,
          1.0244448729388482,
          -1.4468528787919994,
          -0.3118340488124157,
          1.5188676784825625,
          0.15424572817777435,
          1.0003879295162246,
          1.3008090429174297,
          0.994546553788734,
          -1.2890830028500138,
          -0.40471979448408874,
          -0.03237658061551539,
          -1.3186709594255155,
          0.5681307989920067,
          -1.3027720666231417,
          -0.06021515309892382
         ],
         "yaxis": "y8"
        },
        {
         "line": {
          "color": "rgba(128, 128, 128, 1.0)",
          "dash": "solid",
          "shape": "linear",
          "width": 1.3
         },
         "marker": {
          "size": 2,
          "symbol": "circle"
         },
         "mode": "markers",
         "name": "C",
         "text": "",
         "type": "scatter",
         "x": [
          0.32205259576789935,
          -1.2705842440830204,
          0.10782211694491088,
          -1.2646863492002582,
          -0.623016293453436,
          0.4370049139590851,
          -1.8552254970766764,
          -1.073096970098413,
          1.3267635793739714,
          0.24419011655680606,
          1.0557345774677764,
          1.7122399294231183,
          -0.2677909309326994,
          -0.28051016349477526,
          1.4218608035818048,
          -1.0755029134841767,
          -0.9863577816639659,
          1.1115777342445334,
          -0.6008887227314611,
          -0.22539529068580208,
          -1.9716753893735646,
          -0.2365223696654613,
          0.03208548148818823,
          1.8767437352407905,
          0.11545545793837805,
          0.4970025785014497,
          1.3483980343794544,
          -0.010039690351554604,
          -0.2862034883600797,
          0.7806427708890616,
          1.2081127390165514,
          2.218774713469848,
          0.32195990417680637,
          -0.789709658198847,
          -0.9214869451393399,
          0.6711847095892842,
          -2.0114126158674566,
          -0.5309530198516696,
          -0.5878185997505112,
          -1.2238813239452369,
          -0.6931838125152013,
          -0.18979028816183985,
          0.1999551589396969,
          -0.8954707479977178,
          0.008236776144134046,
          -0.7787953946941676,
          -1.2036680132508266,
          -1.0847531776936057,
          0.005830557401403538,
          0.1728310981019457,
          0.4449020848059417,
          -1.2639359430032238,
          -0.43542486573921074,
          0.9384190809815643,
          0.4417474515879442,
          0.9940869401415626,
          -0.24283687971943876,
          1.1349532128915576,
          -1.4141984420513154,
          -0.1588896627196114,
          1.4481799160580093,
          2.1823007739131963,
          2.2440304393283648,
          -0.5847717373041349,
          0.8639441573674254,
          1.5196751985682482,
          0.3827391753660122,
          0.8684445003403783,
          -1.2023800499448436,
          0.8930942078797675,
          0.9233087070208601,
          0.6698237160538058,
          0.02239191937027293,
          0.7820499553794281,
          -0.3248424573510298,
          -1.8242941941509472,
          -0.09514443783697729,
          1.2553052652092374,
          0.5534742778189647,
          -0.12727753897390603,
          -0.7962665535640177,
          1.2211010568044924,
          1.5560296838025678,
          -0.40481828496818456,
          0.5218851881531966,
          -1.5271712764268646,
          -2.776318086494025,
          0.999386989977953,
          -0.19556324612903161,
          1.6357935804232269,
          -0.8896042579824299,
          0.8581748464534634,
          0.8086306539297275,
          0.506194813669362,
          0.7183057346101549,
          -0.11471459993668659,
          -1.0265711561628377,
          -0.5019344243022291,
          1.6007548010842878,
          -0.40354560457594973
         ],
         "xaxis": "x9",
         "y": [
          1.9826782448481126,
          0.6600818749606454,
          -0.7854055017464745,
          -0.08872724199795148,
          -0.35279246861192526,
          0.6215279100419142,
          1.3736653722791574,
          -0.40792202522567933,
          0.8231698806251506,
          -1.553246690046408,
          0.22088143377335312,
          0.7774135595494679,
          -1.55053551221391,
          0.47592405088312434,
          1.0456508979979475,
          1.6668814387215036,
          -1.2006029762839654,
          0.5540732169210111,
          -0.3600213472190218,
          -3.170840601377859,
          -1.3271158572237098,
          -1.431561979386749,
          -0.13516694094318898,
          -0.41498156271042985,
          1.6075355347570155,
          0.23399065003498834,
          -0.19871215454320826,
          -0.7156949056824685,
          0.7040251458117656,
          0.12530893350336372,
          0.9148446107573772,
          -0.2578236533801504,
          -0.3506773793959923,
          -0.7991682589467581,
          0.5030303007338238,
          -1.0401276595171582,
          -0.4843027052254437,
          1.156546262137966,
          -0.30354580575355183,
          -0.10262540221690042,
          -1.4690705913420872,
          0.2784873551884508,
          0.9729973131378534,
          -0.7330067945563101,
          -0.7598605119691917,
          -1.2334213008030683,
          1.4962063070001845,
          1.2082717927798778,
          0.17010013579236172,
          -0.8863735645195022,
          0.7336502426571072,
          -1.9058614634267008,
          0.09789511266801598,
          0.13701814888768582,
          -0.9093317683087555,
          0.20466334264895744,
          -0.24188099303995766,
          0.9057330507174537,
          1.2761328555412583,
          1.7386742830337232,
          -0.202590221334881,
          -2.1029695709863367,
          0.14641879077536032,
          -1.6502858545801662,
          -0.9632721401819229,
          -0.5443663262373347,
          0.7373563980583779,
          -0.038878138917357315,
          1.1088815058094743,
          -1.0177086542559917,
          1.3392819492959913,
          0.8480710290197091,
          2.2118292809272386,
          -0.37324543937960414,
          0.23620321220896628,
          -0.6585985169454098,
          -0.37874543492459517,
          -1.1648530944745845,
          0.08038751477186008,
          0.042824923658853105,
          0.8875162333678649,
          -0.32968485330616065,
          -0.5822543338995056,
          -2.274098767235217,
          0.3992943572566447,
          -0.5029467403671517,
          1.1534579129616145,
          -0.0009568329346719737,
          0.16232992598021312,
          1.1100477325545908,
          -0.05287725555315468,
          0.2716913123767963,
          -0.2700301455458189,
          -1.367522650374015,
          -1.8518071989339262,
          0.3058211114172289,
          1.5109929744272923,
          1.2506236130378505,
          -0.651662497941342,
          0.9873831121193896
         ],
         "yaxis": "y9"
        },
        {
         "line": {
          "color": "rgba(128, 128, 128, 1.0)",
          "dash": "solid",
          "shape": "linear",
          "width": 1.3
         },
         "marker": {
          "size": 2,
          "symbol": "circle"
         },
         "mode": "markers",
         "name": "C",
         "text": "",
         "type": "scatter",
         "x": [
          0.10125898893055496,
          0.8301536855043266,
          -0.7327192245673191,
          -1.0387054262404438,
          -0.13081600367508936,
          0.38664976245140625,
          -1.0533449001438244,
          -0.20007675282923942,
          -0.6185234313147078,
          0.36942411017863375,
          -0.22375568353621758,
          0.2526470287312885,
          0.2267419219131918,
          0.2639775339786776,
          -1.132739394771502,
          -1.1482843495848114,
          -1.4128591948532767,
          -0.18778958090483552,
          0.7948906960485981,
          -0.7892335813067191,
          -0.8706073761676926,
          0.6770291787073698,
          2.0113237483420052,
          0.19388328189767956,
          -0.5002549827427382,
          -2.2199606530825187,
          0.4830527044613887,
          1.2011801375298716,
          -0.19774173866295486,
          -0.752708338255664,
          1.893701881344233,
          -1.5854693729649616,
          -1.1333779065857008,
          0.9496792076892996,
          -1.238894773355343,
          0.651939653630145,
          1.0901486579747812,
          -1.3242262316027364,
          0.2513360270523506,
          1.369678078932397,
          -1.5950170347251074,
          -0.3679375422795287,
          -1.7962568652676187,
          -0.5115298758591496,
          2.188733910681354,
          -1.1476516620997423,
          -0.8208471477547784,
          -1.416695201802754,
          2.11342701518249,
          0.08432602513735225,
          0.6781991471269608,
          0.07373698726313345,
          0.5710623935970508,
          -0.787688749375717,
          -0.41027858341862145,
          -0.34821811877131464,
          -1.5818949290626747,
          -1.1349294502844594,
          0.45585273942482807,
          1.3046051862052737,
          -0.4827487411487068,
          0.79507633799293,
          -0.5013579293617653,
          0.46322340516495625,
          -0.8457049730894419,
          1.648185620735109,
          0.19598567561280725,
          1.3150203116581147,
          1.237625968070254,
          0.08356414724553121,
          0.641786345422482,
          -0.6518313171806182,
          1.3354442167862435,
          -1.2043145454829405,
          0.4813823869913045,
          -1.5428335401166102,
          1.3821152573725537,
          -2.3212785452028672,
          0.8545589572697296,
          -0.772336453451533,
          -0.49736734351279943,
          0.14901385623969263,
          1.0662016178255687,
          -0.1434437840124678,
          -0.9085296086179435,
          1.0244448729388482,
          -1.4468528787919994,
          -0.3118340488124157,
          1.5188676784825625,
          0.15424572817777435,
          1.0003879295162246,
          1.3008090429174297,
          0.994546553788734,
          -1.2890830028500138,
          -0.40471979448408874,
          -0.03237658061551539,
          -1.3186709594255155,
          0.5681307989920067,
          -1.3027720666231417,
          -0.06021515309892382
         ],
         "xaxis": "x10",
         "y": [
          1.9826782448481126,
          0.6600818749606454,
          -0.7854055017464745,
          -0.08872724199795148,
          -0.35279246861192526,
          0.6215279100419142,
          1.3736653722791574,
          -0.40792202522567933,
          0.8231698806251506,
          -1.553246690046408,
          0.22088143377335312,
          0.7774135595494679,
          -1.55053551221391,
          0.47592405088312434,
          1.0456508979979475,
          1.6668814387215036,
          -1.2006029762839654,
          0.5540732169210111,
          -0.3600213472190218,
          -3.170840601377859,
          -1.3271158572237098,
          -1.431561979386749,
          -0.13516694094318898,
          -0.41498156271042985,
          1.6075355347570155,
          0.23399065003498834,
          -0.19871215454320826,
          -0.7156949056824685,
          0.7040251458117656,
          0.12530893350336372,
          0.9148446107573772,
          -0.2578236533801504,
          -0.3506773793959923,
          -0.7991682589467581,
          0.5030303007338238,
          -1.0401276595171582,
          -0.4843027052254437,
          1.156546262137966,
          -0.30354580575355183,
          -0.10262540221690042,
          -1.4690705913420872,
          0.2784873551884508,
          0.9729973131378534,
          -0.7330067945563101,
          -0.7598605119691917,
          -1.2334213008030683,
          1.4962063070001845,
          1.2082717927798778,
          0.17010013579236172,
          -0.8863735645195022,
          0.7336502426571072,
          -1.9058614634267008,
          0.09789511266801598,
          0.13701814888768582,
          -0.9093317683087555,
          0.20466334264895744,
          -0.24188099303995766,
          0.9057330507174537,
          1.2761328555412583,
          1.7386742830337232,
          -0.202590221334881,
          -2.1029695709863367,
          0.14641879077536032,
          -1.6502858545801662,
          -0.9632721401819229,
          -0.5443663262373347,
          0.7373563980583779,
          -0.038878138917357315,
          1.1088815058094743,
          -1.0177086542559917,
          1.3392819492959913,
          0.8480710290197091,
          2.2118292809272386,
          -0.37324543937960414,
          0.23620321220896628,
          -0.6585985169454098,
          -0.37874543492459517,
          -1.1648530944745845,
          0.08038751477186008,
          0.042824923658853105,
          0.8875162333678649,
          -0.32968485330616065,
          -0.5822543338995056,
          -2.274098767235217,
          0.3992943572566447,
          -0.5029467403671517,
          1.1534579129616145,
          -0.0009568329346719737,
          0.16232992598021312,
          1.1100477325545908,
          -0.05287725555315468,
          0.2716913123767963,
          -0.2700301455458189,
          -1.367522650374015,
          -1.8518071989339262,
          0.3058211114172289,
          1.5109929744272923,
          1.2506236130378505,
          -0.651662497941342,
          0.9873831121193896
         ],
         "yaxis": "y10"
        },
        {
         "histfunc": "count",
         "histnorm": "",
         "marker": {
          "color": "rgba(50, 171, 96, 1.0)",
          "line": {
           "color": "#4D5663",
           "width": 1.3
          }
         },
         "name": "C",
         "nbinsx": 10,
         "opacity": 0.8,
         "orientation": "v",
         "type": "histogram",
         "x": [
          1.9826782448481126,
          0.6600818749606454,
          -0.7854055017464745,
          -0.08872724199795148,
          -0.35279246861192526,
          0.6215279100419142,
          1.3736653722791574,
          -0.40792202522567933,
          0.8231698806251506,
          -1.553246690046408,
          0.22088143377335312,
          0.7774135595494679,
          -1.55053551221391,
          0.47592405088312434,
          1.0456508979979475,
          1.6668814387215036,
          -1.2006029762839654,
          0.5540732169210111,
          -0.3600213472190218,
          -3.170840601377859,
          -1.3271158572237098,
          -1.431561979386749,
          -0.13516694094318898,
          -0.41498156271042985,
          1.6075355347570155,
          0.23399065003498834,
          -0.19871215454320826,
          -0.7156949056824685,
          0.7040251458117656,
          0.12530893350336372,
          0.9148446107573772,
          -0.2578236533801504,
          -0.3506773793959923,
          -0.7991682589467581,
          0.5030303007338238,
          -1.0401276595171582,
          -0.4843027052254437,
          1.156546262137966,
          -0.30354580575355183,
          -0.10262540221690042,
          -1.4690705913420872,
          0.2784873551884508,
          0.9729973131378534,
          -0.7330067945563101,
          -0.7598605119691917,
          -1.2334213008030683,
          1.4962063070001845,
          1.2082717927798778,
          0.17010013579236172,
          -0.8863735645195022,
          0.7336502426571072,
          -1.9058614634267008,
          0.09789511266801598,
          0.13701814888768582,
          -0.9093317683087555,
          0.20466334264895744,
          -0.24188099303995766,
          0.9057330507174537,
          1.2761328555412583,
          1.7386742830337232,
          -0.202590221334881,
          -2.1029695709863367,
          0.14641879077536032,
          -1.6502858545801662,
          -0.9632721401819229,
          -0.5443663262373347,
          0.7373563980583779,
          -0.038878138917357315,
          1.1088815058094743,
          -1.0177086542559917,
          1.3392819492959913,
          0.8480710290197091,
          2.2118292809272386,
          -0.37324543937960414,
          0.23620321220896628,
          -0.6585985169454098,
          -0.37874543492459517,
          -1.1648530944745845,
          0.08038751477186008,
          0.042824923658853105,
          0.8875162333678649,
          -0.32968485330616065,
          -0.5822543338995056,
          -2.274098767235217,
          0.3992943572566447,
          -0.5029467403671517,
          1.1534579129616145,
          -0.0009568329346719737,
          0.16232992598021312,
          1.1100477325545908,
          -0.05287725555315468,
          0.2716913123767963,
          -0.2700301455458189,
          -1.367522650374015,
          -1.8518071989339262,
          0.3058211114172289,
          1.5109929744272923,
          1.2506236130378505,
          -0.651662497941342,
          0.9873831121193896
         ],
         "xaxis": "x11",
         "yaxis": "y11"
        },
        {
         "line": {
          "color": "rgba(128, 128, 128, 1.0)",
          "dash": "solid",
          "shape": "linear",
          "width": 1.3
         },
         "marker": {
          "size": 2,
          "symbol": "circle"
         },
         "mode": "markers",
         "name": "C",
         "text": "",
         "type": "scatter",
         "x": [
          -0.9976983614351799,
          0.3482996174135738,
          0.5198729665770465,
          0.5961438411103572,
          -1.4455527654806652,
          -1.0439622504316568,
          -1.5061213313520547,
          -1.0832843449586425,
          -0.18330746470354786,
          -0.33573070365163415,
          -0.5524866987495552,
          0.48073881269727553,
          1.1714422206161683,
          2.4540043264885685,
          -1.0976434528759873,
          -0.0023124590897065,
          -0.05449348402022067,
          -0.8978018878319018,
          -0.10017269377275725,
          -0.652706473663357,
          0.6109271612495114,
          0.48669798595464,
          0.6821945418916386,
          1.363330444126585,
          -0.6309199044214974,
          0.5086943952845181,
          -0.5382771808153662,
          0.8364048543061532,
          -0.3750492219137734,
          -1.5622240907714506,
          0.8987183942935888,
          2.1446151990780864,
          -1.8706141653186803,
          0.3275876731514227,
          -0.6284816522555828,
          -0.6018605977870878,
          -0.3979495077307453,
          0.5606589040364272,
          0.11033256027691177,
          0.5214386168521874,
          1.5772815555419955,
          -0.9372458389931095,
          0.1731793470299087,
          0.2029761918958493,
          0.18242312016866313,
          0.4120567789077027,
          -0.32578608408009213,
          0.6890541866411583,
          0.8678327893559957,
          -0.33345182733732326,
          0.26690015294188374,
          -0.15113810493423677,
          0.16772173385135722,
          -1.49857338871038,
          -1.637674180671225,
          0.364355161926861,
          -0.889465826373414,
          -0.7478949314357145,
          1.5934730485312447,
          -0.22134157166250307,
          0.7923846183372784,
          0.3384719492622945,
          -0.045885261648630826,
          0.4405627829609798,
          1.0318548143612905,
          -1.385691540964935,
          -0.6826394395564014,
          -0.8052830818459382,
          0.6112279635616631,
          -0.43670449840982883,
          0.6346057391180093,
          0.25779002362252346,
          1.0182869198734814,
          -0.6809800645412656,
          0.36470782397371787,
          0.26794657305049113,
          -0.04242307532924371,
          -1.0156797741997807,
          -0.18951065153563823,
          0.7986965181101916,
          0.060549974776385324,
          0.3984054368083864,
          0.7774464251421512,
          0.7506239053217926,
          1.022601973677445,
          0.4927545810098558,
          -0.834021709032103,
          0.4935369060086965,
          0.37343704574554426,
          0.47114004839347245,
          -0.8701938686920545,
          -0.3708994306880713,
          -0.5769821101739236,
          0.6879933234032504,
          -0.891162953646132,
          -1.7261205934346362,
          -0.449625936317721,
          0.6303983269141106,
          1.1499202452107566,
          -1.0812453948426501
         ],
         "xaxis": "x12",
         "y": [
          1.9826782448481126,
          0.6600818749606454,
          -0.7854055017464745,
          -0.08872724199795148,
          -0.35279246861192526,
          0.6215279100419142,
          1.3736653722791574,
          -0.40792202522567933,
          0.8231698806251506,
          -1.553246690046408,
          0.22088143377335312,
          0.7774135595494679,
          -1.55053551221391,
          0.47592405088312434,
          1.0456508979979475,
          1.6668814387215036,
          -1.2006029762839654,
          0.5540732169210111,
          -0.3600213472190218,
          -3.170840601377859,
          -1.3271158572237098,
          -1.431561979386749,
          -0.13516694094318898,
          -0.41498156271042985,
          1.6075355347570155,
          0.23399065003498834,
          -0.19871215454320826,
          -0.7156949056824685,
          0.7040251458117656,
          0.12530893350336372,
          0.9148446107573772,
          -0.2578236533801504,
          -0.3506773793959923,
          -0.7991682589467581,
          0.5030303007338238,
          -1.0401276595171582,
          -0.4843027052254437,
          1.156546262137966,
          -0.30354580575355183,
          -0.10262540221690042,
          -1.4690705913420872,
          0.2784873551884508,
          0.9729973131378534,
          -0.7330067945563101,
          -0.7598605119691917,
          -1.2334213008030683,
          1.4962063070001845,
          1.2082717927798778,
          0.17010013579236172,
          -0.8863735645195022,
          0.7336502426571072,
          -1.9058614634267008,
          0.09789511266801598,
          0.13701814888768582,
          -0.9093317683087555,
          0.20466334264895744,
          -0.24188099303995766,
          0.9057330507174537,
          1.2761328555412583,
          1.7386742830337232,
          -0.202590221334881,
          -2.1029695709863367,
          0.14641879077536032,
          -1.6502858545801662,
          -0.9632721401819229,
          -0.5443663262373347,
          0.7373563980583779,
          -0.038878138917357315,
          1.1088815058094743,
          -1.0177086542559917,
          1.3392819492959913,
          0.8480710290197091,
          2.2118292809272386,
          -0.37324543937960414,
          0.23620321220896628,
          -0.6585985169454098,
          -0.37874543492459517,
          -1.1648530944745845,
          0.08038751477186008,
          0.042824923658853105,
          0.8875162333678649,
          -0.32968485330616065,
          -0.5822543338995056,
          -2.274098767235217,
          0.3992943572566447,
          -0.5029467403671517,
          1.1534579129616145,
          -0.0009568329346719737,
          0.16232992598021312,
          1.1100477325545908,
          -0.05287725555315468,
          0.2716913123767963,
          -0.2700301455458189,
          -1.367522650374015,
          -1.8518071989339262,
          0.3058211114172289,
          1.5109929744272923,
          1.2506236130378505,
          -0.651662497941342,
          0.9873831121193896
         ],
         "yaxis": "y12"
        },
        {
         "line": {
          "color": "rgba(128, 128, 128, 1.0)",
          "dash": "solid",
          "shape": "linear",
          "width": 1.3
         },
         "marker": {
          "size": 2,
          "symbol": "circle"
         },
         "mode": "markers",
         "name": "D",
         "text": "",
         "type": "scatter",
         "x": [
          0.32205259576789935,
          -1.2705842440830204,
          0.10782211694491088,
          -1.2646863492002582,
          -0.623016293453436,
          0.4370049139590851,
          -1.8552254970766764,
          -1.073096970098413,
          1.3267635793739714,
          0.24419011655680606,
          1.0557345774677764,
          1.7122399294231183,
          -0.2677909309326994,
          -0.28051016349477526,
          1.4218608035818048,
          -1.0755029134841767,
          -0.9863577816639659,
          1.1115777342445334,
          -0.6008887227314611,
          -0.22539529068580208,
          -1.9716753893735646,
          -0.2365223696654613,
          0.03208548148818823,
          1.8767437352407905,
          0.11545545793837805,
          0.4970025785014497,
          1.3483980343794544,
          -0.010039690351554604,
          -0.2862034883600797,
          0.7806427708890616,
          1.2081127390165514,
          2.218774713469848,
          0.32195990417680637,
          -0.789709658198847,
          -0.9214869451393399,
          0.6711847095892842,
          -2.0114126158674566,
          -0.5309530198516696,
          -0.5878185997505112,
          -1.2238813239452369,
          -0.6931838125152013,
          -0.18979028816183985,
          0.1999551589396969,
          -0.8954707479977178,
          0.008236776144134046,
          -0.7787953946941676,
          -1.2036680132508266,
          -1.0847531776936057,
          0.005830557401403538,
          0.1728310981019457,
          0.4449020848059417,
          -1.2639359430032238,
          -0.43542486573921074,
          0.9384190809815643,
          0.4417474515879442,
          0.9940869401415626,
          -0.24283687971943876,
          1.1349532128915576,
          -1.4141984420513154,
          -0.1588896627196114,
          1.4481799160580093,
          2.1823007739131963,
          2.2440304393283648,
          -0.5847717373041349,
          0.8639441573674254,
          1.5196751985682482,
          0.3827391753660122,
          0.8684445003403783,
          -1.2023800499448436,
          0.8930942078797675,
          0.9233087070208601,
          0.6698237160538058,
          0.02239191937027293,
          0.7820499553794281,
          -0.3248424573510298,
          -1.8242941941509472,
          -0.09514443783697729,
          1.2553052652092374,
          0.5534742778189647,
          -0.12727753897390603,
          -0.7962665535640177,
          1.2211010568044924,
          1.5560296838025678,
          -0.40481828496818456,
          0.5218851881531966,
          -1.5271712764268646,
          -2.776318086494025,
          0.999386989977953,
          -0.19556324612903161,
          1.6357935804232269,
          -0.8896042579824299,
          0.8581748464534634,
          0.8086306539297275,
          0.506194813669362,
          0.7183057346101549,
          -0.11471459993668659,
          -1.0265711561628377,
          -0.5019344243022291,
          1.6007548010842878,
          -0.40354560457594973
         ],
         "xaxis": "x13",
         "y": [
          -0.9976983614351799,
          0.3482996174135738,
          0.5198729665770465,
          0.5961438411103572,
          -1.4455527654806652,
          -1.0439622504316568,
          -1.5061213313520547,
          -1.0832843449586425,
          -0.18330746470354786,
          -0.33573070365163415,
          -0.5524866987495552,
          0.48073881269727553,
          1.1714422206161683,
          2.4540043264885685,
          -1.0976434528759873,
          -0.0023124590897065,
          -0.05449348402022067,
          -0.8978018878319018,
          -0.10017269377275725,
          -0.652706473663357,
          0.6109271612495114,
          0.48669798595464,
          0.6821945418916386,
          1.363330444126585,
          -0.6309199044214974,
          0.5086943952845181,
          -0.5382771808153662,
          0.8364048543061532,
          -0.3750492219137734,
          -1.5622240907714506,
          0.8987183942935888,
          2.1446151990780864,
          -1.8706141653186803,
          0.3275876731514227,
          -0.6284816522555828,
          -0.6018605977870878,
          -0.3979495077307453,
          0.5606589040364272,
          0.11033256027691177,
          0.5214386168521874,
          1.5772815555419955,
          -0.9372458389931095,
          0.1731793470299087,
          0.2029761918958493,
          0.18242312016866313,
          0.4120567789077027,
          -0.32578608408009213,
          0.6890541866411583,
          0.8678327893559957,
          -0.33345182733732326,
          0.26690015294188374,
          -0.15113810493423677,
          0.16772173385135722,
          -1.49857338871038,
          -1.637674180671225,
          0.364355161926861,
          -0.889465826373414,
          -0.7478949314357145,
          1.5934730485312447,
          -0.22134157166250307,
          0.7923846183372784,
          0.3384719492622945,
          -0.045885261648630826,
          0.4405627829609798,
          1.0318548143612905,
          -1.385691540964935,
          -0.6826394395564014,
          -0.8052830818459382,
          0.6112279635616631,
          -0.43670449840982883,
          0.6346057391180093,
          0.25779002362252346,
          1.0182869198734814,
          -0.6809800645412656,
          0.36470782397371787,
          0.26794657305049113,
          -0.04242307532924371,
          -1.0156797741997807,
          -0.18951065153563823,
          0.7986965181101916,
          0.060549974776385324,
          0.3984054368083864,
          0.7774464251421512,
          0.7506239053217926,
          1.022601973677445,
          0.4927545810098558,
          -0.834021709032103,
          0.4935369060086965,
          0.37343704574554426,
          0.47114004839347245,
          -0.8701938686920545,
          -0.3708994306880713,
          -0.5769821101739236,
          0.6879933234032504,
          -0.891162953646132,
          -1.7261205934346362,
          -0.449625936317721,
          0.6303983269141106,
          1.1499202452107566,
          -1.0812453948426501
         ],
         "yaxis": "y13"
        },
        {
         "line": {
          "color": "rgba(128, 128, 128, 1.0)",
          "dash": "solid",
          "shape": "linear",
          "width": 1.3
         },
         "marker": {
          "size": 2,
          "symbol": "circle"
         },
         "mode": "markers",
         "name": "D",
         "text": "",
         "type": "scatter",
         "x": [
          0.10125898893055496,
          0.8301536855043266,
          -0.7327192245673191,
          -1.0387054262404438,
          -0.13081600367508936,
          0.38664976245140625,
          -1.0533449001438244,
          -0.20007675282923942,
          -0.6185234313147078,
          0.36942411017863375,
          -0.22375568353621758,
          0.2526470287312885,
          0.2267419219131918,
          0.2639775339786776,
          -1.132739394771502,
          -1.1482843495848114,
          -1.4128591948532767,
          -0.18778958090483552,
          0.7948906960485981,
          -0.7892335813067191,
          -0.8706073761676926,
          0.6770291787073698,
          2.0113237483420052,
          0.19388328189767956,
          -0.5002549827427382,
          -2.2199606530825187,
          0.4830527044613887,
          1.2011801375298716,
          -0.19774173866295486,
          -0.752708338255664,
          1.893701881344233,
          -1.5854693729649616,
          -1.1333779065857008,
          0.9496792076892996,
          -1.238894773355343,
          0.651939653630145,
          1.0901486579747812,
          -1.3242262316027364,
          0.2513360270523506,
          1.369678078932397,
          -1.5950170347251074,
          -0.3679375422795287,
          -1.7962568652676187,
          -0.5115298758591496,
          2.188733910681354,
          -1.1476516620997423,
          -0.8208471477547784,
          -1.416695201802754,
          2.11342701518249,
          0.08432602513735225,
          0.6781991471269608,
          0.07373698726313345,
          0.5710623935970508,
          -0.787688749375717,
          -0.41027858341862145,
          -0.34821811877131464,
          -1.5818949290626747,
          -1.1349294502844594,
          0.45585273942482807,
          1.3046051862052737,
          -0.4827487411487068,
          0.79507633799293,
          -0.5013579293617653,
          0.46322340516495625,
          -0.8457049730894419,
          1.648185620735109,
          0.19598567561280725,
          1.3150203116581147,
          1.237625968070254,
          0.08356414724553121,
          0.641786345422482,
          -0.6518313171806182,
          1.3354442167862435,
          -1.2043145454829405,
          0.4813823869913045,
          -1.5428335401166102,
          1.3821152573725537,
          -2.3212785452028672,
          0.8545589572697296,
          -0.772336453451533,
          -0.49736734351279943,
          0.14901385623969263,
          1.0662016178255687,
          -0.1434437840124678,
          -0.9085296086179435,
          1.0244448729388482,
          -1.4468528787919994,
          -0.3118340488124157,
          1.5188676784825625,
          0.15424572817777435,
          1.0003879295162246,
          1.3008090429174297,
          0.994546553788734,
          -1.2890830028500138,
          -0.40471979448408874,
          -0.03237658061551539,
          -1.3186709594255155,
          0.5681307989920067,
          -1.3027720666231417,
          -0.06021515309892382
         ],
         "xaxis": "x14",
         "y": [
          -0.9976983614351799,
          0.3482996174135738,
          0.5198729665770465,
          0.5961438411103572,
          -1.4455527654806652,
          -1.0439622504316568,
          -1.5061213313520547,
          -1.0832843449586425,
          -0.18330746470354786,
          -0.33573070365163415,
          -0.5524866987495552,
          0.48073881269727553,
          1.1714422206161683,
          2.4540043264885685,
          -1.0976434528759873,
          -0.0023124590897065,
          -0.05449348402022067,
          -0.8978018878319018,
          -0.10017269377275725,
          -0.652706473663357,
          0.6109271612495114,
          0.48669798595464,
          0.6821945418916386,
          1.363330444126585,
          -0.6309199044214974,
          0.5086943952845181,
          -0.5382771808153662,
          0.8364048543061532,
          -0.3750492219137734,
          -1.5622240907714506,
          0.8987183942935888,
          2.1446151990780864,
          -1.8706141653186803,
          0.3275876731514227,
          -0.6284816522555828,
          -0.6018605977870878,
          -0.3979495077307453,
          0.5606589040364272,
          0.11033256027691177,
          0.5214386168521874,
          1.5772815555419955,
          -0.9372458389931095,
          0.1731793470299087,
          0.2029761918958493,
          0.18242312016866313,
          0.4120567789077027,
          -0.32578608408009213,
          0.6890541866411583,
          0.8678327893559957,
          -0.33345182733732326,
          0.26690015294188374,
          -0.15113810493423677,
          0.16772173385135722,
          -1.49857338871038,
          -1.637674180671225,
          0.364355161926861,
          -0.889465826373414,
          -0.7478949314357145,
          1.5934730485312447,
          -0.22134157166250307,
          0.7923846183372784,
          0.3384719492622945,
          -0.045885261648630826,
          0.4405627829609798,
          1.0318548143612905,
          -1.385691540964935,
          -0.6826394395564014,
          -0.8052830818459382,
          0.6112279635616631,
          -0.43670449840982883,
          0.6346057391180093,
          0.25779002362252346,
          1.0182869198734814,
          -0.6809800645412656,
          0.36470782397371787,
          0.26794657305049113,
          -0.04242307532924371,
          -1.0156797741997807,
          -0.18951065153563823,
          0.7986965181101916,
          0.060549974776385324,
          0.3984054368083864,
          0.7774464251421512,
          0.7506239053217926,
          1.022601973677445,
          0.4927545810098558,
          -0.834021709032103,
          0.4935369060086965,
          0.37343704574554426,
          0.47114004839347245,
          -0.8701938686920545,
          -0.3708994306880713,
          -0.5769821101739236,
          0.6879933234032504,
          -0.891162953646132,
          -1.7261205934346362,
          -0.449625936317721,
          0.6303983269141106,
          1.1499202452107566,
          -1.0812453948426501
         ],
         "yaxis": "y14"
        },
        {
         "line": {
          "color": "rgba(128, 128, 128, 1.0)",
          "dash": "solid",
          "shape": "linear",
          "width": 1.3
         },
         "marker": {
          "size": 2,
          "symbol": "circle"
         },
         "mode": "markers",
         "name": "D",
         "text": "",
         "type": "scatter",
         "x": [
          1.9826782448481126,
          0.6600818749606454,
          -0.7854055017464745,
          -0.08872724199795148,
          -0.35279246861192526,
          0.6215279100419142,
          1.3736653722791574,
          -0.40792202522567933,
          0.8231698806251506,
          -1.553246690046408,
          0.22088143377335312,
          0.7774135595494679,
          -1.55053551221391,
          0.47592405088312434,
          1.0456508979979475,
          1.6668814387215036,
          -1.2006029762839654,
          0.5540732169210111,
          -0.3600213472190218,
          -3.170840601377859,
          -1.3271158572237098,
          -1.431561979386749,
          -0.13516694094318898,
          -0.41498156271042985,
          1.6075355347570155,
          0.23399065003498834,
          -0.19871215454320826,
          -0.7156949056824685,
          0.7040251458117656,
          0.12530893350336372,
          0.9148446107573772,
          -0.2578236533801504,
          -0.3506773793959923,
          -0.7991682589467581,
          0.5030303007338238,
          -1.0401276595171582,
          -0.4843027052254437,
          1.156546262137966,
          -0.30354580575355183,
          -0.10262540221690042,
          -1.4690705913420872,
          0.2784873551884508,
          0.9729973131378534,
          -0.7330067945563101,
          -0.7598605119691917,
          -1.2334213008030683,
          1.4962063070001845,
          1.2082717927798778,
          0.17010013579236172,
          -0.8863735645195022,
          0.7336502426571072,
          -1.9058614634267008,
          0.09789511266801598,
          0.13701814888768582,
          -0.9093317683087555,
          0.20466334264895744,
          -0.24188099303995766,
          0.9057330507174537,
          1.2761328555412583,
          1.7386742830337232,
          -0.202590221334881,
          -2.1029695709863367,
          0.14641879077536032,
          -1.6502858545801662,
          -0.9632721401819229,
          -0.5443663262373347,
          0.7373563980583779,
          -0.038878138917357315,
          1.1088815058094743,
          -1.0177086542559917,
          1.3392819492959913,
          0.8480710290197091,
          2.2118292809272386,
          -0.37324543937960414,
          0.23620321220896628,
          -0.6585985169454098,
          -0.37874543492459517,
          -1.1648530944745845,
          0.08038751477186008,
          0.042824923658853105,
          0.8875162333678649,
          -0.32968485330616065,
          -0.5822543338995056,
          -2.274098767235217,
          0.3992943572566447,
          -0.5029467403671517,
          1.1534579129616145,
          -0.0009568329346719737,
          0.16232992598021312,
          1.1100477325545908,
          -0.05287725555315468,
          0.2716913123767963,
          -0.2700301455458189,
          -1.367522650374015,
          -1.8518071989339262,
          0.3058211114172289,
          1.5109929744272923,
          1.2506236130378505,
          -0.651662497941342,
          0.9873831121193896
         ],
         "xaxis": "x15",
         "y": [
          -0.9976983614351799,
          0.3482996174135738,
          0.5198729665770465,
          0.5961438411103572,
          -1.4455527654806652,
          -1.0439622504316568,
          -1.5061213313520547,
          -1.0832843449586425,
          -0.18330746470354786,
          -0.33573070365163415,
          -0.5524866987495552,
          0.48073881269727553,
          1.1714422206161683,
          2.4540043264885685,
          -1.0976434528759873,
          -0.0023124590897065,
          -0.05449348402022067,
          -0.8978018878319018,
          -0.10017269377275725,
          -0.652706473663357,
          0.6109271612495114,
          0.48669798595464,
          0.6821945418916386,
          1.363330444126585,
          -0.6309199044214974,
          0.5086943952845181,
          -0.5382771808153662,
          0.8364048543061532,
          -0.3750492219137734,
          -1.5622240907714506,
          0.8987183942935888,
          2.1446151990780864,
          -1.8706141653186803,
          0.3275876731514227,
          -0.6284816522555828,
          -0.6018605977870878,
          -0.3979495077307453,
          0.5606589040364272,
          0.11033256027691177,
          0.5214386168521874,
          1.5772815555419955,
          -0.9372458389931095,
          0.1731793470299087,
          0.2029761918958493,
          0.18242312016866313,
          0.4120567789077027,
          -0.32578608408009213,
          0.6890541866411583,
          0.8678327893559957,
          -0.33345182733732326,
          0.26690015294188374,
          -0.15113810493423677,
          0.16772173385135722,
          -1.49857338871038,
          -1.637674180671225,
          0.364355161926861,
          -0.889465826373414,
          -0.7478949314357145,
          1.5934730485312447,
          -0.22134157166250307,
          0.7923846183372784,
          0.3384719492622945,
          -0.045885261648630826,
          0.4405627829609798,
          1.0318548143612905,
          -1.385691540964935,
          -0.6826394395564014,
          -0.8052830818459382,
          0.6112279635616631,
          -0.43670449840982883,
          0.6346057391180093,
          0.25779002362252346,
          1.0182869198734814,
          -0.6809800645412656,
          0.36470782397371787,
          0.26794657305049113,
          -0.04242307532924371,
          -1.0156797741997807,
          -0.18951065153563823,
          0.7986965181101916,
          0.060549974776385324,
          0.3984054368083864,
          0.7774464251421512,
          0.7506239053217926,
          1.022601973677445,
          0.4927545810098558,
          -0.834021709032103,
          0.4935369060086965,
          0.37343704574554426,
          0.47114004839347245,
          -0.8701938686920545,
          -0.3708994306880713,
          -0.5769821101739236,
          0.6879933234032504,
          -0.891162953646132,
          -1.7261205934346362,
          -0.449625936317721,
          0.6303983269141106,
          1.1499202452107566,
          -1.0812453948426501
         ],
         "yaxis": "y15"
        },
        {
         "histfunc": "count",
         "histnorm": "",
         "marker": {
          "color": "rgba(128, 0, 128, 1.0)",
          "line": {
           "color": "#4D5663",
           "width": 1.3
          }
         },
         "name": "D",
         "nbinsx": 10,
         "opacity": 0.8,
         "orientation": "v",
         "type": "histogram",
         "x": [
          -0.9976983614351799,
          0.3482996174135738,
          0.5198729665770465,
          0.5961438411103572,
          -1.4455527654806652,
          -1.0439622504316568,
          -1.5061213313520547,
          -1.0832843449586425,
          -0.18330746470354786,
          -0.33573070365163415,
          -0.5524866987495552,
          0.48073881269727553,
          1.1714422206161683,
          2.4540043264885685,
          -1.0976434528759873,
          -0.0023124590897065,
          -0.05449348402022067,
          -0.8978018878319018,
          -0.10017269377275725,
          -0.652706473663357,
          0.6109271612495114,
          0.48669798595464,
          0.6821945418916386,
          1.363330444126585,
          -0.6309199044214974,
          0.5086943952845181,
          -0.5382771808153662,
          0.8364048543061532,
          -0.3750492219137734,
          -1.5622240907714506,
          0.8987183942935888,
          2.1446151990780864,
          -1.8706141653186803,
          0.3275876731514227,
          -0.6284816522555828,
          -0.6018605977870878,
          -0.3979495077307453,
          0.5606589040364272,
          0.11033256027691177,
          0.5214386168521874,
          1.5772815555419955,
          -0.9372458389931095,
          0.1731793470299087,
          0.2029761918958493,
          0.18242312016866313,
          0.4120567789077027,
          -0.32578608408009213,
          0.6890541866411583,
          0.8678327893559957,
          -0.33345182733732326,
          0.26690015294188374,
          -0.15113810493423677,
          0.16772173385135722,
          -1.49857338871038,
          -1.637674180671225,
          0.364355161926861,
          -0.889465826373414,
          -0.7478949314357145,
          1.5934730485312447,
          -0.22134157166250307,
          0.7923846183372784,
          0.3384719492622945,
          -0.045885261648630826,
          0.4405627829609798,
          1.0318548143612905,
          -1.385691540964935,
          -0.6826394395564014,
          -0.8052830818459382,
          0.6112279635616631,
          -0.43670449840982883,
          0.6346057391180093,
          0.25779002362252346,
          1.0182869198734814,
          -0.6809800645412656,
          0.36470782397371787,
          0.26794657305049113,
          -0.04242307532924371,
          -1.0156797741997807,
          -0.18951065153563823,
          0.7986965181101916,
          0.060549974776385324,
          0.3984054368083864,
          0.7774464251421512,
          0.7506239053217926,
          1.022601973677445,
          0.4927545810098558,
          -0.834021709032103,
          0.4935369060086965,
          0.37343704574554426,
          0.47114004839347245,
          -0.8701938686920545,
          -0.3708994306880713,
          -0.5769821101739236,
          0.6879933234032504,
          -0.891162953646132,
          -1.7261205934346362,
          -0.449625936317721,
          0.6303983269141106,
          1.1499202452107566,
          -1.0812453948426501
         ],
         "xaxis": "x16",
         "yaxis": "y16"
        }
       ],
       "layout": {
        "bargap": 0.02,
        "legend": {
         "bgcolor": "#F5F6F9",
         "font": {
          "color": "#4D5663"
         }
        },
        "paper_bgcolor": "#F5F6F9",
        "plot_bgcolor": "#F5F6F9",
        "showlegend": false,
        "template": {
         "data": {
          "bar": [
           {
            "error_x": {
             "color": "#2a3f5f"
            },
            "error_y": {
             "color": "#2a3f5f"
            },
            "marker": {
             "line": {
              "color": "#E5ECF6",
              "width": 0.5
             }
            },
            "type": "bar"
           }
          ],
          "barpolar": [
           {
            "marker": {
             "line": {
              "color": "#E5ECF6",
              "width": 0.5
             }
            },
            "type": "barpolar"
           }
          ],
          "carpet": [
           {
            "aaxis": {
             "endlinecolor": "#2a3f5f",
             "gridcolor": "white",
             "linecolor": "white",
             "minorgridcolor": "white",
             "startlinecolor": "#2a3f5f"
            },
            "baxis": {
             "endlinecolor": "#2a3f5f",
             "gridcolor": "white",
             "linecolor": "white",
             "minorgridcolor": "white",
             "startlinecolor": "#2a3f5f"
            },
            "type": "carpet"
           }
          ],
          "choropleth": [
           {
            "colorbar": {
             "outlinewidth": 0,
             "ticks": ""
            },
            "type": "choropleth"
           }
          ],
          "contour": [
           {
            "colorbar": {
             "outlinewidth": 0,
             "ticks": ""
            },
            "colorscale": [
             [
              0,
              "#0d0887"
             ],
             [
              0.1111111111111111,
              "#46039f"
             ],
             [
              0.2222222222222222,
              "#7201a8"
             ],
             [
              0.3333333333333333,
              "#9c179e"
             ],
             [
              0.4444444444444444,
              "#bd3786"
             ],
             [
              0.5555555555555556,
              "#d8576b"
             ],
             [
              0.6666666666666666,
              "#ed7953"
             ],
             [
              0.7777777777777778,
              "#fb9f3a"
             ],
             [
              0.8888888888888888,
              "#fdca26"
             ],
             [
              1,
              "#f0f921"
             ]
            ],
            "type": "contour"
           }
          ],
          "contourcarpet": [
           {
            "colorbar": {
             "outlinewidth": 0,
             "ticks": ""
            },
            "type": "contourcarpet"
           }
          ],
          "heatmap": [
           {
            "colorbar": {
             "outlinewidth": 0,
             "ticks": ""
            },
            "colorscale": [
             [
              0,
              "#0d0887"
             ],
             [
              0.1111111111111111,
              "#46039f"
             ],
             [
              0.2222222222222222,
              "#7201a8"
             ],
             [
              0.3333333333333333,
              "#9c179e"
             ],
             [
              0.4444444444444444,
              "#bd3786"
             ],
             [
              0.5555555555555556,
              "#d8576b"
             ],
             [
              0.6666666666666666,
              "#ed7953"
             ],
             [
              0.7777777777777778,
              "#fb9f3a"
             ],
             [
              0.8888888888888888,
              "#fdca26"
             ],
             [
              1,
              "#f0f921"
             ]
            ],
            "type": "heatmap"
           }
          ],
          "heatmapgl": [
           {
            "colorbar": {
             "outlinewidth": 0,
             "ticks": ""
            },
            "colorscale": [
             [
              0,
              "#0d0887"
             ],
             [
              0.1111111111111111,
              "#46039f"
             ],
             [
              0.2222222222222222,
              "#7201a8"
             ],
             [
              0.3333333333333333,
              "#9c179e"
             ],
             [
              0.4444444444444444,
              "#bd3786"
             ],
             [
              0.5555555555555556,
              "#d8576b"
             ],
             [
              0.6666666666666666,
              "#ed7953"
             ],
             [
              0.7777777777777778,
              "#fb9f3a"
             ],
             [
              0.8888888888888888,
              "#fdca26"
             ],
             [
              1,
              "#f0f921"
             ]
            ],
            "type": "heatmapgl"
           }
          ],
          "histogram": [
           {
            "marker": {
             "colorbar": {
              "outlinewidth": 0,
              "ticks": ""
             }
            },
            "type": "histogram"
           }
          ],
          "histogram2d": [
           {
            "colorbar": {
             "outlinewidth": 0,
             "ticks": ""
            },
            "colorscale": [
             [
              0,
              "#0d0887"
             ],
             [
              0.1111111111111111,
              "#46039f"
             ],
             [
              0.2222222222222222,
              "#7201a8"
             ],
             [
              0.3333333333333333,
              "#9c179e"
             ],
             [
              0.4444444444444444,
              "#bd3786"
             ],
             [
              0.5555555555555556,
              "#d8576b"
             ],
             [
              0.6666666666666666,
              "#ed7953"
             ],
             [
              0.7777777777777778,
              "#fb9f3a"
             ],
             [
              0.8888888888888888,
              "#fdca26"
             ],
             [
              1,
              "#f0f921"
             ]
            ],
            "type": "histogram2d"
           }
          ],
          "histogram2dcontour": [
           {
            "colorbar": {
             "outlinewidth": 0,
             "ticks": ""
            },
            "colorscale": [
             [
              0,
              "#0d0887"
             ],
             [
              0.1111111111111111,
              "#46039f"
             ],
             [
              0.2222222222222222,
              "#7201a8"
             ],
             [
              0.3333333333333333,
              "#9c179e"
             ],
             [
              0.4444444444444444,
              "#bd3786"
             ],
             [
              0.5555555555555556,
              "#d8576b"
             ],
             [
              0.6666666666666666,
              "#ed7953"
             ],
             [
              0.7777777777777778,
              "#fb9f3a"
             ],
             [
              0.8888888888888888,
              "#fdca26"
             ],
             [
              1,
              "#f0f921"
             ]
            ],
            "type": "histogram2dcontour"
           }
          ],
          "mesh3d": [
           {
            "colorbar": {
             "outlinewidth": 0,
             "ticks": ""
            },
            "type": "mesh3d"
           }
          ],
          "parcoords": [
           {
            "line": {
             "colorbar": {
              "outlinewidth": 0,
              "ticks": ""
             }
            },
            "type": "parcoords"
           }
          ],
          "pie": [
           {
            "automargin": true,
            "type": "pie"
           }
          ],
          "scatter": [
           {
            "marker": {
             "colorbar": {
              "outlinewidth": 0,
              "ticks": ""
             }
            },
            "type": "scatter"
           }
          ],
          "scatter3d": [
           {
            "line": {
             "colorbar": {
              "outlinewidth": 0,
              "ticks": ""
             }
            },
            "marker": {
             "colorbar": {
              "outlinewidth": 0,
              "ticks": ""
             }
            },
            "type": "scatter3d"
           }
          ],
          "scattercarpet": [
           {
            "marker": {
             "colorbar": {
              "outlinewidth": 0,
              "ticks": ""
             }
            },
            "type": "scattercarpet"
           }
          ],
          "scattergeo": [
           {
            "marker": {
             "colorbar": {
              "outlinewidth": 0,
              "ticks": ""
             }
            },
            "type": "scattergeo"
           }
          ],
          "scattergl": [
           {
            "marker": {
             "colorbar": {
              "outlinewidth": 0,
              "ticks": ""
             }
            },
            "type": "scattergl"
           }
          ],
          "scattermapbox": [
           {
            "marker": {
             "colorbar": {
              "outlinewidth": 0,
              "ticks": ""
             }
            },
            "type": "scattermapbox"
           }
          ],
          "scatterpolar": [
           {
            "marker": {
             "colorbar": {
              "outlinewidth": 0,
              "ticks": ""
             }
            },
            "type": "scatterpolar"
           }
          ],
          "scatterpolargl": [
           {
            "marker": {
             "colorbar": {
              "outlinewidth": 0,
              "ticks": ""
             }
            },
            "type": "scatterpolargl"
           }
          ],
          "scatterternary": [
           {
            "marker": {
             "colorbar": {
              "outlinewidth": 0,
              "ticks": ""
             }
            },
            "type": "scatterternary"
           }
          ],
          "surface": [
           {
            "colorbar": {
             "outlinewidth": 0,
             "ticks": ""
            },
            "colorscale": [
             [
              0,
              "#0d0887"
             ],
             [
              0.1111111111111111,
              "#46039f"
             ],
             [
              0.2222222222222222,
              "#7201a8"
             ],
             [
              0.3333333333333333,
              "#9c179e"
             ],
             [
              0.4444444444444444,
              "#bd3786"
             ],
             [
              0.5555555555555556,
              "#d8576b"
             ],
             [
              0.6666666666666666,
              "#ed7953"
             ],
             [
              0.7777777777777778,
              "#fb9f3a"
             ],
             [
              0.8888888888888888,
              "#fdca26"
             ],
             [
              1,
              "#f0f921"
             ]
            ],
            "type": "surface"
           }
          ],
          "table": [
           {
            "cells": {
             "fill": {
              "color": "#EBF0F8"
             },
             "line": {
              "color": "white"
             }
            },
            "header": {
             "fill": {
              "color": "#C8D4E3"
             },
             "line": {
              "color": "white"
             }
            },
            "type": "table"
           }
          ]
         },
         "layout": {
          "annotationdefaults": {
           "arrowcolor": "#2a3f5f",
           "arrowhead": 0,
           "arrowwidth": 1
          },
          "coloraxis": {
           "colorbar": {
            "outlinewidth": 0,
            "ticks": ""
           }
          },
          "colorscale": {
           "diverging": [
            [
             0,
             "#8e0152"
            ],
            [
             0.1,
             "#c51b7d"
            ],
            [
             0.2,
             "#de77ae"
            ],
            [
             0.3,
             "#f1b6da"
            ],
            [
             0.4,
             "#fde0ef"
            ],
            [
             0.5,
             "#f7f7f7"
            ],
            [
             0.6,
             "#e6f5d0"
            ],
            [
             0.7,
             "#b8e186"
            ],
            [
             0.8,
             "#7fbc41"
            ],
            [
             0.9,
             "#4d9221"
            ],
            [
             1,
             "#276419"
            ]
           ],
           "sequential": [
            [
             0,
             "#0d0887"
            ],
            [
             0.1111111111111111,
             "#46039f"
            ],
            [
             0.2222222222222222,
             "#7201a8"
            ],
            [
             0.3333333333333333,
             "#9c179e"
            ],
            [
             0.4444444444444444,
             "#bd3786"
            ],
            [
             0.5555555555555556,
             "#d8576b"
            ],
            [
             0.6666666666666666,
             "#ed7953"
            ],
            [
             0.7777777777777778,
             "#fb9f3a"
            ],
            [
             0.8888888888888888,
             "#fdca26"
            ],
            [
             1,
             "#f0f921"
            ]
           ],
           "sequentialminus": [
            [
             0,
             "#0d0887"
            ],
            [
             0.1111111111111111,
             "#46039f"
            ],
            [
             0.2222222222222222,
             "#7201a8"
            ],
            [
             0.3333333333333333,
             "#9c179e"
            ],
            [
             0.4444444444444444,
             "#bd3786"
            ],
            [
             0.5555555555555556,
             "#d8576b"
            ],
            [
             0.6666666666666666,
             "#ed7953"
            ],
            [
             0.7777777777777778,
             "#fb9f3a"
            ],
            [
             0.8888888888888888,
             "#fdca26"
            ],
            [
             1,
             "#f0f921"
            ]
           ]
          },
          "colorway": [
           "#636efa",
           "#EF553B",
           "#00cc96",
           "#ab63fa",
           "#FFA15A",
           "#19d3f3",
           "#FF6692",
           "#B6E880",
           "#FF97FF",
           "#FECB52"
          ],
          "font": {
           "color": "#2a3f5f"
          },
          "geo": {
           "bgcolor": "white",
           "lakecolor": "white",
           "landcolor": "#E5ECF6",
           "showlakes": true,
           "showland": true,
           "subunitcolor": "white"
          },
          "hoverlabel": {
           "align": "left"
          },
          "hovermode": "closest",
          "mapbox": {
           "style": "light"
          },
          "paper_bgcolor": "white",
          "plot_bgcolor": "#E5ECF6",
          "polar": {
           "angularaxis": {
            "gridcolor": "white",
            "linecolor": "white",
            "ticks": ""
           },
           "bgcolor": "#E5ECF6",
           "radialaxis": {
            "gridcolor": "white",
            "linecolor": "white",
            "ticks": ""
           }
          },
          "scene": {
           "xaxis": {
            "backgroundcolor": "#E5ECF6",
            "gridcolor": "white",
            "gridwidth": 2,
            "linecolor": "white",
            "showbackground": true,
            "ticks": "",
            "zerolinecolor": "white"
           },
           "yaxis": {
            "backgroundcolor": "#E5ECF6",
            "gridcolor": "white",
            "gridwidth": 2,
            "linecolor": "white",
            "showbackground": true,
            "ticks": "",
            "zerolinecolor": "white"
           },
           "zaxis": {
            "backgroundcolor": "#E5ECF6",
            "gridcolor": "white",
            "gridwidth": 2,
            "linecolor": "white",
            "showbackground": true,
            "ticks": "",
            "zerolinecolor": "white"
           }
          },
          "shapedefaults": {
           "line": {
            "color": "#2a3f5f"
           }
          },
          "ternary": {
           "aaxis": {
            "gridcolor": "white",
            "linecolor": "white",
            "ticks": ""
           },
           "baxis": {
            "gridcolor": "white",
            "linecolor": "white",
            "ticks": ""
           },
           "bgcolor": "#E5ECF6",
           "caxis": {
            "gridcolor": "white",
            "linecolor": "white",
            "ticks": ""
           }
          },
          "title": {
           "x": 0.05
          },
          "xaxis": {
           "automargin": true,
           "gridcolor": "white",
           "linecolor": "white",
           "ticks": "",
           "title": {
            "standoff": 15
           },
           "zerolinecolor": "white",
           "zerolinewidth": 2
          },
          "yaxis": {
           "automargin": true,
           "gridcolor": "white",
           "linecolor": "white",
           "ticks": "",
           "title": {
            "standoff": 15
           },
           "zerolinecolor": "white",
           "zerolinewidth": 2
          }
         }
        },
        "title": {
         "font": {
          "color": "#4D5663"
         }
        },
        "xaxis": {
         "anchor": "y",
         "domain": [
          0,
          0.2125
         ],
         "gridcolor": "#E1E5ED",
         "showgrid": false,
         "tickfont": {
          "color": "#4D5663"
         },
         "title": {
          "font": {
           "color": "#4D5663"
          },
          "text": ""
         },
         "zerolinecolor": "#E1E5ED"
        },
        "xaxis10": {
         "anchor": "y10",
         "domain": [
          0.2625,
          0.475
         ],
         "gridcolor": "#E1E5ED",
         "showgrid": false,
         "tickfont": {
          "color": "#4D5663"
         },
         "title": {
          "font": {
           "color": "#4D5663"
          },
          "text": ""
         },
         "zerolinecolor": "#E1E5ED"
        },
        "xaxis11": {
         "anchor": "y11",
         "domain": [
          0.525,
          0.7375
         ],
         "gridcolor": "#E1E5ED",
         "showgrid": false,
         "tickfont": {
          "color": "#4D5663"
         },
         "title": {
          "font": {
           "color": "#4D5663"
          },
          "text": ""
         },
         "zerolinecolor": "#E1E5ED"
        },
        "xaxis12": {
         "anchor": "y12",
         "domain": [
          0.7875,
          1
         ],
         "gridcolor": "#E1E5ED",
         "showgrid": false,
         "tickfont": {
          "color": "#4D5663"
         },
         "title": {
          "font": {
           "color": "#4D5663"
          },
          "text": ""
         },
         "zerolinecolor": "#E1E5ED"
        },
        "xaxis13": {
         "anchor": "y13",
         "domain": [
          0,
          0.2125
         ],
         "gridcolor": "#E1E5ED",
         "showgrid": false,
         "tickfont": {
          "color": "#4D5663"
         },
         "title": {
          "font": {
           "color": "#4D5663"
          },
          "text": ""
         },
         "zerolinecolor": "#E1E5ED"
        },
        "xaxis14": {
         "anchor": "y14",
         "domain": [
          0.2625,
          0.475
         ],
         "gridcolor": "#E1E5ED",
         "showgrid": false,
         "tickfont": {
          "color": "#4D5663"
         },
         "title": {
          "font": {
           "color": "#4D5663"
          },
          "text": ""
         },
         "zerolinecolor": "#E1E5ED"
        },
        "xaxis15": {
         "anchor": "y15",
         "domain": [
          0.525,
          0.7375
         ],
         "gridcolor": "#E1E5ED",
         "showgrid": false,
         "tickfont": {
          "color": "#4D5663"
         },
         "title": {
          "font": {
           "color": "#4D5663"
          },
          "text": ""
         },
         "zerolinecolor": "#E1E5ED"
        },
        "xaxis16": {
         "anchor": "y16",
         "domain": [
          0.7875,
          1
         ],
         "gridcolor": "#E1E5ED",
         "showgrid": false,
         "tickfont": {
          "color": "#4D5663"
         },
         "title": {
          "font": {
           "color": "#4D5663"
          },
          "text": ""
         },
         "zerolinecolor": "#E1E5ED"
        },
        "xaxis2": {
         "anchor": "y2",
         "domain": [
          0.2625,
          0.475
         ],
         "gridcolor": "#E1E5ED",
         "showgrid": false,
         "tickfont": {
          "color": "#4D5663"
         },
         "title": {
          "font": {
           "color": "#4D5663"
          },
          "text": ""
         },
         "zerolinecolor": "#E1E5ED"
        },
        "xaxis3": {
         "anchor": "y3",
         "domain": [
          0.525,
          0.7375
         ],
         "gridcolor": "#E1E5ED",
         "showgrid": false,
         "tickfont": {
          "color": "#4D5663"
         },
         "title": {
          "font": {
           "color": "#4D5663"
          },
          "text": ""
         },
         "zerolinecolor": "#E1E5ED"
        },
        "xaxis4": {
         "anchor": "y4",
         "domain": [
          0.7875,
          1
         ],
         "gridcolor": "#E1E5ED",
         "showgrid": false,
         "tickfont": {
          "color": "#4D5663"
         },
         "title": {
          "font": {
           "color": "#4D5663"
          },
          "text": ""
         },
         "zerolinecolor": "#E1E5ED"
        },
        "xaxis5": {
         "anchor": "y5",
         "domain": [
          0,
          0.2125
         ],
         "gridcolor": "#E1E5ED",
         "showgrid": false,
         "tickfont": {
          "color": "#4D5663"
         },
         "title": {
          "font": {
           "color": "#4D5663"
          },
          "text": ""
         },
         "zerolinecolor": "#E1E5ED"
        },
        "xaxis6": {
         "anchor": "y6",
         "domain": [
          0.2625,
          0.475
         ],
         "gridcolor": "#E1E5ED",
         "showgrid": false,
         "tickfont": {
          "color": "#4D5663"
         },
         "title": {
          "font": {
           "color": "#4D5663"
          },
          "text": ""
         },
         "zerolinecolor": "#E1E5ED"
        },
        "xaxis7": {
         "anchor": "y7",
         "domain": [
          0.525,
          0.7375
         ],
         "gridcolor": "#E1E5ED",
         "showgrid": false,
         "tickfont": {
          "color": "#4D5663"
         },
         "title": {
          "font": {
           "color": "#4D5663"
          },
          "text": ""
         },
         "zerolinecolor": "#E1E5ED"
        },
        "xaxis8": {
         "anchor": "y8",
         "domain": [
          0.7875,
          1
         ],
         "gridcolor": "#E1E5ED",
         "showgrid": false,
         "tickfont": {
          "color": "#4D5663"
         },
         "title": {
          "font": {
           "color": "#4D5663"
          },
          "text": ""
         },
         "zerolinecolor": "#E1E5ED"
        },
        "xaxis9": {
         "anchor": "y9",
         "domain": [
          0,
          0.2125
         ],
         "gridcolor": "#E1E5ED",
         "showgrid": false,
         "tickfont": {
          "color": "#4D5663"
         },
         "title": {
          "font": {
           "color": "#4D5663"
          },
          "text": ""
         },
         "zerolinecolor": "#E1E5ED"
        },
        "yaxis": {
         "anchor": "x",
         "domain": [
          0.8025,
          1
         ],
         "gridcolor": "#E1E5ED",
         "showgrid": false,
         "tickfont": {
          "color": "#4D5663"
         },
         "title": {
          "font": {
           "color": "#4D5663"
          },
          "text": ""
         },
         "zerolinecolor": "#E1E5ED"
        },
        "yaxis10": {
         "anchor": "x10",
         "domain": [
          0.2675,
          0.465
         ],
         "gridcolor": "#E1E5ED",
         "showgrid": false,
         "tickfont": {
          "color": "#4D5663"
         },
         "title": {
          "font": {
           "color": "#4D5663"
          },
          "text": ""
         },
         "zerolinecolor": "#E1E5ED"
        },
        "yaxis11": {
         "anchor": "x11",
         "domain": [
          0.2675,
          0.465
         ],
         "gridcolor": "#E1E5ED",
         "showgrid": false,
         "tickfont": {
          "color": "#4D5663"
         },
         "title": {
          "font": {
           "color": "#4D5663"
          },
          "text": ""
         },
         "zerolinecolor": "#E1E5ED"
        },
        "yaxis12": {
         "anchor": "x12",
         "domain": [
          0.2675,
          0.465
         ],
         "gridcolor": "#E1E5ED",
         "showgrid": false,
         "tickfont": {
          "color": "#4D5663"
         },
         "title": {
          "font": {
           "color": "#4D5663"
          },
          "text": ""
         },
         "zerolinecolor": "#E1E5ED"
        },
        "yaxis13": {
         "anchor": "x13",
         "domain": [
          0,
          0.1975
         ],
         "gridcolor": "#E1E5ED",
         "showgrid": false,
         "tickfont": {
          "color": "#4D5663"
         },
         "title": {
          "font": {
           "color": "#4D5663"
          },
          "text": ""
         },
         "zerolinecolor": "#E1E5ED"
        },
        "yaxis14": {
         "anchor": "x14",
         "domain": [
          0,
          0.1975
         ],
         "gridcolor": "#E1E5ED",
         "showgrid": false,
         "tickfont": {
          "color": "#4D5663"
         },
         "title": {
          "font": {
           "color": "#4D5663"
          },
          "text": ""
         },
         "zerolinecolor": "#E1E5ED"
        },
        "yaxis15": {
         "anchor": "x15",
         "domain": [
          0,
          0.1975
         ],
         "gridcolor": "#E1E5ED",
         "showgrid": false,
         "tickfont": {
          "color": "#4D5663"
         },
         "title": {
          "font": {
           "color": "#4D5663"
          },
          "text": ""
         },
         "zerolinecolor": "#E1E5ED"
        },
        "yaxis16": {
         "anchor": "x16",
         "domain": [
          0,
          0.1975
         ],
         "gridcolor": "#E1E5ED",
         "showgrid": false,
         "tickfont": {
          "color": "#4D5663"
         },
         "title": {
          "font": {
           "color": "#4D5663"
          },
          "text": ""
         },
         "zerolinecolor": "#E1E5ED"
        },
        "yaxis2": {
         "anchor": "x2",
         "domain": [
          0.8025,
          1
         ],
         "gridcolor": "#E1E5ED",
         "showgrid": false,
         "tickfont": {
          "color": "#4D5663"
         },
         "title": {
          "font": {
           "color": "#4D5663"
          },
          "text": ""
         },
         "zerolinecolor": "#E1E5ED"
        },
        "yaxis3": {
         "anchor": "x3",
         "domain": [
          0.8025,
          1
         ],
         "gridcolor": "#E1E5ED",
         "showgrid": false,
         "tickfont": {
          "color": "#4D5663"
         },
         "title": {
          "font": {
           "color": "#4D5663"
          },
          "text": ""
         },
         "zerolinecolor": "#E1E5ED"
        },
        "yaxis4": {
         "anchor": "x4",
         "domain": [
          0.8025,
          1
         ],
         "gridcolor": "#E1E5ED",
         "showgrid": false,
         "tickfont": {
          "color": "#4D5663"
         },
         "title": {
          "font": {
           "color": "#4D5663"
          },
          "text": ""
         },
         "zerolinecolor": "#E1E5ED"
        },
        "yaxis5": {
         "anchor": "x5",
         "domain": [
          0.535,
          0.7325
         ],
         "gridcolor": "#E1E5ED",
         "showgrid": false,
         "tickfont": {
          "color": "#4D5663"
         },
         "title": {
          "font": {
           "color": "#4D5663"
          },
          "text": ""
         },
         "zerolinecolor": "#E1E5ED"
        },
        "yaxis6": {
         "anchor": "x6",
         "domain": [
          0.535,
          0.7325
         ],
         "gridcolor": "#E1E5ED",
         "showgrid": false,
         "tickfont": {
          "color": "#4D5663"
         },
         "title": {
          "font": {
           "color": "#4D5663"
          },
          "text": ""
         },
         "zerolinecolor": "#E1E5ED"
        },
        "yaxis7": {
         "anchor": "x7",
         "domain": [
          0.535,
          0.7325
         ],
         "gridcolor": "#E1E5ED",
         "showgrid": false,
         "tickfont": {
          "color": "#4D5663"
         },
         "title": {
          "font": {
           "color": "#4D5663"
          },
          "text": ""
         },
         "zerolinecolor": "#E1E5ED"
        },
        "yaxis8": {
         "anchor": "x8",
         "domain": [
          0.535,
          0.7325
         ],
         "gridcolor": "#E1E5ED",
         "showgrid": false,
         "tickfont": {
          "color": "#4D5663"
         },
         "title": {
          "font": {
           "color": "#4D5663"
          },
          "text": ""
         },
         "zerolinecolor": "#E1E5ED"
        },
        "yaxis9": {
         "anchor": "x9",
         "domain": [
          0.2675,
          0.465
         ],
         "gridcolor": "#E1E5ED",
         "showgrid": false,
         "tickfont": {
          "color": "#4D5663"
         },
         "title": {
          "font": {
           "color": "#4D5663"
          },
          "text": ""
         },
         "zerolinecolor": "#E1E5ED"
        }
       }
      },
      "text/html": [
       "<div>\n",
       "        \n",
       "        \n",
       "            <div id=\"0aec7746-34f7-491e-aa05-02eca95b6552\" class=\"plotly-graph-div\" style=\"height:525px; width:100%;\"></div>\n",
       "            <script type=\"text/javascript\">\n",
       "                require([\"plotly\"], function(Plotly) {\n",
       "                    window.PLOTLYENV=window.PLOTLYENV || {};\n",
       "                    window.PLOTLYENV.BASE_URL='https://plot.ly';\n",
       "                    \n",
       "                if (document.getElementById(\"0aec7746-34f7-491e-aa05-02eca95b6552\")) {\n",
       "                    Plotly.newPlot(\n",
       "                        '0aec7746-34f7-491e-aa05-02eca95b6552',\n",
       "                        [{\"histfunc\": \"count\", \"histnorm\": \"\", \"marker\": {\"color\": \"rgba(255, 153, 51, 1.0)\", \"line\": {\"color\": \"#4D5663\", \"width\": 1.3}}, \"name\": \"A\", \"nbinsx\": 10, \"opacity\": 0.8, \"orientation\": \"v\", \"type\": \"histogram\", \"x\": [0.32205259576789935, -1.2705842440830204, 0.10782211694491088, -1.2646863492002582, -0.623016293453436, 0.4370049139590851, -1.8552254970766764, -1.073096970098413, 1.3267635793739714, 0.24419011655680606, 1.0557345774677764, 1.7122399294231183, -0.2677909309326994, -0.28051016349477526, 1.4218608035818048, -1.0755029134841767, -0.9863577816639659, 1.1115777342445334, -0.6008887227314611, -0.22539529068580208, -1.9716753893735646, -0.2365223696654613, 0.03208548148818823, 1.8767437352407905, 0.11545545793837805, 0.4970025785014497, 1.3483980343794544, -0.010039690351554604, -0.2862034883600797, 0.7806427708890616, 1.2081127390165514, 2.218774713469848, 0.32195990417680637, -0.789709658198847, -0.9214869451393399, 0.6711847095892842, -2.0114126158674566, -0.5309530198516696, -0.5878185997505112, -1.2238813239452369, -0.6931838125152013, -0.18979028816183985, 0.1999551589396969, -0.8954707479977178, 0.008236776144134046, -0.7787953946941676, -1.2036680132508266, -1.0847531776936057, 0.005830557401403538, 0.1728310981019457, 0.4449020848059417, -1.2639359430032238, -0.43542486573921074, 0.9384190809815643, 0.4417474515879442, 0.9940869401415626, -0.24283687971943876, 1.1349532128915576, -1.4141984420513154, -0.1588896627196114, 1.4481799160580093, 2.1823007739131963, 2.2440304393283648, -0.5847717373041349, 0.8639441573674254, 1.5196751985682482, 0.3827391753660122, 0.8684445003403783, -1.2023800499448436, 0.8930942078797675, 0.9233087070208601, 0.6698237160538058, 0.02239191937027293, 0.7820499553794281, -0.3248424573510298, -1.8242941941509472, -0.09514443783697729, 1.2553052652092374, 0.5534742778189647, -0.12727753897390603, -0.7962665535640177, 1.2211010568044924, 1.5560296838025678, -0.40481828496818456, 0.5218851881531966, -1.5271712764268646, -2.776318086494025, 0.999386989977953, -0.19556324612903161, 1.6357935804232269, -0.8896042579824299, 0.8581748464534634, 0.8086306539297275, 0.506194813669362, 0.7183057346101549, -0.11471459993668659, -1.0265711561628377, -0.5019344243022291, 1.6007548010842878, -0.40354560457594973], \"xaxis\": \"x\", \"yaxis\": \"y\"}, {\"line\": {\"color\": \"rgba(128, 128, 128, 1.0)\", \"dash\": \"solid\", \"shape\": \"linear\", \"width\": 1.3}, \"marker\": {\"size\": 2, \"symbol\": \"circle\"}, \"mode\": \"markers\", \"name\": \"A\", \"text\": \"\", \"type\": \"scatter\", \"x\": [0.10125898893055496, 0.8301536855043266, -0.7327192245673191, -1.0387054262404438, -0.13081600367508936, 0.38664976245140625, -1.0533449001438244, -0.20007675282923942, -0.6185234313147078, 0.36942411017863375, -0.22375568353621758, 0.2526470287312885, 0.2267419219131918, 0.2639775339786776, -1.132739394771502, -1.1482843495848114, -1.4128591948532767, -0.18778958090483552, 0.7948906960485981, -0.7892335813067191, -0.8706073761676926, 0.6770291787073698, 2.0113237483420052, 0.19388328189767956, -0.5002549827427382, -2.2199606530825187, 0.4830527044613887, 1.2011801375298716, -0.19774173866295486, -0.752708338255664, 1.893701881344233, -1.5854693729649616, -1.1333779065857008, 0.9496792076892996, -1.238894773355343, 0.651939653630145, 1.0901486579747812, -1.3242262316027364, 0.2513360270523506, 1.369678078932397, -1.5950170347251074, -0.3679375422795287, -1.7962568652676187, -0.5115298758591496, 2.188733910681354, -1.1476516620997423, -0.8208471477547784, -1.416695201802754, 2.11342701518249, 0.08432602513735225, 0.6781991471269608, 0.07373698726313345, 0.5710623935970508, -0.787688749375717, -0.41027858341862145, -0.34821811877131464, -1.5818949290626747, -1.1349294502844594, 0.45585273942482807, 1.3046051862052737, -0.4827487411487068, 0.79507633799293, -0.5013579293617653, 0.46322340516495625, -0.8457049730894419, 1.648185620735109, 0.19598567561280725, 1.3150203116581147, 1.237625968070254, 0.08356414724553121, 0.641786345422482, -0.6518313171806182, 1.3354442167862435, -1.2043145454829405, 0.4813823869913045, -1.5428335401166102, 1.3821152573725537, -2.3212785452028672, 0.8545589572697296, -0.772336453451533, -0.49736734351279943, 0.14901385623969263, 1.0662016178255687, -0.1434437840124678, -0.9085296086179435, 1.0244448729388482, -1.4468528787919994, -0.3118340488124157, 1.5188676784825625, 0.15424572817777435, 1.0003879295162246, 1.3008090429174297, 0.994546553788734, -1.2890830028500138, -0.40471979448408874, -0.03237658061551539, -1.3186709594255155, 0.5681307989920067, -1.3027720666231417, -0.06021515309892382], \"xaxis\": \"x2\", \"y\": [0.32205259576789935, -1.2705842440830204, 0.10782211694491088, -1.2646863492002582, -0.623016293453436, 0.4370049139590851, -1.8552254970766764, -1.073096970098413, 1.3267635793739714, 0.24419011655680606, 1.0557345774677764, 1.7122399294231183, -0.2677909309326994, -0.28051016349477526, 1.4218608035818048, -1.0755029134841767, -0.9863577816639659, 1.1115777342445334, -0.6008887227314611, -0.22539529068580208, -1.9716753893735646, -0.2365223696654613, 0.03208548148818823, 1.8767437352407905, 0.11545545793837805, 0.4970025785014497, 1.3483980343794544, -0.010039690351554604, -0.2862034883600797, 0.7806427708890616, 1.2081127390165514, 2.218774713469848, 0.32195990417680637, -0.789709658198847, -0.9214869451393399, 0.6711847095892842, -2.0114126158674566, -0.5309530198516696, -0.5878185997505112, -1.2238813239452369, -0.6931838125152013, -0.18979028816183985, 0.1999551589396969, -0.8954707479977178, 0.008236776144134046, -0.7787953946941676, -1.2036680132508266, -1.0847531776936057, 0.005830557401403538, 0.1728310981019457, 0.4449020848059417, -1.2639359430032238, -0.43542486573921074, 0.9384190809815643, 0.4417474515879442, 0.9940869401415626, -0.24283687971943876, 1.1349532128915576, -1.4141984420513154, -0.1588896627196114, 1.4481799160580093, 2.1823007739131963, 2.2440304393283648, -0.5847717373041349, 0.8639441573674254, 1.5196751985682482, 0.3827391753660122, 0.8684445003403783, -1.2023800499448436, 0.8930942078797675, 0.9233087070208601, 0.6698237160538058, 0.02239191937027293, 0.7820499553794281, -0.3248424573510298, -1.8242941941509472, -0.09514443783697729, 1.2553052652092374, 0.5534742778189647, -0.12727753897390603, -0.7962665535640177, 1.2211010568044924, 1.5560296838025678, -0.40481828496818456, 0.5218851881531966, -1.5271712764268646, -2.776318086494025, 0.999386989977953, -0.19556324612903161, 1.6357935804232269, -0.8896042579824299, 0.8581748464534634, 0.8086306539297275, 0.506194813669362, 0.7183057346101549, -0.11471459993668659, -1.0265711561628377, -0.5019344243022291, 1.6007548010842878, -0.40354560457594973], \"yaxis\": \"y2\"}, {\"line\": {\"color\": \"rgba(128, 128, 128, 1.0)\", \"dash\": \"solid\", \"shape\": \"linear\", \"width\": 1.3}, \"marker\": {\"size\": 2, \"symbol\": \"circle\"}, \"mode\": \"markers\", \"name\": \"A\", \"text\": \"\", \"type\": \"scatter\", \"x\": [1.9826782448481126, 0.6600818749606454, -0.7854055017464745, -0.08872724199795148, -0.35279246861192526, 0.6215279100419142, 1.3736653722791574, -0.40792202522567933, 0.8231698806251506, -1.553246690046408, 0.22088143377335312, 0.7774135595494679, -1.55053551221391, 0.47592405088312434, 1.0456508979979475, 1.6668814387215036, -1.2006029762839654, 0.5540732169210111, -0.3600213472190218, -3.170840601377859, -1.3271158572237098, -1.431561979386749, -0.13516694094318898, -0.41498156271042985, 1.6075355347570155, 0.23399065003498834, -0.19871215454320826, -0.7156949056824685, 0.7040251458117656, 0.12530893350336372, 0.9148446107573772, -0.2578236533801504, -0.3506773793959923, -0.7991682589467581, 0.5030303007338238, -1.0401276595171582, -0.4843027052254437, 1.156546262137966, -0.30354580575355183, -0.10262540221690042, -1.4690705913420872, 0.2784873551884508, 0.9729973131378534, -0.7330067945563101, -0.7598605119691917, -1.2334213008030683, 1.4962063070001845, 1.2082717927798778, 0.17010013579236172, -0.8863735645195022, 0.7336502426571072, -1.9058614634267008, 0.09789511266801598, 0.13701814888768582, -0.9093317683087555, 0.20466334264895744, -0.24188099303995766, 0.9057330507174537, 1.2761328555412583, 1.7386742830337232, -0.202590221334881, -2.1029695709863367, 0.14641879077536032, -1.6502858545801662, -0.9632721401819229, -0.5443663262373347, 0.7373563980583779, -0.038878138917357315, 1.1088815058094743, -1.0177086542559917, 1.3392819492959913, 0.8480710290197091, 2.2118292809272386, -0.37324543937960414, 0.23620321220896628, -0.6585985169454098, -0.37874543492459517, -1.1648530944745845, 0.08038751477186008, 0.042824923658853105, 0.8875162333678649, -0.32968485330616065, -0.5822543338995056, -2.274098767235217, 0.3992943572566447, -0.5029467403671517, 1.1534579129616145, -0.0009568329346719737, 0.16232992598021312, 1.1100477325545908, -0.05287725555315468, 0.2716913123767963, -0.2700301455458189, -1.367522650374015, -1.8518071989339262, 0.3058211114172289, 1.5109929744272923, 1.2506236130378505, -0.651662497941342, 0.9873831121193896], \"xaxis\": \"x3\", \"y\": [0.32205259576789935, -1.2705842440830204, 0.10782211694491088, -1.2646863492002582, -0.623016293453436, 0.4370049139590851, -1.8552254970766764, -1.073096970098413, 1.3267635793739714, 0.24419011655680606, 1.0557345774677764, 1.7122399294231183, -0.2677909309326994, -0.28051016349477526, 1.4218608035818048, -1.0755029134841767, -0.9863577816639659, 1.1115777342445334, -0.6008887227314611, -0.22539529068580208, -1.9716753893735646, -0.2365223696654613, 0.03208548148818823, 1.8767437352407905, 0.11545545793837805, 0.4970025785014497, 1.3483980343794544, -0.010039690351554604, -0.2862034883600797, 0.7806427708890616, 1.2081127390165514, 2.218774713469848, 0.32195990417680637, -0.789709658198847, -0.9214869451393399, 0.6711847095892842, -2.0114126158674566, -0.5309530198516696, -0.5878185997505112, -1.2238813239452369, -0.6931838125152013, -0.18979028816183985, 0.1999551589396969, -0.8954707479977178, 0.008236776144134046, -0.7787953946941676, -1.2036680132508266, -1.0847531776936057, 0.005830557401403538, 0.1728310981019457, 0.4449020848059417, -1.2639359430032238, -0.43542486573921074, 0.9384190809815643, 0.4417474515879442, 0.9940869401415626, -0.24283687971943876, 1.1349532128915576, -1.4141984420513154, -0.1588896627196114, 1.4481799160580093, 2.1823007739131963, 2.2440304393283648, -0.5847717373041349, 0.8639441573674254, 1.5196751985682482, 0.3827391753660122, 0.8684445003403783, -1.2023800499448436, 0.8930942078797675, 0.9233087070208601, 0.6698237160538058, 0.02239191937027293, 0.7820499553794281, -0.3248424573510298, -1.8242941941509472, -0.09514443783697729, 1.2553052652092374, 0.5534742778189647, -0.12727753897390603, -0.7962665535640177, 1.2211010568044924, 1.5560296838025678, -0.40481828496818456, 0.5218851881531966, -1.5271712764268646, -2.776318086494025, 0.999386989977953, -0.19556324612903161, 1.6357935804232269, -0.8896042579824299, 0.8581748464534634, 0.8086306539297275, 0.506194813669362, 0.7183057346101549, -0.11471459993668659, -1.0265711561628377, -0.5019344243022291, 1.6007548010842878, -0.40354560457594973], \"yaxis\": \"y3\"}, {\"line\": {\"color\": \"rgba(128, 128, 128, 1.0)\", \"dash\": \"solid\", \"shape\": \"linear\", \"width\": 1.3}, \"marker\": {\"size\": 2, \"symbol\": \"circle\"}, \"mode\": \"markers\", \"name\": \"A\", \"text\": \"\", \"type\": \"scatter\", \"x\": [-0.9976983614351799, 0.3482996174135738, 0.5198729665770465, 0.5961438411103572, -1.4455527654806652, -1.0439622504316568, -1.5061213313520547, -1.0832843449586425, -0.18330746470354786, -0.33573070365163415, -0.5524866987495552, 0.48073881269727553, 1.1714422206161683, 2.4540043264885685, -1.0976434528759873, -0.0023124590897065, -0.05449348402022067, -0.8978018878319018, -0.10017269377275725, -0.652706473663357, 0.6109271612495114, 0.48669798595464, 0.6821945418916386, 1.363330444126585, -0.6309199044214974, 0.5086943952845181, -0.5382771808153662, 0.8364048543061532, -0.3750492219137734, -1.5622240907714506, 0.8987183942935888, 2.1446151990780864, -1.8706141653186803, 0.3275876731514227, -0.6284816522555828, -0.6018605977870878, -0.3979495077307453, 0.5606589040364272, 0.11033256027691177, 0.5214386168521874, 1.5772815555419955, -0.9372458389931095, 0.1731793470299087, 0.2029761918958493, 0.18242312016866313, 0.4120567789077027, -0.32578608408009213, 0.6890541866411583, 0.8678327893559957, -0.33345182733732326, 0.26690015294188374, -0.15113810493423677, 0.16772173385135722, -1.49857338871038, -1.637674180671225, 0.364355161926861, -0.889465826373414, -0.7478949314357145, 1.5934730485312447, -0.22134157166250307, 0.7923846183372784, 0.3384719492622945, -0.045885261648630826, 0.4405627829609798, 1.0318548143612905, -1.385691540964935, -0.6826394395564014, -0.8052830818459382, 0.6112279635616631, -0.43670449840982883, 0.6346057391180093, 0.25779002362252346, 1.0182869198734814, -0.6809800645412656, 0.36470782397371787, 0.26794657305049113, -0.04242307532924371, -1.0156797741997807, -0.18951065153563823, 0.7986965181101916, 0.060549974776385324, 0.3984054368083864, 0.7774464251421512, 0.7506239053217926, 1.022601973677445, 0.4927545810098558, -0.834021709032103, 0.4935369060086965, 0.37343704574554426, 0.47114004839347245, -0.8701938686920545, -0.3708994306880713, -0.5769821101739236, 0.6879933234032504, -0.891162953646132, -1.7261205934346362, -0.449625936317721, 0.6303983269141106, 1.1499202452107566, -1.0812453948426501], \"xaxis\": \"x4\", \"y\": [0.32205259576789935, -1.2705842440830204, 0.10782211694491088, -1.2646863492002582, -0.623016293453436, 0.4370049139590851, -1.8552254970766764, -1.073096970098413, 1.3267635793739714, 0.24419011655680606, 1.0557345774677764, 1.7122399294231183, -0.2677909309326994, -0.28051016349477526, 1.4218608035818048, -1.0755029134841767, -0.9863577816639659, 1.1115777342445334, -0.6008887227314611, -0.22539529068580208, -1.9716753893735646, -0.2365223696654613, 0.03208548148818823, 1.8767437352407905, 0.11545545793837805, 0.4970025785014497, 1.3483980343794544, -0.010039690351554604, -0.2862034883600797, 0.7806427708890616, 1.2081127390165514, 2.218774713469848, 0.32195990417680637, -0.789709658198847, -0.9214869451393399, 0.6711847095892842, -2.0114126158674566, -0.5309530198516696, -0.5878185997505112, -1.2238813239452369, -0.6931838125152013, -0.18979028816183985, 0.1999551589396969, -0.8954707479977178, 0.008236776144134046, -0.7787953946941676, -1.2036680132508266, -1.0847531776936057, 0.005830557401403538, 0.1728310981019457, 0.4449020848059417, -1.2639359430032238, -0.43542486573921074, 0.9384190809815643, 0.4417474515879442, 0.9940869401415626, -0.24283687971943876, 1.1349532128915576, -1.4141984420513154, -0.1588896627196114, 1.4481799160580093, 2.1823007739131963, 2.2440304393283648, -0.5847717373041349, 0.8639441573674254, 1.5196751985682482, 0.3827391753660122, 0.8684445003403783, -1.2023800499448436, 0.8930942078797675, 0.9233087070208601, 0.6698237160538058, 0.02239191937027293, 0.7820499553794281, -0.3248424573510298, -1.8242941941509472, -0.09514443783697729, 1.2553052652092374, 0.5534742778189647, -0.12727753897390603, -0.7962665535640177, 1.2211010568044924, 1.5560296838025678, -0.40481828496818456, 0.5218851881531966, -1.5271712764268646, -2.776318086494025, 0.999386989977953, -0.19556324612903161, 1.6357935804232269, -0.8896042579824299, 0.8581748464534634, 0.8086306539297275, 0.506194813669362, 0.7183057346101549, -0.11471459993668659, -1.0265711561628377, -0.5019344243022291, 1.6007548010842878, -0.40354560457594973], \"yaxis\": \"y4\"}, {\"line\": {\"color\": \"rgba(128, 128, 128, 1.0)\", \"dash\": \"solid\", \"shape\": \"linear\", \"width\": 1.3}, \"marker\": {\"size\": 2, \"symbol\": \"circle\"}, \"mode\": \"markers\", \"name\": \"B\", \"text\": \"\", \"type\": \"scatter\", \"x\": [0.32205259576789935, -1.2705842440830204, 0.10782211694491088, -1.2646863492002582, -0.623016293453436, 0.4370049139590851, -1.8552254970766764, -1.073096970098413, 1.3267635793739714, 0.24419011655680606, 1.0557345774677764, 1.7122399294231183, -0.2677909309326994, -0.28051016349477526, 1.4218608035818048, -1.0755029134841767, -0.9863577816639659, 1.1115777342445334, -0.6008887227314611, -0.22539529068580208, -1.9716753893735646, -0.2365223696654613, 0.03208548148818823, 1.8767437352407905, 0.11545545793837805, 0.4970025785014497, 1.3483980343794544, -0.010039690351554604, -0.2862034883600797, 0.7806427708890616, 1.2081127390165514, 2.218774713469848, 0.32195990417680637, -0.789709658198847, -0.9214869451393399, 0.6711847095892842, -2.0114126158674566, -0.5309530198516696, -0.5878185997505112, -1.2238813239452369, -0.6931838125152013, -0.18979028816183985, 0.1999551589396969, -0.8954707479977178, 0.008236776144134046, -0.7787953946941676, -1.2036680132508266, -1.0847531776936057, 0.005830557401403538, 0.1728310981019457, 0.4449020848059417, -1.2639359430032238, -0.43542486573921074, 0.9384190809815643, 0.4417474515879442, 0.9940869401415626, -0.24283687971943876, 1.1349532128915576, -1.4141984420513154, -0.1588896627196114, 1.4481799160580093, 2.1823007739131963, 2.2440304393283648, -0.5847717373041349, 0.8639441573674254, 1.5196751985682482, 0.3827391753660122, 0.8684445003403783, -1.2023800499448436, 0.8930942078797675, 0.9233087070208601, 0.6698237160538058, 0.02239191937027293, 0.7820499553794281, -0.3248424573510298, -1.8242941941509472, -0.09514443783697729, 1.2553052652092374, 0.5534742778189647, -0.12727753897390603, -0.7962665535640177, 1.2211010568044924, 1.5560296838025678, -0.40481828496818456, 0.5218851881531966, -1.5271712764268646, -2.776318086494025, 0.999386989977953, -0.19556324612903161, 1.6357935804232269, -0.8896042579824299, 0.8581748464534634, 0.8086306539297275, 0.506194813669362, 0.7183057346101549, -0.11471459993668659, -1.0265711561628377, -0.5019344243022291, 1.6007548010842878, -0.40354560457594973], \"xaxis\": \"x5\", \"y\": [0.10125898893055496, 0.8301536855043266, -0.7327192245673191, -1.0387054262404438, -0.13081600367508936, 0.38664976245140625, -1.0533449001438244, -0.20007675282923942, -0.6185234313147078, 0.36942411017863375, -0.22375568353621758, 0.2526470287312885, 0.2267419219131918, 0.2639775339786776, -1.132739394771502, -1.1482843495848114, -1.4128591948532767, -0.18778958090483552, 0.7948906960485981, -0.7892335813067191, -0.8706073761676926, 0.6770291787073698, 2.0113237483420052, 0.19388328189767956, -0.5002549827427382, -2.2199606530825187, 0.4830527044613887, 1.2011801375298716, -0.19774173866295486, -0.752708338255664, 1.893701881344233, -1.5854693729649616, -1.1333779065857008, 0.9496792076892996, -1.238894773355343, 0.651939653630145, 1.0901486579747812, -1.3242262316027364, 0.2513360270523506, 1.369678078932397, -1.5950170347251074, -0.3679375422795287, -1.7962568652676187, -0.5115298758591496, 2.188733910681354, -1.1476516620997423, -0.8208471477547784, -1.416695201802754, 2.11342701518249, 0.08432602513735225, 0.6781991471269608, 0.07373698726313345, 0.5710623935970508, -0.787688749375717, -0.41027858341862145, -0.34821811877131464, -1.5818949290626747, -1.1349294502844594, 0.45585273942482807, 1.3046051862052737, -0.4827487411487068, 0.79507633799293, -0.5013579293617653, 0.46322340516495625, -0.8457049730894419, 1.648185620735109, 0.19598567561280725, 1.3150203116581147, 1.237625968070254, 0.08356414724553121, 0.641786345422482, -0.6518313171806182, 1.3354442167862435, -1.2043145454829405, 0.4813823869913045, -1.5428335401166102, 1.3821152573725537, -2.3212785452028672, 0.8545589572697296, -0.772336453451533, -0.49736734351279943, 0.14901385623969263, 1.0662016178255687, -0.1434437840124678, -0.9085296086179435, 1.0244448729388482, -1.4468528787919994, -0.3118340488124157, 1.5188676784825625, 0.15424572817777435, 1.0003879295162246, 1.3008090429174297, 0.994546553788734, -1.2890830028500138, -0.40471979448408874, -0.03237658061551539, -1.3186709594255155, 0.5681307989920067, -1.3027720666231417, -0.06021515309892382], \"yaxis\": \"y5\"}, {\"histfunc\": \"count\", \"histnorm\": \"\", \"marker\": {\"color\": \"rgba(55, 128, 191, 1.0)\", \"line\": {\"color\": \"#4D5663\", \"width\": 1.3}}, \"name\": \"B\", \"nbinsx\": 10, \"opacity\": 0.8, \"orientation\": \"v\", \"type\": \"histogram\", \"x\": [0.10125898893055496, 0.8301536855043266, -0.7327192245673191, -1.0387054262404438, -0.13081600367508936, 0.38664976245140625, -1.0533449001438244, -0.20007675282923942, -0.6185234313147078, 0.36942411017863375, -0.22375568353621758, 0.2526470287312885, 0.2267419219131918, 0.2639775339786776, -1.132739394771502, -1.1482843495848114, -1.4128591948532767, -0.18778958090483552, 0.7948906960485981, -0.7892335813067191, -0.8706073761676926, 0.6770291787073698, 2.0113237483420052, 0.19388328189767956, -0.5002549827427382, -2.2199606530825187, 0.4830527044613887, 1.2011801375298716, -0.19774173866295486, -0.752708338255664, 1.893701881344233, -1.5854693729649616, -1.1333779065857008, 0.9496792076892996, -1.238894773355343, 0.651939653630145, 1.0901486579747812, -1.3242262316027364, 0.2513360270523506, 1.369678078932397, -1.5950170347251074, -0.3679375422795287, -1.7962568652676187, -0.5115298758591496, 2.188733910681354, -1.1476516620997423, -0.8208471477547784, -1.416695201802754, 2.11342701518249, 0.08432602513735225, 0.6781991471269608, 0.07373698726313345, 0.5710623935970508, -0.787688749375717, -0.41027858341862145, -0.34821811877131464, -1.5818949290626747, -1.1349294502844594, 0.45585273942482807, 1.3046051862052737, -0.4827487411487068, 0.79507633799293, -0.5013579293617653, 0.46322340516495625, -0.8457049730894419, 1.648185620735109, 0.19598567561280725, 1.3150203116581147, 1.237625968070254, 0.08356414724553121, 0.641786345422482, -0.6518313171806182, 1.3354442167862435, -1.2043145454829405, 0.4813823869913045, -1.5428335401166102, 1.3821152573725537, -2.3212785452028672, 0.8545589572697296, -0.772336453451533, -0.49736734351279943, 0.14901385623969263, 1.0662016178255687, -0.1434437840124678, -0.9085296086179435, 1.0244448729388482, -1.4468528787919994, -0.3118340488124157, 1.5188676784825625, 0.15424572817777435, 1.0003879295162246, 1.3008090429174297, 0.994546553788734, -1.2890830028500138, -0.40471979448408874, -0.03237658061551539, -1.3186709594255155, 0.5681307989920067, -1.3027720666231417, -0.06021515309892382], \"xaxis\": \"x6\", \"yaxis\": \"y6\"}, {\"line\": {\"color\": \"rgba(128, 128, 128, 1.0)\", \"dash\": \"solid\", \"shape\": \"linear\", \"width\": 1.3}, \"marker\": {\"size\": 2, \"symbol\": \"circle\"}, \"mode\": \"markers\", \"name\": \"B\", \"text\": \"\", \"type\": \"scatter\", \"x\": [1.9826782448481126, 0.6600818749606454, -0.7854055017464745, -0.08872724199795148, -0.35279246861192526, 0.6215279100419142, 1.3736653722791574, -0.40792202522567933, 0.8231698806251506, -1.553246690046408, 0.22088143377335312, 0.7774135595494679, -1.55053551221391, 0.47592405088312434, 1.0456508979979475, 1.6668814387215036, -1.2006029762839654, 0.5540732169210111, -0.3600213472190218, -3.170840601377859, -1.3271158572237098, -1.431561979386749, -0.13516694094318898, -0.41498156271042985, 1.6075355347570155, 0.23399065003498834, -0.19871215454320826, -0.7156949056824685, 0.7040251458117656, 0.12530893350336372, 0.9148446107573772, -0.2578236533801504, -0.3506773793959923, -0.7991682589467581, 0.5030303007338238, -1.0401276595171582, -0.4843027052254437, 1.156546262137966, -0.30354580575355183, -0.10262540221690042, -1.4690705913420872, 0.2784873551884508, 0.9729973131378534, -0.7330067945563101, -0.7598605119691917, -1.2334213008030683, 1.4962063070001845, 1.2082717927798778, 0.17010013579236172, -0.8863735645195022, 0.7336502426571072, -1.9058614634267008, 0.09789511266801598, 0.13701814888768582, -0.9093317683087555, 0.20466334264895744, -0.24188099303995766, 0.9057330507174537, 1.2761328555412583, 1.7386742830337232, -0.202590221334881, -2.1029695709863367, 0.14641879077536032, -1.6502858545801662, -0.9632721401819229, -0.5443663262373347, 0.7373563980583779, -0.038878138917357315, 1.1088815058094743, -1.0177086542559917, 1.3392819492959913, 0.8480710290197091, 2.2118292809272386, -0.37324543937960414, 0.23620321220896628, -0.6585985169454098, -0.37874543492459517, -1.1648530944745845, 0.08038751477186008, 0.042824923658853105, 0.8875162333678649, -0.32968485330616065, -0.5822543338995056, -2.274098767235217, 0.3992943572566447, -0.5029467403671517, 1.1534579129616145, -0.0009568329346719737, 0.16232992598021312, 1.1100477325545908, -0.05287725555315468, 0.2716913123767963, -0.2700301455458189, -1.367522650374015, -1.8518071989339262, 0.3058211114172289, 1.5109929744272923, 1.2506236130378505, -0.651662497941342, 0.9873831121193896], \"xaxis\": \"x7\", \"y\": [0.10125898893055496, 0.8301536855043266, -0.7327192245673191, -1.0387054262404438, -0.13081600367508936, 0.38664976245140625, -1.0533449001438244, -0.20007675282923942, -0.6185234313147078, 0.36942411017863375, -0.22375568353621758, 0.2526470287312885, 0.2267419219131918, 0.2639775339786776, -1.132739394771502, -1.1482843495848114, -1.4128591948532767, -0.18778958090483552, 0.7948906960485981, -0.7892335813067191, -0.8706073761676926, 0.6770291787073698, 2.0113237483420052, 0.19388328189767956, -0.5002549827427382, -2.2199606530825187, 0.4830527044613887, 1.2011801375298716, -0.19774173866295486, -0.752708338255664, 1.893701881344233, -1.5854693729649616, -1.1333779065857008, 0.9496792076892996, -1.238894773355343, 0.651939653630145, 1.0901486579747812, -1.3242262316027364, 0.2513360270523506, 1.369678078932397, -1.5950170347251074, -0.3679375422795287, -1.7962568652676187, -0.5115298758591496, 2.188733910681354, -1.1476516620997423, -0.8208471477547784, -1.416695201802754, 2.11342701518249, 0.08432602513735225, 0.6781991471269608, 0.07373698726313345, 0.5710623935970508, -0.787688749375717, -0.41027858341862145, -0.34821811877131464, -1.5818949290626747, -1.1349294502844594, 0.45585273942482807, 1.3046051862052737, -0.4827487411487068, 0.79507633799293, -0.5013579293617653, 0.46322340516495625, -0.8457049730894419, 1.648185620735109, 0.19598567561280725, 1.3150203116581147, 1.237625968070254, 0.08356414724553121, 0.641786345422482, -0.6518313171806182, 1.3354442167862435, -1.2043145454829405, 0.4813823869913045, -1.5428335401166102, 1.3821152573725537, -2.3212785452028672, 0.8545589572697296, -0.772336453451533, -0.49736734351279943, 0.14901385623969263, 1.0662016178255687, -0.1434437840124678, -0.9085296086179435, 1.0244448729388482, -1.4468528787919994, -0.3118340488124157, 1.5188676784825625, 0.15424572817777435, 1.0003879295162246, 1.3008090429174297, 0.994546553788734, -1.2890830028500138, -0.40471979448408874, -0.03237658061551539, -1.3186709594255155, 0.5681307989920067, -1.3027720666231417, -0.06021515309892382], \"yaxis\": \"y7\"}, {\"line\": {\"color\": \"rgba(128, 128, 128, 1.0)\", \"dash\": \"solid\", \"shape\": \"linear\", \"width\": 1.3}, \"marker\": {\"size\": 2, \"symbol\": \"circle\"}, \"mode\": \"markers\", \"name\": \"B\", \"text\": \"\", \"type\": \"scatter\", \"x\": [-0.9976983614351799, 0.3482996174135738, 0.5198729665770465, 0.5961438411103572, -1.4455527654806652, -1.0439622504316568, -1.5061213313520547, -1.0832843449586425, -0.18330746470354786, -0.33573070365163415, -0.5524866987495552, 0.48073881269727553, 1.1714422206161683, 2.4540043264885685, -1.0976434528759873, -0.0023124590897065, -0.05449348402022067, -0.8978018878319018, -0.10017269377275725, -0.652706473663357, 0.6109271612495114, 0.48669798595464, 0.6821945418916386, 1.363330444126585, -0.6309199044214974, 0.5086943952845181, -0.5382771808153662, 0.8364048543061532, -0.3750492219137734, -1.5622240907714506, 0.8987183942935888, 2.1446151990780864, -1.8706141653186803, 0.3275876731514227, -0.6284816522555828, -0.6018605977870878, -0.3979495077307453, 0.5606589040364272, 0.11033256027691177, 0.5214386168521874, 1.5772815555419955, -0.9372458389931095, 0.1731793470299087, 0.2029761918958493, 0.18242312016866313, 0.4120567789077027, -0.32578608408009213, 0.6890541866411583, 0.8678327893559957, -0.33345182733732326, 0.26690015294188374, -0.15113810493423677, 0.16772173385135722, -1.49857338871038, -1.637674180671225, 0.364355161926861, -0.889465826373414, -0.7478949314357145, 1.5934730485312447, -0.22134157166250307, 0.7923846183372784, 0.3384719492622945, -0.045885261648630826, 0.4405627829609798, 1.0318548143612905, -1.385691540964935, -0.6826394395564014, -0.8052830818459382, 0.6112279635616631, -0.43670449840982883, 0.6346057391180093, 0.25779002362252346, 1.0182869198734814, -0.6809800645412656, 0.36470782397371787, 0.26794657305049113, -0.04242307532924371, -1.0156797741997807, -0.18951065153563823, 0.7986965181101916, 0.060549974776385324, 0.3984054368083864, 0.7774464251421512, 0.7506239053217926, 1.022601973677445, 0.4927545810098558, -0.834021709032103, 0.4935369060086965, 0.37343704574554426, 0.47114004839347245, -0.8701938686920545, -0.3708994306880713, -0.5769821101739236, 0.6879933234032504, -0.891162953646132, -1.7261205934346362, -0.449625936317721, 0.6303983269141106, 1.1499202452107566, -1.0812453948426501], \"xaxis\": \"x8\", \"y\": [0.10125898893055496, 0.8301536855043266, -0.7327192245673191, -1.0387054262404438, -0.13081600367508936, 0.38664976245140625, -1.0533449001438244, -0.20007675282923942, -0.6185234313147078, 0.36942411017863375, -0.22375568353621758, 0.2526470287312885, 0.2267419219131918, 0.2639775339786776, -1.132739394771502, -1.1482843495848114, -1.4128591948532767, -0.18778958090483552, 0.7948906960485981, -0.7892335813067191, -0.8706073761676926, 0.6770291787073698, 2.0113237483420052, 0.19388328189767956, -0.5002549827427382, -2.2199606530825187, 0.4830527044613887, 1.2011801375298716, -0.19774173866295486, -0.752708338255664, 1.893701881344233, -1.5854693729649616, -1.1333779065857008, 0.9496792076892996, -1.238894773355343, 0.651939653630145, 1.0901486579747812, -1.3242262316027364, 0.2513360270523506, 1.369678078932397, -1.5950170347251074, -0.3679375422795287, -1.7962568652676187, -0.5115298758591496, 2.188733910681354, -1.1476516620997423, -0.8208471477547784, -1.416695201802754, 2.11342701518249, 0.08432602513735225, 0.6781991471269608, 0.07373698726313345, 0.5710623935970508, -0.787688749375717, -0.41027858341862145, -0.34821811877131464, -1.5818949290626747, -1.1349294502844594, 0.45585273942482807, 1.3046051862052737, -0.4827487411487068, 0.79507633799293, -0.5013579293617653, 0.46322340516495625, -0.8457049730894419, 1.648185620735109, 0.19598567561280725, 1.3150203116581147, 1.237625968070254, 0.08356414724553121, 0.641786345422482, -0.6518313171806182, 1.3354442167862435, -1.2043145454829405, 0.4813823869913045, -1.5428335401166102, 1.3821152573725537, -2.3212785452028672, 0.8545589572697296, -0.772336453451533, -0.49736734351279943, 0.14901385623969263, 1.0662016178255687, -0.1434437840124678, -0.9085296086179435, 1.0244448729388482, -1.4468528787919994, -0.3118340488124157, 1.5188676784825625, 0.15424572817777435, 1.0003879295162246, 1.3008090429174297, 0.994546553788734, -1.2890830028500138, -0.40471979448408874, -0.03237658061551539, -1.3186709594255155, 0.5681307989920067, -1.3027720666231417, -0.06021515309892382], \"yaxis\": \"y8\"}, {\"line\": {\"color\": \"rgba(128, 128, 128, 1.0)\", \"dash\": \"solid\", \"shape\": \"linear\", \"width\": 1.3}, \"marker\": {\"size\": 2, \"symbol\": \"circle\"}, \"mode\": \"markers\", \"name\": \"C\", \"text\": \"\", \"type\": \"scatter\", \"x\": [0.32205259576789935, -1.2705842440830204, 0.10782211694491088, -1.2646863492002582, -0.623016293453436, 0.4370049139590851, -1.8552254970766764, -1.073096970098413, 1.3267635793739714, 0.24419011655680606, 1.0557345774677764, 1.7122399294231183, -0.2677909309326994, -0.28051016349477526, 1.4218608035818048, -1.0755029134841767, -0.9863577816639659, 1.1115777342445334, -0.6008887227314611, -0.22539529068580208, -1.9716753893735646, -0.2365223696654613, 0.03208548148818823, 1.8767437352407905, 0.11545545793837805, 0.4970025785014497, 1.3483980343794544, -0.010039690351554604, -0.2862034883600797, 0.7806427708890616, 1.2081127390165514, 2.218774713469848, 0.32195990417680637, -0.789709658198847, -0.9214869451393399, 0.6711847095892842, -2.0114126158674566, -0.5309530198516696, -0.5878185997505112, -1.2238813239452369, -0.6931838125152013, -0.18979028816183985, 0.1999551589396969, -0.8954707479977178, 0.008236776144134046, -0.7787953946941676, -1.2036680132508266, -1.0847531776936057, 0.005830557401403538, 0.1728310981019457, 0.4449020848059417, -1.2639359430032238, -0.43542486573921074, 0.9384190809815643, 0.4417474515879442, 0.9940869401415626, -0.24283687971943876, 1.1349532128915576, -1.4141984420513154, -0.1588896627196114, 1.4481799160580093, 2.1823007739131963, 2.2440304393283648, -0.5847717373041349, 0.8639441573674254, 1.5196751985682482, 0.3827391753660122, 0.8684445003403783, -1.2023800499448436, 0.8930942078797675, 0.9233087070208601, 0.6698237160538058, 0.02239191937027293, 0.7820499553794281, -0.3248424573510298, -1.8242941941509472, -0.09514443783697729, 1.2553052652092374, 0.5534742778189647, -0.12727753897390603, -0.7962665535640177, 1.2211010568044924, 1.5560296838025678, -0.40481828496818456, 0.5218851881531966, -1.5271712764268646, -2.776318086494025, 0.999386989977953, -0.19556324612903161, 1.6357935804232269, -0.8896042579824299, 0.8581748464534634, 0.8086306539297275, 0.506194813669362, 0.7183057346101549, -0.11471459993668659, -1.0265711561628377, -0.5019344243022291, 1.6007548010842878, -0.40354560457594973], \"xaxis\": \"x9\", \"y\": [1.9826782448481126, 0.6600818749606454, -0.7854055017464745, -0.08872724199795148, -0.35279246861192526, 0.6215279100419142, 1.3736653722791574, -0.40792202522567933, 0.8231698806251506, -1.553246690046408, 0.22088143377335312, 0.7774135595494679, -1.55053551221391, 0.47592405088312434, 1.0456508979979475, 1.6668814387215036, -1.2006029762839654, 0.5540732169210111, -0.3600213472190218, -3.170840601377859, -1.3271158572237098, -1.431561979386749, -0.13516694094318898, -0.41498156271042985, 1.6075355347570155, 0.23399065003498834, -0.19871215454320826, -0.7156949056824685, 0.7040251458117656, 0.12530893350336372, 0.9148446107573772, -0.2578236533801504, -0.3506773793959923, -0.7991682589467581, 0.5030303007338238, -1.0401276595171582, -0.4843027052254437, 1.156546262137966, -0.30354580575355183, -0.10262540221690042, -1.4690705913420872, 0.2784873551884508, 0.9729973131378534, -0.7330067945563101, -0.7598605119691917, -1.2334213008030683, 1.4962063070001845, 1.2082717927798778, 0.17010013579236172, -0.8863735645195022, 0.7336502426571072, -1.9058614634267008, 0.09789511266801598, 0.13701814888768582, -0.9093317683087555, 0.20466334264895744, -0.24188099303995766, 0.9057330507174537, 1.2761328555412583, 1.7386742830337232, -0.202590221334881, -2.1029695709863367, 0.14641879077536032, -1.6502858545801662, -0.9632721401819229, -0.5443663262373347, 0.7373563980583779, -0.038878138917357315, 1.1088815058094743, -1.0177086542559917, 1.3392819492959913, 0.8480710290197091, 2.2118292809272386, -0.37324543937960414, 0.23620321220896628, -0.6585985169454098, -0.37874543492459517, -1.1648530944745845, 0.08038751477186008, 0.042824923658853105, 0.8875162333678649, -0.32968485330616065, -0.5822543338995056, -2.274098767235217, 0.3992943572566447, -0.5029467403671517, 1.1534579129616145, -0.0009568329346719737, 0.16232992598021312, 1.1100477325545908, -0.05287725555315468, 0.2716913123767963, -0.2700301455458189, -1.367522650374015, -1.8518071989339262, 0.3058211114172289, 1.5109929744272923, 1.2506236130378505, -0.651662497941342, 0.9873831121193896], \"yaxis\": \"y9\"}, {\"line\": {\"color\": \"rgba(128, 128, 128, 1.0)\", \"dash\": \"solid\", \"shape\": \"linear\", \"width\": 1.3}, \"marker\": {\"size\": 2, \"symbol\": \"circle\"}, \"mode\": \"markers\", \"name\": \"C\", \"text\": \"\", \"type\": \"scatter\", \"x\": [0.10125898893055496, 0.8301536855043266, -0.7327192245673191, -1.0387054262404438, -0.13081600367508936, 0.38664976245140625, -1.0533449001438244, -0.20007675282923942, -0.6185234313147078, 0.36942411017863375, -0.22375568353621758, 0.2526470287312885, 0.2267419219131918, 0.2639775339786776, -1.132739394771502, -1.1482843495848114, -1.4128591948532767, -0.18778958090483552, 0.7948906960485981, -0.7892335813067191, -0.8706073761676926, 0.6770291787073698, 2.0113237483420052, 0.19388328189767956, -0.5002549827427382, -2.2199606530825187, 0.4830527044613887, 1.2011801375298716, -0.19774173866295486, -0.752708338255664, 1.893701881344233, -1.5854693729649616, -1.1333779065857008, 0.9496792076892996, -1.238894773355343, 0.651939653630145, 1.0901486579747812, -1.3242262316027364, 0.2513360270523506, 1.369678078932397, -1.5950170347251074, -0.3679375422795287, -1.7962568652676187, -0.5115298758591496, 2.188733910681354, -1.1476516620997423, -0.8208471477547784, -1.416695201802754, 2.11342701518249, 0.08432602513735225, 0.6781991471269608, 0.07373698726313345, 0.5710623935970508, -0.787688749375717, -0.41027858341862145, -0.34821811877131464, -1.5818949290626747, -1.1349294502844594, 0.45585273942482807, 1.3046051862052737, -0.4827487411487068, 0.79507633799293, -0.5013579293617653, 0.46322340516495625, -0.8457049730894419, 1.648185620735109, 0.19598567561280725, 1.3150203116581147, 1.237625968070254, 0.08356414724553121, 0.641786345422482, -0.6518313171806182, 1.3354442167862435, -1.2043145454829405, 0.4813823869913045, -1.5428335401166102, 1.3821152573725537, -2.3212785452028672, 0.8545589572697296, -0.772336453451533, -0.49736734351279943, 0.14901385623969263, 1.0662016178255687, -0.1434437840124678, -0.9085296086179435, 1.0244448729388482, -1.4468528787919994, -0.3118340488124157, 1.5188676784825625, 0.15424572817777435, 1.0003879295162246, 1.3008090429174297, 0.994546553788734, -1.2890830028500138, -0.40471979448408874, -0.03237658061551539, -1.3186709594255155, 0.5681307989920067, -1.3027720666231417, -0.06021515309892382], \"xaxis\": \"x10\", \"y\": [1.9826782448481126, 0.6600818749606454, -0.7854055017464745, -0.08872724199795148, -0.35279246861192526, 0.6215279100419142, 1.3736653722791574, -0.40792202522567933, 0.8231698806251506, -1.553246690046408, 0.22088143377335312, 0.7774135595494679, -1.55053551221391, 0.47592405088312434, 1.0456508979979475, 1.6668814387215036, -1.2006029762839654, 0.5540732169210111, -0.3600213472190218, -3.170840601377859, -1.3271158572237098, -1.431561979386749, -0.13516694094318898, -0.41498156271042985, 1.6075355347570155, 0.23399065003498834, -0.19871215454320826, -0.7156949056824685, 0.7040251458117656, 0.12530893350336372, 0.9148446107573772, -0.2578236533801504, -0.3506773793959923, -0.7991682589467581, 0.5030303007338238, -1.0401276595171582, -0.4843027052254437, 1.156546262137966, -0.30354580575355183, -0.10262540221690042, -1.4690705913420872, 0.2784873551884508, 0.9729973131378534, -0.7330067945563101, -0.7598605119691917, -1.2334213008030683, 1.4962063070001845, 1.2082717927798778, 0.17010013579236172, -0.8863735645195022, 0.7336502426571072, -1.9058614634267008, 0.09789511266801598, 0.13701814888768582, -0.9093317683087555, 0.20466334264895744, -0.24188099303995766, 0.9057330507174537, 1.2761328555412583, 1.7386742830337232, -0.202590221334881, -2.1029695709863367, 0.14641879077536032, -1.6502858545801662, -0.9632721401819229, -0.5443663262373347, 0.7373563980583779, -0.038878138917357315, 1.1088815058094743, -1.0177086542559917, 1.3392819492959913, 0.8480710290197091, 2.2118292809272386, -0.37324543937960414, 0.23620321220896628, -0.6585985169454098, -0.37874543492459517, -1.1648530944745845, 0.08038751477186008, 0.042824923658853105, 0.8875162333678649, -0.32968485330616065, -0.5822543338995056, -2.274098767235217, 0.3992943572566447, -0.5029467403671517, 1.1534579129616145, -0.0009568329346719737, 0.16232992598021312, 1.1100477325545908, -0.05287725555315468, 0.2716913123767963, -0.2700301455458189, -1.367522650374015, -1.8518071989339262, 0.3058211114172289, 1.5109929744272923, 1.2506236130378505, -0.651662497941342, 0.9873831121193896], \"yaxis\": \"y10\"}, {\"histfunc\": \"count\", \"histnorm\": \"\", \"marker\": {\"color\": \"rgba(50, 171, 96, 1.0)\", \"line\": {\"color\": \"#4D5663\", \"width\": 1.3}}, \"name\": \"C\", \"nbinsx\": 10, \"opacity\": 0.8, \"orientation\": \"v\", \"type\": \"histogram\", \"x\": [1.9826782448481126, 0.6600818749606454, -0.7854055017464745, -0.08872724199795148, -0.35279246861192526, 0.6215279100419142, 1.3736653722791574, -0.40792202522567933, 0.8231698806251506, -1.553246690046408, 0.22088143377335312, 0.7774135595494679, -1.55053551221391, 0.47592405088312434, 1.0456508979979475, 1.6668814387215036, -1.2006029762839654, 0.5540732169210111, -0.3600213472190218, -3.170840601377859, -1.3271158572237098, -1.431561979386749, -0.13516694094318898, -0.41498156271042985, 1.6075355347570155, 0.23399065003498834, -0.19871215454320826, -0.7156949056824685, 0.7040251458117656, 0.12530893350336372, 0.9148446107573772, -0.2578236533801504, -0.3506773793959923, -0.7991682589467581, 0.5030303007338238, -1.0401276595171582, -0.4843027052254437, 1.156546262137966, -0.30354580575355183, -0.10262540221690042, -1.4690705913420872, 0.2784873551884508, 0.9729973131378534, -0.7330067945563101, -0.7598605119691917, -1.2334213008030683, 1.4962063070001845, 1.2082717927798778, 0.17010013579236172, -0.8863735645195022, 0.7336502426571072, -1.9058614634267008, 0.09789511266801598, 0.13701814888768582, -0.9093317683087555, 0.20466334264895744, -0.24188099303995766, 0.9057330507174537, 1.2761328555412583, 1.7386742830337232, -0.202590221334881, -2.1029695709863367, 0.14641879077536032, -1.6502858545801662, -0.9632721401819229, -0.5443663262373347, 0.7373563980583779, -0.038878138917357315, 1.1088815058094743, -1.0177086542559917, 1.3392819492959913, 0.8480710290197091, 2.2118292809272386, -0.37324543937960414, 0.23620321220896628, -0.6585985169454098, -0.37874543492459517, -1.1648530944745845, 0.08038751477186008, 0.042824923658853105, 0.8875162333678649, -0.32968485330616065, -0.5822543338995056, -2.274098767235217, 0.3992943572566447, -0.5029467403671517, 1.1534579129616145, -0.0009568329346719737, 0.16232992598021312, 1.1100477325545908, -0.05287725555315468, 0.2716913123767963, -0.2700301455458189, -1.367522650374015, -1.8518071989339262, 0.3058211114172289, 1.5109929744272923, 1.2506236130378505, -0.651662497941342, 0.9873831121193896], \"xaxis\": \"x11\", \"yaxis\": \"y11\"}, {\"line\": {\"color\": \"rgba(128, 128, 128, 1.0)\", \"dash\": \"solid\", \"shape\": \"linear\", \"width\": 1.3}, \"marker\": {\"size\": 2, \"symbol\": \"circle\"}, \"mode\": \"markers\", \"name\": \"C\", \"text\": \"\", \"type\": \"scatter\", \"x\": [-0.9976983614351799, 0.3482996174135738, 0.5198729665770465, 0.5961438411103572, -1.4455527654806652, -1.0439622504316568, -1.5061213313520547, -1.0832843449586425, -0.18330746470354786, -0.33573070365163415, -0.5524866987495552, 0.48073881269727553, 1.1714422206161683, 2.4540043264885685, -1.0976434528759873, -0.0023124590897065, -0.05449348402022067, -0.8978018878319018, -0.10017269377275725, -0.652706473663357, 0.6109271612495114, 0.48669798595464, 0.6821945418916386, 1.363330444126585, -0.6309199044214974, 0.5086943952845181, -0.5382771808153662, 0.8364048543061532, -0.3750492219137734, -1.5622240907714506, 0.8987183942935888, 2.1446151990780864, -1.8706141653186803, 0.3275876731514227, -0.6284816522555828, -0.6018605977870878, -0.3979495077307453, 0.5606589040364272, 0.11033256027691177, 0.5214386168521874, 1.5772815555419955, -0.9372458389931095, 0.1731793470299087, 0.2029761918958493, 0.18242312016866313, 0.4120567789077027, -0.32578608408009213, 0.6890541866411583, 0.8678327893559957, -0.33345182733732326, 0.26690015294188374, -0.15113810493423677, 0.16772173385135722, -1.49857338871038, -1.637674180671225, 0.364355161926861, -0.889465826373414, -0.7478949314357145, 1.5934730485312447, -0.22134157166250307, 0.7923846183372784, 0.3384719492622945, -0.045885261648630826, 0.4405627829609798, 1.0318548143612905, -1.385691540964935, -0.6826394395564014, -0.8052830818459382, 0.6112279635616631, -0.43670449840982883, 0.6346057391180093, 0.25779002362252346, 1.0182869198734814, -0.6809800645412656, 0.36470782397371787, 0.26794657305049113, -0.04242307532924371, -1.0156797741997807, -0.18951065153563823, 0.7986965181101916, 0.060549974776385324, 0.3984054368083864, 0.7774464251421512, 0.7506239053217926, 1.022601973677445, 0.4927545810098558, -0.834021709032103, 0.4935369060086965, 0.37343704574554426, 0.47114004839347245, -0.8701938686920545, -0.3708994306880713, -0.5769821101739236, 0.6879933234032504, -0.891162953646132, -1.7261205934346362, -0.449625936317721, 0.6303983269141106, 1.1499202452107566, -1.0812453948426501], \"xaxis\": \"x12\", \"y\": [1.9826782448481126, 0.6600818749606454, -0.7854055017464745, -0.08872724199795148, -0.35279246861192526, 0.6215279100419142, 1.3736653722791574, -0.40792202522567933, 0.8231698806251506, -1.553246690046408, 0.22088143377335312, 0.7774135595494679, -1.55053551221391, 0.47592405088312434, 1.0456508979979475, 1.6668814387215036, -1.2006029762839654, 0.5540732169210111, -0.3600213472190218, -3.170840601377859, -1.3271158572237098, -1.431561979386749, -0.13516694094318898, -0.41498156271042985, 1.6075355347570155, 0.23399065003498834, -0.19871215454320826, -0.7156949056824685, 0.7040251458117656, 0.12530893350336372, 0.9148446107573772, -0.2578236533801504, -0.3506773793959923, -0.7991682589467581, 0.5030303007338238, -1.0401276595171582, -0.4843027052254437, 1.156546262137966, -0.30354580575355183, -0.10262540221690042, -1.4690705913420872, 0.2784873551884508, 0.9729973131378534, -0.7330067945563101, -0.7598605119691917, -1.2334213008030683, 1.4962063070001845, 1.2082717927798778, 0.17010013579236172, -0.8863735645195022, 0.7336502426571072, -1.9058614634267008, 0.09789511266801598, 0.13701814888768582, -0.9093317683087555, 0.20466334264895744, -0.24188099303995766, 0.9057330507174537, 1.2761328555412583, 1.7386742830337232, -0.202590221334881, -2.1029695709863367, 0.14641879077536032, -1.6502858545801662, -0.9632721401819229, -0.5443663262373347, 0.7373563980583779, -0.038878138917357315, 1.1088815058094743, -1.0177086542559917, 1.3392819492959913, 0.8480710290197091, 2.2118292809272386, -0.37324543937960414, 0.23620321220896628, -0.6585985169454098, -0.37874543492459517, -1.1648530944745845, 0.08038751477186008, 0.042824923658853105, 0.8875162333678649, -0.32968485330616065, -0.5822543338995056, -2.274098767235217, 0.3992943572566447, -0.5029467403671517, 1.1534579129616145, -0.0009568329346719737, 0.16232992598021312, 1.1100477325545908, -0.05287725555315468, 0.2716913123767963, -0.2700301455458189, -1.367522650374015, -1.8518071989339262, 0.3058211114172289, 1.5109929744272923, 1.2506236130378505, -0.651662497941342, 0.9873831121193896], \"yaxis\": \"y12\"}, {\"line\": {\"color\": \"rgba(128, 128, 128, 1.0)\", \"dash\": \"solid\", \"shape\": \"linear\", \"width\": 1.3}, \"marker\": {\"size\": 2, \"symbol\": \"circle\"}, \"mode\": \"markers\", \"name\": \"D\", \"text\": \"\", \"type\": \"scatter\", \"x\": [0.32205259576789935, -1.2705842440830204, 0.10782211694491088, -1.2646863492002582, -0.623016293453436, 0.4370049139590851, -1.8552254970766764, -1.073096970098413, 1.3267635793739714, 0.24419011655680606, 1.0557345774677764, 1.7122399294231183, -0.2677909309326994, -0.28051016349477526, 1.4218608035818048, -1.0755029134841767, -0.9863577816639659, 1.1115777342445334, -0.6008887227314611, -0.22539529068580208, -1.9716753893735646, -0.2365223696654613, 0.03208548148818823, 1.8767437352407905, 0.11545545793837805, 0.4970025785014497, 1.3483980343794544, -0.010039690351554604, -0.2862034883600797, 0.7806427708890616, 1.2081127390165514, 2.218774713469848, 0.32195990417680637, -0.789709658198847, -0.9214869451393399, 0.6711847095892842, -2.0114126158674566, -0.5309530198516696, -0.5878185997505112, -1.2238813239452369, -0.6931838125152013, -0.18979028816183985, 0.1999551589396969, -0.8954707479977178, 0.008236776144134046, -0.7787953946941676, -1.2036680132508266, -1.0847531776936057, 0.005830557401403538, 0.1728310981019457, 0.4449020848059417, -1.2639359430032238, -0.43542486573921074, 0.9384190809815643, 0.4417474515879442, 0.9940869401415626, -0.24283687971943876, 1.1349532128915576, -1.4141984420513154, -0.1588896627196114, 1.4481799160580093, 2.1823007739131963, 2.2440304393283648, -0.5847717373041349, 0.8639441573674254, 1.5196751985682482, 0.3827391753660122, 0.8684445003403783, -1.2023800499448436, 0.8930942078797675, 0.9233087070208601, 0.6698237160538058, 0.02239191937027293, 0.7820499553794281, -0.3248424573510298, -1.8242941941509472, -0.09514443783697729, 1.2553052652092374, 0.5534742778189647, -0.12727753897390603, -0.7962665535640177, 1.2211010568044924, 1.5560296838025678, -0.40481828496818456, 0.5218851881531966, -1.5271712764268646, -2.776318086494025, 0.999386989977953, -0.19556324612903161, 1.6357935804232269, -0.8896042579824299, 0.8581748464534634, 0.8086306539297275, 0.506194813669362, 0.7183057346101549, -0.11471459993668659, -1.0265711561628377, -0.5019344243022291, 1.6007548010842878, -0.40354560457594973], \"xaxis\": \"x13\", \"y\": [-0.9976983614351799, 0.3482996174135738, 0.5198729665770465, 0.5961438411103572, -1.4455527654806652, -1.0439622504316568, -1.5061213313520547, -1.0832843449586425, -0.18330746470354786, -0.33573070365163415, -0.5524866987495552, 0.48073881269727553, 1.1714422206161683, 2.4540043264885685, -1.0976434528759873, -0.0023124590897065, -0.05449348402022067, -0.8978018878319018, -0.10017269377275725, -0.652706473663357, 0.6109271612495114, 0.48669798595464, 0.6821945418916386, 1.363330444126585, -0.6309199044214974, 0.5086943952845181, -0.5382771808153662, 0.8364048543061532, -0.3750492219137734, -1.5622240907714506, 0.8987183942935888, 2.1446151990780864, -1.8706141653186803, 0.3275876731514227, -0.6284816522555828, -0.6018605977870878, -0.3979495077307453, 0.5606589040364272, 0.11033256027691177, 0.5214386168521874, 1.5772815555419955, -0.9372458389931095, 0.1731793470299087, 0.2029761918958493, 0.18242312016866313, 0.4120567789077027, -0.32578608408009213, 0.6890541866411583, 0.8678327893559957, -0.33345182733732326, 0.26690015294188374, -0.15113810493423677, 0.16772173385135722, -1.49857338871038, -1.637674180671225, 0.364355161926861, -0.889465826373414, -0.7478949314357145, 1.5934730485312447, -0.22134157166250307, 0.7923846183372784, 0.3384719492622945, -0.045885261648630826, 0.4405627829609798, 1.0318548143612905, -1.385691540964935, -0.6826394395564014, -0.8052830818459382, 0.6112279635616631, -0.43670449840982883, 0.6346057391180093, 0.25779002362252346, 1.0182869198734814, -0.6809800645412656, 0.36470782397371787, 0.26794657305049113, -0.04242307532924371, -1.0156797741997807, -0.18951065153563823, 0.7986965181101916, 0.060549974776385324, 0.3984054368083864, 0.7774464251421512, 0.7506239053217926, 1.022601973677445, 0.4927545810098558, -0.834021709032103, 0.4935369060086965, 0.37343704574554426, 0.47114004839347245, -0.8701938686920545, -0.3708994306880713, -0.5769821101739236, 0.6879933234032504, -0.891162953646132, -1.7261205934346362, -0.449625936317721, 0.6303983269141106, 1.1499202452107566, -1.0812453948426501], \"yaxis\": \"y13\"}, {\"line\": {\"color\": \"rgba(128, 128, 128, 1.0)\", \"dash\": \"solid\", \"shape\": \"linear\", \"width\": 1.3}, \"marker\": {\"size\": 2, \"symbol\": \"circle\"}, \"mode\": \"markers\", \"name\": \"D\", \"text\": \"\", \"type\": \"scatter\", \"x\": [0.10125898893055496, 0.8301536855043266, -0.7327192245673191, -1.0387054262404438, -0.13081600367508936, 0.38664976245140625, -1.0533449001438244, -0.20007675282923942, -0.6185234313147078, 0.36942411017863375, -0.22375568353621758, 0.2526470287312885, 0.2267419219131918, 0.2639775339786776, -1.132739394771502, -1.1482843495848114, -1.4128591948532767, -0.18778958090483552, 0.7948906960485981, -0.7892335813067191, -0.8706073761676926, 0.6770291787073698, 2.0113237483420052, 0.19388328189767956, -0.5002549827427382, -2.2199606530825187, 0.4830527044613887, 1.2011801375298716, -0.19774173866295486, -0.752708338255664, 1.893701881344233, -1.5854693729649616, -1.1333779065857008, 0.9496792076892996, -1.238894773355343, 0.651939653630145, 1.0901486579747812, -1.3242262316027364, 0.2513360270523506, 1.369678078932397, -1.5950170347251074, -0.3679375422795287, -1.7962568652676187, -0.5115298758591496, 2.188733910681354, -1.1476516620997423, -0.8208471477547784, -1.416695201802754, 2.11342701518249, 0.08432602513735225, 0.6781991471269608, 0.07373698726313345, 0.5710623935970508, -0.787688749375717, -0.41027858341862145, -0.34821811877131464, -1.5818949290626747, -1.1349294502844594, 0.45585273942482807, 1.3046051862052737, -0.4827487411487068, 0.79507633799293, -0.5013579293617653, 0.46322340516495625, -0.8457049730894419, 1.648185620735109, 0.19598567561280725, 1.3150203116581147, 1.237625968070254, 0.08356414724553121, 0.641786345422482, -0.6518313171806182, 1.3354442167862435, -1.2043145454829405, 0.4813823869913045, -1.5428335401166102, 1.3821152573725537, -2.3212785452028672, 0.8545589572697296, -0.772336453451533, -0.49736734351279943, 0.14901385623969263, 1.0662016178255687, -0.1434437840124678, -0.9085296086179435, 1.0244448729388482, -1.4468528787919994, -0.3118340488124157, 1.5188676784825625, 0.15424572817777435, 1.0003879295162246, 1.3008090429174297, 0.994546553788734, -1.2890830028500138, -0.40471979448408874, -0.03237658061551539, -1.3186709594255155, 0.5681307989920067, -1.3027720666231417, -0.06021515309892382], \"xaxis\": \"x14\", \"y\": [-0.9976983614351799, 0.3482996174135738, 0.5198729665770465, 0.5961438411103572, -1.4455527654806652, -1.0439622504316568, -1.5061213313520547, -1.0832843449586425, -0.18330746470354786, -0.33573070365163415, -0.5524866987495552, 0.48073881269727553, 1.1714422206161683, 2.4540043264885685, -1.0976434528759873, -0.0023124590897065, -0.05449348402022067, -0.8978018878319018, -0.10017269377275725, -0.652706473663357, 0.6109271612495114, 0.48669798595464, 0.6821945418916386, 1.363330444126585, -0.6309199044214974, 0.5086943952845181, -0.5382771808153662, 0.8364048543061532, -0.3750492219137734, -1.5622240907714506, 0.8987183942935888, 2.1446151990780864, -1.8706141653186803, 0.3275876731514227, -0.6284816522555828, -0.6018605977870878, -0.3979495077307453, 0.5606589040364272, 0.11033256027691177, 0.5214386168521874, 1.5772815555419955, -0.9372458389931095, 0.1731793470299087, 0.2029761918958493, 0.18242312016866313, 0.4120567789077027, -0.32578608408009213, 0.6890541866411583, 0.8678327893559957, -0.33345182733732326, 0.26690015294188374, -0.15113810493423677, 0.16772173385135722, -1.49857338871038, -1.637674180671225, 0.364355161926861, -0.889465826373414, -0.7478949314357145, 1.5934730485312447, -0.22134157166250307, 0.7923846183372784, 0.3384719492622945, -0.045885261648630826, 0.4405627829609798, 1.0318548143612905, -1.385691540964935, -0.6826394395564014, -0.8052830818459382, 0.6112279635616631, -0.43670449840982883, 0.6346057391180093, 0.25779002362252346, 1.0182869198734814, -0.6809800645412656, 0.36470782397371787, 0.26794657305049113, -0.04242307532924371, -1.0156797741997807, -0.18951065153563823, 0.7986965181101916, 0.060549974776385324, 0.3984054368083864, 0.7774464251421512, 0.7506239053217926, 1.022601973677445, 0.4927545810098558, -0.834021709032103, 0.4935369060086965, 0.37343704574554426, 0.47114004839347245, -0.8701938686920545, -0.3708994306880713, -0.5769821101739236, 0.6879933234032504, -0.891162953646132, -1.7261205934346362, -0.449625936317721, 0.6303983269141106, 1.1499202452107566, -1.0812453948426501], \"yaxis\": \"y14\"}, {\"line\": {\"color\": \"rgba(128, 128, 128, 1.0)\", \"dash\": \"solid\", \"shape\": \"linear\", \"width\": 1.3}, \"marker\": {\"size\": 2, \"symbol\": \"circle\"}, \"mode\": \"markers\", \"name\": \"D\", \"text\": \"\", \"type\": \"scatter\", \"x\": [1.9826782448481126, 0.6600818749606454, -0.7854055017464745, -0.08872724199795148, -0.35279246861192526, 0.6215279100419142, 1.3736653722791574, -0.40792202522567933, 0.8231698806251506, -1.553246690046408, 0.22088143377335312, 0.7774135595494679, -1.55053551221391, 0.47592405088312434, 1.0456508979979475, 1.6668814387215036, -1.2006029762839654, 0.5540732169210111, -0.3600213472190218, -3.170840601377859, -1.3271158572237098, -1.431561979386749, -0.13516694094318898, -0.41498156271042985, 1.6075355347570155, 0.23399065003498834, -0.19871215454320826, -0.7156949056824685, 0.7040251458117656, 0.12530893350336372, 0.9148446107573772, -0.2578236533801504, -0.3506773793959923, -0.7991682589467581, 0.5030303007338238, -1.0401276595171582, -0.4843027052254437, 1.156546262137966, -0.30354580575355183, -0.10262540221690042, -1.4690705913420872, 0.2784873551884508, 0.9729973131378534, -0.7330067945563101, -0.7598605119691917, -1.2334213008030683, 1.4962063070001845, 1.2082717927798778, 0.17010013579236172, -0.8863735645195022, 0.7336502426571072, -1.9058614634267008, 0.09789511266801598, 0.13701814888768582, -0.9093317683087555, 0.20466334264895744, -0.24188099303995766, 0.9057330507174537, 1.2761328555412583, 1.7386742830337232, -0.202590221334881, -2.1029695709863367, 0.14641879077536032, -1.6502858545801662, -0.9632721401819229, -0.5443663262373347, 0.7373563980583779, -0.038878138917357315, 1.1088815058094743, -1.0177086542559917, 1.3392819492959913, 0.8480710290197091, 2.2118292809272386, -0.37324543937960414, 0.23620321220896628, -0.6585985169454098, -0.37874543492459517, -1.1648530944745845, 0.08038751477186008, 0.042824923658853105, 0.8875162333678649, -0.32968485330616065, -0.5822543338995056, -2.274098767235217, 0.3992943572566447, -0.5029467403671517, 1.1534579129616145, -0.0009568329346719737, 0.16232992598021312, 1.1100477325545908, -0.05287725555315468, 0.2716913123767963, -0.2700301455458189, -1.367522650374015, -1.8518071989339262, 0.3058211114172289, 1.5109929744272923, 1.2506236130378505, -0.651662497941342, 0.9873831121193896], \"xaxis\": \"x15\", \"y\": [-0.9976983614351799, 0.3482996174135738, 0.5198729665770465, 0.5961438411103572, -1.4455527654806652, -1.0439622504316568, -1.5061213313520547, -1.0832843449586425, -0.18330746470354786, -0.33573070365163415, -0.5524866987495552, 0.48073881269727553, 1.1714422206161683, 2.4540043264885685, -1.0976434528759873, -0.0023124590897065, -0.05449348402022067, -0.8978018878319018, -0.10017269377275725, -0.652706473663357, 0.6109271612495114, 0.48669798595464, 0.6821945418916386, 1.363330444126585, -0.6309199044214974, 0.5086943952845181, -0.5382771808153662, 0.8364048543061532, -0.3750492219137734, -1.5622240907714506, 0.8987183942935888, 2.1446151990780864, -1.8706141653186803, 0.3275876731514227, -0.6284816522555828, -0.6018605977870878, -0.3979495077307453, 0.5606589040364272, 0.11033256027691177, 0.5214386168521874, 1.5772815555419955, -0.9372458389931095, 0.1731793470299087, 0.2029761918958493, 0.18242312016866313, 0.4120567789077027, -0.32578608408009213, 0.6890541866411583, 0.8678327893559957, -0.33345182733732326, 0.26690015294188374, -0.15113810493423677, 0.16772173385135722, -1.49857338871038, -1.637674180671225, 0.364355161926861, -0.889465826373414, -0.7478949314357145, 1.5934730485312447, -0.22134157166250307, 0.7923846183372784, 0.3384719492622945, -0.045885261648630826, 0.4405627829609798, 1.0318548143612905, -1.385691540964935, -0.6826394395564014, -0.8052830818459382, 0.6112279635616631, -0.43670449840982883, 0.6346057391180093, 0.25779002362252346, 1.0182869198734814, -0.6809800645412656, 0.36470782397371787, 0.26794657305049113, -0.04242307532924371, -1.0156797741997807, -0.18951065153563823, 0.7986965181101916, 0.060549974776385324, 0.3984054368083864, 0.7774464251421512, 0.7506239053217926, 1.022601973677445, 0.4927545810098558, -0.834021709032103, 0.4935369060086965, 0.37343704574554426, 0.47114004839347245, -0.8701938686920545, -0.3708994306880713, -0.5769821101739236, 0.6879933234032504, -0.891162953646132, -1.7261205934346362, -0.449625936317721, 0.6303983269141106, 1.1499202452107566, -1.0812453948426501], \"yaxis\": \"y15\"}, {\"histfunc\": \"count\", \"histnorm\": \"\", \"marker\": {\"color\": \"rgba(128, 0, 128, 1.0)\", \"line\": {\"color\": \"#4D5663\", \"width\": 1.3}}, \"name\": \"D\", \"nbinsx\": 10, \"opacity\": 0.8, \"orientation\": \"v\", \"type\": \"histogram\", \"x\": [-0.9976983614351799, 0.3482996174135738, 0.5198729665770465, 0.5961438411103572, -1.4455527654806652, -1.0439622504316568, -1.5061213313520547, -1.0832843449586425, -0.18330746470354786, -0.33573070365163415, -0.5524866987495552, 0.48073881269727553, 1.1714422206161683, 2.4540043264885685, -1.0976434528759873, -0.0023124590897065, -0.05449348402022067, -0.8978018878319018, -0.10017269377275725, -0.652706473663357, 0.6109271612495114, 0.48669798595464, 0.6821945418916386, 1.363330444126585, -0.6309199044214974, 0.5086943952845181, -0.5382771808153662, 0.8364048543061532, -0.3750492219137734, -1.5622240907714506, 0.8987183942935888, 2.1446151990780864, -1.8706141653186803, 0.3275876731514227, -0.6284816522555828, -0.6018605977870878, -0.3979495077307453, 0.5606589040364272, 0.11033256027691177, 0.5214386168521874, 1.5772815555419955, -0.9372458389931095, 0.1731793470299087, 0.2029761918958493, 0.18242312016866313, 0.4120567789077027, -0.32578608408009213, 0.6890541866411583, 0.8678327893559957, -0.33345182733732326, 0.26690015294188374, -0.15113810493423677, 0.16772173385135722, -1.49857338871038, -1.637674180671225, 0.364355161926861, -0.889465826373414, -0.7478949314357145, 1.5934730485312447, -0.22134157166250307, 0.7923846183372784, 0.3384719492622945, -0.045885261648630826, 0.4405627829609798, 1.0318548143612905, -1.385691540964935, -0.6826394395564014, -0.8052830818459382, 0.6112279635616631, -0.43670449840982883, 0.6346057391180093, 0.25779002362252346, 1.0182869198734814, -0.6809800645412656, 0.36470782397371787, 0.26794657305049113, -0.04242307532924371, -1.0156797741997807, -0.18951065153563823, 0.7986965181101916, 0.060549974776385324, 0.3984054368083864, 0.7774464251421512, 0.7506239053217926, 1.022601973677445, 0.4927545810098558, -0.834021709032103, 0.4935369060086965, 0.37343704574554426, 0.47114004839347245, -0.8701938686920545, -0.3708994306880713, -0.5769821101739236, 0.6879933234032504, -0.891162953646132, -1.7261205934346362, -0.449625936317721, 0.6303983269141106, 1.1499202452107566, -1.0812453948426501], \"xaxis\": \"x16\", \"yaxis\": \"y16\"}],\n",
       "                        {\"bargap\": 0.02, \"legend\": {\"bgcolor\": \"#F5F6F9\", \"font\": {\"color\": \"#4D5663\"}}, \"paper_bgcolor\": \"#F5F6F9\", \"plot_bgcolor\": \"#F5F6F9\", \"showlegend\": false, \"template\": {\"data\": {\"bar\": [{\"error_x\": {\"color\": \"#2a3f5f\"}, \"error_y\": {\"color\": \"#2a3f5f\"}, \"marker\": {\"line\": {\"color\": \"#E5ECF6\", \"width\": 0.5}}, \"type\": \"bar\"}], \"barpolar\": [{\"marker\": {\"line\": {\"color\": \"#E5ECF6\", \"width\": 0.5}}, \"type\": \"barpolar\"}], \"carpet\": [{\"aaxis\": {\"endlinecolor\": \"#2a3f5f\", \"gridcolor\": \"white\", \"linecolor\": \"white\", \"minorgridcolor\": \"white\", \"startlinecolor\": \"#2a3f5f\"}, \"baxis\": {\"endlinecolor\": \"#2a3f5f\", \"gridcolor\": \"white\", \"linecolor\": \"white\", \"minorgridcolor\": \"white\", \"startlinecolor\": \"#2a3f5f\"}, \"type\": \"carpet\"}], \"choropleth\": [{\"colorbar\": {\"outlinewidth\": 0, \"ticks\": \"\"}, \"type\": \"choropleth\"}], \"contour\": [{\"colorbar\": {\"outlinewidth\": 0, \"ticks\": \"\"}, \"colorscale\": [[0.0, \"#0d0887\"], [0.1111111111111111, \"#46039f\"], [0.2222222222222222, \"#7201a8\"], [0.3333333333333333, \"#9c179e\"], [0.4444444444444444, \"#bd3786\"], [0.5555555555555556, \"#d8576b\"], [0.6666666666666666, \"#ed7953\"], [0.7777777777777778, \"#fb9f3a\"], [0.8888888888888888, \"#fdca26\"], [1.0, \"#f0f921\"]], \"type\": \"contour\"}], \"contourcarpet\": [{\"colorbar\": {\"outlinewidth\": 0, \"ticks\": \"\"}, \"type\": \"contourcarpet\"}], \"heatmap\": [{\"colorbar\": {\"outlinewidth\": 0, \"ticks\": \"\"}, \"colorscale\": [[0.0, \"#0d0887\"], [0.1111111111111111, \"#46039f\"], [0.2222222222222222, \"#7201a8\"], [0.3333333333333333, \"#9c179e\"], [0.4444444444444444, \"#bd3786\"], [0.5555555555555556, \"#d8576b\"], [0.6666666666666666, \"#ed7953\"], [0.7777777777777778, \"#fb9f3a\"], [0.8888888888888888, \"#fdca26\"], [1.0, \"#f0f921\"]], \"type\": \"heatmap\"}], \"heatmapgl\": [{\"colorbar\": {\"outlinewidth\": 0, \"ticks\": \"\"}, \"colorscale\": [[0.0, \"#0d0887\"], [0.1111111111111111, \"#46039f\"], [0.2222222222222222, \"#7201a8\"], [0.3333333333333333, \"#9c179e\"], [0.4444444444444444, \"#bd3786\"], [0.5555555555555556, \"#d8576b\"], [0.6666666666666666, \"#ed7953\"], [0.7777777777777778, \"#fb9f3a\"], [0.8888888888888888, \"#fdca26\"], [1.0, \"#f0f921\"]], \"type\": \"heatmapgl\"}], \"histogram\": [{\"marker\": {\"colorbar\": {\"outlinewidth\": 0, \"ticks\": \"\"}}, \"type\": \"histogram\"}], \"histogram2d\": [{\"colorbar\": {\"outlinewidth\": 0, \"ticks\": \"\"}, \"colorscale\": [[0.0, \"#0d0887\"], [0.1111111111111111, \"#46039f\"], [0.2222222222222222, \"#7201a8\"], [0.3333333333333333, \"#9c179e\"], [0.4444444444444444, \"#bd3786\"], [0.5555555555555556, \"#d8576b\"], [0.6666666666666666, \"#ed7953\"], [0.7777777777777778, \"#fb9f3a\"], [0.8888888888888888, \"#fdca26\"], [1.0, \"#f0f921\"]], \"type\": \"histogram2d\"}], \"histogram2dcontour\": [{\"colorbar\": {\"outlinewidth\": 0, \"ticks\": \"\"}, \"colorscale\": [[0.0, \"#0d0887\"], [0.1111111111111111, \"#46039f\"], [0.2222222222222222, \"#7201a8\"], [0.3333333333333333, \"#9c179e\"], [0.4444444444444444, \"#bd3786\"], [0.5555555555555556, \"#d8576b\"], [0.6666666666666666, \"#ed7953\"], [0.7777777777777778, \"#fb9f3a\"], [0.8888888888888888, \"#fdca26\"], [1.0, \"#f0f921\"]], \"type\": \"histogram2dcontour\"}], \"mesh3d\": [{\"colorbar\": {\"outlinewidth\": 0, \"ticks\": \"\"}, \"type\": \"mesh3d\"}], \"parcoords\": [{\"line\": {\"colorbar\": {\"outlinewidth\": 0, \"ticks\": \"\"}}, \"type\": \"parcoords\"}], \"pie\": [{\"automargin\": true, \"type\": \"pie\"}], \"scatter\": [{\"marker\": {\"colorbar\": {\"outlinewidth\": 0, \"ticks\": \"\"}}, \"type\": \"scatter\"}], \"scatter3d\": [{\"line\": {\"colorbar\": {\"outlinewidth\": 0, \"ticks\": \"\"}}, \"marker\": {\"colorbar\": {\"outlinewidth\": 0, \"ticks\": \"\"}}, \"type\": \"scatter3d\"}], \"scattercarpet\": [{\"marker\": {\"colorbar\": {\"outlinewidth\": 0, \"ticks\": \"\"}}, \"type\": \"scattercarpet\"}], \"scattergeo\": [{\"marker\": {\"colorbar\": {\"outlinewidth\": 0, \"ticks\": \"\"}}, \"type\": \"scattergeo\"}], \"scattergl\": [{\"marker\": {\"colorbar\": {\"outlinewidth\": 0, \"ticks\": \"\"}}, \"type\": \"scattergl\"}], \"scattermapbox\": [{\"marker\": {\"colorbar\": {\"outlinewidth\": 0, \"ticks\": \"\"}}, \"type\": \"scattermapbox\"}], \"scatterpolar\": [{\"marker\": {\"colorbar\": {\"outlinewidth\": 0, \"ticks\": \"\"}}, \"type\": \"scatterpolar\"}], \"scatterpolargl\": [{\"marker\": {\"colorbar\": {\"outlinewidth\": 0, \"ticks\": \"\"}}, \"type\": \"scatterpolargl\"}], \"scatterternary\": [{\"marker\": {\"colorbar\": {\"outlinewidth\": 0, \"ticks\": \"\"}}, \"type\": \"scatterternary\"}], \"surface\": [{\"colorbar\": {\"outlinewidth\": 0, \"ticks\": \"\"}, \"colorscale\": [[0.0, \"#0d0887\"], [0.1111111111111111, \"#46039f\"], [0.2222222222222222, \"#7201a8\"], [0.3333333333333333, \"#9c179e\"], [0.4444444444444444, \"#bd3786\"], [0.5555555555555556, \"#d8576b\"], [0.6666666666666666, \"#ed7953\"], [0.7777777777777778, \"#fb9f3a\"], [0.8888888888888888, \"#fdca26\"], [1.0, \"#f0f921\"]], \"type\": \"surface\"}], \"table\": [{\"cells\": {\"fill\": {\"color\": \"#EBF0F8\"}, \"line\": {\"color\": \"white\"}}, \"header\": {\"fill\": {\"color\": \"#C8D4E3\"}, \"line\": {\"color\": \"white\"}}, \"type\": \"table\"}]}, \"layout\": {\"annotationdefaults\": {\"arrowcolor\": \"#2a3f5f\", \"arrowhead\": 0, \"arrowwidth\": 1}, \"coloraxis\": {\"colorbar\": {\"outlinewidth\": 0, \"ticks\": \"\"}}, \"colorscale\": {\"diverging\": [[0, \"#8e0152\"], [0.1, \"#c51b7d\"], [0.2, \"#de77ae\"], [0.3, \"#f1b6da\"], [0.4, \"#fde0ef\"], [0.5, \"#f7f7f7\"], [0.6, \"#e6f5d0\"], [0.7, \"#b8e186\"], [0.8, \"#7fbc41\"], [0.9, \"#4d9221\"], [1, \"#276419\"]], \"sequential\": [[0.0, \"#0d0887\"], [0.1111111111111111, \"#46039f\"], [0.2222222222222222, \"#7201a8\"], [0.3333333333333333, \"#9c179e\"], [0.4444444444444444, \"#bd3786\"], [0.5555555555555556, \"#d8576b\"], [0.6666666666666666, \"#ed7953\"], [0.7777777777777778, \"#fb9f3a\"], [0.8888888888888888, \"#fdca26\"], [1.0, \"#f0f921\"]], \"sequentialminus\": [[0.0, \"#0d0887\"], [0.1111111111111111, \"#46039f\"], [0.2222222222222222, \"#7201a8\"], [0.3333333333333333, \"#9c179e\"], [0.4444444444444444, \"#bd3786\"], [0.5555555555555556, \"#d8576b\"], [0.6666666666666666, \"#ed7953\"], [0.7777777777777778, \"#fb9f3a\"], [0.8888888888888888, \"#fdca26\"], [1.0, \"#f0f921\"]]}, \"colorway\": [\"#636efa\", \"#EF553B\", \"#00cc96\", \"#ab63fa\", \"#FFA15A\", \"#19d3f3\", \"#FF6692\", \"#B6E880\", \"#FF97FF\", \"#FECB52\"], \"font\": {\"color\": \"#2a3f5f\"}, \"geo\": {\"bgcolor\": \"white\", \"lakecolor\": \"white\", \"landcolor\": \"#E5ECF6\", \"showlakes\": true, \"showland\": true, \"subunitcolor\": \"white\"}, \"hoverlabel\": {\"align\": \"left\"}, \"hovermode\": \"closest\", \"mapbox\": {\"style\": \"light\"}, \"paper_bgcolor\": \"white\", \"plot_bgcolor\": \"#E5ECF6\", \"polar\": {\"angularaxis\": {\"gridcolor\": \"white\", \"linecolor\": \"white\", \"ticks\": \"\"}, \"bgcolor\": \"#E5ECF6\", \"radialaxis\": {\"gridcolor\": \"white\", \"linecolor\": \"white\", \"ticks\": \"\"}}, \"scene\": {\"xaxis\": {\"backgroundcolor\": \"#E5ECF6\", \"gridcolor\": \"white\", \"gridwidth\": 2, \"linecolor\": \"white\", \"showbackground\": true, \"ticks\": \"\", \"zerolinecolor\": \"white\"}, \"yaxis\": {\"backgroundcolor\": \"#E5ECF6\", \"gridcolor\": \"white\", \"gridwidth\": 2, \"linecolor\": \"white\", \"showbackground\": true, \"ticks\": \"\", \"zerolinecolor\": \"white\"}, \"zaxis\": {\"backgroundcolor\": \"#E5ECF6\", \"gridcolor\": \"white\", \"gridwidth\": 2, \"linecolor\": \"white\", \"showbackground\": true, \"ticks\": \"\", \"zerolinecolor\": \"white\"}}, \"shapedefaults\": {\"line\": {\"color\": \"#2a3f5f\"}}, \"ternary\": {\"aaxis\": {\"gridcolor\": \"white\", \"linecolor\": \"white\", \"ticks\": \"\"}, \"baxis\": {\"gridcolor\": \"white\", \"linecolor\": \"white\", \"ticks\": \"\"}, \"bgcolor\": \"#E5ECF6\", \"caxis\": {\"gridcolor\": \"white\", \"linecolor\": \"white\", \"ticks\": \"\"}}, \"title\": {\"x\": 0.05}, \"xaxis\": {\"automargin\": true, \"gridcolor\": \"white\", \"linecolor\": \"white\", \"ticks\": \"\", \"title\": {\"standoff\": 15}, \"zerolinecolor\": \"white\", \"zerolinewidth\": 2}, \"yaxis\": {\"automargin\": true, \"gridcolor\": \"white\", \"linecolor\": \"white\", \"ticks\": \"\", \"title\": {\"standoff\": 15}, \"zerolinecolor\": \"white\", \"zerolinewidth\": 2}}}, \"title\": {\"font\": {\"color\": \"#4D5663\"}}, \"xaxis\": {\"anchor\": \"y\", \"domain\": [0.0, 0.2125], \"gridcolor\": \"#E1E5ED\", \"showgrid\": false, \"tickfont\": {\"color\": \"#4D5663\"}, \"title\": {\"font\": {\"color\": \"#4D5663\"}, \"text\": \"\"}, \"zerolinecolor\": \"#E1E5ED\"}, \"xaxis10\": {\"anchor\": \"y10\", \"domain\": [0.2625, 0.475], \"gridcolor\": \"#E1E5ED\", \"showgrid\": false, \"tickfont\": {\"color\": \"#4D5663\"}, \"title\": {\"font\": {\"color\": \"#4D5663\"}, \"text\": \"\"}, \"zerolinecolor\": \"#E1E5ED\"}, \"xaxis11\": {\"anchor\": \"y11\", \"domain\": [0.525, 0.7375], \"gridcolor\": \"#E1E5ED\", \"showgrid\": false, \"tickfont\": {\"color\": \"#4D5663\"}, \"title\": {\"font\": {\"color\": \"#4D5663\"}, \"text\": \"\"}, \"zerolinecolor\": \"#E1E5ED\"}, \"xaxis12\": {\"anchor\": \"y12\", \"domain\": [0.7875, 1.0], \"gridcolor\": \"#E1E5ED\", \"showgrid\": false, \"tickfont\": {\"color\": \"#4D5663\"}, \"title\": {\"font\": {\"color\": \"#4D5663\"}, \"text\": \"\"}, \"zerolinecolor\": \"#E1E5ED\"}, \"xaxis13\": {\"anchor\": \"y13\", \"domain\": [0.0, 0.2125], \"gridcolor\": \"#E1E5ED\", \"showgrid\": false, \"tickfont\": {\"color\": \"#4D5663\"}, \"title\": {\"font\": {\"color\": \"#4D5663\"}, \"text\": \"\"}, \"zerolinecolor\": \"#E1E5ED\"}, \"xaxis14\": {\"anchor\": \"y14\", \"domain\": [0.2625, 0.475], \"gridcolor\": \"#E1E5ED\", \"showgrid\": false, \"tickfont\": {\"color\": \"#4D5663\"}, \"title\": {\"font\": {\"color\": \"#4D5663\"}, \"text\": \"\"}, \"zerolinecolor\": \"#E1E5ED\"}, \"xaxis15\": {\"anchor\": \"y15\", \"domain\": [0.525, 0.7375], \"gridcolor\": \"#E1E5ED\", \"showgrid\": false, \"tickfont\": {\"color\": \"#4D5663\"}, \"title\": {\"font\": {\"color\": \"#4D5663\"}, \"text\": \"\"}, \"zerolinecolor\": \"#E1E5ED\"}, \"xaxis16\": {\"anchor\": \"y16\", \"domain\": [0.7875, 1.0], \"gridcolor\": \"#E1E5ED\", \"showgrid\": false, \"tickfont\": {\"color\": \"#4D5663\"}, \"title\": {\"font\": {\"color\": \"#4D5663\"}, \"text\": \"\"}, \"zerolinecolor\": \"#E1E5ED\"}, \"xaxis2\": {\"anchor\": \"y2\", \"domain\": [0.2625, 0.475], \"gridcolor\": \"#E1E5ED\", \"showgrid\": false, \"tickfont\": {\"color\": \"#4D5663\"}, \"title\": {\"font\": {\"color\": \"#4D5663\"}, \"text\": \"\"}, \"zerolinecolor\": \"#E1E5ED\"}, \"xaxis3\": {\"anchor\": \"y3\", \"domain\": [0.525, 0.7375], \"gridcolor\": \"#E1E5ED\", \"showgrid\": false, \"tickfont\": {\"color\": \"#4D5663\"}, \"title\": {\"font\": {\"color\": \"#4D5663\"}, \"text\": \"\"}, \"zerolinecolor\": \"#E1E5ED\"}, \"xaxis4\": {\"anchor\": \"y4\", \"domain\": [0.7875, 1.0], \"gridcolor\": \"#E1E5ED\", \"showgrid\": false, \"tickfont\": {\"color\": \"#4D5663\"}, \"title\": {\"font\": {\"color\": \"#4D5663\"}, \"text\": \"\"}, \"zerolinecolor\": \"#E1E5ED\"}, \"xaxis5\": {\"anchor\": \"y5\", \"domain\": [0.0, 0.2125], \"gridcolor\": \"#E1E5ED\", \"showgrid\": false, \"tickfont\": {\"color\": \"#4D5663\"}, \"title\": {\"font\": {\"color\": \"#4D5663\"}, \"text\": \"\"}, \"zerolinecolor\": \"#E1E5ED\"}, \"xaxis6\": {\"anchor\": \"y6\", \"domain\": [0.2625, 0.475], \"gridcolor\": \"#E1E5ED\", \"showgrid\": false, \"tickfont\": {\"color\": \"#4D5663\"}, \"title\": {\"font\": {\"color\": \"#4D5663\"}, \"text\": \"\"}, \"zerolinecolor\": \"#E1E5ED\"}, \"xaxis7\": {\"anchor\": \"y7\", \"domain\": [0.525, 0.7375], \"gridcolor\": \"#E1E5ED\", \"showgrid\": false, \"tickfont\": {\"color\": \"#4D5663\"}, \"title\": {\"font\": {\"color\": \"#4D5663\"}, \"text\": \"\"}, \"zerolinecolor\": \"#E1E5ED\"}, \"xaxis8\": {\"anchor\": \"y8\", \"domain\": [0.7875, 1.0], \"gridcolor\": \"#E1E5ED\", \"showgrid\": false, \"tickfont\": {\"color\": \"#4D5663\"}, \"title\": {\"font\": {\"color\": \"#4D5663\"}, \"text\": \"\"}, \"zerolinecolor\": \"#E1E5ED\"}, \"xaxis9\": {\"anchor\": \"y9\", \"domain\": [0.0, 0.2125], \"gridcolor\": \"#E1E5ED\", \"showgrid\": false, \"tickfont\": {\"color\": \"#4D5663\"}, \"title\": {\"font\": {\"color\": \"#4D5663\"}, \"text\": \"\"}, \"zerolinecolor\": \"#E1E5ED\"}, \"yaxis\": {\"anchor\": \"x\", \"domain\": [0.8025, 1.0], \"gridcolor\": \"#E1E5ED\", \"showgrid\": false, \"tickfont\": {\"color\": \"#4D5663\"}, \"title\": {\"font\": {\"color\": \"#4D5663\"}, \"text\": \"\"}, \"zerolinecolor\": \"#E1E5ED\"}, \"yaxis10\": {\"anchor\": \"x10\", \"domain\": [0.2675, 0.465], \"gridcolor\": \"#E1E5ED\", \"showgrid\": false, \"tickfont\": {\"color\": \"#4D5663\"}, \"title\": {\"font\": {\"color\": \"#4D5663\"}, \"text\": \"\"}, \"zerolinecolor\": \"#E1E5ED\"}, \"yaxis11\": {\"anchor\": \"x11\", \"domain\": [0.2675, 0.465], \"gridcolor\": \"#E1E5ED\", \"showgrid\": false, \"tickfont\": {\"color\": \"#4D5663\"}, \"title\": {\"font\": {\"color\": \"#4D5663\"}, \"text\": \"\"}, \"zerolinecolor\": \"#E1E5ED\"}, \"yaxis12\": {\"anchor\": \"x12\", \"domain\": [0.2675, 0.465], \"gridcolor\": \"#E1E5ED\", \"showgrid\": false, \"tickfont\": {\"color\": \"#4D5663\"}, \"title\": {\"font\": {\"color\": \"#4D5663\"}, \"text\": \"\"}, \"zerolinecolor\": \"#E1E5ED\"}, \"yaxis13\": {\"anchor\": \"x13\", \"domain\": [0.0, 0.1975], \"gridcolor\": \"#E1E5ED\", \"showgrid\": false, \"tickfont\": {\"color\": \"#4D5663\"}, \"title\": {\"font\": {\"color\": \"#4D5663\"}, \"text\": \"\"}, \"zerolinecolor\": \"#E1E5ED\"}, \"yaxis14\": {\"anchor\": \"x14\", \"domain\": [0.0, 0.1975], \"gridcolor\": \"#E1E5ED\", \"showgrid\": false, \"tickfont\": {\"color\": \"#4D5663\"}, \"title\": {\"font\": {\"color\": \"#4D5663\"}, \"text\": \"\"}, \"zerolinecolor\": \"#E1E5ED\"}, \"yaxis15\": {\"anchor\": \"x15\", \"domain\": [0.0, 0.1975], \"gridcolor\": \"#E1E5ED\", \"showgrid\": false, \"tickfont\": {\"color\": \"#4D5663\"}, \"title\": {\"font\": {\"color\": \"#4D5663\"}, \"text\": \"\"}, \"zerolinecolor\": \"#E1E5ED\"}, \"yaxis16\": {\"anchor\": \"x16\", \"domain\": [0.0, 0.1975], \"gridcolor\": \"#E1E5ED\", \"showgrid\": false, \"tickfont\": {\"color\": \"#4D5663\"}, \"title\": {\"font\": {\"color\": \"#4D5663\"}, \"text\": \"\"}, \"zerolinecolor\": \"#E1E5ED\"}, \"yaxis2\": {\"anchor\": \"x2\", \"domain\": [0.8025, 1.0], \"gridcolor\": \"#E1E5ED\", \"showgrid\": false, \"tickfont\": {\"color\": \"#4D5663\"}, \"title\": {\"font\": {\"color\": \"#4D5663\"}, \"text\": \"\"}, \"zerolinecolor\": \"#E1E5ED\"}, \"yaxis3\": {\"anchor\": \"x3\", \"domain\": [0.8025, 1.0], \"gridcolor\": \"#E1E5ED\", \"showgrid\": false, \"tickfont\": {\"color\": \"#4D5663\"}, \"title\": {\"font\": {\"color\": \"#4D5663\"}, \"text\": \"\"}, \"zerolinecolor\": \"#E1E5ED\"}, \"yaxis4\": {\"anchor\": \"x4\", \"domain\": [0.8025, 1.0], \"gridcolor\": \"#E1E5ED\", \"showgrid\": false, \"tickfont\": {\"color\": \"#4D5663\"}, \"title\": {\"font\": {\"color\": \"#4D5663\"}, \"text\": \"\"}, \"zerolinecolor\": \"#E1E5ED\"}, \"yaxis5\": {\"anchor\": \"x5\", \"domain\": [0.535, 0.7325], \"gridcolor\": \"#E1E5ED\", \"showgrid\": false, \"tickfont\": {\"color\": \"#4D5663\"}, \"title\": {\"font\": {\"color\": \"#4D5663\"}, \"text\": \"\"}, \"zerolinecolor\": \"#E1E5ED\"}, \"yaxis6\": {\"anchor\": \"x6\", \"domain\": [0.535, 0.7325], \"gridcolor\": \"#E1E5ED\", \"showgrid\": false, \"tickfont\": {\"color\": \"#4D5663\"}, \"title\": {\"font\": {\"color\": \"#4D5663\"}, \"text\": \"\"}, \"zerolinecolor\": \"#E1E5ED\"}, \"yaxis7\": {\"anchor\": \"x7\", \"domain\": [0.535, 0.7325], \"gridcolor\": \"#E1E5ED\", \"showgrid\": false, \"tickfont\": {\"color\": \"#4D5663\"}, \"title\": {\"font\": {\"color\": \"#4D5663\"}, \"text\": \"\"}, \"zerolinecolor\": \"#E1E5ED\"}, \"yaxis8\": {\"anchor\": \"x8\", \"domain\": [0.535, 0.7325], \"gridcolor\": \"#E1E5ED\", \"showgrid\": false, \"tickfont\": {\"color\": \"#4D5663\"}, \"title\": {\"font\": {\"color\": \"#4D5663\"}, \"text\": \"\"}, \"zerolinecolor\": \"#E1E5ED\"}, \"yaxis9\": {\"anchor\": \"x9\", \"domain\": [0.2675, 0.465], \"gridcolor\": \"#E1E5ED\", \"showgrid\": false, \"tickfont\": {\"color\": \"#4D5663\"}, \"title\": {\"font\": {\"color\": \"#4D5663\"}, \"text\": \"\"}, \"zerolinecolor\": \"#E1E5ED\"}},\n",
       "                        {\"showLink\": true, \"linkText\": \"Export to plot.ly\", \"plotlyServerURL\": \"https://plot.ly\", \"responsive\": true}\n",
       "                    ).then(function(){\n",
       "                            \n",
       "var gd = document.getElementById('0aec7746-34f7-491e-aa05-02eca95b6552');\n",
       "var x = new MutationObserver(function (mutations, observer) {{\n",
       "        var display = window.getComputedStyle(gd).display;\n",
       "        if (!display || display === 'none') {{\n",
       "            console.log([gd, 'removed!']);\n",
       "            Plotly.purge(gd);\n",
       "            observer.disconnect();\n",
       "        }}\n",
       "}});\n",
       "\n",
       "// Listen for the removal of the full notebook cells\n",
       "var notebookContainer = gd.closest('#notebook-container');\n",
       "if (notebookContainer) {{\n",
       "    x.observe(notebookContainer, {childList: true});\n",
       "}}\n",
       "\n",
       "// Listen for the clearing of the current output cell\n",
       "var outputEl = gd.closest('.output');\n",
       "if (outputEl) {{\n",
       "    x.observe(outputEl, {childList: true});\n",
       "}}\n",
       "\n",
       "                        })\n",
       "                };\n",
       "                });\n",
       "            </script>\n",
       "        </div>"
      ]
     },
     "metadata": {},
     "output_type": "display_data"
    }
   ],
   "source": [
    "df.scatter_matrix()"
   ]
  },
  {
   "cell_type": "markdown",
   "metadata": {
    "collapsed": true
   },
   "source": [
    "# Great Job!"
   ]
  }
 ],
 "metadata": {
  "kernelspec": {
   "display_name": "Python 3",
   "language": "python",
   "name": "python3"
  },
  "language_info": {
   "codemirror_mode": {
    "name": "ipython",
    "version": 3
   },
   "file_extension": ".py",
   "mimetype": "text/x-python",
   "name": "python",
   "nbconvert_exporter": "python",
   "pygments_lexer": "ipython3",
   "version": "3.6.5"
  }
 },
 "nbformat": 4,
 "nbformat_minor": 1
}
